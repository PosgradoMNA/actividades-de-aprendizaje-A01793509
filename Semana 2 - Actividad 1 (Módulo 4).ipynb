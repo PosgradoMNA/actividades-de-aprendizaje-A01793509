{
  "nbformat": 4,
  "nbformat_minor": 0,
  "metadata": {
    "colab": {
      "name": "assignment01.ipynb",
      "provenance": [],
      "include_colab_link": true
    },
    "kernelspec": {
      "name": "python3",
      "display_name": "Python 3"
    },
    "language_info": {
      "name": "python"
    }
  },
  "cells": [
    {
      "cell_type": "markdown",
      "metadata": {
        "id": "view-in-github",
        "colab_type": "text"
      },
      "source": [
        "<a href=\"https://colab.research.google.com/github/PosgradoMNA/actividades-de-aprendizaje-A01793509/blob/main/Semana%202%20-%20Actividad%201%20(M%C3%B3dulo%204).ipynb\" target=\"_parent\"><img src=\"https://colab.research.google.com/assets/colab-badge.svg\" alt=\"Open In Colab\"/></a>"
      ]
    },
    {
      "cell_type": "markdown",
      "source": [
        "🚀 Semana 2 - Actividad 1: Python for Data Science (IBM)\n",
        "\n",
        "Alberto José García Porras (**A01793509**)\n",
        "\n",
        "\n",
        "---"
      ],
      "metadata": {
        "id": "vG7DoVUg8CFK"
      }
    },
    {
      "cell_type": "code",
      "source": [
        " ##Creando el archivo 'prueba.txt' en Python\n",
        " %%writefile prueba.txt\n",
        "Leyendo archivo Python. Línea 1.\n",
        "Leyendo archivo Python. Línea 2.\n",
        "Leyendo archivo Python. Línea 3.\n",
        "Leyendo archivo Python. Línea 4.\n",
        "Leyendo archivo Python. Línea 5."
      ],
      "metadata": {
        "id": "nqZ-JYcTA9HZ",
        "outputId": "7c5c9c76-bff4-4648-e387-e6f3d68cd950",
        "colab": {
          "base_uri": "https://localhost:8080/"
        }
      },
      "execution_count": null,
      "outputs": [
        {
          "output_type": "stream",
          "name": "stdout",
          "text": [
            "Writing prueba.txt\n"
          ]
        }
      ]
    },
    {
      "cell_type": "code",
      "source": [
        "##Creando el objeto tipo archivo para leer el archivo 'prueba.txt' creado previamente\n",
        "Archivo = open(\"prueba.txt\", \"r\")"
      ],
      "metadata": {
        "id": "8vyYFYAf-lN-"
      },
      "execution_count": null,
      "outputs": []
    },
    {
      "cell_type": "code",
      "source": [
        "##Validando el nombre del archivo\n",
        "Archivo.name"
      ],
      "metadata": {
        "id": "Yd3TCkcv-1AU",
        "outputId": "f7798c1c-8709-4951-87a8-31ee57cd1997",
        "colab": {
          "base_uri": "https://localhost:8080/",
          "height": 35
        }
      },
      "execution_count": null,
      "outputs": [
        {
          "output_type": "execute_result",
          "data": {
            "text/plain": [
              "'prueba.txt'"
            ],
            "application/vnd.google.colaboratory.intrinsic+json": {
              "type": "string"
            }
          },
          "metadata": {},
          "execution_count": 3
        }
      ]
    },
    {
      "cell_type": "code",
      "source": [
        "##Imprimiendo el modo de apertura del archivo\n",
        "Archivo.mode"
      ],
      "metadata": {
        "id": "YHOmHA1Tu3sv",
        "outputId": "0aed9bfe-2876-44aa-d85c-b5e0efd7eeaa",
        "colab": {
          "base_uri": "https://localhost:8080/",
          "height": 35
        }
      },
      "execution_count": null,
      "outputs": [
        {
          "output_type": "execute_result",
          "data": {
            "text/plain": [
              "'r'"
            ],
            "application/vnd.google.colaboratory.intrinsic+json": {
              "type": "string"
            }
          },
          "metadata": {},
          "execution_count": 4
        }
      ]
    },
    {
      "cell_type": "code",
      "source": [
        "##Asignándole el contenido del archivo a una variable\n",
        "CuerpoArchivo = Archivo.read()\n",
        "CuerpoArchivo"
      ],
      "metadata": {
        "id": "LqKkijRCu9bo",
        "outputId": "cfe9a3a7-aa23-40cf-be50-46f24401ee1b",
        "colab": {
          "base_uri": "https://localhost:8080/",
          "height": 52
        }
      },
      "execution_count": null,
      "outputs": [
        {
          "output_type": "execute_result",
          "data": {
            "text/plain": [
              "'Leyendo archivo Python. Línea 1.\\nLeyendo archivo Python. Línea 2.\\nLeyendo archivo Python. Línea 3.\\nLeyendo archivo Python. Línea 4.\\nLeyendo archivo Python. Línea 5.\\n'"
            ],
            "application/vnd.google.colaboratory.intrinsic+json": {
              "type": "string"
            }
          },
          "metadata": {},
          "execution_count": 5
        }
      ]
    },
    {
      "cell_type": "code",
      "source": [
        "##Imprimiendo el archivo\n",
        "print(CuerpoArchivo)"
      ],
      "metadata": {
        "id": "h8BB8Dl0vHDt",
        "outputId": "283c1912-4161-4c7e-bc6d-7f1362866da8",
        "colab": {
          "base_uri": "https://localhost:8080/"
        }
      },
      "execution_count": null,
      "outputs": [
        {
          "output_type": "stream",
          "name": "stdout",
          "text": [
            "Leyendo archivo Python. Línea 1.\n",
            "Leyendo archivo Python. Línea 2.\n",
            "Leyendo archivo Python. Línea 3.\n",
            "Leyendo archivo Python. Línea 4.\n",
            "Leyendo archivo Python. Línea 5.\n",
            "\n"
          ]
        }
      ]
    },
    {
      "cell_type": "code",
      "source": [
        "##Validando el tipo del contenido del archivo\n",
        "type(CuerpoArchivo)"
      ],
      "metadata": {
        "id": "MXgHZHdvvO2m",
        "outputId": "dafb8d4b-f41f-467b-c2d5-e34c49401171",
        "colab": {
          "base_uri": "https://localhost:8080/"
        }
      },
      "execution_count": null,
      "outputs": [
        {
          "output_type": "execute_result",
          "data": {
            "text/plain": [
              "str"
            ]
          },
          "metadata": {},
          "execution_count": 7
        }
      ]
    },
    {
      "cell_type": "code",
      "source": [
        "##Cerrando el archivo\n",
        "Archivo.close()"
      ],
      "metadata": {
        "id": "sk2ntbCRva7_"
      },
      "execution_count": null,
      "outputs": []
    },
    {
      "cell_type": "code",
      "source": [
        "##Validamos si el archivo está cerrado\n",
        "Archivo.closed"
      ],
      "metadata": {
        "id": "UhnD2dA8vfhm",
        "outputId": "405de90c-1237-490a-f4c3-c45e3a6863bd",
        "colab": {
          "base_uri": "https://localhost:8080/"
        }
      },
      "execution_count": null,
      "outputs": [
        {
          "output_type": "execute_result",
          "data": {
            "text/plain": [
              "True"
            ]
          },
          "metadata": {},
          "execution_count": 9
        }
      ]
    },
    {
      "cell_type": "code",
      "source": [
        "##Utilizando la instrucción with para abrir el archivo\n",
        "with open(\"prueba.txt\", \"r\") as ArchivoWith:\n",
        "    ContenidoArchivoWith = ArchivoWith.read()\n",
        "    print(ContenidoArchivoWith)"
      ],
      "metadata": {
        "id": "9TjhuqwfvmWk",
        "outputId": "1c5d158d-39f8-44df-f735-73c556efb906",
        "colab": {
          "base_uri": "https://localhost:8080/"
        }
      },
      "execution_count": null,
      "outputs": [
        {
          "output_type": "stream",
          "name": "stdout",
          "text": [
            "Leyendo archivo Python. Línea 1.\n",
            "Leyendo archivo Python. Línea 2.\n",
            "Leyendo archivo Python. Línea 3.\n",
            "Leyendo archivo Python. Línea 4.\n",
            "Leyendo archivo Python. Línea 5.\n",
            "\n"
          ]
        }
      ]
    },
    {
      "cell_type": "code",
      "source": [
        "##Leer los primeros 9 caracteres del contenido del archivo.\n",
        "with open(\"prueba.txt\", \"r\") as ArchivoWith:\n",
        "    print(ArchivoWith.read(9))"
      ],
      "metadata": {
        "id": "kYzf-Wxwv8AD",
        "outputId": "f591d842-df56-42c2-b7e2-e3b975812b2e",
        "colab": {
          "base_uri": "https://localhost:8080/"
        }
      },
      "execution_count": null,
      "outputs": [
        {
          "output_type": "stream",
          "name": "stdout",
          "text": [
            "Leyendo a\n"
          ]
        }
      ]
    },
    {
      "cell_type": "code",
      "source": [
        "##Leer diferente número de caracteres en el contenido del archivo.\n",
        "with open(\"prueba.txt\", \"r\") as ArchivoWith:\n",
        "    print(ArchivoWith.read(9))\n",
        "    print(ArchivoWith.read(3))\n",
        "    print(ArchivoWith.read(18))\n",
        "    print(ArchivoWith.read(30))\n",
        "    print(ArchivoWith.read(90))"
      ],
      "metadata": {
        "id": "5rofW3KQwDPC",
        "outputId": "8ae3a6ad-a6bf-4ceb-f89c-e7154e82ded0",
        "colab": {
          "base_uri": "https://localhost:8080/"
        }
      },
      "execution_count": null,
      "outputs": [
        {
          "output_type": "stream",
          "name": "stdout",
          "text": [
            "Leyendo a\n",
            "rch\n",
            "ivo Python. Línea \n",
            "1.\n",
            "Leyendo archivo Python. Lín\n",
            "ea 2.\n",
            "Leyendo archivo Python. Línea 3.\n",
            "Leyendo archivo Python. Línea 4.\n",
            "Leyendo archivo Py\n"
          ]
        }
      ]
    },
    {
      "cell_type": "code",
      "source": [
        "##Leer líneas dentro del archivo\n",
        "with open(\"prueba.txt\", \"r\") as ArchivoWith:\n",
        "    print(\"1era línea :\", ArchivoWith.readline())\n",
        "    print(\"1era línea (5 primeros caracteres) :\", ArchivoWith.readline(5))\n",
        "    print(\"5 caracteres del archivo:\", ArchivoWith.read(5))\n",
        "    print(\"2da línea (5 primeros caracteres) :\", ArchivoWith.readline())"
      ],
      "metadata": {
        "id": "dvoYlndLw-2w",
        "outputId": "c164c4c7-5a6a-4da2-a86d-497d3cd02e63",
        "colab": {
          "base_uri": "https://localhost:8080/"
        }
      },
      "execution_count": null,
      "outputs": [
        {
          "output_type": "stream",
          "name": "stdout",
          "text": [
            "1era línea : Leyendo archivo Python. Línea 1.\n",
            "\n",
            "1era línea (5 primeros caracteres) : Leyen\n",
            "5 caracteres del archivo: do ar\n",
            "2da línea (5 primeros caracteres) : chivo Python. Línea 2.\n",
            "\n"
          ]
        }
      ]
    },
    {
      "cell_type": "code",
      "source": [
        "##Recorriendo las líneas del archivo\n",
        "with open(\"prueba.txt\",\"r\") as ArchivoWith:\n",
        "        c = 0;\n",
        "        for linea in ArchivoWith:\n",
        "            print(\"Recorrido\", str(c), \": \", linea)\n",
        "            c = c + 1"
      ],
      "metadata": {
        "id": "laW9YrJlxQTd",
        "outputId": "7f5a2b77-b231-4aa0-ee68-b5fba0401e31",
        "colab": {
          "base_uri": "https://localhost:8080/"
        }
      },
      "execution_count": null,
      "outputs": [
        {
          "output_type": "stream",
          "name": "stdout",
          "text": [
            "Recorrido 0 :  Leyendo archivo Python. Línea 1.\n",
            "\n",
            "Recorrido 1 :  Leyendo archivo Python. Línea 2.\n",
            "\n",
            "Recorrido 2 :  Leyendo archivo Python. Línea 3.\n",
            "\n",
            "Recorrido 3 :  Leyendo archivo Python. Línea 4.\n",
            "\n",
            "Recorrido 4 :  Leyendo archivo Python. Línea 5.\n",
            "\n"
          ]
        }
      ]
    },
    {
      "cell_type": "code",
      "source": [
        "##Almacenar las líneas del archivo en una lista\n",
        "with open(\"prueba.txt\", \"r\") as ArchivoWith:\n",
        "    ListaArchivoWith = ArchivoWith.readlines()\n",
        "\n",
        "##Imprimimos la segunda línea de la lista\n",
        "print(ListaArchivoWith[1])"
      ],
      "metadata": {
        "id": "Way83iqTx7zl",
        "outputId": "40b3ecc4-0fd6-4b6a-a6b6-bf0b3bfb1263",
        "colab": {
          "base_uri": "https://localhost:8080/"
        }
      },
      "execution_count": null,
      "outputs": [
        {
          "output_type": "stream",
          "name": "stdout",
          "text": [
            "Leyendo archivo Python. Línea 2.\n",
            "\n"
          ]
        }
      ]
    },
    {
      "cell_type": "code",
      "source": [
        "##Escribiendo en archivos\n",
        "ArchivoEscritura = \"prueba_archivo.txt\"\n",
        "with open(ArchivoEscritura, 'w') as ArchivoEdicion:\n",
        "  ArchivoEdicion.write(\"Linea inicial.\")\n",
        "\n",
        "##Leyendo el archivo creado\n",
        "with open(ArchivoEscritura, 'r') as ArchivoLectura:\n",
        "  print(ArchivoLectura.read())"
      ],
      "metadata": {
        "id": "X4EY1K3504Pt",
        "outputId": "6f08e06f-d597-4024-9d75-727a5c774e3a",
        "colab": {
          "base_uri": "https://localhost:8080/"
        }
      },
      "execution_count": 1,
      "outputs": [
        {
          "output_type": "stream",
          "name": "stdout",
          "text": [
            "Linea inicial.\n"
          ]
        }
      ]
    },
    {
      "cell_type": "code",
      "source": [
        "#Escribir varias líneas en el archivo\n",
        "with open(ArchivoEscritura, 'w') as ArchivoEdicion:\n",
        "  ArchivoEdicion.write(\"Linea inicial\\n\")\n",
        "  ArchivoEdicion.write(\"Segunda Linea\\n\")\n",
        "  ArchivoEdicion.write(\"Última Linea\")\n",
        "\n",
        "#Leer el archivo creado\n",
        "with open(ArchivoEscritura, 'r') as ArchivoLectura:\n",
        "    print(ArchivoLectura.read())"
      ],
      "metadata": {
        "id": "namr6V7z3J9l",
        "outputId": "4e1a0a14-a19b-4319-f7d1-378216ebed74",
        "colab": {
          "base_uri": "https://localhost:8080/"
        }
      },
      "execution_count": 3,
      "outputs": [
        {
          "output_type": "stream",
          "name": "stdout",
          "text": [
            "Linea inicial\n",
            "Segunda Linea\n",
            "Última Linea\n"
          ]
        }
      ]
    },
    {
      "cell_type": "code",
      "source": [
        "#Insertando contenido del archivo a partir de una lista\n",
        "#1. Creamos la lista\n",
        "LineasArchivo = [\"1er Puesto: Estudiante A\\n\", \"2do Puesto: Estudiante B\\n\", \"3er Puesto: Estudiante C\"]\n",
        "LineasArchivo"
      ],
      "metadata": {
        "id": "GgVQ1PCeatLM",
        "outputId": "b7a4f1ef-a022-454f-e65a-f44cff5fb0fc",
        "colab": {
          "base_uri": "https://localhost:8080/"
        }
      },
      "execution_count": 4,
      "outputs": [
        {
          "output_type": "execute_result",
          "data": {
            "text/plain": [
              "['1er Puesto: Estudiante A\\n',\n",
              " '2do Puesto: Estudiante B\\n',\n",
              " '3er Puesto: Estudiante C']"
            ]
          },
          "metadata": {},
          "execution_count": 4
        }
      ]
    },
    {
      "cell_type": "code",
      "source": [
        "#2. Creamos el contenido del archivo con los items de la lista a través de un ciclo FOR\n",
        "with open(\"Ranking Estudiantes.txt\", \"w\") as RankingEstudiantes:\n",
        "  for linea in LineasArchivo:\n",
        "    RankingEstudiantes.write(linea)\n",
        "\n",
        "#3. Verificamos el contenido del archivo creado\n",
        "with open(\"Ranking Estudiantes.txt\", 'r') as RankingEstudiantesLectura:\n",
        "    print(RankingEstudiantesLectura.read())"
      ],
      "metadata": {
        "id": "5lvmlnbtbLjz",
        "outputId": "d9a94838-8033-473e-cc7d-8cee3fc1e3de",
        "colab": {
          "base_uri": "https://localhost:8080/"
        }
      },
      "execution_count": 8,
      "outputs": [
        {
          "output_type": "stream",
          "name": "stdout",
          "text": [
            "1er Puesto: Estudiante A\n",
            "2do Puesto: Estudiante B\n",
            "3er Puesto: Estudiante C\n"
          ]
        }
      ]
    },
    {
      "cell_type": "markdown",
      "source": [
        "⚠ **NOTA:** Se debe tener en cuenta que el tipo de apertura 'w' sobreescribirá el contenido del archivo. Si queremos adicionar nuevas líneas al contenido debemos utilizar el append 'a'. "
      ],
      "metadata": {
        "id": "rHxfYcZecu02"
      }
    },
    {
      "cell_type": "code",
      "source": [
        "#Sobreescribimos el contenido del archivo creado anteriormente\n",
        "with open(\"Ranking Estudiantes.txt\", \"w\") as RankingEstudiantes:\n",
        "  RankingEstudiantes.write(\"Prueba de sobreescritura\")\n",
        "\n",
        "#Verificamos el contenido del archivo\n",
        "with open(\"Ranking Estudiantes.txt\", 'r') as RankingEstudiantesLectura:\n",
        "    print(RankingEstudiantesLectura.read())"
      ],
      "metadata": {
        "id": "-trXndqTdEKU",
        "outputId": "4f49482f-6590-43d0-beeb-03f13e8817a0",
        "colab": {
          "base_uri": "https://localhost:8080/"
        }
      },
      "execution_count": 10,
      "outputs": [
        {
          "output_type": "stream",
          "name": "stdout",
          "text": [
            "Prueba de sobreescritura\n"
          ]
        }
      ]
    },
    {
      "cell_type": "code",
      "source": [
        "#Volvemos a ajustar el contenido del archivo con los items de la lista a través de un ciclo FOR\n",
        "with open(\"Ranking Estudiantes.txt\", \"w\") as RankingEstudiantes:\n",
        "  for linea in LineasArchivo:\n",
        "    RankingEstudiantes.write(linea)\n",
        "\n",
        "#Verificamos el contenido del archivo\n",
        "with open(\"Ranking Estudiantes.txt\", 'r') as RankingEstudiantesLectura:\n",
        "    print(RankingEstudiantesLectura.read())"
      ],
      "metadata": {
        "id": "ZF7qxLEocJQs",
        "outputId": "c30adadc-db3a-45a7-ca64-aab59b0d05d8",
        "colab": {
          "base_uri": "https://localhost:8080/"
        }
      },
      "execution_count": 13,
      "outputs": [
        {
          "output_type": "stream",
          "name": "stdout",
          "text": [
            "1er Puesto: Estudiante A\n",
            "2do Puesto: Estudiante B\n",
            "3er Puesto: Estudiante C\n"
          ]
        }
      ]
    },
    {
      "cell_type": "code",
      "source": [
        "#Ahora vamos a adicionar una nueva línea al archivo\n",
        "with open(\"Ranking Estudiantes.txt\", \"a\") as RankingEstudiantes:\n",
        "    RankingEstudiantes.write(\"\\n4to Puesto: Estudiante D\")\n",
        "\n",
        "#Verificamos el contenido del archivo creado\n",
        "with open(\"Ranking Estudiantes.txt\", 'r') as RankingEstudiantesLectura:\n",
        "    print(RankingEstudiantesLectura.read())"
      ],
      "metadata": {
        "id": "K418RveOdbjo",
        "outputId": "b11b899b-7f34-470e-bb15-44039548c01a",
        "colab": {
          "base_uri": "https://localhost:8080/"
        }
      },
      "execution_count": 21,
      "outputs": [
        {
          "output_type": "stream",
          "name": "stdout",
          "text": [
            "1er Puesto: Estudiante A\n",
            "2do Puesto: Estudiante B\n",
            "3er Puesto: Estudiante C\n",
            "4to Puesto: Estudiante D\n",
            "5to Puesto: Estudiante E\n",
            "4to Puesto: Estudiante D\n"
          ]
        }
      ]
    },
    {
      "cell_type": "code",
      "source": [
        "#Utilizar a+,r+,w+\n",
        "with open('Ranking Estudiantes.txt', 'a+') as RankingEstudiantes:\n",
        "    RankingEstudiantes.write(\"\\n5to Puesto: Estudiante E\")\n",
        "    print(RankingEstudiantes.read())\n",
        "\n",
        "#No observaremos resultados por la ubicación del texto en nuestro archivo."
      ],
      "metadata": {
        "id": "itFsHOcYdoLc",
        "outputId": "3f79bd0e-3176-414a-c89d-d867e14f7dd1",
        "colab": {
          "base_uri": "https://localhost:8080/"
        }
      },
      "execution_count": 15,
      "outputs": [
        {
          "output_type": "stream",
          "name": "stdout",
          "text": [
            "\n"
          ]
        }
      ]
    },
    {
      "cell_type": "code",
      "source": [
        "#Para identificar la ubicación del cursor en nuestro texto utilizamos los siguientes comandos.\n",
        "with open('Ranking Estudiantes.txt', 'a+') as RankingEstudiantes:\n",
        "    print(\"Posición inicial: {}\".format(RankingEstudiantes.tell()))\n",
        "    #Leemos el contenido del archivo\n",
        "    datos = RankingEstudiantes.read()\n",
        "    if (not datos):\n",
        "        print(\"Sin datos\")\n",
        "    else:\n",
        "        print(RankingEstudiantes.read())\n",
        "\n",
        "    #Ubicamos el cursor en la posición inicial\n",
        "    print(\"Se reubicará el cursor al inicio\")\n",
        "    RankingEstudiantes.seek(0,0)\n",
        "    \n",
        "    print(\"La nueva posición inicial es: {}\".format(RankingEstudiantes.tell()))\n",
        "    #Volvemos a leer el contenido del archivo\n",
        "    datos = RankingEstudiantes.read()\n",
        "    if (not datos):\n",
        "        print(\"Sin datos\")\n",
        "    else:\n",
        "        print(RankingEstudiantes.read())\n",
        "    \n",
        "    print(\"Ubicación después de lectura: {}\".format(RankingEstudiantes.tell()) )"
      ],
      "metadata": {
        "id": "axNZgjh6edlz",
        "outputId": "b2297026-4d2c-4502-8b4c-4701c472d254",
        "colab": {
          "base_uri": "https://localhost:8080/"
        }
      },
      "execution_count": 23,
      "outputs": [
        {
          "output_type": "stream",
          "name": "stdout",
          "text": [
            "Posición inicial: 149\n",
            "Sin datos\n",
            "Se reubicará el cursor al inicio\n",
            "La nueva posición inicial es: 0\n",
            "\n",
            "Ubicación después de lectura: 149\n"
          ]
        }
      ]
    },
    {
      "cell_type": "code",
      "source": [
        "#¿Como copiar un archivo?\n",
        "with open('Ranking Estudiantes.txt','r') as ArchivoOriginal:\n",
        "    with open('Ranking Egresados.txt','w') as ArchivoCopiado:\n",
        "          for line in ArchivoOriginal:\n",
        "                ArchivoCopiado.write(line)\n",
        "\n",
        "with open('Ranking Egresados.txt','r') as ValidacionCopia:\n",
        "    print(ValidacionCopia.read())"
      ],
      "metadata": {
        "id": "BDKE1TSYe2-R",
        "outputId": "16ee5e2f-13c3-4c2b-ecbb-939797644f1c",
        "colab": {
          "base_uri": "https://localhost:8080/"
        }
      },
      "execution_count": 24,
      "outputs": [
        {
          "output_type": "stream",
          "name": "stdout",
          "text": [
            "1er Puesto: Estudiante A\n",
            "2do Puesto: Estudiante B\n",
            "3er Puesto: Estudiante C\n",
            "4to Puesto: Estudiante D\n",
            "5to Puesto: Estudiante E\n",
            "4to Puesto: Estudiante D\n"
          ]
        }
      ]
    },
    {
      "cell_type": "code",
      "source": [],
      "metadata": {
        "id": "791gU3mphKJS"
      },
      "execution_count": null,
      "outputs": []
    }
  ]
}