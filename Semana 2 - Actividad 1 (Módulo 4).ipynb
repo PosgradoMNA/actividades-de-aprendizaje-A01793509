{
  "nbformat": 4,
  "nbformat_minor": 0,
  "metadata": {
    "colab": {
      "name": "assignment01.ipynb",
      "provenance": [],
      "include_colab_link": true
    },
    "kernelspec": {
      "name": "python3",
      "display_name": "Python 3"
    },
    "language_info": {
      "name": "python"
    }
  },
  "cells": [
    {
      "cell_type": "markdown",
      "metadata": {
        "id": "view-in-github",
        "colab_type": "text"
      },
      "source": [
        "<a href=\"https://colab.research.google.com/github/PosgradoMNA/actividades-de-aprendizaje-A01793509/blob/main/Semana%202%20-%20Actividad%201%20(M%C3%B3dulo%204).ipynb\" target=\"_parent\"><img src=\"https://colab.research.google.com/assets/colab-badge.svg\" alt=\"Open In Colab\"/></a>"
      ]
    },
    {
      "cell_type": "markdown",
      "source": [
        "🚀 Semana 2 - Actividad 1: Python for Data Science (IBM)\n",
        "\n",
        "Alberto José García Porras (**A01793509**)\n",
        "\n",
        "\n",
        "---"
      ],
      "metadata": {
        "id": "vG7DoVUg8CFK"
      }
    },
    {
      "cell_type": "code",
      "source": [
        " ##Creando el archivo 'prueba.txt' en Python\n",
        " %%writefile prueba.txt\n",
        "Leyendo archivo Python. Línea 1.\n",
        "Leyendo archivo Python. Línea 2.\n",
        "Leyendo archivo Python. Línea 3.\n",
        "Leyendo archivo Python. Línea 4.\n",
        "Leyendo archivo Python. Línea 5."
      ],
      "metadata": {
        "id": "nqZ-JYcTA9HZ",
        "outputId": "7c5c9c76-bff4-4648-e387-e6f3d68cd950",
        "colab": {
          "base_uri": "https://localhost:8080/"
        }
      },
      "execution_count": null,
      "outputs": [
        {
          "output_type": "stream",
          "name": "stdout",
          "text": [
            "Writing prueba.txt\n"
          ]
        }
      ]
    },
    {
      "cell_type": "code",
      "source": [
        "##Creando el objeto tipo archivo para leer el archivo 'prueba.txt' creado previamente\n",
        "Archivo = open(\"prueba.txt\", \"r\")"
      ],
      "metadata": {
        "id": "8vyYFYAf-lN-"
      },
      "execution_count": null,
      "outputs": []
    },
    {
      "cell_type": "code",
      "source": [
        "##Validando el nombre del archivo\n",
        "Archivo.name"
      ],
      "metadata": {
        "id": "Yd3TCkcv-1AU",
        "outputId": "f7798c1c-8709-4951-87a8-31ee57cd1997",
        "colab": {
          "base_uri": "https://localhost:8080/",
          "height": 35
        }
      },
      "execution_count": null,
      "outputs": [
        {
          "output_type": "execute_result",
          "data": {
            "text/plain": [
              "'prueba.txt'"
            ],
            "application/vnd.google.colaboratory.intrinsic+json": {
              "type": "string"
            }
          },
          "metadata": {},
          "execution_count": 3
        }
      ]
    },
    {
      "cell_type": "code",
      "source": [
        "##Imprimiendo el modo de apertura del archivo\n",
        "Archivo.mode"
      ],
      "metadata": {
        "id": "YHOmHA1Tu3sv",
        "outputId": "0aed9bfe-2876-44aa-d85c-b5e0efd7eeaa",
        "colab": {
          "base_uri": "https://localhost:8080/",
          "height": 35
        }
      },
      "execution_count": null,
      "outputs": [
        {
          "output_type": "execute_result",
          "data": {
            "text/plain": [
              "'r'"
            ],
            "application/vnd.google.colaboratory.intrinsic+json": {
              "type": "string"
            }
          },
          "metadata": {},
          "execution_count": 4
        }
      ]
    },
    {
      "cell_type": "code",
      "source": [
        "##Asignándole el contenido del archivo a una variable\n",
        "CuerpoArchivo = Archivo.read()\n",
        "CuerpoArchivo"
      ],
      "metadata": {
        "id": "LqKkijRCu9bo",
        "outputId": "cfe9a3a7-aa23-40cf-be50-46f24401ee1b",
        "colab": {
          "base_uri": "https://localhost:8080/",
          "height": 52
        }
      },
      "execution_count": null,
      "outputs": [
        {
          "output_type": "execute_result",
          "data": {
            "text/plain": [
              "'Leyendo archivo Python. Línea 1.\\nLeyendo archivo Python. Línea 2.\\nLeyendo archivo Python. Línea 3.\\nLeyendo archivo Python. Línea 4.\\nLeyendo archivo Python. Línea 5.\\n'"
            ],
            "application/vnd.google.colaboratory.intrinsic+json": {
              "type": "string"
            }
          },
          "metadata": {},
          "execution_count": 5
        }
      ]
    },
    {
      "cell_type": "code",
      "source": [
        "##Imprimiendo el archivo\n",
        "print(CuerpoArchivo)"
      ],
      "metadata": {
        "id": "h8BB8Dl0vHDt",
        "outputId": "283c1912-4161-4c7e-bc6d-7f1362866da8",
        "colab": {
          "base_uri": "https://localhost:8080/"
        }
      },
      "execution_count": null,
      "outputs": [
        {
          "output_type": "stream",
          "name": "stdout",
          "text": [
            "Leyendo archivo Python. Línea 1.\n",
            "Leyendo archivo Python. Línea 2.\n",
            "Leyendo archivo Python. Línea 3.\n",
            "Leyendo archivo Python. Línea 4.\n",
            "Leyendo archivo Python. Línea 5.\n",
            "\n"
          ]
        }
      ]
    },
    {
      "cell_type": "code",
      "source": [
        "##Validando el tipo del contenido del archivo\n",
        "type(CuerpoArchivo)"
      ],
      "metadata": {
        "id": "MXgHZHdvvO2m",
        "outputId": "dafb8d4b-f41f-467b-c2d5-e34c49401171",
        "colab": {
          "base_uri": "https://localhost:8080/"
        }
      },
      "execution_count": null,
      "outputs": [
        {
          "output_type": "execute_result",
          "data": {
            "text/plain": [
              "str"
            ]
          },
          "metadata": {},
          "execution_count": 7
        }
      ]
    },
    {
      "cell_type": "code",
      "source": [
        "##Cerrando el archivo\n",
        "Archivo.close()"
      ],
      "metadata": {
        "id": "sk2ntbCRva7_"
      },
      "execution_count": null,
      "outputs": []
    },
    {
      "cell_type": "code",
      "source": [
        "##Validamos si el archivo está cerrado\n",
        "Archivo.closed"
      ],
      "metadata": {
        "id": "UhnD2dA8vfhm",
        "outputId": "405de90c-1237-490a-f4c3-c45e3a6863bd",
        "colab": {
          "base_uri": "https://localhost:8080/"
        }
      },
      "execution_count": null,
      "outputs": [
        {
          "output_type": "execute_result",
          "data": {
            "text/plain": [
              "True"
            ]
          },
          "metadata": {},
          "execution_count": 9
        }
      ]
    },
    {
      "cell_type": "code",
      "source": [
        "##Utilizando la instrucción with para abrir el archivo\n",
        "with open(\"prueba.txt\", \"r\") as ArchivoWith:\n",
        "    ContenidoArchivoWith = ArchivoWith.read()\n",
        "    print(ContenidoArchivoWith)"
      ],
      "metadata": {
        "id": "9TjhuqwfvmWk",
        "outputId": "1c5d158d-39f8-44df-f735-73c556efb906",
        "colab": {
          "base_uri": "https://localhost:8080/"
        }
      },
      "execution_count": null,
      "outputs": [
        {
          "output_type": "stream",
          "name": "stdout",
          "text": [
            "Leyendo archivo Python. Línea 1.\n",
            "Leyendo archivo Python. Línea 2.\n",
            "Leyendo archivo Python. Línea 3.\n",
            "Leyendo archivo Python. Línea 4.\n",
            "Leyendo archivo Python. Línea 5.\n",
            "\n"
          ]
        }
      ]
    },
    {
      "cell_type": "code",
      "source": [
        "##Leer los primeros 9 caracteres del contenido del archivo.\n",
        "with open(\"prueba.txt\", \"r\") as ArchivoWith:\n",
        "    print(ArchivoWith.read(9))"
      ],
      "metadata": {
        "id": "kYzf-Wxwv8AD",
        "outputId": "f591d842-df56-42c2-b7e2-e3b975812b2e",
        "colab": {
          "base_uri": "https://localhost:8080/"
        }
      },
      "execution_count": null,
      "outputs": [
        {
          "output_type": "stream",
          "name": "stdout",
          "text": [
            "Leyendo a\n"
          ]
        }
      ]
    },
    {
      "cell_type": "code",
      "source": [
        "##Leer diferente número de caracteres en el contenido del archivo.\n",
        "with open(\"prueba.txt\", \"r\") as ArchivoWith:\n",
        "    print(ArchivoWith.read(9))\n",
        "    print(ArchivoWith.read(3))\n",
        "    print(ArchivoWith.read(18))\n",
        "    print(ArchivoWith.read(30))\n",
        "    print(ArchivoWith.read(90))"
      ],
      "metadata": {
        "id": "5rofW3KQwDPC",
        "outputId": "8ae3a6ad-a6bf-4ceb-f89c-e7154e82ded0",
        "colab": {
          "base_uri": "https://localhost:8080/"
        }
      },
      "execution_count": null,
      "outputs": [
        {
          "output_type": "stream",
          "name": "stdout",
          "text": [
            "Leyendo a\n",
            "rch\n",
            "ivo Python. Línea \n",
            "1.\n",
            "Leyendo archivo Python. Lín\n",
            "ea 2.\n",
            "Leyendo archivo Python. Línea 3.\n",
            "Leyendo archivo Python. Línea 4.\n",
            "Leyendo archivo Py\n"
          ]
        }
      ]
    },
    {
      "cell_type": "code",
      "source": [
        "##Leer líneas dentro del archivo\n",
        "with open(\"prueba.txt\", \"r\") as ArchivoWith:\n",
        "    print(\"1era línea :\", ArchivoWith.readline())\n",
        "    print(\"1era línea (5 primeros caracteres) :\", ArchivoWith.readline(5))\n",
        "    print(\"5 caracteres del archivo:\", ArchivoWith.read(5))\n",
        "    print(\"2da línea (5 primeros caracteres) :\", ArchivoWith.readline())"
      ],
      "metadata": {
        "id": "dvoYlndLw-2w",
        "outputId": "c164c4c7-5a6a-4da2-a86d-497d3cd02e63",
        "colab": {
          "base_uri": "https://localhost:8080/"
        }
      },
      "execution_count": null,
      "outputs": [
        {
          "output_type": "stream",
          "name": "stdout",
          "text": [
            "1era línea : Leyendo archivo Python. Línea 1.\n",
            "\n",
            "1era línea (5 primeros caracteres) : Leyen\n",
            "5 caracteres del archivo: do ar\n",
            "2da línea (5 primeros caracteres) : chivo Python. Línea 2.\n",
            "\n"
          ]
        }
      ]
    },
    {
      "cell_type": "code",
      "source": [
        "##Recorriendo las líneas del archivo\n",
        "with open(\"prueba.txt\",\"r\") as ArchivoWith:\n",
        "        c = 0;\n",
        "        for linea in ArchivoWith:\n",
        "            print(\"Recorrido\", str(c), \": \", linea)\n",
        "            c = c + 1"
      ],
      "metadata": {
        "id": "laW9YrJlxQTd",
        "outputId": "7f5a2b77-b231-4aa0-ee68-b5fba0401e31",
        "colab": {
          "base_uri": "https://localhost:8080/"
        }
      },
      "execution_count": null,
      "outputs": [
        {
          "output_type": "stream",
          "name": "stdout",
          "text": [
            "Recorrido 0 :  Leyendo archivo Python. Línea 1.\n",
            "\n",
            "Recorrido 1 :  Leyendo archivo Python. Línea 2.\n",
            "\n",
            "Recorrido 2 :  Leyendo archivo Python. Línea 3.\n",
            "\n",
            "Recorrido 3 :  Leyendo archivo Python. Línea 4.\n",
            "\n",
            "Recorrido 4 :  Leyendo archivo Python. Línea 5.\n",
            "\n"
          ]
        }
      ]
    },
    {
      "cell_type": "code",
      "source": [
        "##Almacenar las líneas del archivo en una lista\n",
        "with open(\"prueba.txt\", \"r\") as ArchivoWith:\n",
        "    ListaArchivoWith = ArchivoWith.readlines()\n",
        "\n",
        "##Imprimimos la segunda línea de la lista\n",
        "print(ListaArchivoWith[1])"
      ],
      "metadata": {
        "id": "Way83iqTx7zl",
        "outputId": "40b3ecc4-0fd6-4b6a-a6b6-bf0b3bfb1263",
        "colab": {
          "base_uri": "https://localhost:8080/"
        }
      },
      "execution_count": null,
      "outputs": [
        {
          "output_type": "stream",
          "name": "stdout",
          "text": [
            "Leyendo archivo Python. Línea 2.\n",
            "\n"
          ]
        }
      ]
    },
    {
      "cell_type": "code",
      "source": [
        "##Escribiendo en archivos\n",
        "ArchivoEscritura = \"prueba_archivo.txt\"\n",
        "with open(ArchivoEscritura, 'w') as ArchivoEdicion:\n",
        "  ArchivoEdicion.write(\"Linea inicial.\")\n",
        "\n",
        "##Leyendo el archivo creado\n",
        "with open(ArchivoEscritura, 'r') as ArchivoLectura:\n",
        "  print(ArchivoLectura.read())"
      ],
      "metadata": {
        "id": "X4EY1K3504Pt",
        "outputId": "6f08e06f-d597-4024-9d75-727a5c774e3a",
        "colab": {
          "base_uri": "https://localhost:8080/"
        }
      },
      "execution_count": null,
      "outputs": [
        {
          "output_type": "stream",
          "name": "stdout",
          "text": [
            "Linea inicial.\n"
          ]
        }
      ]
    },
    {
      "cell_type": "code",
      "source": [
        "#Escribir varias líneas en el archivo\n",
        "with open(ArchivoEscritura, 'w') as ArchivoEdicion:\n",
        "  ArchivoEdicion.write(\"Linea inicial\\n\")\n",
        "  ArchivoEdicion.write(\"Segunda Linea\\n\")\n",
        "  ArchivoEdicion.write(\"Última Linea\")\n",
        "\n",
        "#Leer el archivo creado\n",
        "with open(ArchivoEscritura, 'r') as ArchivoLectura:\n",
        "    print(ArchivoLectura.read())"
      ],
      "metadata": {
        "id": "namr6V7z3J9l",
        "outputId": "4e1a0a14-a19b-4319-f7d1-378216ebed74",
        "colab": {
          "base_uri": "https://localhost:8080/"
        }
      },
      "execution_count": null,
      "outputs": [
        {
          "output_type": "stream",
          "name": "stdout",
          "text": [
            "Linea inicial\n",
            "Segunda Linea\n",
            "Última Linea\n"
          ]
        }
      ]
    },
    {
      "cell_type": "code",
      "source": [
        "#Insertando contenido del archivo a partir de una lista\n",
        "#1. Creamos la lista\n",
        "LineasArchivo = [\"1er Puesto: Estudiante A\\n\", \"2do Puesto: Estudiante B\\n\", \"3er Puesto: Estudiante C\"]\n",
        "LineasArchivo"
      ],
      "metadata": {
        "id": "GgVQ1PCeatLM",
        "outputId": "b7a4f1ef-a022-454f-e65a-f44cff5fb0fc",
        "colab": {
          "base_uri": "https://localhost:8080/"
        }
      },
      "execution_count": null,
      "outputs": [
        {
          "output_type": "execute_result",
          "data": {
            "text/plain": [
              "['1er Puesto: Estudiante A\\n',\n",
              " '2do Puesto: Estudiante B\\n',\n",
              " '3er Puesto: Estudiante C']"
            ]
          },
          "metadata": {},
          "execution_count": 4
        }
      ]
    },
    {
      "cell_type": "code",
      "source": [
        "#2. Creamos el contenido del archivo con los items de la lista a través de un ciclo FOR\n",
        "with open(\"Ranking Estudiantes.txt\", \"w\") as RankingEstudiantes:\n",
        "  for linea in LineasArchivo:\n",
        "    RankingEstudiantes.write(linea)\n",
        "\n",
        "#3. Verificamos el contenido del archivo creado\n",
        "with open(\"Ranking Estudiantes.txt\", 'r') as RankingEstudiantesLectura:\n",
        "    print(RankingEstudiantesLectura.read())"
      ],
      "metadata": {
        "id": "5lvmlnbtbLjz",
        "outputId": "d9a94838-8033-473e-cc7d-8cee3fc1e3de",
        "colab": {
          "base_uri": "https://localhost:8080/"
        }
      },
      "execution_count": null,
      "outputs": [
        {
          "output_type": "stream",
          "name": "stdout",
          "text": [
            "1er Puesto: Estudiante A\n",
            "2do Puesto: Estudiante B\n",
            "3er Puesto: Estudiante C\n"
          ]
        }
      ]
    },
    {
      "cell_type": "markdown",
      "source": [
        "⚠ **NOTA:** Se debe tener en cuenta que el tipo de apertura 'w' sobreescribirá el contenido del archivo. Si queremos adicionar nuevas líneas al contenido debemos utilizar el append 'a'. "
      ],
      "metadata": {
        "id": "rHxfYcZecu02"
      }
    },
    {
      "cell_type": "code",
      "source": [
        "#Sobreescribimos el contenido del archivo creado anteriormente\n",
        "with open(\"Ranking Estudiantes.txt\", \"w\") as RankingEstudiantes:\n",
        "  RankingEstudiantes.write(\"Prueba de sobreescritura\")\n",
        "\n",
        "#Verificamos el contenido del archivo\n",
        "with open(\"Ranking Estudiantes.txt\", 'r') as RankingEstudiantesLectura:\n",
        "    print(RankingEstudiantesLectura.read())"
      ],
      "metadata": {
        "id": "-trXndqTdEKU",
        "outputId": "4f49482f-6590-43d0-beeb-03f13e8817a0",
        "colab": {
          "base_uri": "https://localhost:8080/"
        }
      },
      "execution_count": null,
      "outputs": [
        {
          "output_type": "stream",
          "name": "stdout",
          "text": [
            "Prueba de sobreescritura\n"
          ]
        }
      ]
    },
    {
      "cell_type": "code",
      "source": [
        "#Volvemos a ajustar el contenido del archivo con los items de la lista a través de un ciclo FOR\n",
        "with open(\"Ranking Estudiantes.txt\", \"w\") as RankingEstudiantes:\n",
        "  for linea in LineasArchivo:\n",
        "    RankingEstudiantes.write(linea)\n",
        "\n",
        "#Verificamos el contenido del archivo\n",
        "with open(\"Ranking Estudiantes.txt\", 'r') as RankingEstudiantesLectura:\n",
        "    print(RankingEstudiantesLectura.read())"
      ],
      "metadata": {
        "id": "ZF7qxLEocJQs",
        "outputId": "c30adadc-db3a-45a7-ca64-aab59b0d05d8",
        "colab": {
          "base_uri": "https://localhost:8080/"
        }
      },
      "execution_count": null,
      "outputs": [
        {
          "output_type": "stream",
          "name": "stdout",
          "text": [
            "1er Puesto: Estudiante A\n",
            "2do Puesto: Estudiante B\n",
            "3er Puesto: Estudiante C\n"
          ]
        }
      ]
    },
    {
      "cell_type": "code",
      "source": [
        "#Ahora vamos a adicionar una nueva línea al archivo\n",
        "with open(\"Ranking Estudiantes.txt\", \"a\") as RankingEstudiantes:\n",
        "    RankingEstudiantes.write(\"\\n4to Puesto: Estudiante D\")\n",
        "\n",
        "#Verificamos el contenido del archivo creado\n",
        "with open(\"Ranking Estudiantes.txt\", 'r') as RankingEstudiantesLectura:\n",
        "    print(RankingEstudiantesLectura.read())"
      ],
      "metadata": {
        "id": "K418RveOdbjo",
        "outputId": "b11b899b-7f34-470e-bb15-44039548c01a",
        "colab": {
          "base_uri": "https://localhost:8080/"
        }
      },
      "execution_count": null,
      "outputs": [
        {
          "output_type": "stream",
          "name": "stdout",
          "text": [
            "1er Puesto: Estudiante A\n",
            "2do Puesto: Estudiante B\n",
            "3er Puesto: Estudiante C\n",
            "4to Puesto: Estudiante D\n",
            "5to Puesto: Estudiante E\n",
            "4to Puesto: Estudiante D\n"
          ]
        }
      ]
    },
    {
      "cell_type": "code",
      "source": [
        "#Utilizar a+,r+,w+\n",
        "with open('Ranking Estudiantes.txt', 'a+') as RankingEstudiantes:\n",
        "    RankingEstudiantes.write(\"\\n5to Puesto: Estudiante E\")\n",
        "    print(RankingEstudiantes.read())\n",
        "\n",
        "#No observaremos resultados por la ubicación del texto en nuestro archivo."
      ],
      "metadata": {
        "id": "itFsHOcYdoLc",
        "outputId": "3f79bd0e-3176-414a-c89d-d867e14f7dd1",
        "colab": {
          "base_uri": "https://localhost:8080/"
        }
      },
      "execution_count": null,
      "outputs": [
        {
          "output_type": "stream",
          "name": "stdout",
          "text": [
            "\n"
          ]
        }
      ]
    },
    {
      "cell_type": "code",
      "source": [
        "#Para identificar la ubicación del cursor en nuestro texto utilizamos los siguientes comandos.\n",
        "with open('Ranking Estudiantes.txt', 'a+') as RankingEstudiantes:\n",
        "    print(\"Posición inicial: {}\".format(RankingEstudiantes.tell()))\n",
        "    #Leemos el contenido del archivo\n",
        "    datos = RankingEstudiantes.read()\n",
        "    if (not datos):\n",
        "        print(\"Sin datos\")\n",
        "    else:\n",
        "        print(RankingEstudiantes.read())\n",
        "\n",
        "    #Ubicamos el cursor en la posición inicial\n",
        "    print(\"Se reubicará el cursor al inicio\")\n",
        "    RankingEstudiantes.seek(0,0)\n",
        "    \n",
        "    print(\"La nueva posición inicial es: {}\".format(RankingEstudiantes.tell()))\n",
        "    #Volvemos a leer el contenido del archivo\n",
        "    datos = RankingEstudiantes.read()\n",
        "    if (not datos):\n",
        "        print(\"Sin datos\")\n",
        "    else:\n",
        "        print(RankingEstudiantes.read())\n",
        "    \n",
        "    print(\"Ubicación después de lectura: {}\".format(RankingEstudiantes.tell()) )"
      ],
      "metadata": {
        "id": "axNZgjh6edlz",
        "outputId": "b2297026-4d2c-4502-8b4c-4701c472d254",
        "colab": {
          "base_uri": "https://localhost:8080/"
        }
      },
      "execution_count": null,
      "outputs": [
        {
          "output_type": "stream",
          "name": "stdout",
          "text": [
            "Posición inicial: 149\n",
            "Sin datos\n",
            "Se reubicará el cursor al inicio\n",
            "La nueva posición inicial es: 0\n",
            "\n",
            "Ubicación después de lectura: 149\n"
          ]
        }
      ]
    },
    {
      "cell_type": "code",
      "source": [
        "#¿Como copiar un archivo?\n",
        "with open('Ranking Estudiantes.txt','r') as ArchivoOriginal:\n",
        "    with open('Ranking Egresados.txt','w') as ArchivoCopiado:\n",
        "          for line in ArchivoOriginal:\n",
        "                ArchivoCopiado.write(line)\n",
        "\n",
        "with open('Ranking Egresados.txt','r') as ValidacionCopia:\n",
        "    print(ValidacionCopia.read())"
      ],
      "metadata": {
        "id": "BDKE1TSYe2-R",
        "outputId": "16ee5e2f-13c3-4c2b-ecbb-939797644f1c",
        "colab": {
          "base_uri": "https://localhost:8080/"
        }
      },
      "execution_count": null,
      "outputs": [
        {
          "output_type": "stream",
          "name": "stdout",
          "text": [
            "1er Puesto: Estudiante A\n",
            "2do Puesto: Estudiante B\n",
            "3er Puesto: Estudiante C\n",
            "4to Puesto: Estudiante D\n",
            "5to Puesto: Estudiante E\n",
            "4to Puesto: Estudiante D\n"
          ]
        }
      ]
    },
    {
      "cell_type": "code",
      "source": [
        "#Ejercicio taller\n",
        "from random import randint as rnd\n",
        "\n",
        "memReg = 'members.txt'\n",
        "exReg = 'inactive.txt'\n",
        "fee =('yes','no')\n",
        "\n",
        "def genFiles(current,old):\n",
        "    with open(current,'w+') as writefile: \n",
        "        writefile.write('Membership No  Date Joined  Active  \\n')\n",
        "        data = \"{:^13}  {:<11}  {:<6}\\n\"\n",
        "\n",
        "        for rowno in range(20):\n",
        "            date = str(rnd(2015,2020))+ '-' + str(rnd(1,12))+'-'+str(rnd(1,25))\n",
        "            writefile.write(data.format(rnd(10000,99999),date,fee[rnd(0,1)]))\n",
        "\n",
        "\n",
        "    with open(old,'w+') as writefile: \n",
        "        writefile.write('Membership No  Date Joined  Active  \\n')\n",
        "        data = \"{:^13}  {:<11}  {:<6}\\n\"\n",
        "        for rowno in range(3):\n",
        "            date = str(rnd(2015,2020))+ '-' + str(rnd(1,12))+'-'+str(rnd(1,25))\n",
        "            writefile.write(data.format(rnd(10000,99999),date,fee[1]))\n",
        "\n",
        "\n",
        "genFiles(memReg,exReg)\n"
      ],
      "metadata": {
        "id": "791gU3mphKJS"
      },
      "execution_count": 26,
      "outputs": []
    },
    {
      "cell_type": "code",
      "source": [
        "def depurararchivos(currentMem, exMem):\n",
        "    #Abrimos el archivo currentMem en modo lectura/escritura\n",
        "    with open(currentMem, 'r+') as Estudiantes:\n",
        "        #Abrimos el archivo exMem en modo adición/lectura\n",
        "        with open(exMem, 'a+') as Egresados:\n",
        "            #Nos ubicamos al inicio del archivo Estudiantes\n",
        "            Estudiantes.seek(0)\n",
        "            #Creamos la 'ListaEstudiantes' con el contenido del archivo 'Estudiantes'\n",
        "            ListaEstudiantes = Estudiantes.readlines()\n",
        "            #Asignamos a la variable Cabecera el contenido del primer registro (encabezado de columna en la lista)\n",
        "            Cabecera = ListaEstudiantes[0]\n",
        "            #Eliminamos el primer registro del contenido de la lista (Encabezado de columna en la lista)\n",
        "            ListaEstudiantes.pop(0)\n",
        "            \n",
        "            #Creamos la lista 'Inactivos' tomando de 'ListaEstudiantes' solo aquellos registros que contengan 'no' en sus registros (no activos)\n",
        "            Inactivos = [Egresado for Egresado in ListaEstudiantes if ('no' in Egresado)]\n",
        "            #Nos ubicamos al inicio del archivo Estudiantes\n",
        "            Estudiantes.seek(0)\n",
        "            #Escribimos en este archivo inicialmente la cabecera, tomando la variable inicializada en las líneas anteriores\n",
        "            Estudiantes.write(Cabecera)\n",
        "\n",
        "            #Recorremos la 'ListaEstudiantes'\n",
        "            for Egresado in ListaEstudiantes:                    \n",
        "                #Si el registro (miembro) de la lista se encuentra en la lista de 'Inactivos' creada previamente lo ubicamos en el archivo 'Egresados',\n",
        "                #de lo contrario lo ubicamos en el archivo de Estudiantes.\n",
        "                if (Egresado in Inactivos):\n",
        "                    Egresados.write(Egresado)\n",
        "                else:\n",
        "                    Estudiantes.write(Egresado)\n",
        "               \n",
        "            Estudiantes.truncate()\n",
        "\n",
        "        \n",
        "    pass\n",
        "\n",
        "\n",
        "# The code below is to help you view the files.\n",
        "# Do not modify this code for this exercise.\n",
        "memReg = 'members.txt'\n",
        "exReg = 'inactive.txt'\n",
        "depurararchivos(memReg,exReg)\n",
        "\n",
        "\n",
        "headers = \"Membership No  Date Joined  Active  \\n\"\n",
        "with open(memReg,'r') as readFile:\n",
        "    print(\"Active Members: \\n\\n\")\n",
        "    print(readFile.read())\n",
        "    \n",
        "with open(exReg,'r') as readFile:\n",
        "    print(\"Inactive Members: \\n\\n\")\n",
        "    print(readFile.read())"
      ],
      "metadata": {
        "colab": {
          "base_uri": "https://localhost:8080/"
        },
        "id": "u05o2DGTIGqX",
        "outputId": "9dd1f13d-3b8a-47b8-ec81-1161a3c252a6"
      },
      "execution_count": 32,
      "outputs": [
        {
          "output_type": "stream",
          "name": "stdout",
          "text": [
            "Active Members: \n",
            "\n",
            "\n",
            "Membership No  Date Joined  Active  \n",
            "    31741      2020-5-10    yes   \n",
            "    14722      2016-1-23    yes   \n",
            "    18962      2020-11-16   yes   \n",
            "    94152      2020-9-3     yes   \n",
            "    17436      2015-1-16    yes   \n",
            "    31554      2018-6-8     yes   \n",
            "    53482      2015-6-9     yes   \n",
            "    12891      2016-5-13    yes   \n",
            "    39225      2019-6-6     yes   \n",
            "    69831      2018-1-17    yes   \n",
            "\n",
            "Inactive Members: \n",
            "\n",
            "\n",
            "Membership No  Date Joined  Active  \n",
            "    90830      2020-6-6     no    \n",
            "    43647      2019-5-4     no    \n",
            "    29481      2018-8-12    no    \n",
            "    86627      2017-8-22    no    \n",
            "    97914      2020-1-3     no    \n",
            "    10660      2016-6-3     no    \n",
            "    36452      2016-1-22    no    \n",
            "    66659      2016-10-19   no    \n",
            "    17106      2017-6-7     no    \n",
            "    23411      2015-1-19    no    \n",
            "    97857      2017-12-21   no    \n",
            "    56652      2020-2-24    no    \n",
            "\n"
          ]
        }
      ]
    },
    {
      "cell_type": "code",
      "source": [
        "def probardepuración(passed):\n",
        "    if passed:\n",
        "       return 'Test Passed'\n",
        "    else :\n",
        "       return 'Test Failed'\n",
        "\n",
        "testWrite = \"testWrite.txt\"\n",
        "testAppend = \"testAppend.txt\" \n",
        "passed = True\n",
        "\n",
        "genFiles(testWrite,testAppend)\n",
        "\n",
        "with open(testWrite,'r') as file:\n",
        "    ogWrite = file.readlines()\n",
        "\n",
        "with open(testAppend,'r') as file:\n",
        "    ogAppend = file.readlines()\n",
        "\n",
        "try:\n",
        "    depurararchivos(testWrite,testAppend)\n",
        "except:\n",
        "    print('Error')\n",
        "\n",
        "with open(testWrite,'r') as file:\n",
        "    clWrite = file.readlines()\n",
        "\n",
        "with open(testAppend,'r') as file:\n",
        "    clAppend = file.readlines()\n",
        "        \n",
        "# checking if total no of rows is same, including headers\n",
        "\n",
        "if (len(ogWrite) + len(ogAppend) != len(clWrite) + len(clAppend)):\n",
        "    print(\"El número de registros no cuadra. Verifica que tus archivos tienen las mismas cabeceras y formatos.\")\n",
        "    passed = False\n",
        "    \n",
        "for line in clWrite:\n",
        "    if  'no' in line:\n",
        "        passed = False\n",
        "        print(\"Egresados en archivo.\")\n",
        "        break\n",
        "    else:\n",
        "        if line not in ogWrite:\n",
        "            print(\"Información en archivo no es igual al original.\")\n",
        "            passed = False\n",
        "print (\"{}\".format(probardepuración(passed)))"
      ],
      "metadata": {
        "colab": {
          "base_uri": "https://localhost:8080/"
        },
        "id": "vZyM0Jy3IakD",
        "outputId": "90e93556-e8f6-463d-bb4a-fea1f732722a"
      },
      "execution_count": 33,
      "outputs": [
        {
          "output_type": "stream",
          "name": "stdout",
          "text": [
            "Test Passed\n"
          ]
        }
      ]
    },
    {
      "cell_type": "markdown",
      "source": [
        "\n",
        "\n",
        "---\n",
        "\n",
        "🐼**Aprendiendo el uso de la librería PANDA**\n",
        "\n",
        "---\n",
        "\n"
      ],
      "metadata": {
        "id": "1CYsIX-gS8vw"
      }
    },
    {
      "cell_type": "code",
      "source": [
        "#Importamos la librería pandas\n",
        "import pandas as pd\n",
        "\n",
        "#Creamos un dataframe con dos columnas y 4 registros\n",
        "df=pd.DataFrame({'Asignatura':[\"Matemáticas\",\"Geografía\",\"Inglés\", \"Algebra\"],'Calificación':[5.0,4.6,3.9,4.9]})\n",
        "\n",
        "#Visualizamos los primeros registros del dataframe\n",
        "df.head()"
      ],
      "metadata": {
        "colab": {
          "base_uri": "https://localhost:8080/",
          "height": 175
        },
        "id": "6qUEGTiJQK-2",
        "outputId": "84943d2f-7887-4047-b973-4bd55aacfd73"
      },
      "execution_count": 36,
      "outputs": [
        {
          "output_type": "execute_result",
          "data": {
            "text/plain": [
              "    Asignatura  Calificación\n",
              "0  Matemáticas           5.0\n",
              "1    Geografía           4.6\n",
              "2       Inglés           3.9\n",
              "3      Algebra           4.9"
            ],
            "text/html": [
              "\n",
              "  <div id=\"df-0cf70679-78d8-4614-87eb-57b6647dfb6c\">\n",
              "    <div class=\"colab-df-container\">\n",
              "      <div>\n",
              "<style scoped>\n",
              "    .dataframe tbody tr th:only-of-type {\n",
              "        vertical-align: middle;\n",
              "    }\n",
              "\n",
              "    .dataframe tbody tr th {\n",
              "        vertical-align: top;\n",
              "    }\n",
              "\n",
              "    .dataframe thead th {\n",
              "        text-align: right;\n",
              "    }\n",
              "</style>\n",
              "<table border=\"1\" class=\"dataframe\">\n",
              "  <thead>\n",
              "    <tr style=\"text-align: right;\">\n",
              "      <th></th>\n",
              "      <th>Asignatura</th>\n",
              "      <th>Calificación</th>\n",
              "    </tr>\n",
              "  </thead>\n",
              "  <tbody>\n",
              "    <tr>\n",
              "      <th>0</th>\n",
              "      <td>Matemáticas</td>\n",
              "      <td>5.0</td>\n",
              "    </tr>\n",
              "    <tr>\n",
              "      <th>1</th>\n",
              "      <td>Geografía</td>\n",
              "      <td>4.6</td>\n",
              "    </tr>\n",
              "    <tr>\n",
              "      <th>2</th>\n",
              "      <td>Inglés</td>\n",
              "      <td>3.9</td>\n",
              "    </tr>\n",
              "    <tr>\n",
              "      <th>3</th>\n",
              "      <td>Algebra</td>\n",
              "      <td>4.9</td>\n",
              "    </tr>\n",
              "  </tbody>\n",
              "</table>\n",
              "</div>\n",
              "      <button class=\"colab-df-convert\" onclick=\"convertToInteractive('df-0cf70679-78d8-4614-87eb-57b6647dfb6c')\"\n",
              "              title=\"Convert this dataframe to an interactive table.\"\n",
              "              style=\"display:none;\">\n",
              "        \n",
              "  <svg xmlns=\"http://www.w3.org/2000/svg\" height=\"24px\"viewBox=\"0 0 24 24\"\n",
              "       width=\"24px\">\n",
              "    <path d=\"M0 0h24v24H0V0z\" fill=\"none\"/>\n",
              "    <path d=\"M18.56 5.44l.94 2.06.94-2.06 2.06-.94-2.06-.94-.94-2.06-.94 2.06-2.06.94zm-11 1L8.5 8.5l.94-2.06 2.06-.94-2.06-.94L8.5 2.5l-.94 2.06-2.06.94zm10 10l.94 2.06.94-2.06 2.06-.94-2.06-.94-.94-2.06-.94 2.06-2.06.94z\"/><path d=\"M17.41 7.96l-1.37-1.37c-.4-.4-.92-.59-1.43-.59-.52 0-1.04.2-1.43.59L10.3 9.45l-7.72 7.72c-.78.78-.78 2.05 0 2.83L4 21.41c.39.39.9.59 1.41.59.51 0 1.02-.2 1.41-.59l7.78-7.78 2.81-2.81c.8-.78.8-2.07 0-2.86zM5.41 20L4 18.59l7.72-7.72 1.47 1.35L5.41 20z\"/>\n",
              "  </svg>\n",
              "      </button>\n",
              "      \n",
              "  <style>\n",
              "    .colab-df-container {\n",
              "      display:flex;\n",
              "      flex-wrap:wrap;\n",
              "      gap: 12px;\n",
              "    }\n",
              "\n",
              "    .colab-df-convert {\n",
              "      background-color: #E8F0FE;\n",
              "      border: none;\n",
              "      border-radius: 50%;\n",
              "      cursor: pointer;\n",
              "      display: none;\n",
              "      fill: #1967D2;\n",
              "      height: 32px;\n",
              "      padding: 0 0 0 0;\n",
              "      width: 32px;\n",
              "    }\n",
              "\n",
              "    .colab-df-convert:hover {\n",
              "      background-color: #E2EBFA;\n",
              "      box-shadow: 0px 1px 2px rgba(60, 64, 67, 0.3), 0px 1px 3px 1px rgba(60, 64, 67, 0.15);\n",
              "      fill: #174EA6;\n",
              "    }\n",
              "\n",
              "    [theme=dark] .colab-df-convert {\n",
              "      background-color: #3B4455;\n",
              "      fill: #D2E3FC;\n",
              "    }\n",
              "\n",
              "    [theme=dark] .colab-df-convert:hover {\n",
              "      background-color: #434B5C;\n",
              "      box-shadow: 0px 1px 3px 1px rgba(0, 0, 0, 0.15);\n",
              "      filter: drop-shadow(0px 1px 2px rgba(0, 0, 0, 0.3));\n",
              "      fill: #FFFFFF;\n",
              "    }\n",
              "  </style>\n",
              "\n",
              "      <script>\n",
              "        const buttonEl =\n",
              "          document.querySelector('#df-0cf70679-78d8-4614-87eb-57b6647dfb6c button.colab-df-convert');\n",
              "        buttonEl.style.display =\n",
              "          google.colab.kernel.accessAllowed ? 'block' : 'none';\n",
              "\n",
              "        async function convertToInteractive(key) {\n",
              "          const element = document.querySelector('#df-0cf70679-78d8-4614-87eb-57b6647dfb6c');\n",
              "          const dataTable =\n",
              "            await google.colab.kernel.invokeFunction('convertToInteractive',\n",
              "                                                     [key], {});\n",
              "          if (!dataTable) return;\n",
              "\n",
              "          const docLinkHtml = 'Like what you see? Visit the ' +\n",
              "            '<a target=\"_blank\" href=https://colab.research.google.com/notebooks/data_table.ipynb>data table notebook</a>'\n",
              "            + ' to learn more about interactive tables.';\n",
              "          element.innerHTML = '';\n",
              "          dataTable['output_type'] = 'display_data';\n",
              "          await google.colab.output.renderOutput(dataTable, element);\n",
              "          const docLink = document.createElement('div');\n",
              "          docLink.innerHTML = docLinkHtml;\n",
              "          element.appendChild(docLink);\n",
              "        }\n",
              "      </script>\n",
              "    </div>\n",
              "  </div>\n",
              "  "
            ]
          },
          "metadata": {},
          "execution_count": 36
        }
      ]
    },
    {
      "cell_type": "code",
      "source": [],
      "metadata": {
        "id": "WX04sPU6TaAr"
      },
      "execution_count": null,
      "outputs": []
    }
  ]
}