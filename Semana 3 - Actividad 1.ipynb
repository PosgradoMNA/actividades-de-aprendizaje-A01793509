{
  "nbformat": 4,
  "nbformat_minor": 0,
  "metadata": {
    "colab": {
      "name": "assignment01.ipynb",
      "provenance": [],
      "include_colab_link": true
    },
    "kernelspec": {
      "name": "python3",
      "display_name": "Python 3"
    },
    "language_info": {
      "name": "python"
    }
  },
  "cells": [
    {
      "cell_type": "markdown",
      "metadata": {
        "id": "view-in-github",
        "colab_type": "text"
      },
      "source": [
        "<a href=\"https://colab.research.google.com/github/PosgradoMNA/actividades-de-aprendizaje-A01793509/blob/main/Semana%203%20-%20Actividad%201.ipynb\" target=\"_parent\"><img src=\"https://colab.research.google.com/assets/colab-badge.svg\" alt=\"Open In Colab\"/></a>"
      ]
    },
    {
      "cell_type": "markdown",
      "source": [
        "\n",
        "---\n",
        "\n",
        "\n",
        "🚀 **Semana 3 - Actividad 1**: Conceptos de bases de datos, almacenes de datos, tipos de datos y realizar la limpieza de un conjunto de datos.\n",
        "\n",
        "📑 **Asignatura:** Ciencia y analítica de datos\n",
        "\n",
        "🧑 **Alumno:** Alberto José García Porras (Matrícula No. **A01793509**)\n",
        "\n",
        "🧑 **Profesor**: Jobish Vallikavungal Devassia\n",
        "\n",
        "📅 Octubre 3 del 2022\n",
        "\n",
        "---"
      ],
      "metadata": {
        "id": "vG7DoVUg8CFK"
      }
    },
    {
      "cell_type": "markdown",
      "source": [
        "### **1era Parte:** Describe tus insights o entendimiento de cada uno de los subtemas;\n",
        "\n",
        "*   *Fundamentos de bases de datos y para ciencia de datos:* \n",
        "\n",
        "    La materia prima básica para que la ciencia de datos opere son precisamente los datos, es por ello que el primer paso para comenzar a trabajar es saber de dónde los tomamos y uno de los factores clave en esta ecuación son las bases de datos. Una base de datos es un sistema que permite gestionar y almacenar información asociada a un ámbito específico de una organización, de forma estructurada y relacional, de tal manera que pueda ser fácilmente accedida y comprendida, con el propósito de cumplir con los requerimientos de información de la organización. La información se almacena en forma de listas llamadas **tablas** que se estructuran en filas, columnas y celdas, asimismo, en estas bases de datos encontraremos los nombres de cada columna y las relaciones con otras tablas. Todo lo anterior es posible gracias al sistema de administración de base de datos (DBMS). Teniendo en cuenta lo anterior, como científicos de datos debemos tener claridad del entorno (ámbito) en el que se utiliza la información de las bases de datos, con el fin de que contemos con el conocimiento del dominio para aplicar las técnicas de análisis y depuración correctas al momento de realizar las extracciones de los datos desde estas tablas.\n",
        "*   *Fundamentos de almacenes de datos (Data Warehouse) para ciencia de datos:* \n",
        "Cuando una base de datos no es suficiente para brindar la respuesta al problema planteado por el negocio, se hace necesario contar con mayor información y desde diversas fuentes, es allí donde entran en juego los almacenes de dato o Data Warehouses. Un almacén de datos es un sistema de almacenamiento que toma información de diferentes orígenes y por ende bajo diferentes tipos de datos (estructurados, semi-estructurados y no estructurados) con una intermitencia regular y que disponibiliza dicha información para que pueda ser accedida en aras de generar análisis de los datos que contiene. Teniendo en cuenta que la información proviene de diversas fuentes, es importante que desde la ciencia de datos se puedan depurar los datos extraídos a partir de este almacén, normalizándolos, escalándolos y dándole el tratamiento requerido a los valores corruptos o faltantes, todo esto con el fin de que el análisis de los datos demuestre un desempeño aceptable para la respuesta que espera el negocio."
      ],
      "metadata": {
        "id": "GEFBfOIE683Z"
      }
    },
    {
      "cell_type": "markdown",
      "source": [
        "\n",
        "---\n",
        "\n",
        "### **2da Parte:** Selección y limpieza de los Datos en Python"
      ],
      "metadata": {
        "id": "GK-ShY7eHUaP"
      }
    },
    {
      "cell_type": "code",
      "source": [
        "import pandas as pd\n",
        "import numpy as np"
      ],
      "metadata": {
        "id": "Eo93K2ZRH97u"
      },
      "execution_count": null,
      "outputs": []
    }
  ]
}