{
  "nbformat": 4,
  "nbformat_minor": 0,
  "metadata": {
    "colab": {
      "name": "assignment01.ipynb",
      "provenance": [],
      "include_colab_link": true
    },
    "kernelspec": {
      "name": "python3",
      "display_name": "Python 3"
    },
    "language_info": {
      "name": "python"
    }
  },
  "cells": [
    {
      "cell_type": "markdown",
      "metadata": {
        "id": "view-in-github",
        "colab_type": "text"
      },
      "source": [
        "<a href=\"https://colab.research.google.com/github/PosgradoMNA/actividades-de-aprendizaje-A01793509/blob/main/Semana%203%20-%20Actividad%201.ipynb\" target=\"_parent\"><img src=\"https://colab.research.google.com/assets/colab-badge.svg\" alt=\"Open In Colab\"/></a>"
      ]
    },
    {
      "cell_type": "markdown",
      "source": [
        "\n",
        "---\n",
        "\n",
        "\n",
        "🚀 **Semana 3 - Actividad 1**: Conceptos de bases de datos, almacenes de datos, tipos de datos y realizar la limpieza de un conjunto de datos.\n",
        "\n",
        "📑 **Asignatura:** Ciencia y analítica de datos\n",
        "\n",
        "🧑 **Alumno:** Alberto José García Porras (Matrícula No. **A01793509**)\n",
        "\n",
        "🧑 **Profesor**: Jobish Vallikavungal Devassia\n",
        "\n",
        "📅 Octubre 3 del 2022\n",
        "\n",
        "---"
      ],
      "metadata": {
        "id": "vG7DoVUg8CFK"
      }
    },
    {
      "cell_type": "markdown",
      "source": [
        "**1era Parte:** Describe tus insights o entendimiento de cada uno de los subtemas;\n",
        " .  \n",
        "\n",
        "*   *Fundamentos de bases de datos y para ciencia de datos:* \n",
        "\n",
        "    La materia prima básica para que la ciencia de datos opere son precisamente los datos, es por ello que el primer paso para comenzar a trabajar es saber de donde los tomamos y uno de los factores clave en esta ecuación son las bases de datos. Una base de datos es un sistema que permite gestionar y almacenar información asociada a un ámbito específico de una organización, de forma estructurada y relacional, de tal manera que pueda ser fácilmente accedida y comprendida, con el propósito de cumplir con los requerimientos de información de la organización. La información se almacena en forma de listas llamadas **tablas** que se estructuran en filas, columnas y celdas, asimismo, en estas bases de datos encontraremos los nombres de cada columna y las relaciones con otras tablas. Todo lo anterior es posible gracias al sistema de administración de base de datos (DBMS). Teniendo en cuenta lo anterior, como cientificos de datos debemos tener claridad del entorno (ámbito) en el que se utiliza la información de las bases de datos, con el fin de que contemos con el conocimiento del dominio para aplicar las técnicas de análisis y depuración correctas al momento de realizar las extracciones de los datos desde estas tablas.\n",
        "*   Fundamentos de almacenes de datos (Data Warehouse) para ciencia de datos."
      ],
      "metadata": {
        "id": "GEFBfOIE683Z"
      }
    },
    {
      "cell_type": "code",
      "source": [
        " ##Creando el archivo 'prueba.txt' en Python\n",
        " %%writefile prueba.txt\n",
        "Leyendo archivo Python. Línea 1.\n",
        "Leyendo archivo Python. Línea 2.\n",
        "Leyendo archivo Python. Línea 3.\n",
        "Leyendo archivo Python. Línea 4.\n",
        "Leyendo archivo Python. Línea 5."
      ],
      "metadata": {
        "id": "nqZ-JYcTA9HZ",
        "outputId": "84cc3400-3703-4066-a5b3-544702206a04",
        "colab": {
          "base_uri": "https://localhost:8080/"
        }
      },
      "execution_count": null,
      "outputs": [
        {
          "output_type": "stream",
          "name": "stdout",
          "text": [
            "Writing prueba.txt\n"
          ]
        }
      ]
    },
    {
      "cell_type": "code",
      "source": [
        "##Creando el objeto tipo archivo para leer el archivo 'prueba.txt' creado previamente\n",
        "Archivo = open(\"prueba.txt\", \"r\")"
      ],
      "metadata": {
        "id": "8vyYFYAf-lN-"
      },
      "execution_count": null,
      "outputs": []
    },
    {
      "cell_type": "code",
      "source": [
        "##Validando el nombre del archivo\n",
        "Archivo.name"
      ],
      "metadata": {
        "id": "Yd3TCkcv-1AU",
        "outputId": "995c6ad2-21a0-43e7-861c-c974ef9d3755",
        "colab": {
          "base_uri": "https://localhost:8080/",
          "height": 35
        }
      },
      "execution_count": null,
      "outputs": [
        {
          "output_type": "execute_result",
          "data": {
            "text/plain": [
              "'prueba.txt'"
            ],
            "application/vnd.google.colaboratory.intrinsic+json": {
              "type": "string"
            }
          },
          "metadata": {},
          "execution_count": 37
        }
      ]
    },
    {
      "cell_type": "code",
      "source": [
        "##Imprimiendo el modo de apertura del archivo\n",
        "Archivo.mode"
      ],
      "metadata": {
        "id": "YHOmHA1Tu3sv",
        "outputId": "5c7163f4-f1bb-4d39-8b27-ab66a1e6dac6",
        "colab": {
          "base_uri": "https://localhost:8080/",
          "height": 35
        }
      },
      "execution_count": null,
      "outputs": [
        {
          "output_type": "execute_result",
          "data": {
            "text/plain": [
              "'r'"
            ],
            "application/vnd.google.colaboratory.intrinsic+json": {
              "type": "string"
            }
          },
          "metadata": {},
          "execution_count": 38
        }
      ]
    },
    {
      "cell_type": "code",
      "source": [
        "##Asignándole el contenido del archivo a una variable\n",
        "CuerpoArchivo = Archivo.read()\n",
        "CuerpoArchivo"
      ],
      "metadata": {
        "id": "LqKkijRCu9bo",
        "outputId": "abacb618-ba05-4396-c969-74182524325c",
        "colab": {
          "base_uri": "https://localhost:8080/",
          "height": 53
        }
      },
      "execution_count": null,
      "outputs": [
        {
          "output_type": "execute_result",
          "data": {
            "text/plain": [
              "'Leyendo archivo Python. Línea 1.\\nLeyendo archivo Python. Línea 2.\\nLeyendo archivo Python. Línea 3.\\nLeyendo archivo Python. Línea 4.\\nLeyendo archivo Python. Línea 5.\\n'"
            ],
            "application/vnd.google.colaboratory.intrinsic+json": {
              "type": "string"
            }
          },
          "metadata": {},
          "execution_count": 39
        }
      ]
    },
    {
      "cell_type": "code",
      "source": [
        "##Imprimiendo el archivo\n",
        "print(CuerpoArchivo)"
      ],
      "metadata": {
        "id": "h8BB8Dl0vHDt",
        "outputId": "a42c49e2-5a1e-4f86-fd07-99bbce31c42d",
        "colab": {
          "base_uri": "https://localhost:8080/"
        }
      },
      "execution_count": null,
      "outputs": [
        {
          "output_type": "stream",
          "name": "stdout",
          "text": [
            "Leyendo archivo Python. Línea 1.\n",
            "Leyendo archivo Python. Línea 2.\n",
            "Leyendo archivo Python. Línea 3.\n",
            "Leyendo archivo Python. Línea 4.\n",
            "Leyendo archivo Python. Línea 5.\n",
            "\n"
          ]
        }
      ]
    },
    {
      "cell_type": "code",
      "source": [
        "##Validando el tipo del contenido del archivo\n",
        "type(CuerpoArchivo)"
      ],
      "metadata": {
        "id": "MXgHZHdvvO2m",
        "outputId": "021b9983-320f-4d6b-df98-2e241ecdd4ce",
        "colab": {
          "base_uri": "https://localhost:8080/"
        }
      },
      "execution_count": null,
      "outputs": [
        {
          "output_type": "execute_result",
          "data": {
            "text/plain": [
              "str"
            ]
          },
          "metadata": {},
          "execution_count": 41
        }
      ]
    },
    {
      "cell_type": "code",
      "source": [
        "##Cerrando el archivo\n",
        "Archivo.close()"
      ],
      "metadata": {
        "id": "sk2ntbCRva7_"
      },
      "execution_count": null,
      "outputs": []
    },
    {
      "cell_type": "code",
      "source": [
        "##Validamos si el archivo está cerrado\n",
        "Archivo.closed"
      ],
      "metadata": {
        "id": "UhnD2dA8vfhm",
        "outputId": "f0ffb70c-b98d-4ed6-990b-8888d916fd54",
        "colab": {
          "base_uri": "https://localhost:8080/"
        }
      },
      "execution_count": null,
      "outputs": [
        {
          "output_type": "execute_result",
          "data": {
            "text/plain": [
              "True"
            ]
          },
          "metadata": {},
          "execution_count": 43
        }
      ]
    },
    {
      "cell_type": "code",
      "source": [
        "##Utilizando la instrucción with para abrir el archivo\n",
        "with open(\"prueba.txt\", \"r\") as ArchivoWith:\n",
        "    ContenidoArchivoWith = ArchivoWith.read()\n",
        "    print(ContenidoArchivoWith)"
      ],
      "metadata": {
        "id": "9TjhuqwfvmWk",
        "outputId": "5cffab06-dbe6-4436-a5be-8c230ba3dbab",
        "colab": {
          "base_uri": "https://localhost:8080/"
        }
      },
      "execution_count": null,
      "outputs": [
        {
          "output_type": "stream",
          "name": "stdout",
          "text": [
            "Leyendo archivo Python. Línea 1.\n",
            "Leyendo archivo Python. Línea 2.\n",
            "Leyendo archivo Python. Línea 3.\n",
            "Leyendo archivo Python. Línea 4.\n",
            "Leyendo archivo Python. Línea 5.\n",
            "\n"
          ]
        }
      ]
    },
    {
      "cell_type": "code",
      "source": [
        "##Leer los primeros 9 caracteres del contenido del archivo.\n",
        "with open(\"prueba.txt\", \"r\") as ArchivoWith:\n",
        "    print(ArchivoWith.read(9))"
      ],
      "metadata": {
        "id": "kYzf-Wxwv8AD",
        "outputId": "39d86f6e-1eca-4bbd-839f-dd3206254e4c",
        "colab": {
          "base_uri": "https://localhost:8080/"
        }
      },
      "execution_count": null,
      "outputs": [
        {
          "output_type": "stream",
          "name": "stdout",
          "text": [
            "Leyendo a\n"
          ]
        }
      ]
    },
    {
      "cell_type": "code",
      "source": [
        "##Leer diferente número de caracteres en el contenido del archivo.\n",
        "with open(\"prueba.txt\", \"r\") as ArchivoWith:\n",
        "    print(ArchivoWith.read(9))\n",
        "    print(ArchivoWith.read(3))\n",
        "    print(ArchivoWith.read(18))\n",
        "    print(ArchivoWith.read(30))\n",
        "    print(ArchivoWith.read(90))"
      ],
      "metadata": {
        "id": "5rofW3KQwDPC",
        "outputId": "49ea352b-793f-40b5-85fc-a4334c1d882e",
        "colab": {
          "base_uri": "https://localhost:8080/"
        }
      },
      "execution_count": null,
      "outputs": [
        {
          "output_type": "stream",
          "name": "stdout",
          "text": [
            "Leyendo a\n",
            "rch\n",
            "ivo Python. Línea \n",
            "1.\n",
            "Leyendo archivo Python. Lín\n",
            "ea 2.\n",
            "Leyendo archivo Python. Línea 3.\n",
            "Leyendo archivo Python. Línea 4.\n",
            "Leyendo archivo Py\n"
          ]
        }
      ]
    },
    {
      "cell_type": "code",
      "source": [
        "##Leer líneas dentro del archivo\n",
        "with open(\"prueba.txt\", \"r\") as ArchivoWith:\n",
        "    print(\"1era línea :\", ArchivoWith.readline())\n",
        "    print(\"1era línea (5 primeros caracteres) :\", ArchivoWith.readline(5))\n",
        "    print(\"5 caracteres del archivo:\", ArchivoWith.read(5))\n",
        "    print(\"2da línea (5 primeros caracteres) :\", ArchivoWith.readline())"
      ],
      "metadata": {
        "id": "dvoYlndLw-2w",
        "outputId": "02979322-0565-405c-886b-219210f22ab4",
        "colab": {
          "base_uri": "https://localhost:8080/"
        }
      },
      "execution_count": null,
      "outputs": [
        {
          "output_type": "stream",
          "name": "stdout",
          "text": [
            "1era línea : Leyendo archivo Python. Línea 1.\n",
            "\n",
            "1era línea (5 primeros caracteres) : Leyen\n",
            "5 caracteres del archivo: do ar\n",
            "2da línea (5 primeros caracteres) : chivo Python. Línea 2.\n",
            "\n"
          ]
        }
      ]
    },
    {
      "cell_type": "code",
      "source": [
        "##Recorriendo las líneas del archivo\n",
        "with open(\"prueba.txt\",\"r\") as ArchivoWith:\n",
        "        c = 0;\n",
        "        for linea in ArchivoWith:\n",
        "            print(\"Recorrido\", str(c), \": \", linea)\n",
        "            c = c + 1"
      ],
      "metadata": {
        "id": "laW9YrJlxQTd",
        "outputId": "23bb6989-4cbb-486e-9904-beaf9c6f2048",
        "colab": {
          "base_uri": "https://localhost:8080/"
        }
      },
      "execution_count": null,
      "outputs": [
        {
          "output_type": "stream",
          "name": "stdout",
          "text": [
            "Recorrido 0 :  Leyendo archivo Python. Línea 1.\n",
            "\n",
            "Recorrido 1 :  Leyendo archivo Python. Línea 2.\n",
            "\n",
            "Recorrido 2 :  Leyendo archivo Python. Línea 3.\n",
            "\n",
            "Recorrido 3 :  Leyendo archivo Python. Línea 4.\n",
            "\n",
            "Recorrido 4 :  Leyendo archivo Python. Línea 5.\n",
            "\n"
          ]
        }
      ]
    },
    {
      "cell_type": "code",
      "source": [
        "##Almacenar las líneas del archivo en una lista\n",
        "with open(\"prueba.txt\", \"r\") as ArchivoWith:\n",
        "    ListaArchivoWith = ArchivoWith.readlines()\n",
        "\n",
        "##Imprimimos la segunda línea de la lista\n",
        "print(ListaArchivoWith[1])"
      ],
      "metadata": {
        "id": "Way83iqTx7zl",
        "outputId": "fad42f98-6114-4e92-ea7d-91e79c6d6a0a",
        "colab": {
          "base_uri": "https://localhost:8080/"
        }
      },
      "execution_count": null,
      "outputs": [
        {
          "output_type": "stream",
          "name": "stdout",
          "text": [
            "Leyendo archivo Python. Línea 2.\n",
            "\n"
          ]
        }
      ]
    },
    {
      "cell_type": "code",
      "source": [
        "##Escribiendo en archivos\n",
        "ArchivoEscritura = \"prueba_archivo.txt\"\n",
        "with open(ArchivoEscritura, 'w') as ArchivoEdicion:\n",
        "  ArchivoEdicion.write(\"Linea inicial.\")\n",
        "\n",
        "##Leyendo el archivo creado\n",
        "with open(ArchivoEscritura, 'r') as ArchivoLectura:\n",
        "  print(ArchivoLectura.read())"
      ],
      "metadata": {
        "id": "X4EY1K3504Pt",
        "outputId": "98da0e50-67c4-4af7-a27c-d42eff526737",
        "colab": {
          "base_uri": "https://localhost:8080/"
        }
      },
      "execution_count": null,
      "outputs": [
        {
          "output_type": "stream",
          "name": "stdout",
          "text": [
            "Linea inicial.\n"
          ]
        }
      ]
    },
    {
      "cell_type": "code",
      "source": [
        "#Escribir varias líneas en el archivo\n",
        "with open(ArchivoEscritura, 'w') as ArchivoEdicion:\n",
        "  ArchivoEdicion.write(\"Linea inicial\\n\")\n",
        "  ArchivoEdicion.write(\"Segunda Linea\\n\")\n",
        "  ArchivoEdicion.write(\"Última Linea\")\n",
        "\n",
        "#Leer el archivo creado\n",
        "with open(ArchivoEscritura, 'r') as ArchivoLectura:\n",
        "    print(ArchivoLectura.read())"
      ],
      "metadata": {
        "id": "namr6V7z3J9l",
        "outputId": "63e3ed9d-1541-410b-a3a5-56695a34e8d0",
        "colab": {
          "base_uri": "https://localhost:8080/"
        }
      },
      "execution_count": null,
      "outputs": [
        {
          "output_type": "stream",
          "name": "stdout",
          "text": [
            "Linea inicial\n",
            "Segunda Linea\n",
            "Última Linea\n"
          ]
        }
      ]
    },
    {
      "cell_type": "code",
      "source": [
        "#Insertando contenido del archivo a partir de una lista\n",
        "#1. Creamos la lista\n",
        "LineasArchivo = [\"1er Puesto: Estudiante A\\n\", \"2do Puesto: Estudiante B\\n\", \"3er Puesto: Estudiante C\"]\n",
        "LineasArchivo"
      ],
      "metadata": {
        "id": "GgVQ1PCeatLM",
        "outputId": "3bb59b88-39f3-4678-90a4-d46b27fe7593",
        "colab": {
          "base_uri": "https://localhost:8080/"
        }
      },
      "execution_count": null,
      "outputs": [
        {
          "output_type": "execute_result",
          "data": {
            "text/plain": [
              "['1er Puesto: Estudiante A\\n',\n",
              " '2do Puesto: Estudiante B\\n',\n",
              " '3er Puesto: Estudiante C']"
            ]
          },
          "metadata": {},
          "execution_count": 52
        }
      ]
    },
    {
      "cell_type": "code",
      "source": [
        "#2. Creamos el contenido del archivo con los items de la lista a través de un ciclo FOR\n",
        "with open(\"Ranking Estudiantes.txt\", \"w\") as RankingEstudiantes:\n",
        "  for linea in LineasArchivo:\n",
        "    RankingEstudiantes.write(linea)\n",
        "\n",
        "#3. Verificamos el contenido del archivo creado\n",
        "with open(\"Ranking Estudiantes.txt\", 'r') as RankingEstudiantesLectura:\n",
        "    print(RankingEstudiantesLectura.read())"
      ],
      "metadata": {
        "id": "5lvmlnbtbLjz",
        "outputId": "ecaa05cf-518f-4dc4-c94d-a5c7ce2cc579",
        "colab": {
          "base_uri": "https://localhost:8080/"
        }
      },
      "execution_count": null,
      "outputs": [
        {
          "output_type": "stream",
          "name": "stdout",
          "text": [
            "1er Puesto: Estudiante A\n",
            "2do Puesto: Estudiante B\n",
            "3er Puesto: Estudiante C\n"
          ]
        }
      ]
    },
    {
      "cell_type": "markdown",
      "source": [
        "---\n",
        "⚠ **NOTA:** Se debe tener en cuenta que el tipo de apertura 'w' sobreescribirá el contenido del archivo. Si queremos adicionar nuevas líneas al contenido debemos utilizar el append 'a'.\n",
        "\n",
        "---"
      ],
      "metadata": {
        "id": "rHxfYcZecu02"
      }
    },
    {
      "cell_type": "code",
      "source": [
        "#Sobreescribimos el contenido del archivo creado anteriormente\n",
        "with open(\"Ranking Estudiantes.txt\", \"w\") as RankingEstudiantes:\n",
        "  RankingEstudiantes.write(\"Prueba de sobreescritura\")\n",
        "\n",
        "#Verificamos el contenido del archivo\n",
        "with open(\"Ranking Estudiantes.txt\", 'r') as RankingEstudiantesLectura:\n",
        "    print(RankingEstudiantesLectura.read())"
      ],
      "metadata": {
        "id": "-trXndqTdEKU",
        "outputId": "6714aa7f-05b6-4e42-b9c6-e9c5373edfdb",
        "colab": {
          "base_uri": "https://localhost:8080/"
        }
      },
      "execution_count": null,
      "outputs": [
        {
          "output_type": "stream",
          "name": "stdout",
          "text": [
            "Prueba de sobreescritura\n"
          ]
        }
      ]
    },
    {
      "cell_type": "code",
      "source": [
        "#Volvemos a ajustar el contenido del archivo con los items de la lista a través de un ciclo FOR\n",
        "with open(\"Ranking Estudiantes.txt\", \"w\") as RankingEstudiantes:\n",
        "  for linea in LineasArchivo:\n",
        "    RankingEstudiantes.write(linea)\n",
        "\n",
        "#Verificamos el contenido del archivo\n",
        "with open(\"Ranking Estudiantes.txt\", 'r') as RankingEstudiantesLectura:\n",
        "    print(RankingEstudiantesLectura.read())"
      ],
      "metadata": {
        "id": "ZF7qxLEocJQs",
        "outputId": "0b62226a-e20e-4d71-da6d-76bfb49b40ea",
        "colab": {
          "base_uri": "https://localhost:8080/"
        }
      },
      "execution_count": null,
      "outputs": [
        {
          "output_type": "stream",
          "name": "stdout",
          "text": [
            "1er Puesto: Estudiante A\n",
            "2do Puesto: Estudiante B\n",
            "3er Puesto: Estudiante C\n"
          ]
        }
      ]
    },
    {
      "cell_type": "code",
      "source": [
        "#Ahora vamos a adicionar una nueva línea al archivo\n",
        "with open(\"Ranking Estudiantes.txt\", \"a\") as RankingEstudiantes:\n",
        "    RankingEstudiantes.write(\"\\n4to Puesto: Estudiante D\")\n",
        "\n",
        "#Verificamos el contenido del archivo creado\n",
        "with open(\"Ranking Estudiantes.txt\", 'r') as RankingEstudiantesLectura:\n",
        "    print(RankingEstudiantesLectura.read())"
      ],
      "metadata": {
        "id": "K418RveOdbjo",
        "outputId": "abdb7923-71fd-4f0b-9d65-43dbed8d6f50",
        "colab": {
          "base_uri": "https://localhost:8080/"
        }
      },
      "execution_count": null,
      "outputs": [
        {
          "output_type": "stream",
          "name": "stdout",
          "text": [
            "1er Puesto: Estudiante A\n",
            "2do Puesto: Estudiante B\n",
            "3er Puesto: Estudiante C\n",
            "4to Puesto: Estudiante D\n"
          ]
        }
      ]
    },
    {
      "cell_type": "code",
      "source": [
        "#Utilizar a+,r+,w+\n",
        "with open('Ranking Estudiantes.txt', 'a+') as RankingEstudiantes:\n",
        "    RankingEstudiantes.write(\"\\n5to Puesto: Estudiante E\")\n",
        "    print(RankingEstudiantes.read())\n",
        "\n",
        "#No observaremos resultados por la ubicación del texto en nuestro archivo."
      ],
      "metadata": {
        "id": "itFsHOcYdoLc",
        "outputId": "527aa17a-16eb-4924-8604-1dd5ec04bc95",
        "colab": {
          "base_uri": "https://localhost:8080/"
        }
      },
      "execution_count": null,
      "outputs": [
        {
          "output_type": "stream",
          "name": "stdout",
          "text": [
            "\n"
          ]
        }
      ]
    },
    {
      "cell_type": "code",
      "source": [
        "#Para identificar la ubicación del cursor en nuestro texto utilizamos los siguientes comandos.\n",
        "with open('Ranking Estudiantes.txt', 'a+') as RankingEstudiantes:\n",
        "    print(\"Posición inicial: {}\".format(RankingEstudiantes.tell()))\n",
        "    #Leemos el contenido del archivo\n",
        "    datos = RankingEstudiantes.read()\n",
        "    if (not datos):\n",
        "        print(\"Sin datos\")\n",
        "    else:\n",
        "        print(RankingEstudiantes.read())\n",
        "\n",
        "    #Ubicamos el cursor en la posición inicial\n",
        "    print(\"Se reubicará el cursor al inicio\")\n",
        "    RankingEstudiantes.seek(0,0)\n",
        "    \n",
        "    print(\"La nueva posición inicial es: {}\".format(RankingEstudiantes.tell()))\n",
        "    #Volvemos a leer el contenido del archivo\n",
        "    datos = RankingEstudiantes.read()\n",
        "    if (not datos):\n",
        "        print(\"Sin datos\")\n",
        "    else:\n",
        "        print(RankingEstudiantes.read())\n",
        "    \n",
        "    print(\"Ubicación después de lectura: {}\".format(RankingEstudiantes.tell()) )"
      ],
      "metadata": {
        "id": "axNZgjh6edlz",
        "outputId": "d36e62ee-a69a-434c-d67a-3a40894e0b8f",
        "colab": {
          "base_uri": "https://localhost:8080/"
        }
      },
      "execution_count": null,
      "outputs": [
        {
          "output_type": "stream",
          "name": "stdout",
          "text": [
            "Posición inicial: 124\n",
            "Sin datos\n",
            "Se reubicará el cursor al inicio\n",
            "La nueva posición inicial es: 0\n",
            "\n",
            "Ubicación después de lectura: 124\n"
          ]
        }
      ]
    },
    {
      "cell_type": "code",
      "source": [
        "#¿Como copiar un archivo?\n",
        "with open('Ranking Estudiantes.txt','r') as ArchivoOriginal:\n",
        "    with open('Ranking Egresados.txt','w') as ArchivoCopiado:\n",
        "          for line in ArchivoOriginal:\n",
        "                ArchivoCopiado.write(line)\n",
        "\n",
        "with open('Ranking Egresados.txt','r') as ValidacionCopia:\n",
        "    print(ValidacionCopia.read())"
      ],
      "metadata": {
        "id": "BDKE1TSYe2-R",
        "outputId": "dbf71b3e-3d4b-4fe9-bece-c46d5fdb1e82",
        "colab": {
          "base_uri": "https://localhost:8080/"
        }
      },
      "execution_count": null,
      "outputs": [
        {
          "output_type": "stream",
          "name": "stdout",
          "text": [
            "1er Puesto: Estudiante A\n",
            "2do Puesto: Estudiante B\n",
            "3er Puesto: Estudiante C\n",
            "4to Puesto: Estudiante D\n",
            "5to Puesto: Estudiante E\n"
          ]
        }
      ]
    },
    {
      "cell_type": "code",
      "source": [
        "#Ejercicio taller\n",
        "from random import randint as rnd\n",
        "\n",
        "memReg = 'members.txt'\n",
        "exReg = 'inactive.txt'\n",
        "fee =('yes','no')\n",
        "\n",
        "def genFiles(current,old):\n",
        "    with open(current,'w+') as writefile: \n",
        "        writefile.write('Membership No  Date Joined  Active  \\n')\n",
        "        data = \"{:^13}  {:<11}  {:<6}\\n\"\n",
        "\n",
        "        for rowno in range(20):\n",
        "            date = str(rnd(2015,2020))+ '-' + str(rnd(1,12))+'-'+str(rnd(1,25))\n",
        "            writefile.write(data.format(rnd(10000,99999),date,fee[rnd(0,1)]))\n",
        "\n",
        "\n",
        "    with open(old,'w+') as writefile: \n",
        "        writefile.write('Membership No  Date Joined  Active  \\n')\n",
        "        data = \"{:^13}  {:<11}  {:<6}\\n\"\n",
        "        for rowno in range(3):\n",
        "            date = str(rnd(2015,2020))+ '-' + str(rnd(1,12))+'-'+str(rnd(1,25))\n",
        "            writefile.write(data.format(rnd(10000,99999),date,fee[1]))\n",
        "\n",
        "\n",
        "genFiles(memReg,exReg)\n"
      ],
      "metadata": {
        "id": "791gU3mphKJS"
      },
      "execution_count": null,
      "outputs": []
    },
    {
      "cell_type": "code",
      "source": [
        "def depurararchivos(currentMem, exMem):\n",
        "    #Abrimos el archivo currentMem en modo lectura/escritura\n",
        "    with open(currentMem, 'r+') as Estudiantes:\n",
        "        #Abrimos el archivo exMem en modo adición/lectura\n",
        "        with open(exMem, 'a+') as Egresados:\n",
        "            #Nos ubicamos al inicio del archivo Estudiantes\n",
        "            Estudiantes.seek(0)\n",
        "            #Creamos la 'ListaEstudiantes' con el contenido del archivo 'Estudiantes'\n",
        "            ListaEstudiantes = Estudiantes.readlines()\n",
        "            #Asignamos a la variable Cabecera el contenido del primer registro (encabezado de columna en la lista)\n",
        "            Cabecera = ListaEstudiantes[0]\n",
        "            #Eliminamos el primer registro del contenido de la lista (Encabezado de columna en la lista)\n",
        "            ListaEstudiantes.pop(0)\n",
        "            \n",
        "            #Creamos la lista 'Inactivos' tomando de 'ListaEstudiantes' solo aquellos registros que contengan 'no' en sus registros (no activos)\n",
        "            Inactivos = [Egresado for Egresado in ListaEstudiantes if ('no' in Egresado)]\n",
        "            #Nos ubicamos al inicio del archivo Estudiantes\n",
        "            Estudiantes.seek(0)\n",
        "            #Escribimos en este archivo inicialmente la cabecera, tomando la variable inicializada en las líneas anteriores\n",
        "            Estudiantes.write(Cabecera)\n",
        "\n",
        "            #Recorremos la 'ListaEstudiantes'\n",
        "            for Egresado in ListaEstudiantes:                    \n",
        "                #Si el registro (miembro) de la lista se encuentra en la lista de 'Inactivos' creada previamente lo ubicamos en el archivo 'Egresados',\n",
        "                #de lo contrario lo ubicamos en el archivo de Estudiantes.\n",
        "                if (Egresado in Inactivos):\n",
        "                    Egresados.write(Egresado)\n",
        "                else:\n",
        "                    Estudiantes.write(Egresado)\n",
        "               \n",
        "            Estudiantes.truncate()\n",
        "\n",
        "        \n",
        "    pass\n",
        "\n",
        "\n",
        "# The code below is to help you view the files.\n",
        "# Do not modify this code for this exercise.\n",
        "memReg = 'members.txt'\n",
        "exReg = 'inactive.txt'\n",
        "depurararchivos(memReg,exReg)\n",
        "\n",
        "\n",
        "headers = \"Membership No  Date Joined  Active  \\n\"\n",
        "with open(memReg,'r') as readFile:\n",
        "    print(\"Active Members: \\n\\n\")\n",
        "    print(readFile.read())\n",
        "    \n",
        "with open(exReg,'r') as readFile:\n",
        "    print(\"Inactive Members: \\n\\n\")\n",
        "    print(readFile.read())"
      ],
      "metadata": {
        "colab": {
          "base_uri": "https://localhost:8080/"
        },
        "id": "u05o2DGTIGqX",
        "outputId": "b98f711a-5b5e-4898-cd61-b2bcadb47b30"
      },
      "execution_count": null,
      "outputs": [
        {
          "output_type": "stream",
          "name": "stdout",
          "text": [
            "Active Members: \n",
            "\n",
            "\n",
            "Membership No  Date Joined  Active  \n",
            "    15225      2017-8-1     yes   \n",
            "    83619      2019-4-11    yes   \n",
            "    29253      2016-5-6     yes   \n",
            "    56144      2015-11-21   yes   \n",
            "    74107      2016-1-12    yes   \n",
            "    91213      2018-4-23    yes   \n",
            "    27319      2019-4-24    yes   \n",
            "    97040      2020-3-23    yes   \n",
            "    16268      2019-3-23    yes   \n",
            "    77058      2016-7-16    yes   \n",
            "    42074      2019-12-15   yes   \n",
            "    54304      2015-11-22   yes   \n",
            "    25682      2018-12-21   yes   \n",
            "    25536      2018-3-15    yes   \n",
            "\n",
            "Inactive Members: \n",
            "\n",
            "\n",
            "Membership No  Date Joined  Active  \n",
            "    79398      2019-2-16    no    \n",
            "    62110      2018-1-13    no    \n",
            "    45963      2018-4-19    no    \n",
            "    81896      2018-4-22    no    \n",
            "    27494      2015-2-12    no    \n",
            "    31418      2017-11-25   no    \n",
            "    52401      2018-5-2     no    \n",
            "    24743      2019-1-5     no    \n",
            "    69639      2019-11-7    no    \n",
            "\n"
          ]
        }
      ]
    },
    {
      "cell_type": "code",
      "source": [
        "def probardepuración(passed):\n",
        "    if passed:\n",
        "       return 'Test Passed'\n",
        "    else :\n",
        "       return 'Test Failed'\n",
        "\n",
        "testWrite = \"testWrite.txt\"\n",
        "testAppend = \"testAppend.txt\" \n",
        "passed = True\n",
        "\n",
        "genFiles(testWrite,testAppend)\n",
        "\n",
        "with open(testWrite,'r') as file:\n",
        "    ogWrite = file.readlines()\n",
        "\n",
        "with open(testAppend,'r') as file:\n",
        "    ogAppend = file.readlines()\n",
        "\n",
        "try:\n",
        "    depurararchivos(testWrite,testAppend)\n",
        "except:\n",
        "    print('Error')\n",
        "\n",
        "with open(testWrite,'r') as file:\n",
        "    clWrite = file.readlines()\n",
        "\n",
        "with open(testAppend,'r') as file:\n",
        "    clAppend = file.readlines()\n",
        "        \n",
        "# checking if total no of rows is same, including headers\n",
        "\n",
        "if (len(ogWrite) + len(ogAppend) != len(clWrite) + len(clAppend)):\n",
        "    print(\"El número de registros no cuadra. Verifica que tus archivos tienen las mismas cabeceras y formatos.\")\n",
        "    passed = False\n",
        "    \n",
        "for line in clWrite:\n",
        "    if  'no' in line:\n",
        "        passed = False\n",
        "        print(\"Egresados en archivo.\")\n",
        "        break\n",
        "    else:\n",
        "        if line not in ogWrite:\n",
        "            print(\"Información en archivo no es igual al original.\")\n",
        "            passed = False\n",
        "print (\"{}\".format(probardepuración(passed)))"
      ],
      "metadata": {
        "colab": {
          "base_uri": "https://localhost:8080/"
        },
        "id": "vZyM0Jy3IakD",
        "outputId": "1bd69b04-4d91-446d-8d6a-c03c78f7b151"
      },
      "execution_count": null,
      "outputs": [
        {
          "output_type": "stream",
          "name": "stdout",
          "text": [
            "Test Passed\n"
          ]
        }
      ]
    },
    {
      "cell_type": "markdown",
      "source": [
        "\n",
        "\n",
        "---\n",
        "\n",
        "🐼**Aprendiendo el uso de la librería PANDA**\n",
        "\n",
        "---\n",
        "\n"
      ],
      "metadata": {
        "id": "1CYsIX-gS8vw"
      }
    },
    {
      "cell_type": "code",
      "source": [
        "#Importamos la librería pandas\n",
        "import pandas as pd\n",
        "\n",
        "#Creamos un dataframe con dos columnas y 4 registros\n",
        "df=pd.DataFrame({'Asignatura':[\"Matemáticas\",\"Geografía\",\"Inglés\", \"Algebra\"],'Calificación':[5.0,4.6,3.9,4.9]})\n",
        "\n",
        "#Visualizamos los primeros registros del dataframe\n",
        "df.head()"
      ],
      "metadata": {
        "colab": {
          "base_uri": "https://localhost:8080/",
          "height": 175
        },
        "id": "6qUEGTiJQK-2",
        "outputId": "3bcb86e0-b3d4-4403-aeed-653f93d99b00"
      },
      "execution_count": null,
      "outputs": [
        {
          "output_type": "execute_result",
          "data": {
            "text/plain": [
              "    Asignatura  Calificación\n",
              "0  Matemáticas           5.0\n",
              "1    Geografía           4.6\n",
              "2       Inglés           3.9\n",
              "3      Algebra           4.9"
            ],
            "text/html": [
              "\n",
              "  <div id=\"df-0efbe83f-6464-4643-952a-f4e04c72105f\">\n",
              "    <div class=\"colab-df-container\">\n",
              "      <div>\n",
              "<style scoped>\n",
              "    .dataframe tbody tr th:only-of-type {\n",
              "        vertical-align: middle;\n",
              "    }\n",
              "\n",
              "    .dataframe tbody tr th {\n",
              "        vertical-align: top;\n",
              "    }\n",
              "\n",
              "    .dataframe thead th {\n",
              "        text-align: right;\n",
              "    }\n",
              "</style>\n",
              "<table border=\"1\" class=\"dataframe\">\n",
              "  <thead>\n",
              "    <tr style=\"text-align: right;\">\n",
              "      <th></th>\n",
              "      <th>Asignatura</th>\n",
              "      <th>Calificación</th>\n",
              "    </tr>\n",
              "  </thead>\n",
              "  <tbody>\n",
              "    <tr>\n",
              "      <th>0</th>\n",
              "      <td>Matemáticas</td>\n",
              "      <td>5.0</td>\n",
              "    </tr>\n",
              "    <tr>\n",
              "      <th>1</th>\n",
              "      <td>Geografía</td>\n",
              "      <td>4.6</td>\n",
              "    </tr>\n",
              "    <tr>\n",
              "      <th>2</th>\n",
              "      <td>Inglés</td>\n",
              "      <td>3.9</td>\n",
              "    </tr>\n",
              "    <tr>\n",
              "      <th>3</th>\n",
              "      <td>Algebra</td>\n",
              "      <td>4.9</td>\n",
              "    </tr>\n",
              "  </tbody>\n",
              "</table>\n",
              "</div>\n",
              "      <button class=\"colab-df-convert\" onclick=\"convertToInteractive('df-0efbe83f-6464-4643-952a-f4e04c72105f')\"\n",
              "              title=\"Convert this dataframe to an interactive table.\"\n",
              "              style=\"display:none;\">\n",
              "        \n",
              "  <svg xmlns=\"http://www.w3.org/2000/svg\" height=\"24px\"viewBox=\"0 0 24 24\"\n",
              "       width=\"24px\">\n",
              "    <path d=\"M0 0h24v24H0V0z\" fill=\"none\"/>\n",
              "    <path d=\"M18.56 5.44l.94 2.06.94-2.06 2.06-.94-2.06-.94-.94-2.06-.94 2.06-2.06.94zm-11 1L8.5 8.5l.94-2.06 2.06-.94-2.06-.94L8.5 2.5l-.94 2.06-2.06.94zm10 10l.94 2.06.94-2.06 2.06-.94-2.06-.94-.94-2.06-.94 2.06-2.06.94z\"/><path d=\"M17.41 7.96l-1.37-1.37c-.4-.4-.92-.59-1.43-.59-.52 0-1.04.2-1.43.59L10.3 9.45l-7.72 7.72c-.78.78-.78 2.05 0 2.83L4 21.41c.39.39.9.59 1.41.59.51 0 1.02-.2 1.41-.59l7.78-7.78 2.81-2.81c.8-.78.8-2.07 0-2.86zM5.41 20L4 18.59l7.72-7.72 1.47 1.35L5.41 20z\"/>\n",
              "  </svg>\n",
              "      </button>\n",
              "      \n",
              "  <style>\n",
              "    .colab-df-container {\n",
              "      display:flex;\n",
              "      flex-wrap:wrap;\n",
              "      gap: 12px;\n",
              "    }\n",
              "\n",
              "    .colab-df-convert {\n",
              "      background-color: #E8F0FE;\n",
              "      border: none;\n",
              "      border-radius: 50%;\n",
              "      cursor: pointer;\n",
              "      display: none;\n",
              "      fill: #1967D2;\n",
              "      height: 32px;\n",
              "      padding: 0 0 0 0;\n",
              "      width: 32px;\n",
              "    }\n",
              "\n",
              "    .colab-df-convert:hover {\n",
              "      background-color: #E2EBFA;\n",
              "      box-shadow: 0px 1px 2px rgba(60, 64, 67, 0.3), 0px 1px 3px 1px rgba(60, 64, 67, 0.15);\n",
              "      fill: #174EA6;\n",
              "    }\n",
              "\n",
              "    [theme=dark] .colab-df-convert {\n",
              "      background-color: #3B4455;\n",
              "      fill: #D2E3FC;\n",
              "    }\n",
              "\n",
              "    [theme=dark] .colab-df-convert:hover {\n",
              "      background-color: #434B5C;\n",
              "      box-shadow: 0px 1px 3px 1px rgba(0, 0, 0, 0.15);\n",
              "      filter: drop-shadow(0px 1px 2px rgba(0, 0, 0, 0.3));\n",
              "      fill: #FFFFFF;\n",
              "    }\n",
              "  </style>\n",
              "\n",
              "      <script>\n",
              "        const buttonEl =\n",
              "          document.querySelector('#df-0efbe83f-6464-4643-952a-f4e04c72105f button.colab-df-convert');\n",
              "        buttonEl.style.display =\n",
              "          google.colab.kernel.accessAllowed ? 'block' : 'none';\n",
              "\n",
              "        async function convertToInteractive(key) {\n",
              "          const element = document.querySelector('#df-0efbe83f-6464-4643-952a-f4e04c72105f');\n",
              "          const dataTable =\n",
              "            await google.colab.kernel.invokeFunction('convertToInteractive',\n",
              "                                                     [key], {});\n",
              "          if (!dataTable) return;\n",
              "\n",
              "          const docLinkHtml = 'Like what you see? Visit the ' +\n",
              "            '<a target=\"_blank\" href=https://colab.research.google.com/notebooks/data_table.ipynb>data table notebook</a>'\n",
              "            + ' to learn more about interactive tables.';\n",
              "          element.innerHTML = '';\n",
              "          dataTable['output_type'] = 'display_data';\n",
              "          await google.colab.output.renderOutput(dataTable, element);\n",
              "          const docLink = document.createElement('div');\n",
              "          docLink.innerHTML = docLinkHtml;\n",
              "          element.appendChild(docLink);\n",
              "        }\n",
              "      </script>\n",
              "    </div>\n",
              "  </div>\n",
              "  "
            ]
          },
          "metadata": {},
          "execution_count": 63
        }
      ]
    },
    {
      "cell_type": "code",
      "source": [
        "#Creando un dataframe a partir de los datos existentes en un archivo csv que se encuentra publicado en internet.\n",
        "#1. Asignamos a la variable 'MedallasOlimpicas' los datos leídos desde el archivo csv.\n",
        "MedallasOlimpicas = pd.read_csv (r'http://winterolympicsmedals.com/medals.csv')\n",
        "\n",
        "#2. Creamos la variable 'dfMedallero' para crear el dataframe con solo 4 campos del archivo leído.\n",
        "dfMedallero = pd.DataFrame(MedallasOlimpicas, columns= ['Year','Discipline','Event gender','Medal'])\n",
        "print (dfMedallero)"
      ],
      "metadata": {
        "id": "WX04sPU6TaAr",
        "colab": {
          "base_uri": "https://localhost:8080/"
        },
        "outputId": "b012aa4b-b8e2-4139-b744-17a028a18df3"
      },
      "execution_count": null,
      "outputs": [
        {
          "output_type": "stream",
          "name": "stdout",
          "text": [
            "      Year      Discipline Event gender   Medal\n",
            "0     1924  Figure skating            M  Silver\n",
            "1     1924  Figure skating            W    Gold\n",
            "2     1924  Figure skating            X    Gold\n",
            "3     1924       Bobsleigh            M  Bronze\n",
            "4     1924      Ice Hockey            M    Gold\n",
            "...    ...             ...          ...     ...\n",
            "2306  2006       Snowboard            M  Silver\n",
            "2307  2006       Snowboard            W    Gold\n",
            "2308  2006       Snowboard            W  Silver\n",
            "2309  2006       Snowboard            M    Gold\n",
            "2310  2006       Snowboard            W  Silver\n",
            "\n",
            "[2311 rows x 4 columns]\n"
          ]
        }
      ]
    },
    {
      "cell_type": "code",
      "source": [
        "#Imprimimos solo los 5 primeros registros del dataframe\n",
        "dfMedallero.head()"
      ],
      "metadata": {
        "colab": {
          "base_uri": "https://localhost:8080/",
          "height": 206
        },
        "id": "csCR4TG1PN5-",
        "outputId": "bbb6c212-5181-4b5e-ad73-c0e981c48bd0"
      },
      "execution_count": null,
      "outputs": [
        {
          "output_type": "execute_result",
          "data": {
            "text/plain": [
              "   Year      Discipline Event gender   Medal\n",
              "0  1924  Figure skating            M  Silver\n",
              "1  1924  Figure skating            W    Gold\n",
              "2  1924  Figure skating            X    Gold\n",
              "3  1924       Bobsleigh            M  Bronze\n",
              "4  1924      Ice Hockey            M    Gold"
            ],
            "text/html": [
              "\n",
              "  <div id=\"df-dd3bd7a9-a534-4a96-8460-5aa24223e0ea\">\n",
              "    <div class=\"colab-df-container\">\n",
              "      <div>\n",
              "<style scoped>\n",
              "    .dataframe tbody tr th:only-of-type {\n",
              "        vertical-align: middle;\n",
              "    }\n",
              "\n",
              "    .dataframe tbody tr th {\n",
              "        vertical-align: top;\n",
              "    }\n",
              "\n",
              "    .dataframe thead th {\n",
              "        text-align: right;\n",
              "    }\n",
              "</style>\n",
              "<table border=\"1\" class=\"dataframe\">\n",
              "  <thead>\n",
              "    <tr style=\"text-align: right;\">\n",
              "      <th></th>\n",
              "      <th>Year</th>\n",
              "      <th>Discipline</th>\n",
              "      <th>Event gender</th>\n",
              "      <th>Medal</th>\n",
              "    </tr>\n",
              "  </thead>\n",
              "  <tbody>\n",
              "    <tr>\n",
              "      <th>0</th>\n",
              "      <td>1924</td>\n",
              "      <td>Figure skating</td>\n",
              "      <td>M</td>\n",
              "      <td>Silver</td>\n",
              "    </tr>\n",
              "    <tr>\n",
              "      <th>1</th>\n",
              "      <td>1924</td>\n",
              "      <td>Figure skating</td>\n",
              "      <td>W</td>\n",
              "      <td>Gold</td>\n",
              "    </tr>\n",
              "    <tr>\n",
              "      <th>2</th>\n",
              "      <td>1924</td>\n",
              "      <td>Figure skating</td>\n",
              "      <td>X</td>\n",
              "      <td>Gold</td>\n",
              "    </tr>\n",
              "    <tr>\n",
              "      <th>3</th>\n",
              "      <td>1924</td>\n",
              "      <td>Bobsleigh</td>\n",
              "      <td>M</td>\n",
              "      <td>Bronze</td>\n",
              "    </tr>\n",
              "    <tr>\n",
              "      <th>4</th>\n",
              "      <td>1924</td>\n",
              "      <td>Ice Hockey</td>\n",
              "      <td>M</td>\n",
              "      <td>Gold</td>\n",
              "    </tr>\n",
              "  </tbody>\n",
              "</table>\n",
              "</div>\n",
              "      <button class=\"colab-df-convert\" onclick=\"convertToInteractive('df-dd3bd7a9-a534-4a96-8460-5aa24223e0ea')\"\n",
              "              title=\"Convert this dataframe to an interactive table.\"\n",
              "              style=\"display:none;\">\n",
              "        \n",
              "  <svg xmlns=\"http://www.w3.org/2000/svg\" height=\"24px\"viewBox=\"0 0 24 24\"\n",
              "       width=\"24px\">\n",
              "    <path d=\"M0 0h24v24H0V0z\" fill=\"none\"/>\n",
              "    <path d=\"M18.56 5.44l.94 2.06.94-2.06 2.06-.94-2.06-.94-.94-2.06-.94 2.06-2.06.94zm-11 1L8.5 8.5l.94-2.06 2.06-.94-2.06-.94L8.5 2.5l-.94 2.06-2.06.94zm10 10l.94 2.06.94-2.06 2.06-.94-2.06-.94-.94-2.06-.94 2.06-2.06.94z\"/><path d=\"M17.41 7.96l-1.37-1.37c-.4-.4-.92-.59-1.43-.59-.52 0-1.04.2-1.43.59L10.3 9.45l-7.72 7.72c-.78.78-.78 2.05 0 2.83L4 21.41c.39.39.9.59 1.41.59.51 0 1.02-.2 1.41-.59l7.78-7.78 2.81-2.81c.8-.78.8-2.07 0-2.86zM5.41 20L4 18.59l7.72-7.72 1.47 1.35L5.41 20z\"/>\n",
              "  </svg>\n",
              "      </button>\n",
              "      \n",
              "  <style>\n",
              "    .colab-df-container {\n",
              "      display:flex;\n",
              "      flex-wrap:wrap;\n",
              "      gap: 12px;\n",
              "    }\n",
              "\n",
              "    .colab-df-convert {\n",
              "      background-color: #E8F0FE;\n",
              "      border: none;\n",
              "      border-radius: 50%;\n",
              "      cursor: pointer;\n",
              "      display: none;\n",
              "      fill: #1967D2;\n",
              "      height: 32px;\n",
              "      padding: 0 0 0 0;\n",
              "      width: 32px;\n",
              "    }\n",
              "\n",
              "    .colab-df-convert:hover {\n",
              "      background-color: #E2EBFA;\n",
              "      box-shadow: 0px 1px 2px rgba(60, 64, 67, 0.3), 0px 1px 3px 1px rgba(60, 64, 67, 0.15);\n",
              "      fill: #174EA6;\n",
              "    }\n",
              "\n",
              "    [theme=dark] .colab-df-convert {\n",
              "      background-color: #3B4455;\n",
              "      fill: #D2E3FC;\n",
              "    }\n",
              "\n",
              "    [theme=dark] .colab-df-convert:hover {\n",
              "      background-color: #434B5C;\n",
              "      box-shadow: 0px 1px 3px 1px rgba(0, 0, 0, 0.15);\n",
              "      filter: drop-shadow(0px 1px 2px rgba(0, 0, 0, 0.3));\n",
              "      fill: #FFFFFF;\n",
              "    }\n",
              "  </style>\n",
              "\n",
              "      <script>\n",
              "        const buttonEl =\n",
              "          document.querySelector('#df-dd3bd7a9-a534-4a96-8460-5aa24223e0ea button.colab-df-convert');\n",
              "        buttonEl.style.display =\n",
              "          google.colab.kernel.accessAllowed ? 'block' : 'none';\n",
              "\n",
              "        async function convertToInteractive(key) {\n",
              "          const element = document.querySelector('#df-dd3bd7a9-a534-4a96-8460-5aa24223e0ea');\n",
              "          const dataTable =\n",
              "            await google.colab.kernel.invokeFunction('convertToInteractive',\n",
              "                                                     [key], {});\n",
              "          if (!dataTable) return;\n",
              "\n",
              "          const docLinkHtml = 'Like what you see? Visit the ' +\n",
              "            '<a target=\"_blank\" href=https://colab.research.google.com/notebooks/data_table.ipynb>data table notebook</a>'\n",
              "            + ' to learn more about interactive tables.';\n",
              "          element.innerHTML = '';\n",
              "          dataTable['output_type'] = 'display_data';\n",
              "          await google.colab.output.renderOutput(dataTable, element);\n",
              "          const docLink = document.createElement('div');\n",
              "          docLink.innerHTML = docLinkHtml;\n",
              "          element.appendChild(docLink);\n",
              "        }\n",
              "      </script>\n",
              "    </div>\n",
              "  </div>\n",
              "  "
            ]
          },
          "metadata": {},
          "execution_count": 65
        }
      ]
    },
    {
      "cell_type": "code",
      "source": [
        "#Accedemos a los datos de la columna 'Discipline'\n",
        "dfMedallero[['Discipline']]"
      ],
      "metadata": {
        "colab": {
          "base_uri": "https://localhost:8080/",
          "height": 424
        },
        "id": "bgvJdQokR546",
        "outputId": "6f8dc5d1-0f9c-41cb-a11e-97f195aef758"
      },
      "execution_count": null,
      "outputs": [
        {
          "output_type": "execute_result",
          "data": {
            "text/plain": [
              "          Discipline\n",
              "0     Figure skating\n",
              "1     Figure skating\n",
              "2     Figure skating\n",
              "3          Bobsleigh\n",
              "4         Ice Hockey\n",
              "...              ...\n",
              "2306       Snowboard\n",
              "2307       Snowboard\n",
              "2308       Snowboard\n",
              "2309       Snowboard\n",
              "2310       Snowboard\n",
              "\n",
              "[2311 rows x 1 columns]"
            ],
            "text/html": [
              "\n",
              "  <div id=\"df-8cc962fc-ca90-491c-aebe-09173aca7428\">\n",
              "    <div class=\"colab-df-container\">\n",
              "      <div>\n",
              "<style scoped>\n",
              "    .dataframe tbody tr th:only-of-type {\n",
              "        vertical-align: middle;\n",
              "    }\n",
              "\n",
              "    .dataframe tbody tr th {\n",
              "        vertical-align: top;\n",
              "    }\n",
              "\n",
              "    .dataframe thead th {\n",
              "        text-align: right;\n",
              "    }\n",
              "</style>\n",
              "<table border=\"1\" class=\"dataframe\">\n",
              "  <thead>\n",
              "    <tr style=\"text-align: right;\">\n",
              "      <th></th>\n",
              "      <th>Discipline</th>\n",
              "    </tr>\n",
              "  </thead>\n",
              "  <tbody>\n",
              "    <tr>\n",
              "      <th>0</th>\n",
              "      <td>Figure skating</td>\n",
              "    </tr>\n",
              "    <tr>\n",
              "      <th>1</th>\n",
              "      <td>Figure skating</td>\n",
              "    </tr>\n",
              "    <tr>\n",
              "      <th>2</th>\n",
              "      <td>Figure skating</td>\n",
              "    </tr>\n",
              "    <tr>\n",
              "      <th>3</th>\n",
              "      <td>Bobsleigh</td>\n",
              "    </tr>\n",
              "    <tr>\n",
              "      <th>4</th>\n",
              "      <td>Ice Hockey</td>\n",
              "    </tr>\n",
              "    <tr>\n",
              "      <th>...</th>\n",
              "      <td>...</td>\n",
              "    </tr>\n",
              "    <tr>\n",
              "      <th>2306</th>\n",
              "      <td>Snowboard</td>\n",
              "    </tr>\n",
              "    <tr>\n",
              "      <th>2307</th>\n",
              "      <td>Snowboard</td>\n",
              "    </tr>\n",
              "    <tr>\n",
              "      <th>2308</th>\n",
              "      <td>Snowboard</td>\n",
              "    </tr>\n",
              "    <tr>\n",
              "      <th>2309</th>\n",
              "      <td>Snowboard</td>\n",
              "    </tr>\n",
              "    <tr>\n",
              "      <th>2310</th>\n",
              "      <td>Snowboard</td>\n",
              "    </tr>\n",
              "  </tbody>\n",
              "</table>\n",
              "<p>2311 rows × 1 columns</p>\n",
              "</div>\n",
              "      <button class=\"colab-df-convert\" onclick=\"convertToInteractive('df-8cc962fc-ca90-491c-aebe-09173aca7428')\"\n",
              "              title=\"Convert this dataframe to an interactive table.\"\n",
              "              style=\"display:none;\">\n",
              "        \n",
              "  <svg xmlns=\"http://www.w3.org/2000/svg\" height=\"24px\"viewBox=\"0 0 24 24\"\n",
              "       width=\"24px\">\n",
              "    <path d=\"M0 0h24v24H0V0z\" fill=\"none\"/>\n",
              "    <path d=\"M18.56 5.44l.94 2.06.94-2.06 2.06-.94-2.06-.94-.94-2.06-.94 2.06-2.06.94zm-11 1L8.5 8.5l.94-2.06 2.06-.94-2.06-.94L8.5 2.5l-.94 2.06-2.06.94zm10 10l.94 2.06.94-2.06 2.06-.94-2.06-.94-.94-2.06-.94 2.06-2.06.94z\"/><path d=\"M17.41 7.96l-1.37-1.37c-.4-.4-.92-.59-1.43-.59-.52 0-1.04.2-1.43.59L10.3 9.45l-7.72 7.72c-.78.78-.78 2.05 0 2.83L4 21.41c.39.39.9.59 1.41.59.51 0 1.02-.2 1.41-.59l7.78-7.78 2.81-2.81c.8-.78.8-2.07 0-2.86zM5.41 20L4 18.59l7.72-7.72 1.47 1.35L5.41 20z\"/>\n",
              "  </svg>\n",
              "      </button>\n",
              "      \n",
              "  <style>\n",
              "    .colab-df-container {\n",
              "      display:flex;\n",
              "      flex-wrap:wrap;\n",
              "      gap: 12px;\n",
              "    }\n",
              "\n",
              "    .colab-df-convert {\n",
              "      background-color: #E8F0FE;\n",
              "      border: none;\n",
              "      border-radius: 50%;\n",
              "      cursor: pointer;\n",
              "      display: none;\n",
              "      fill: #1967D2;\n",
              "      height: 32px;\n",
              "      padding: 0 0 0 0;\n",
              "      width: 32px;\n",
              "    }\n",
              "\n",
              "    .colab-df-convert:hover {\n",
              "      background-color: #E2EBFA;\n",
              "      box-shadow: 0px 1px 2px rgba(60, 64, 67, 0.3), 0px 1px 3px 1px rgba(60, 64, 67, 0.15);\n",
              "      fill: #174EA6;\n",
              "    }\n",
              "\n",
              "    [theme=dark] .colab-df-convert {\n",
              "      background-color: #3B4455;\n",
              "      fill: #D2E3FC;\n",
              "    }\n",
              "\n",
              "    [theme=dark] .colab-df-convert:hover {\n",
              "      background-color: #434B5C;\n",
              "      box-shadow: 0px 1px 3px 1px rgba(0, 0, 0, 0.15);\n",
              "      filter: drop-shadow(0px 1px 2px rgba(0, 0, 0, 0.3));\n",
              "      fill: #FFFFFF;\n",
              "    }\n",
              "  </style>\n",
              "\n",
              "      <script>\n",
              "        const buttonEl =\n",
              "          document.querySelector('#df-8cc962fc-ca90-491c-aebe-09173aca7428 button.colab-df-convert');\n",
              "        buttonEl.style.display =\n",
              "          google.colab.kernel.accessAllowed ? 'block' : 'none';\n",
              "\n",
              "        async function convertToInteractive(key) {\n",
              "          const element = document.querySelector('#df-8cc962fc-ca90-491c-aebe-09173aca7428');\n",
              "          const dataTable =\n",
              "            await google.colab.kernel.invokeFunction('convertToInteractive',\n",
              "                                                     [key], {});\n",
              "          if (!dataTable) return;\n",
              "\n",
              "          const docLinkHtml = 'Like what you see? Visit the ' +\n",
              "            '<a target=\"_blank\" href=https://colab.research.google.com/notebooks/data_table.ipynb>data table notebook</a>'\n",
              "            + ' to learn more about interactive tables.';\n",
              "          element.innerHTML = '';\n",
              "          dataTable['output_type'] = 'display_data';\n",
              "          await google.colab.output.renderOutput(dataTable, element);\n",
              "          const docLink = document.createElement('div');\n",
              "          docLink.innerHTML = docLinkHtml;\n",
              "          element.appendChild(docLink);\n",
              "        }\n",
              "      </script>\n",
              "    </div>\n",
              "  </div>\n",
              "  "
            ]
          },
          "metadata": {},
          "execution_count": 66
        }
      ]
    },
    {
      "cell_type": "code",
      "source": [
        "#Creamos un dataframe a partir de la columna 'Discipline'\n",
        "dfDisciplina=dfMedallero[['Discipline']]\n",
        "dfDisciplina"
      ],
      "metadata": {
        "colab": {
          "base_uri": "https://localhost:8080/",
          "height": 424
        },
        "id": "RZHZcpBTSNHd",
        "outputId": "0008600a-9adb-4f4d-d6e3-c09a7166ef5b"
      },
      "execution_count": null,
      "outputs": [
        {
          "output_type": "execute_result",
          "data": {
            "text/plain": [
              "          Discipline\n",
              "0     Figure skating\n",
              "1     Figure skating\n",
              "2     Figure skating\n",
              "3          Bobsleigh\n",
              "4         Ice Hockey\n",
              "...              ...\n",
              "2306       Snowboard\n",
              "2307       Snowboard\n",
              "2308       Snowboard\n",
              "2309       Snowboard\n",
              "2310       Snowboard\n",
              "\n",
              "[2311 rows x 1 columns]"
            ],
            "text/html": [
              "\n",
              "  <div id=\"df-e3b02885-1203-4835-97a1-f2c10ebd24a5\">\n",
              "    <div class=\"colab-df-container\">\n",
              "      <div>\n",
              "<style scoped>\n",
              "    .dataframe tbody tr th:only-of-type {\n",
              "        vertical-align: middle;\n",
              "    }\n",
              "\n",
              "    .dataframe tbody tr th {\n",
              "        vertical-align: top;\n",
              "    }\n",
              "\n",
              "    .dataframe thead th {\n",
              "        text-align: right;\n",
              "    }\n",
              "</style>\n",
              "<table border=\"1\" class=\"dataframe\">\n",
              "  <thead>\n",
              "    <tr style=\"text-align: right;\">\n",
              "      <th></th>\n",
              "      <th>Discipline</th>\n",
              "    </tr>\n",
              "  </thead>\n",
              "  <tbody>\n",
              "    <tr>\n",
              "      <th>0</th>\n",
              "      <td>Figure skating</td>\n",
              "    </tr>\n",
              "    <tr>\n",
              "      <th>1</th>\n",
              "      <td>Figure skating</td>\n",
              "    </tr>\n",
              "    <tr>\n",
              "      <th>2</th>\n",
              "      <td>Figure skating</td>\n",
              "    </tr>\n",
              "    <tr>\n",
              "      <th>3</th>\n",
              "      <td>Bobsleigh</td>\n",
              "    </tr>\n",
              "    <tr>\n",
              "      <th>4</th>\n",
              "      <td>Ice Hockey</td>\n",
              "    </tr>\n",
              "    <tr>\n",
              "      <th>...</th>\n",
              "      <td>...</td>\n",
              "    </tr>\n",
              "    <tr>\n",
              "      <th>2306</th>\n",
              "      <td>Snowboard</td>\n",
              "    </tr>\n",
              "    <tr>\n",
              "      <th>2307</th>\n",
              "      <td>Snowboard</td>\n",
              "    </tr>\n",
              "    <tr>\n",
              "      <th>2308</th>\n",
              "      <td>Snowboard</td>\n",
              "    </tr>\n",
              "    <tr>\n",
              "      <th>2309</th>\n",
              "      <td>Snowboard</td>\n",
              "    </tr>\n",
              "    <tr>\n",
              "      <th>2310</th>\n",
              "      <td>Snowboard</td>\n",
              "    </tr>\n",
              "  </tbody>\n",
              "</table>\n",
              "<p>2311 rows × 1 columns</p>\n",
              "</div>\n",
              "      <button class=\"colab-df-convert\" onclick=\"convertToInteractive('df-e3b02885-1203-4835-97a1-f2c10ebd24a5')\"\n",
              "              title=\"Convert this dataframe to an interactive table.\"\n",
              "              style=\"display:none;\">\n",
              "        \n",
              "  <svg xmlns=\"http://www.w3.org/2000/svg\" height=\"24px\"viewBox=\"0 0 24 24\"\n",
              "       width=\"24px\">\n",
              "    <path d=\"M0 0h24v24H0V0z\" fill=\"none\"/>\n",
              "    <path d=\"M18.56 5.44l.94 2.06.94-2.06 2.06-.94-2.06-.94-.94-2.06-.94 2.06-2.06.94zm-11 1L8.5 8.5l.94-2.06 2.06-.94-2.06-.94L8.5 2.5l-.94 2.06-2.06.94zm10 10l.94 2.06.94-2.06 2.06-.94-2.06-.94-.94-2.06-.94 2.06-2.06.94z\"/><path d=\"M17.41 7.96l-1.37-1.37c-.4-.4-.92-.59-1.43-.59-.52 0-1.04.2-1.43.59L10.3 9.45l-7.72 7.72c-.78.78-.78 2.05 0 2.83L4 21.41c.39.39.9.59 1.41.59.51 0 1.02-.2 1.41-.59l7.78-7.78 2.81-2.81c.8-.78.8-2.07 0-2.86zM5.41 20L4 18.59l7.72-7.72 1.47 1.35L5.41 20z\"/>\n",
              "  </svg>\n",
              "      </button>\n",
              "      \n",
              "  <style>\n",
              "    .colab-df-container {\n",
              "      display:flex;\n",
              "      flex-wrap:wrap;\n",
              "      gap: 12px;\n",
              "    }\n",
              "\n",
              "    .colab-df-convert {\n",
              "      background-color: #E8F0FE;\n",
              "      border: none;\n",
              "      border-radius: 50%;\n",
              "      cursor: pointer;\n",
              "      display: none;\n",
              "      fill: #1967D2;\n",
              "      height: 32px;\n",
              "      padding: 0 0 0 0;\n",
              "      width: 32px;\n",
              "    }\n",
              "\n",
              "    .colab-df-convert:hover {\n",
              "      background-color: #E2EBFA;\n",
              "      box-shadow: 0px 1px 2px rgba(60, 64, 67, 0.3), 0px 1px 3px 1px rgba(60, 64, 67, 0.15);\n",
              "      fill: #174EA6;\n",
              "    }\n",
              "\n",
              "    [theme=dark] .colab-df-convert {\n",
              "      background-color: #3B4455;\n",
              "      fill: #D2E3FC;\n",
              "    }\n",
              "\n",
              "    [theme=dark] .colab-df-convert:hover {\n",
              "      background-color: #434B5C;\n",
              "      box-shadow: 0px 1px 3px 1px rgba(0, 0, 0, 0.15);\n",
              "      filter: drop-shadow(0px 1px 2px rgba(0, 0, 0, 0.3));\n",
              "      fill: #FFFFFF;\n",
              "    }\n",
              "  </style>\n",
              "\n",
              "      <script>\n",
              "        const buttonEl =\n",
              "          document.querySelector('#df-e3b02885-1203-4835-97a1-f2c10ebd24a5 button.colab-df-convert');\n",
              "        buttonEl.style.display =\n",
              "          google.colab.kernel.accessAllowed ? 'block' : 'none';\n",
              "\n",
              "        async function convertToInteractive(key) {\n",
              "          const element = document.querySelector('#df-e3b02885-1203-4835-97a1-f2c10ebd24a5');\n",
              "          const dataTable =\n",
              "            await google.colab.kernel.invokeFunction('convertToInteractive',\n",
              "                                                     [key], {});\n",
              "          if (!dataTable) return;\n",
              "\n",
              "          const docLinkHtml = 'Like what you see? Visit the ' +\n",
              "            '<a target=\"_blank\" href=https://colab.research.google.com/notebooks/data_table.ipynb>data table notebook</a>'\n",
              "            + ' to learn more about interactive tables.';\n",
              "          element.innerHTML = '';\n",
              "          dataTable['output_type'] = 'display_data';\n",
              "          await google.colab.output.renderOutput(dataTable, element);\n",
              "          const docLink = document.createElement('div');\n",
              "          docLink.innerHTML = docLinkHtml;\n",
              "          element.appendChild(docLink);\n",
              "        }\n",
              "      </script>\n",
              "    </div>\n",
              "  </div>\n",
              "  "
            ]
          },
          "metadata": {},
          "execution_count": 67
        }
      ]
    },
    {
      "cell_type": "code",
      "source": [
        "#Ahora creamos un dataframe con 2 columnas\n",
        "dfAñoGenero=dfMedallero[['Year','Medal']]\n",
        "dfAñoGenero"
      ],
      "metadata": {
        "colab": {
          "base_uri": "https://localhost:8080/",
          "height": 424
        },
        "id": "4t-wnKcgS63b",
        "outputId": "ce144e73-7fc7-4ba4-d236-53b543bd46ad"
      },
      "execution_count": null,
      "outputs": [
        {
          "output_type": "execute_result",
          "data": {
            "text/plain": [
              "      Year   Medal\n",
              "0     1924  Silver\n",
              "1     1924    Gold\n",
              "2     1924    Gold\n",
              "3     1924  Bronze\n",
              "4     1924    Gold\n",
              "...    ...     ...\n",
              "2306  2006  Silver\n",
              "2307  2006    Gold\n",
              "2308  2006  Silver\n",
              "2309  2006    Gold\n",
              "2310  2006  Silver\n",
              "\n",
              "[2311 rows x 2 columns]"
            ],
            "text/html": [
              "\n",
              "  <div id=\"df-2bfa69fe-d1a5-4375-a55d-02330b5deb2b\">\n",
              "    <div class=\"colab-df-container\">\n",
              "      <div>\n",
              "<style scoped>\n",
              "    .dataframe tbody tr th:only-of-type {\n",
              "        vertical-align: middle;\n",
              "    }\n",
              "\n",
              "    .dataframe tbody tr th {\n",
              "        vertical-align: top;\n",
              "    }\n",
              "\n",
              "    .dataframe thead th {\n",
              "        text-align: right;\n",
              "    }\n",
              "</style>\n",
              "<table border=\"1\" class=\"dataframe\">\n",
              "  <thead>\n",
              "    <tr style=\"text-align: right;\">\n",
              "      <th></th>\n",
              "      <th>Year</th>\n",
              "      <th>Medal</th>\n",
              "    </tr>\n",
              "  </thead>\n",
              "  <tbody>\n",
              "    <tr>\n",
              "      <th>0</th>\n",
              "      <td>1924</td>\n",
              "      <td>Silver</td>\n",
              "    </tr>\n",
              "    <tr>\n",
              "      <th>1</th>\n",
              "      <td>1924</td>\n",
              "      <td>Gold</td>\n",
              "    </tr>\n",
              "    <tr>\n",
              "      <th>2</th>\n",
              "      <td>1924</td>\n",
              "      <td>Gold</td>\n",
              "    </tr>\n",
              "    <tr>\n",
              "      <th>3</th>\n",
              "      <td>1924</td>\n",
              "      <td>Bronze</td>\n",
              "    </tr>\n",
              "    <tr>\n",
              "      <th>4</th>\n",
              "      <td>1924</td>\n",
              "      <td>Gold</td>\n",
              "    </tr>\n",
              "    <tr>\n",
              "      <th>...</th>\n",
              "      <td>...</td>\n",
              "      <td>...</td>\n",
              "    </tr>\n",
              "    <tr>\n",
              "      <th>2306</th>\n",
              "      <td>2006</td>\n",
              "      <td>Silver</td>\n",
              "    </tr>\n",
              "    <tr>\n",
              "      <th>2307</th>\n",
              "      <td>2006</td>\n",
              "      <td>Gold</td>\n",
              "    </tr>\n",
              "    <tr>\n",
              "      <th>2308</th>\n",
              "      <td>2006</td>\n",
              "      <td>Silver</td>\n",
              "    </tr>\n",
              "    <tr>\n",
              "      <th>2309</th>\n",
              "      <td>2006</td>\n",
              "      <td>Gold</td>\n",
              "    </tr>\n",
              "    <tr>\n",
              "      <th>2310</th>\n",
              "      <td>2006</td>\n",
              "      <td>Silver</td>\n",
              "    </tr>\n",
              "  </tbody>\n",
              "</table>\n",
              "<p>2311 rows × 2 columns</p>\n",
              "</div>\n",
              "      <button class=\"colab-df-convert\" onclick=\"convertToInteractive('df-2bfa69fe-d1a5-4375-a55d-02330b5deb2b')\"\n",
              "              title=\"Convert this dataframe to an interactive table.\"\n",
              "              style=\"display:none;\">\n",
              "        \n",
              "  <svg xmlns=\"http://www.w3.org/2000/svg\" height=\"24px\"viewBox=\"0 0 24 24\"\n",
              "       width=\"24px\">\n",
              "    <path d=\"M0 0h24v24H0V0z\" fill=\"none\"/>\n",
              "    <path d=\"M18.56 5.44l.94 2.06.94-2.06 2.06-.94-2.06-.94-.94-2.06-.94 2.06-2.06.94zm-11 1L8.5 8.5l.94-2.06 2.06-.94-2.06-.94L8.5 2.5l-.94 2.06-2.06.94zm10 10l.94 2.06.94-2.06 2.06-.94-2.06-.94-.94-2.06-.94 2.06-2.06.94z\"/><path d=\"M17.41 7.96l-1.37-1.37c-.4-.4-.92-.59-1.43-.59-.52 0-1.04.2-1.43.59L10.3 9.45l-7.72 7.72c-.78.78-.78 2.05 0 2.83L4 21.41c.39.39.9.59 1.41.59.51 0 1.02-.2 1.41-.59l7.78-7.78 2.81-2.81c.8-.78.8-2.07 0-2.86zM5.41 20L4 18.59l7.72-7.72 1.47 1.35L5.41 20z\"/>\n",
              "  </svg>\n",
              "      </button>\n",
              "      \n",
              "  <style>\n",
              "    .colab-df-container {\n",
              "      display:flex;\n",
              "      flex-wrap:wrap;\n",
              "      gap: 12px;\n",
              "    }\n",
              "\n",
              "    .colab-df-convert {\n",
              "      background-color: #E8F0FE;\n",
              "      border: none;\n",
              "      border-radius: 50%;\n",
              "      cursor: pointer;\n",
              "      display: none;\n",
              "      fill: #1967D2;\n",
              "      height: 32px;\n",
              "      padding: 0 0 0 0;\n",
              "      width: 32px;\n",
              "    }\n",
              "\n",
              "    .colab-df-convert:hover {\n",
              "      background-color: #E2EBFA;\n",
              "      box-shadow: 0px 1px 2px rgba(60, 64, 67, 0.3), 0px 1px 3px 1px rgba(60, 64, 67, 0.15);\n",
              "      fill: #174EA6;\n",
              "    }\n",
              "\n",
              "    [theme=dark] .colab-df-convert {\n",
              "      background-color: #3B4455;\n",
              "      fill: #D2E3FC;\n",
              "    }\n",
              "\n",
              "    [theme=dark] .colab-df-convert:hover {\n",
              "      background-color: #434B5C;\n",
              "      box-shadow: 0px 1px 3px 1px rgba(0, 0, 0, 0.15);\n",
              "      filter: drop-shadow(0px 1px 2px rgba(0, 0, 0, 0.3));\n",
              "      fill: #FFFFFF;\n",
              "    }\n",
              "  </style>\n",
              "\n",
              "      <script>\n",
              "        const buttonEl =\n",
              "          document.querySelector('#df-2bfa69fe-d1a5-4375-a55d-02330b5deb2b button.colab-df-convert');\n",
              "        buttonEl.style.display =\n",
              "          google.colab.kernel.accessAllowed ? 'block' : 'none';\n",
              "\n",
              "        async function convertToInteractive(key) {\n",
              "          const element = document.querySelector('#df-2bfa69fe-d1a5-4375-a55d-02330b5deb2b');\n",
              "          const dataTable =\n",
              "            await google.colab.kernel.invokeFunction('convertToInteractive',\n",
              "                                                     [key], {});\n",
              "          if (!dataTable) return;\n",
              "\n",
              "          const docLinkHtml = 'Like what you see? Visit the ' +\n",
              "            '<a target=\"_blank\" href=https://colab.research.google.com/notebooks/data_table.ipynb>data table notebook</a>'\n",
              "            + ' to learn more about interactive tables.';\n",
              "          element.innerHTML = '';\n",
              "          dataTable['output_type'] = 'display_data';\n",
              "          await google.colab.output.renderOutput(dataTable, element);\n",
              "          const docLink = document.createElement('div');\n",
              "          docLink.innerHTML = docLinkHtml;\n",
              "          element.appendChild(docLink);\n",
              "        }\n",
              "      </script>\n",
              "    </div>\n",
              "  </div>\n",
              "  "
            ]
          },
          "metadata": {},
          "execution_count": 68
        }
      ]
    },
    {
      "cell_type": "code",
      "source": [
        "#Acceder a un valor específico.\n",
        "#Vamos a acceder los valores en la 5ta fila y 2da columna del dataframe, y en la 5ta fila y 4ta columna\n",
        "print(\"La medalla de\", dfMedallero.iloc[4,1], \"es de\", dfMedallero.iloc[4,3])"
      ],
      "metadata": {
        "colab": {
          "base_uri": "https://localhost:8080/"
        },
        "id": "__ZTSnQ1SlVL",
        "outputId": "47cdb5de-b01d-4349-89d2-3f4eaae150bc"
      },
      "execution_count": null,
      "outputs": [
        {
          "output_type": "stream",
          "name": "stdout",
          "text": [
            "La medalla de Ice Hockey es de Gold\n"
          ]
        }
      ]
    },
    {
      "cell_type": "code",
      "source": [
        "#Acceder a un valor específico.\n",
        "#Vamos a acceder a los mismo valores indicados anteriormente pero con el nombre de la columna\n",
        "print(\"La medalla de\", dfMedallero.loc[4,\"Discipline\"], \"es de\", dfMedallero.loc[4,\"Medal\"])"
      ],
      "metadata": {
        "colab": {
          "base_uri": "https://localhost:8080/"
        },
        "id": "G1MwpUuzTsgm",
        "outputId": "ac21c8bd-6dcc-44e5-d150-7619fc391b16"
      },
      "execution_count": null,
      "outputs": [
        {
          "output_type": "stream",
          "name": "stdout",
          "text": [
            "La medalla de Ice Hockey es de Gold\n"
          ]
        }
      ]
    },
    {
      "cell_type": "code",
      "source": [
        "#Hacer un slice y traer solo los primeros 3 registros de las 3 primeras columnas\n",
        "dfMedallero.iloc[0:3, 0:3]"
      ],
      "metadata": {
        "colab": {
          "base_uri": "https://localhost:8080/",
          "height": 143
        },
        "id": "cjWqX8VMUg8Y",
        "outputId": "bf89dfee-876c-4673-c50a-989e1c601c67"
      },
      "execution_count": null,
      "outputs": [
        {
          "output_type": "execute_result",
          "data": {
            "text/plain": [
              "   Year      Discipline Event gender\n",
              "0  1924  Figure skating            M\n",
              "1  1924  Figure skating            W\n",
              "2  1924  Figure skating            X"
            ],
            "text/html": [
              "\n",
              "  <div id=\"df-27e82e72-7e4b-4be2-8dbe-4a256982ec75\">\n",
              "    <div class=\"colab-df-container\">\n",
              "      <div>\n",
              "<style scoped>\n",
              "    .dataframe tbody tr th:only-of-type {\n",
              "        vertical-align: middle;\n",
              "    }\n",
              "\n",
              "    .dataframe tbody tr th {\n",
              "        vertical-align: top;\n",
              "    }\n",
              "\n",
              "    .dataframe thead th {\n",
              "        text-align: right;\n",
              "    }\n",
              "</style>\n",
              "<table border=\"1\" class=\"dataframe\">\n",
              "  <thead>\n",
              "    <tr style=\"text-align: right;\">\n",
              "      <th></th>\n",
              "      <th>Year</th>\n",
              "      <th>Discipline</th>\n",
              "      <th>Event gender</th>\n",
              "    </tr>\n",
              "  </thead>\n",
              "  <tbody>\n",
              "    <tr>\n",
              "      <th>0</th>\n",
              "      <td>1924</td>\n",
              "      <td>Figure skating</td>\n",
              "      <td>M</td>\n",
              "    </tr>\n",
              "    <tr>\n",
              "      <th>1</th>\n",
              "      <td>1924</td>\n",
              "      <td>Figure skating</td>\n",
              "      <td>W</td>\n",
              "    </tr>\n",
              "    <tr>\n",
              "      <th>2</th>\n",
              "      <td>1924</td>\n",
              "      <td>Figure skating</td>\n",
              "      <td>X</td>\n",
              "    </tr>\n",
              "  </tbody>\n",
              "</table>\n",
              "</div>\n",
              "      <button class=\"colab-df-convert\" onclick=\"convertToInteractive('df-27e82e72-7e4b-4be2-8dbe-4a256982ec75')\"\n",
              "              title=\"Convert this dataframe to an interactive table.\"\n",
              "              style=\"display:none;\">\n",
              "        \n",
              "  <svg xmlns=\"http://www.w3.org/2000/svg\" height=\"24px\"viewBox=\"0 0 24 24\"\n",
              "       width=\"24px\">\n",
              "    <path d=\"M0 0h24v24H0V0z\" fill=\"none\"/>\n",
              "    <path d=\"M18.56 5.44l.94 2.06.94-2.06 2.06-.94-2.06-.94-.94-2.06-.94 2.06-2.06.94zm-11 1L8.5 8.5l.94-2.06 2.06-.94-2.06-.94L8.5 2.5l-.94 2.06-2.06.94zm10 10l.94 2.06.94-2.06 2.06-.94-2.06-.94-.94-2.06-.94 2.06-2.06.94z\"/><path d=\"M17.41 7.96l-1.37-1.37c-.4-.4-.92-.59-1.43-.59-.52 0-1.04.2-1.43.59L10.3 9.45l-7.72 7.72c-.78.78-.78 2.05 0 2.83L4 21.41c.39.39.9.59 1.41.59.51 0 1.02-.2 1.41-.59l7.78-7.78 2.81-2.81c.8-.78.8-2.07 0-2.86zM5.41 20L4 18.59l7.72-7.72 1.47 1.35L5.41 20z\"/>\n",
              "  </svg>\n",
              "      </button>\n",
              "      \n",
              "  <style>\n",
              "    .colab-df-container {\n",
              "      display:flex;\n",
              "      flex-wrap:wrap;\n",
              "      gap: 12px;\n",
              "    }\n",
              "\n",
              "    .colab-df-convert {\n",
              "      background-color: #E8F0FE;\n",
              "      border: none;\n",
              "      border-radius: 50%;\n",
              "      cursor: pointer;\n",
              "      display: none;\n",
              "      fill: #1967D2;\n",
              "      height: 32px;\n",
              "      padding: 0 0 0 0;\n",
              "      width: 32px;\n",
              "    }\n",
              "\n",
              "    .colab-df-convert:hover {\n",
              "      background-color: #E2EBFA;\n",
              "      box-shadow: 0px 1px 2px rgba(60, 64, 67, 0.3), 0px 1px 3px 1px rgba(60, 64, 67, 0.15);\n",
              "      fill: #174EA6;\n",
              "    }\n",
              "\n",
              "    [theme=dark] .colab-df-convert {\n",
              "      background-color: #3B4455;\n",
              "      fill: #D2E3FC;\n",
              "    }\n",
              "\n",
              "    [theme=dark] .colab-df-convert:hover {\n",
              "      background-color: #434B5C;\n",
              "      box-shadow: 0px 1px 3px 1px rgba(0, 0, 0, 0.15);\n",
              "      filter: drop-shadow(0px 1px 2px rgba(0, 0, 0, 0.3));\n",
              "      fill: #FFFFFF;\n",
              "    }\n",
              "  </style>\n",
              "\n",
              "      <script>\n",
              "        const buttonEl =\n",
              "          document.querySelector('#df-27e82e72-7e4b-4be2-8dbe-4a256982ec75 button.colab-df-convert');\n",
              "        buttonEl.style.display =\n",
              "          google.colab.kernel.accessAllowed ? 'block' : 'none';\n",
              "\n",
              "        async function convertToInteractive(key) {\n",
              "          const element = document.querySelector('#df-27e82e72-7e4b-4be2-8dbe-4a256982ec75');\n",
              "          const dataTable =\n",
              "            await google.colab.kernel.invokeFunction('convertToInteractive',\n",
              "                                                     [key], {});\n",
              "          if (!dataTable) return;\n",
              "\n",
              "          const docLinkHtml = 'Like what you see? Visit the ' +\n",
              "            '<a target=\"_blank\" href=https://colab.research.google.com/notebooks/data_table.ipynb>data table notebook</a>'\n",
              "            + ' to learn more about interactive tables.';\n",
              "          element.innerHTML = '';\n",
              "          dataTable['output_type'] = 'display_data';\n",
              "          await google.colab.output.renderOutput(dataTable, element);\n",
              "          const docLink = document.createElement('div');\n",
              "          docLink.innerHTML = docLinkHtml;\n",
              "          element.appendChild(docLink);\n",
              "        }\n",
              "      </script>\n",
              "    </div>\n",
              "  </div>\n",
              "  "
            ]
          },
          "metadata": {},
          "execution_count": 71
        }
      ]
    },
    {
      "cell_type": "code",
      "source": [
        "#Hacieno el mismo slice pero con el nombre de las columnas\n",
        "dfMedallero.loc[0:3, \"Year\":\"Event gender\"]"
      ],
      "metadata": {
        "colab": {
          "base_uri": "https://localhost:8080/",
          "height": 175
        },
        "id": "6sTPIweFVD-u",
        "outputId": "2465723c-bd72-405a-aeca-a5e156dac56a"
      },
      "execution_count": null,
      "outputs": [
        {
          "output_type": "execute_result",
          "data": {
            "text/plain": [
              "   Year      Discipline Event gender\n",
              "0  1924  Figure skating            M\n",
              "1  1924  Figure skating            W\n",
              "2  1924  Figure skating            X\n",
              "3  1924       Bobsleigh            M"
            ],
            "text/html": [
              "\n",
              "  <div id=\"df-efc1945d-e685-49e8-84ae-35537d88094c\">\n",
              "    <div class=\"colab-df-container\">\n",
              "      <div>\n",
              "<style scoped>\n",
              "    .dataframe tbody tr th:only-of-type {\n",
              "        vertical-align: middle;\n",
              "    }\n",
              "\n",
              "    .dataframe tbody tr th {\n",
              "        vertical-align: top;\n",
              "    }\n",
              "\n",
              "    .dataframe thead th {\n",
              "        text-align: right;\n",
              "    }\n",
              "</style>\n",
              "<table border=\"1\" class=\"dataframe\">\n",
              "  <thead>\n",
              "    <tr style=\"text-align: right;\">\n",
              "      <th></th>\n",
              "      <th>Year</th>\n",
              "      <th>Discipline</th>\n",
              "      <th>Event gender</th>\n",
              "    </tr>\n",
              "  </thead>\n",
              "  <tbody>\n",
              "    <tr>\n",
              "      <th>0</th>\n",
              "      <td>1924</td>\n",
              "      <td>Figure skating</td>\n",
              "      <td>M</td>\n",
              "    </tr>\n",
              "    <tr>\n",
              "      <th>1</th>\n",
              "      <td>1924</td>\n",
              "      <td>Figure skating</td>\n",
              "      <td>W</td>\n",
              "    </tr>\n",
              "    <tr>\n",
              "      <th>2</th>\n",
              "      <td>1924</td>\n",
              "      <td>Figure skating</td>\n",
              "      <td>X</td>\n",
              "    </tr>\n",
              "    <tr>\n",
              "      <th>3</th>\n",
              "      <td>1924</td>\n",
              "      <td>Bobsleigh</td>\n",
              "      <td>M</td>\n",
              "    </tr>\n",
              "  </tbody>\n",
              "</table>\n",
              "</div>\n",
              "      <button class=\"colab-df-convert\" onclick=\"convertToInteractive('df-efc1945d-e685-49e8-84ae-35537d88094c')\"\n",
              "              title=\"Convert this dataframe to an interactive table.\"\n",
              "              style=\"display:none;\">\n",
              "        \n",
              "  <svg xmlns=\"http://www.w3.org/2000/svg\" height=\"24px\"viewBox=\"0 0 24 24\"\n",
              "       width=\"24px\">\n",
              "    <path d=\"M0 0h24v24H0V0z\" fill=\"none\"/>\n",
              "    <path d=\"M18.56 5.44l.94 2.06.94-2.06 2.06-.94-2.06-.94-.94-2.06-.94 2.06-2.06.94zm-11 1L8.5 8.5l.94-2.06 2.06-.94-2.06-.94L8.5 2.5l-.94 2.06-2.06.94zm10 10l.94 2.06.94-2.06 2.06-.94-2.06-.94-.94-2.06-.94 2.06-2.06.94z\"/><path d=\"M17.41 7.96l-1.37-1.37c-.4-.4-.92-.59-1.43-.59-.52 0-1.04.2-1.43.59L10.3 9.45l-7.72 7.72c-.78.78-.78 2.05 0 2.83L4 21.41c.39.39.9.59 1.41.59.51 0 1.02-.2 1.41-.59l7.78-7.78 2.81-2.81c.8-.78.8-2.07 0-2.86zM5.41 20L4 18.59l7.72-7.72 1.47 1.35L5.41 20z\"/>\n",
              "  </svg>\n",
              "      </button>\n",
              "      \n",
              "  <style>\n",
              "    .colab-df-container {\n",
              "      display:flex;\n",
              "      flex-wrap:wrap;\n",
              "      gap: 12px;\n",
              "    }\n",
              "\n",
              "    .colab-df-convert {\n",
              "      background-color: #E8F0FE;\n",
              "      border: none;\n",
              "      border-radius: 50%;\n",
              "      cursor: pointer;\n",
              "      display: none;\n",
              "      fill: #1967D2;\n",
              "      height: 32px;\n",
              "      padding: 0 0 0 0;\n",
              "      width: 32px;\n",
              "    }\n",
              "\n",
              "    .colab-df-convert:hover {\n",
              "      background-color: #E2EBFA;\n",
              "      box-shadow: 0px 1px 2px rgba(60, 64, 67, 0.3), 0px 1px 3px 1px rgba(60, 64, 67, 0.15);\n",
              "      fill: #174EA6;\n",
              "    }\n",
              "\n",
              "    [theme=dark] .colab-df-convert {\n",
              "      background-color: #3B4455;\n",
              "      fill: #D2E3FC;\n",
              "    }\n",
              "\n",
              "    [theme=dark] .colab-df-convert:hover {\n",
              "      background-color: #434B5C;\n",
              "      box-shadow: 0px 1px 3px 1px rgba(0, 0, 0, 0.15);\n",
              "      filter: drop-shadow(0px 1px 2px rgba(0, 0, 0, 0.3));\n",
              "      fill: #FFFFFF;\n",
              "    }\n",
              "  </style>\n",
              "\n",
              "      <script>\n",
              "        const buttonEl =\n",
              "          document.querySelector('#df-efc1945d-e685-49e8-84ae-35537d88094c button.colab-df-convert');\n",
              "        buttonEl.style.display =\n",
              "          google.colab.kernel.accessAllowed ? 'block' : 'none';\n",
              "\n",
              "        async function convertToInteractive(key) {\n",
              "          const element = document.querySelector('#df-efc1945d-e685-49e8-84ae-35537d88094c');\n",
              "          const dataTable =\n",
              "            await google.colab.kernel.invokeFunction('convertToInteractive',\n",
              "                                                     [key], {});\n",
              "          if (!dataTable) return;\n",
              "\n",
              "          const docLinkHtml = 'Like what you see? Visit the ' +\n",
              "            '<a target=\"_blank\" href=https://colab.research.google.com/notebooks/data_table.ipynb>data table notebook</a>'\n",
              "            + ' to learn more about interactive tables.';\n",
              "          element.innerHTML = '';\n",
              "          dataTable['output_type'] = 'display_data';\n",
              "          await google.colab.output.renderOutput(dataTable, element);\n",
              "          const docLink = document.createElement('div');\n",
              "          docLink.innerHTML = docLinkHtml;\n",
              "          element.appendChild(docLink);\n",
              "        }\n",
              "      </script>\n",
              "    </div>\n",
              "  </div>\n",
              "  "
            ]
          },
          "metadata": {},
          "execution_count": 72
        }
      ]
    },
    {
      "cell_type": "code",
      "source": [
        "#Traer los valores únicos de la columna 'Discipline' para saber cuantas disciplinas existen en el conjunto de datos.\n",
        "dfMedallero['Discipline'].unique()"
      ],
      "metadata": {
        "id": "o85EziBAYEpq",
        "outputId": "2e2a8334-e604-47f2-b0b2-5764a693bf7e",
        "colab": {
          "base_uri": "https://localhost:8080/"
        }
      },
      "execution_count": null,
      "outputs": [
        {
          "output_type": "execute_result",
          "data": {
            "text/plain": [
              "array(['Figure skating', 'Bobsleigh', 'Ice Hockey', 'Biathlon',\n",
              "       'Speed skating', 'Cross Country S', 'Curling', 'Nordic Combined',\n",
              "       'Ski Jumping', 'Skeleton', 'Alpine Skiing', 'Luge',\n",
              "       'Short Track S.', 'Freestyle Ski.', 'Snowboard'], dtype=object)"
            ]
          },
          "metadata": {},
          "execution_count": 73
        }
      ]
    },
    {
      "cell_type": "code",
      "source": [
        "#Obtener las disciplinas que se realizaron solo en el 2002\n",
        "dfMedallero[dfMedallero['Year']==2002]"
      ],
      "metadata": {
        "id": "6sXyt0tyYVMn",
        "outputId": "e6d2aa8f-a969-411c-e6d5-e05c3ae6d332",
        "colab": {
          "base_uri": "https://localhost:8080/",
          "height": 424
        }
      },
      "execution_count": null,
      "outputs": [
        {
          "output_type": "execute_result",
          "data": {
            "text/plain": [
              "      Year      Discipline Event gender   Medal\n",
              "1825  2002  Short Track S.            M    Gold\n",
              "1826  2002  Freestyle Ski.            W    Gold\n",
              "1827  2002        Biathlon            M  Bronze\n",
              "1828  2002        Skeleton            M  Silver\n",
              "1829  2002            Luge            M  Bronze\n",
              "...    ...             ...          ...     ...\n",
              "2054  2002       Snowboard            M  Bronze\n",
              "2055  2002       Snowboard            M  Bronze\n",
              "2056  2002       Snowboard            M    Gold\n",
              "2057  2002       Snowboard            M  Silver\n",
              "2058  2002       Snowboard            W    Gold\n",
              "\n",
              "[234 rows x 4 columns]"
            ],
            "text/html": [
              "\n",
              "  <div id=\"df-cf2c68d3-5a75-4898-a160-dd5ba87799c1\">\n",
              "    <div class=\"colab-df-container\">\n",
              "      <div>\n",
              "<style scoped>\n",
              "    .dataframe tbody tr th:only-of-type {\n",
              "        vertical-align: middle;\n",
              "    }\n",
              "\n",
              "    .dataframe tbody tr th {\n",
              "        vertical-align: top;\n",
              "    }\n",
              "\n",
              "    .dataframe thead th {\n",
              "        text-align: right;\n",
              "    }\n",
              "</style>\n",
              "<table border=\"1\" class=\"dataframe\">\n",
              "  <thead>\n",
              "    <tr style=\"text-align: right;\">\n",
              "      <th></th>\n",
              "      <th>Year</th>\n",
              "      <th>Discipline</th>\n",
              "      <th>Event gender</th>\n",
              "      <th>Medal</th>\n",
              "    </tr>\n",
              "  </thead>\n",
              "  <tbody>\n",
              "    <tr>\n",
              "      <th>1825</th>\n",
              "      <td>2002</td>\n",
              "      <td>Short Track S.</td>\n",
              "      <td>M</td>\n",
              "      <td>Gold</td>\n",
              "    </tr>\n",
              "    <tr>\n",
              "      <th>1826</th>\n",
              "      <td>2002</td>\n",
              "      <td>Freestyle Ski.</td>\n",
              "      <td>W</td>\n",
              "      <td>Gold</td>\n",
              "    </tr>\n",
              "    <tr>\n",
              "      <th>1827</th>\n",
              "      <td>2002</td>\n",
              "      <td>Biathlon</td>\n",
              "      <td>M</td>\n",
              "      <td>Bronze</td>\n",
              "    </tr>\n",
              "    <tr>\n",
              "      <th>1828</th>\n",
              "      <td>2002</td>\n",
              "      <td>Skeleton</td>\n",
              "      <td>M</td>\n",
              "      <td>Silver</td>\n",
              "    </tr>\n",
              "    <tr>\n",
              "      <th>1829</th>\n",
              "      <td>2002</td>\n",
              "      <td>Luge</td>\n",
              "      <td>M</td>\n",
              "      <td>Bronze</td>\n",
              "    </tr>\n",
              "    <tr>\n",
              "      <th>...</th>\n",
              "      <td>...</td>\n",
              "      <td>...</td>\n",
              "      <td>...</td>\n",
              "      <td>...</td>\n",
              "    </tr>\n",
              "    <tr>\n",
              "      <th>2054</th>\n",
              "      <td>2002</td>\n",
              "      <td>Snowboard</td>\n",
              "      <td>M</td>\n",
              "      <td>Bronze</td>\n",
              "    </tr>\n",
              "    <tr>\n",
              "      <th>2055</th>\n",
              "      <td>2002</td>\n",
              "      <td>Snowboard</td>\n",
              "      <td>M</td>\n",
              "      <td>Bronze</td>\n",
              "    </tr>\n",
              "    <tr>\n",
              "      <th>2056</th>\n",
              "      <td>2002</td>\n",
              "      <td>Snowboard</td>\n",
              "      <td>M</td>\n",
              "      <td>Gold</td>\n",
              "    </tr>\n",
              "    <tr>\n",
              "      <th>2057</th>\n",
              "      <td>2002</td>\n",
              "      <td>Snowboard</td>\n",
              "      <td>M</td>\n",
              "      <td>Silver</td>\n",
              "    </tr>\n",
              "    <tr>\n",
              "      <th>2058</th>\n",
              "      <td>2002</td>\n",
              "      <td>Snowboard</td>\n",
              "      <td>W</td>\n",
              "      <td>Gold</td>\n",
              "    </tr>\n",
              "  </tbody>\n",
              "</table>\n",
              "<p>234 rows × 4 columns</p>\n",
              "</div>\n",
              "      <button class=\"colab-df-convert\" onclick=\"convertToInteractive('df-cf2c68d3-5a75-4898-a160-dd5ba87799c1')\"\n",
              "              title=\"Convert this dataframe to an interactive table.\"\n",
              "              style=\"display:none;\">\n",
              "        \n",
              "  <svg xmlns=\"http://www.w3.org/2000/svg\" height=\"24px\"viewBox=\"0 0 24 24\"\n",
              "       width=\"24px\">\n",
              "    <path d=\"M0 0h24v24H0V0z\" fill=\"none\"/>\n",
              "    <path d=\"M18.56 5.44l.94 2.06.94-2.06 2.06-.94-2.06-.94-.94-2.06-.94 2.06-2.06.94zm-11 1L8.5 8.5l.94-2.06 2.06-.94-2.06-.94L8.5 2.5l-.94 2.06-2.06.94zm10 10l.94 2.06.94-2.06 2.06-.94-2.06-.94-.94-2.06-.94 2.06-2.06.94z\"/><path d=\"M17.41 7.96l-1.37-1.37c-.4-.4-.92-.59-1.43-.59-.52 0-1.04.2-1.43.59L10.3 9.45l-7.72 7.72c-.78.78-.78 2.05 0 2.83L4 21.41c.39.39.9.59 1.41.59.51 0 1.02-.2 1.41-.59l7.78-7.78 2.81-2.81c.8-.78.8-2.07 0-2.86zM5.41 20L4 18.59l7.72-7.72 1.47 1.35L5.41 20z\"/>\n",
              "  </svg>\n",
              "      </button>\n",
              "      \n",
              "  <style>\n",
              "    .colab-df-container {\n",
              "      display:flex;\n",
              "      flex-wrap:wrap;\n",
              "      gap: 12px;\n",
              "    }\n",
              "\n",
              "    .colab-df-convert {\n",
              "      background-color: #E8F0FE;\n",
              "      border: none;\n",
              "      border-radius: 50%;\n",
              "      cursor: pointer;\n",
              "      display: none;\n",
              "      fill: #1967D2;\n",
              "      height: 32px;\n",
              "      padding: 0 0 0 0;\n",
              "      width: 32px;\n",
              "    }\n",
              "\n",
              "    .colab-df-convert:hover {\n",
              "      background-color: #E2EBFA;\n",
              "      box-shadow: 0px 1px 2px rgba(60, 64, 67, 0.3), 0px 1px 3px 1px rgba(60, 64, 67, 0.15);\n",
              "      fill: #174EA6;\n",
              "    }\n",
              "\n",
              "    [theme=dark] .colab-df-convert {\n",
              "      background-color: #3B4455;\n",
              "      fill: #D2E3FC;\n",
              "    }\n",
              "\n",
              "    [theme=dark] .colab-df-convert:hover {\n",
              "      background-color: #434B5C;\n",
              "      box-shadow: 0px 1px 3px 1px rgba(0, 0, 0, 0.15);\n",
              "      filter: drop-shadow(0px 1px 2px rgba(0, 0, 0, 0.3));\n",
              "      fill: #FFFFFF;\n",
              "    }\n",
              "  </style>\n",
              "\n",
              "      <script>\n",
              "        const buttonEl =\n",
              "          document.querySelector('#df-cf2c68d3-5a75-4898-a160-dd5ba87799c1 button.colab-df-convert');\n",
              "        buttonEl.style.display =\n",
              "          google.colab.kernel.accessAllowed ? 'block' : 'none';\n",
              "\n",
              "        async function convertToInteractive(key) {\n",
              "          const element = document.querySelector('#df-cf2c68d3-5a75-4898-a160-dd5ba87799c1');\n",
              "          const dataTable =\n",
              "            await google.colab.kernel.invokeFunction('convertToInteractive',\n",
              "                                                     [key], {});\n",
              "          if (!dataTable) return;\n",
              "\n",
              "          const docLinkHtml = 'Like what you see? Visit the ' +\n",
              "            '<a target=\"_blank\" href=https://colab.research.google.com/notebooks/data_table.ipynb>data table notebook</a>'\n",
              "            + ' to learn more about interactive tables.';\n",
              "          element.innerHTML = '';\n",
              "          dataTable['output_type'] = 'display_data';\n",
              "          await google.colab.output.renderOutput(dataTable, element);\n",
              "          const docLink = document.createElement('div');\n",
              "          docLink.innerHTML = docLinkHtml;\n",
              "          element.appendChild(docLink);\n",
              "        }\n",
              "      </script>\n",
              "    </div>\n",
              "  </div>\n",
              "  "
            ]
          },
          "metadata": {},
          "execution_count": 81
        }
      ]
    }
  ]
}