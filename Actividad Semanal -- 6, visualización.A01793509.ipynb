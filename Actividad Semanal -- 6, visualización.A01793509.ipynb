{
  "nbformat": 4,
  "nbformat_minor": 0,
  "metadata": {
    "kernelspec": {
      "display_name": "Python 3",
      "language": "python",
      "name": "python3"
    },
    "language_info": {
      "codemirror_mode": {
        "name": "ipython",
        "version": 3
      },
      "file_extension": ".py",
      "mimetype": "text/x-python",
      "name": "python",
      "nbconvert_exporter": "python",
      "pygments_lexer": "ipython3",
      "version": "3.7.7"
    },
    "colab": {
      "provenance": [],
      "collapsed_sections": [],
      "include_colab_link": true
    }
  },
  "cells": [
    {
      "cell_type": "markdown",
      "metadata": {
        "id": "view-in-github",
        "colab_type": "text"
      },
      "source": [
        "<a href=\"https://colab.research.google.com/github/PosgradoMNA/actividades-de-aprendizaje-A01793509/blob/main/Actividad%20Semanal%20--%206%2C%20visualizaci%C3%B3n.A01793509.ipynb\" target=\"_parent\"><img src=\"https://colab.research.google.com/assets/colab-badge.svg\" alt=\"Open In Colab\"/></a>"
      ]
    },
    {
      "cell_type": "markdown",
      "source": [
        "\n",
        "---\n",
        "\n",
        "\n",
        "🚀 **Actividad Semanal -- 6, visualización**: Realizar la exploración y visualización de los datos para generar un panorama general de las distribuciones, patrones y relaciones de los datos.\n",
        "\n",
        "📑 **Asignatura:** Ciencia y analítica de datos\n",
        "\n",
        "🧑 **Alumno:** Alberto José García Porras (Matrícula No. **A01793509**)\n",
        "\n",
        "🧑 **Profesora**: María de la Paz Rico Fernández\n",
        "\n",
        "📅 Octubre 31 del 2022\n",
        "\n",
        "---"
      ],
      "metadata": {
        "id": "uG4n4eWqJtEv"
      }
    },
    {
      "cell_type": "markdown",
      "source": [
        "---\n",
        "\n",
        "\n",
        "## 👣 **1.   Descarga los datos y carga el dataset en libreta.**\n",
        "\n",
        "---"
      ],
      "metadata": {
        "id": "HQmVzgUN8bip"
      }
    },
    {
      "cell_type": "code",
      "source": [
        "#Importamos la librería pandas y leemos el archivo default of credit card clients.csv\n",
        "import pandas as pd\n",
        "url = \"https://raw.githubusercontent.com/PosgradoMNA/Actividades_Aprendizaje-/main/default%20of%20credit%20card%20clients.csv\"\n",
        "df = pd.read_csv(url)"
      ],
      "metadata": {
        "id": "sQ7uWTcA7plf"
      },
      "execution_count": 1,
      "outputs": []
    },
    {
      "cell_type": "markdown",
      "source": [
        "---\n",
        "\n",
        "## 👣 **2.   Obten la información del DataFrame (shape, columns, head(), dtypes, info(), isna())**\n",
        "\n",
        "\n",
        "---"
      ],
      "metadata": {
        "id": "fieFw4gt-LT0"
      }
    },
    {
      "cell_type": "code",
      "source": [
        "#Obtenemos la dimensionalidad de nuestro dataframe\n",
        "print(\"El shape del dataframe es:\", df.shape)"
      ],
      "metadata": {
        "id": "1-TU4aJG-yh6",
        "outputId": "029e4a69-4e7c-4d2d-b407-f72abd5c8b6f",
        "colab": {
          "base_uri": "https://localhost:8080/"
        }
      },
      "execution_count": 2,
      "outputs": [
        {
          "output_type": "stream",
          "name": "stdout",
          "text": [
            "El shape del dataframe es: (30000, 25)\n"
          ]
        }
      ]
    },
    {
      "cell_type": "code",
      "source": [
        "#Obtenemos el encabezado de las columnas de nuestro dataframe\n",
        "print(\"Las columnas del dataframe son:\")\n",
        "df.columns"
      ],
      "metadata": {
        "id": "jGHsP7Bw_zxU",
        "outputId": "24216793-0ab7-491c-fb19-254ce110d55d",
        "colab": {
          "base_uri": "https://localhost:8080/"
        }
      },
      "execution_count": 3,
      "outputs": [
        {
          "output_type": "stream",
          "name": "stdout",
          "text": [
            "Las columnas del dataframe son:\n"
          ]
        },
        {
          "output_type": "execute_result",
          "data": {
            "text/plain": [
              "Index(['ID', 'X1', 'X2', 'X3', 'X4', 'X5', 'X6', 'X7', 'X8', 'X9', 'X10',\n",
              "       'X11', 'X12', 'X13', 'X14', 'X15', 'X16', 'X17', 'X18', 'X19', 'X20',\n",
              "       'X21', 'X22', 'X23', 'Y'],\n",
              "      dtype='object')"
            ]
          },
          "metadata": {},
          "execution_count": 3
        }
      ]
    },
    {
      "cell_type": "code",
      "source": [
        "#Visualizamos los primeros 5 registros de nuestro dataframe\n",
        "print(\"Visualizamos los primeros 5 registros del dataframe:\")\n",
        "df.head()"
      ],
      "metadata": {
        "id": "lr9lVByt_2ex",
        "outputId": "50a35463-2fe0-467d-f516-75be71076956",
        "colab": {
          "base_uri": "https://localhost:8080/",
          "height": 254
        }
      },
      "execution_count": 4,
      "outputs": [
        {
          "output_type": "stream",
          "name": "stdout",
          "text": [
            "Visualizamos los primeros 5 registros del dataframe:\n"
          ]
        },
        {
          "output_type": "execute_result",
          "data": {
            "text/plain": [
              "   ID      X1   X2   X3   X4    X5   X6   X7   X8   X9  ...      X15      X16  \\\n",
              "0   1   20000  2.0  2.0  1.0  24.0  2.0  2.0 -1.0 -1.0  ...      0.0      0.0   \n",
              "1   2  120000  2.0  2.0  2.0  26.0 -1.0  2.0  0.0  0.0  ...   3272.0   3455.0   \n",
              "2   3   90000  2.0  2.0  2.0  34.0  0.0  0.0  0.0  0.0  ...  14331.0  14948.0   \n",
              "3   4   50000  2.0  2.0  1.0  37.0  0.0  0.0  0.0  0.0  ...  28314.0  28959.0   \n",
              "4   5   50000  1.0  2.0  1.0  57.0 -1.0  0.0 -1.0  0.0  ...  20940.0  19146.0   \n",
              "\n",
              "       X17     X18      X19      X20     X21     X22     X23    Y  \n",
              "0      0.0     0.0    689.0      0.0     0.0     0.0     0.0  1.0  \n",
              "1   3261.0     0.0   1000.0   1000.0  1000.0     0.0  2000.0  1.0  \n",
              "2  15549.0  1518.0   1500.0   1000.0  1000.0  1000.0  5000.0  0.0  \n",
              "3  29547.0  2000.0   2019.0   1200.0  1100.0  1069.0  1000.0  0.0  \n",
              "4  19131.0  2000.0  36681.0  10000.0  9000.0   689.0   679.0  0.0  \n",
              "\n",
              "[5 rows x 25 columns]"
            ],
            "text/html": [
              "\n",
              "  <div id=\"df-863b64bc-d76c-47f7-9fa6-72deedf306eb\">\n",
              "    <div class=\"colab-df-container\">\n",
              "      <div>\n",
              "<style scoped>\n",
              "    .dataframe tbody tr th:only-of-type {\n",
              "        vertical-align: middle;\n",
              "    }\n",
              "\n",
              "    .dataframe tbody tr th {\n",
              "        vertical-align: top;\n",
              "    }\n",
              "\n",
              "    .dataframe thead th {\n",
              "        text-align: right;\n",
              "    }\n",
              "</style>\n",
              "<table border=\"1\" class=\"dataframe\">\n",
              "  <thead>\n",
              "    <tr style=\"text-align: right;\">\n",
              "      <th></th>\n",
              "      <th>ID</th>\n",
              "      <th>X1</th>\n",
              "      <th>X2</th>\n",
              "      <th>X3</th>\n",
              "      <th>X4</th>\n",
              "      <th>X5</th>\n",
              "      <th>X6</th>\n",
              "      <th>X7</th>\n",
              "      <th>X8</th>\n",
              "      <th>X9</th>\n",
              "      <th>...</th>\n",
              "      <th>X15</th>\n",
              "      <th>X16</th>\n",
              "      <th>X17</th>\n",
              "      <th>X18</th>\n",
              "      <th>X19</th>\n",
              "      <th>X20</th>\n",
              "      <th>X21</th>\n",
              "      <th>X22</th>\n",
              "      <th>X23</th>\n",
              "      <th>Y</th>\n",
              "    </tr>\n",
              "  </thead>\n",
              "  <tbody>\n",
              "    <tr>\n",
              "      <th>0</th>\n",
              "      <td>1</td>\n",
              "      <td>20000</td>\n",
              "      <td>2.0</td>\n",
              "      <td>2.0</td>\n",
              "      <td>1.0</td>\n",
              "      <td>24.0</td>\n",
              "      <td>2.0</td>\n",
              "      <td>2.0</td>\n",
              "      <td>-1.0</td>\n",
              "      <td>-1.0</td>\n",
              "      <td>...</td>\n",
              "      <td>0.0</td>\n",
              "      <td>0.0</td>\n",
              "      <td>0.0</td>\n",
              "      <td>0.0</td>\n",
              "      <td>689.0</td>\n",
              "      <td>0.0</td>\n",
              "      <td>0.0</td>\n",
              "      <td>0.0</td>\n",
              "      <td>0.0</td>\n",
              "      <td>1.0</td>\n",
              "    </tr>\n",
              "    <tr>\n",
              "      <th>1</th>\n",
              "      <td>2</td>\n",
              "      <td>120000</td>\n",
              "      <td>2.0</td>\n",
              "      <td>2.0</td>\n",
              "      <td>2.0</td>\n",
              "      <td>26.0</td>\n",
              "      <td>-1.0</td>\n",
              "      <td>2.0</td>\n",
              "      <td>0.0</td>\n",
              "      <td>0.0</td>\n",
              "      <td>...</td>\n",
              "      <td>3272.0</td>\n",
              "      <td>3455.0</td>\n",
              "      <td>3261.0</td>\n",
              "      <td>0.0</td>\n",
              "      <td>1000.0</td>\n",
              "      <td>1000.0</td>\n",
              "      <td>1000.0</td>\n",
              "      <td>0.0</td>\n",
              "      <td>2000.0</td>\n",
              "      <td>1.0</td>\n",
              "    </tr>\n",
              "    <tr>\n",
              "      <th>2</th>\n",
              "      <td>3</td>\n",
              "      <td>90000</td>\n",
              "      <td>2.0</td>\n",
              "      <td>2.0</td>\n",
              "      <td>2.0</td>\n",
              "      <td>34.0</td>\n",
              "      <td>0.0</td>\n",
              "      <td>0.0</td>\n",
              "      <td>0.0</td>\n",
              "      <td>0.0</td>\n",
              "      <td>...</td>\n",
              "      <td>14331.0</td>\n",
              "      <td>14948.0</td>\n",
              "      <td>15549.0</td>\n",
              "      <td>1518.0</td>\n",
              "      <td>1500.0</td>\n",
              "      <td>1000.0</td>\n",
              "      <td>1000.0</td>\n",
              "      <td>1000.0</td>\n",
              "      <td>5000.0</td>\n",
              "      <td>0.0</td>\n",
              "    </tr>\n",
              "    <tr>\n",
              "      <th>3</th>\n",
              "      <td>4</td>\n",
              "      <td>50000</td>\n",
              "      <td>2.0</td>\n",
              "      <td>2.0</td>\n",
              "      <td>1.0</td>\n",
              "      <td>37.0</td>\n",
              "      <td>0.0</td>\n",
              "      <td>0.0</td>\n",
              "      <td>0.0</td>\n",
              "      <td>0.0</td>\n",
              "      <td>...</td>\n",
              "      <td>28314.0</td>\n",
              "      <td>28959.0</td>\n",
              "      <td>29547.0</td>\n",
              "      <td>2000.0</td>\n",
              "      <td>2019.0</td>\n",
              "      <td>1200.0</td>\n",
              "      <td>1100.0</td>\n",
              "      <td>1069.0</td>\n",
              "      <td>1000.0</td>\n",
              "      <td>0.0</td>\n",
              "    </tr>\n",
              "    <tr>\n",
              "      <th>4</th>\n",
              "      <td>5</td>\n",
              "      <td>50000</td>\n",
              "      <td>1.0</td>\n",
              "      <td>2.0</td>\n",
              "      <td>1.0</td>\n",
              "      <td>57.0</td>\n",
              "      <td>-1.0</td>\n",
              "      <td>0.0</td>\n",
              "      <td>-1.0</td>\n",
              "      <td>0.0</td>\n",
              "      <td>...</td>\n",
              "      <td>20940.0</td>\n",
              "      <td>19146.0</td>\n",
              "      <td>19131.0</td>\n",
              "      <td>2000.0</td>\n",
              "      <td>36681.0</td>\n",
              "      <td>10000.0</td>\n",
              "      <td>9000.0</td>\n",
              "      <td>689.0</td>\n",
              "      <td>679.0</td>\n",
              "      <td>0.0</td>\n",
              "    </tr>\n",
              "  </tbody>\n",
              "</table>\n",
              "<p>5 rows × 25 columns</p>\n",
              "</div>\n",
              "      <button class=\"colab-df-convert\" onclick=\"convertToInteractive('df-863b64bc-d76c-47f7-9fa6-72deedf306eb')\"\n",
              "              title=\"Convert this dataframe to an interactive table.\"\n",
              "              style=\"display:none;\">\n",
              "        \n",
              "  <svg xmlns=\"http://www.w3.org/2000/svg\" height=\"24px\"viewBox=\"0 0 24 24\"\n",
              "       width=\"24px\">\n",
              "    <path d=\"M0 0h24v24H0V0z\" fill=\"none\"/>\n",
              "    <path d=\"M18.56 5.44l.94 2.06.94-2.06 2.06-.94-2.06-.94-.94-2.06-.94 2.06-2.06.94zm-11 1L8.5 8.5l.94-2.06 2.06-.94-2.06-.94L8.5 2.5l-.94 2.06-2.06.94zm10 10l.94 2.06.94-2.06 2.06-.94-2.06-.94-.94-2.06-.94 2.06-2.06.94z\"/><path d=\"M17.41 7.96l-1.37-1.37c-.4-.4-.92-.59-1.43-.59-.52 0-1.04.2-1.43.59L10.3 9.45l-7.72 7.72c-.78.78-.78 2.05 0 2.83L4 21.41c.39.39.9.59 1.41.59.51 0 1.02-.2 1.41-.59l7.78-7.78 2.81-2.81c.8-.78.8-2.07 0-2.86zM5.41 20L4 18.59l7.72-7.72 1.47 1.35L5.41 20z\"/>\n",
              "  </svg>\n",
              "      </button>\n",
              "      \n",
              "  <style>\n",
              "    .colab-df-container {\n",
              "      display:flex;\n",
              "      flex-wrap:wrap;\n",
              "      gap: 12px;\n",
              "    }\n",
              "\n",
              "    .colab-df-convert {\n",
              "      background-color: #E8F0FE;\n",
              "      border: none;\n",
              "      border-radius: 50%;\n",
              "      cursor: pointer;\n",
              "      display: none;\n",
              "      fill: #1967D2;\n",
              "      height: 32px;\n",
              "      padding: 0 0 0 0;\n",
              "      width: 32px;\n",
              "    }\n",
              "\n",
              "    .colab-df-convert:hover {\n",
              "      background-color: #E2EBFA;\n",
              "      box-shadow: 0px 1px 2px rgba(60, 64, 67, 0.3), 0px 1px 3px 1px rgba(60, 64, 67, 0.15);\n",
              "      fill: #174EA6;\n",
              "    }\n",
              "\n",
              "    [theme=dark] .colab-df-convert {\n",
              "      background-color: #3B4455;\n",
              "      fill: #D2E3FC;\n",
              "    }\n",
              "\n",
              "    [theme=dark] .colab-df-convert:hover {\n",
              "      background-color: #434B5C;\n",
              "      box-shadow: 0px 1px 3px 1px rgba(0, 0, 0, 0.15);\n",
              "      filter: drop-shadow(0px 1px 2px rgba(0, 0, 0, 0.3));\n",
              "      fill: #FFFFFF;\n",
              "    }\n",
              "  </style>\n",
              "\n",
              "      <script>\n",
              "        const buttonEl =\n",
              "          document.querySelector('#df-863b64bc-d76c-47f7-9fa6-72deedf306eb button.colab-df-convert');\n",
              "        buttonEl.style.display =\n",
              "          google.colab.kernel.accessAllowed ? 'block' : 'none';\n",
              "\n",
              "        async function convertToInteractive(key) {\n",
              "          const element = document.querySelector('#df-863b64bc-d76c-47f7-9fa6-72deedf306eb');\n",
              "          const dataTable =\n",
              "            await google.colab.kernel.invokeFunction('convertToInteractive',\n",
              "                                                     [key], {});\n",
              "          if (!dataTable) return;\n",
              "\n",
              "          const docLinkHtml = 'Like what you see? Visit the ' +\n",
              "            '<a target=\"_blank\" href=https://colab.research.google.com/notebooks/data_table.ipynb>data table notebook</a>'\n",
              "            + ' to learn more about interactive tables.';\n",
              "          element.innerHTML = '';\n",
              "          dataTable['output_type'] = 'display_data';\n",
              "          await google.colab.output.renderOutput(dataTable, element);\n",
              "          const docLink = document.createElement('div');\n",
              "          docLink.innerHTML = docLinkHtml;\n",
              "          element.appendChild(docLink);\n",
              "        }\n",
              "      </script>\n",
              "    </div>\n",
              "  </div>\n",
              "  "
            ]
          },
          "metadata": {},
          "execution_count": 4
        }
      ]
    },
    {
      "cell_type": "code",
      "source": [
        "#Obtenemos el tipo de datos de nuestras columnas\n",
        "print(\"Obtenemos el tipo de datos de cada columna en el dataframe:\")\n",
        "df.dtypes"
      ],
      "metadata": {
        "id": "yQmj3iaV_8FM",
        "outputId": "13b09e6c-ce12-4e8a-f297-3545a45aa2ca",
        "colab": {
          "base_uri": "https://localhost:8080/"
        }
      },
      "execution_count": 5,
      "outputs": [
        {
          "output_type": "stream",
          "name": "stdout",
          "text": [
            "Obtenemos el tipo de datos de cada columna en el dataframe:\n"
          ]
        },
        {
          "output_type": "execute_result",
          "data": {
            "text/plain": [
              "ID       int64\n",
              "X1       int64\n",
              "X2     float64\n",
              "X3     float64\n",
              "X4     float64\n",
              "X5     float64\n",
              "X6     float64\n",
              "X7     float64\n",
              "X8     float64\n",
              "X9     float64\n",
              "X10    float64\n",
              "X11    float64\n",
              "X12    float64\n",
              "X13    float64\n",
              "X14    float64\n",
              "X15    float64\n",
              "X16    float64\n",
              "X17    float64\n",
              "X18    float64\n",
              "X19    float64\n",
              "X20    float64\n",
              "X21    float64\n",
              "X22    float64\n",
              "X23    float64\n",
              "Y      float64\n",
              "dtype: object"
            ]
          },
          "metadata": {},
          "execution_count": 5
        }
      ]
    },
    {
      "cell_type": "code",
      "source": [
        "#Obtenemos datos resumidos del dataframe\n",
        "print(\"Obtenemos un resumen conciso de nuestro dataframe:\")\n",
        "print(\"\")\n",
        "df.info()"
      ],
      "metadata": {
        "id": "o1ykSsL7AA1N",
        "outputId": "060a5484-ad20-4d25-9cc4-b6773f722832",
        "colab": {
          "base_uri": "https://localhost:8080/"
        }
      },
      "execution_count": 6,
      "outputs": [
        {
          "output_type": "stream",
          "name": "stdout",
          "text": [
            "Obtenemos un resumen conciso de nuestro dataframe:\n",
            "\n",
            "<class 'pandas.core.frame.DataFrame'>\n",
            "RangeIndex: 30000 entries, 0 to 29999\n",
            "Data columns (total 25 columns):\n",
            " #   Column  Non-Null Count  Dtype  \n",
            "---  ------  --------------  -----  \n",
            " 0   ID      30000 non-null  int64  \n",
            " 1   X1      30000 non-null  int64  \n",
            " 2   X2      29999 non-null  float64\n",
            " 3   X3      29998 non-null  float64\n",
            " 4   X4      29998 non-null  float64\n",
            " 5   X5      29995 non-null  float64\n",
            " 6   X6      29997 non-null  float64\n",
            " 7   X7      29995 non-null  float64\n",
            " 8   X8      29993 non-null  float64\n",
            " 9   X9      29991 non-null  float64\n",
            " 10  X10     29984 non-null  float64\n",
            " 11  X11     29986 non-null  float64\n",
            " 12  X12     29989 non-null  float64\n",
            " 13  X13     29989 non-null  float64\n",
            " 14  X14     29987 non-null  float64\n",
            " 15  X15     29985 non-null  float64\n",
            " 16  X16     29983 non-null  float64\n",
            " 17  X17     29990 non-null  float64\n",
            " 18  X18     29992 non-null  float64\n",
            " 19  X19     29991 non-null  float64\n",
            " 20  X20     29992 non-null  float64\n",
            " 21  X21     29989 non-null  float64\n",
            " 22  X22     29989 non-null  float64\n",
            " 23  X23     29995 non-null  float64\n",
            " 24  Y       29997 non-null  float64\n",
            "dtypes: float64(23), int64(2)\n",
            "memory usage: 5.7 MB\n"
          ]
        }
      ]
    },
    {
      "cell_type": "code",
      "source": [
        "#Validamos los datos perdidos del dataframe\n",
        "print(\"Verificamos las columnas con datos perdidos en nuestro dataframe:\")\n",
        "df.isna().any()"
      ],
      "metadata": {
        "id": "TFwimwzXAFke",
        "outputId": "b8355780-13ed-42a3-f759-33c47e3d3863",
        "colab": {
          "base_uri": "https://localhost:8080/"
        }
      },
      "execution_count": 7,
      "outputs": [
        {
          "output_type": "stream",
          "name": "stdout",
          "text": [
            "Verificamos las columnas con datos perdidos en nuestro dataframe:\n"
          ]
        },
        {
          "output_type": "execute_result",
          "data": {
            "text/plain": [
              "ID     False\n",
              "X1     False\n",
              "X2      True\n",
              "X3      True\n",
              "X4      True\n",
              "X5      True\n",
              "X6      True\n",
              "X7      True\n",
              "X8      True\n",
              "X9      True\n",
              "X10     True\n",
              "X11     True\n",
              "X12     True\n",
              "X13     True\n",
              "X14     True\n",
              "X15     True\n",
              "X16     True\n",
              "X17     True\n",
              "X18     True\n",
              "X19     True\n",
              "X20     True\n",
              "X21     True\n",
              "X22     True\n",
              "X23     True\n",
              "Y       True\n",
              "dtype: bool"
            ]
          },
          "metadata": {},
          "execution_count": 7
        }
      ]
    },
    {
      "cell_type": "markdown",
      "source": [
        "☝ Observamos que en todas las columnas (excepto ID y X1) existen datos perdidos, por lo cual procederemos con la limpieza en el siguiente punto."
      ],
      "metadata": {
        "id": "DEz1FmGNCp78"
      }
    },
    {
      "cell_type": "markdown",
      "source": [
        "---\n",
        "\n",
        "## 👣 **3.   Limpia los datos eliminando los registros nulos o rellena con la media de la columna**\n",
        "\n",
        "\n",
        "---"
      ],
      "metadata": {
        "id": "KJoQ1g_KBZRo"
      }
    },
    {
      "cell_type": "markdown",
      "source": [
        "⚠ Teniendo en cuenta que la eliminación de registros nulos podría llevarse datos sensibles útiles para las predicciones del modelo, procederemos a evaluar la cantidad de registros nulos por columna y tipo con el fin de aplicar la eliminación solo en aquellas variables categóricas en las que existan menos de 20 registros con datos nulos, si existen más de 20 registros nulos podríamos aplicar una imputación con la moda a los atributos categóricos. Para las columnas numéricas se rellenarán los datos perdidos con la media de la columna."
      ],
      "metadata": {
        "id": "5xlYppy1DoMX"
      }
    },
    {
      "cell_type": "code",
      "metadata": {
        "id": "315jkeDeO-Ja",
        "colab": {
          "base_uri": "https://localhost:8080/"
        },
        "outputId": "c56cae3f-7fb6-488e-cbe7-ad7ebb6e78e4"
      },
      "source": [
        "#Creamos un dataframe llamado \"datos_perdidos_columnas\" en el que almacenaremos los datos faltantes del dataframe original \"df\"\n",
        "datos_perdidos_columnas = df.isna()\n",
        "datos_perdidos_columnas\n",
        "\n",
        "#Recorremos las columnas obtenidas en \"datos_perdidos_columnas\" e imprimimos la cantidad de registros con valores perdidos (True) y valores correctos (False)\n",
        "for columna in datos_perdidos_columnas.columns.values.tolist():\n",
        "    print(columna)\n",
        "    print (datos_perdidos_columnas[columna].value_counts())\n",
        "    print(\"\")"
      ],
      "execution_count": 8,
      "outputs": [
        {
          "output_type": "stream",
          "name": "stdout",
          "text": [
            "ID\n",
            "False    30000\n",
            "Name: ID, dtype: int64\n",
            "\n",
            "X1\n",
            "False    30000\n",
            "Name: X1, dtype: int64\n",
            "\n",
            "X2\n",
            "False    29999\n",
            "True         1\n",
            "Name: X2, dtype: int64\n",
            "\n",
            "X3\n",
            "False    29998\n",
            "True         2\n",
            "Name: X3, dtype: int64\n",
            "\n",
            "X4\n",
            "False    29998\n",
            "True         2\n",
            "Name: X4, dtype: int64\n",
            "\n",
            "X5\n",
            "False    29995\n",
            "True         5\n",
            "Name: X5, dtype: int64\n",
            "\n",
            "X6\n",
            "False    29997\n",
            "True         3\n",
            "Name: X6, dtype: int64\n",
            "\n",
            "X7\n",
            "False    29995\n",
            "True         5\n",
            "Name: X7, dtype: int64\n",
            "\n",
            "X8\n",
            "False    29993\n",
            "True         7\n",
            "Name: X8, dtype: int64\n",
            "\n",
            "X9\n",
            "False    29991\n",
            "True         9\n",
            "Name: X9, dtype: int64\n",
            "\n",
            "X10\n",
            "False    29984\n",
            "True        16\n",
            "Name: X10, dtype: int64\n",
            "\n",
            "X11\n",
            "False    29986\n",
            "True        14\n",
            "Name: X11, dtype: int64\n",
            "\n",
            "X12\n",
            "False    29989\n",
            "True        11\n",
            "Name: X12, dtype: int64\n",
            "\n",
            "X13\n",
            "False    29989\n",
            "True        11\n",
            "Name: X13, dtype: int64\n",
            "\n",
            "X14\n",
            "False    29987\n",
            "True        13\n",
            "Name: X14, dtype: int64\n",
            "\n",
            "X15\n",
            "False    29985\n",
            "True        15\n",
            "Name: X15, dtype: int64\n",
            "\n",
            "X16\n",
            "False    29983\n",
            "True        17\n",
            "Name: X16, dtype: int64\n",
            "\n",
            "X17\n",
            "False    29990\n",
            "True        10\n",
            "Name: X17, dtype: int64\n",
            "\n",
            "X18\n",
            "False    29992\n",
            "True         8\n",
            "Name: X18, dtype: int64\n",
            "\n",
            "X19\n",
            "False    29991\n",
            "True         9\n",
            "Name: X19, dtype: int64\n",
            "\n",
            "X20\n",
            "False    29992\n",
            "True         8\n",
            "Name: X20, dtype: int64\n",
            "\n",
            "X21\n",
            "False    29989\n",
            "True        11\n",
            "Name: X21, dtype: int64\n",
            "\n",
            "X22\n",
            "False    29989\n",
            "True        11\n",
            "Name: X22, dtype: int64\n",
            "\n",
            "X23\n",
            "False    29995\n",
            "True         5\n",
            "Name: X23, dtype: int64\n",
            "\n",
            "Y\n",
            "False    29997\n",
            "True         3\n",
            "Name: Y, dtype: int64\n",
            "\n"
          ]
        }
      ]
    },
    {
      "cell_type": "markdown",
      "source": [
        "☝ **PARA TENER EN CUENTA:** Sabemos por la descripción del dataset que, aunque todos los datos son numéricos, los siguientes atributos son categóricos:\n",
        "\n",
        "\n",
        "*   X2: Género (Categórica nominal)\n",
        "*   X3: Educación (Categórica ordinal)\n",
        "*   X4: Estado Marital (Categórica nominal)\n",
        "*   X6: Historial de pagos pasados septiembre (Categórica ordinal)\n",
        "*   X7: Historial de pagos pasados agosto (Categórica ordinal)\n",
        "*   X8: Historial de pagos pasados julio (Categórica ordinal)\n",
        "*   X9: Historial de pagos pasados junio (Categórica ordinal)\n",
        "*   X10: Historial de pagos pasados mayo (Categórica ordinal)\n",
        "*   X11: Historial de pagos pasados abril (Categórica ordinal)\n",
        "\n",
        "El resto de columnas (X1, X5 y X12-X23) son numéricas."
      ],
      "metadata": {
        "id": "wV-buLFLlChA"
      }
    },
    {
      "cell_type": "markdown",
      "source": [
        "---\n",
        "\n",
        "\n",
        "✍ De acuerdo a los resultados obtenidos, aplicaremos eliminación de registros para todas las columnas categóricas mencionadas, ya que el número de registros nulos no superan las 20 filas. Para los atributos numéricos imputaremos la media en sus datos perdidos."
      ],
      "metadata": {
        "id": "Nx0Vn5ICEfG5"
      }
    },
    {
      "cell_type": "code",
      "source": [
        "#Ejecutamos la función 'dropna' para las columnas categóricas indicándoles que aplique la eliminación de forma permanente en el dataframe.\n",
        "df.dropna(subset=[\"X2\"], axis=0, inplace=True)\n",
        "df.dropna(subset=[\"X3\"], axis=0, inplace=True)\n",
        "df.dropna(subset=[\"X4\"], axis=0, inplace=True)\n",
        "df.dropna(subset=[\"X6\"], axis=0, inplace=True)\n",
        "df.dropna(subset=[\"X7\"], axis=0, inplace=True)\n",
        "df.dropna(subset=[\"X8\"], axis=0, inplace=True)\n",
        "df.dropna(subset=[\"X9\"], axis=0, inplace=True)\n",
        "df.dropna(subset=[\"X10\"], axis=0, inplace=True)\n",
        "df.dropna(subset=[\"X11\"], axis=0, inplace=True)\n",
        "\n",
        "#Reseteamos el indice del dataframe debido a la eliminación del registro\n",
        "df.reset_index(drop=True, inplace=True)"
      ],
      "metadata": {
        "id": "npQYOPsJEwB4"
      },
      "execution_count": 9,
      "outputs": []
    },
    {
      "cell_type": "code",
      "source": [
        "import numpy as np\n",
        "\n",
        "#Aplicaremos reemplazo de datos utilizando el promedio de la columna para el resto de columnas (X5 y X12 hasta la última Y).\n",
        "#Calculamos la media de la columna\n",
        "df = df.replace({'X5':{np.nan: df[\"X5\"].mean(axis=0)}, 'X12':{np.nan: df[\"X12\"].mean(axis=0)}, 'X13':{np.nan: df[\"X13\"].mean(axis=0)}, \n",
        "                 'X14':{np.nan: df[\"X14\"].mean(axis=0)}, 'X15':{np.nan: df[\"X15\"].mean(axis=0)}, 'X16':{np.nan: df[\"X16\"].mean(axis=0)}, \n",
        "                 'X17':{np.nan: df[\"X17\"].mean(axis=0)}, 'X18':{np.nan: df[\"X18\"].mean(axis=0)}, 'X19':{np.nan: df[\"X19\"].mean(axis=0)}, \n",
        "                 'X20':{np.nan: df[\"X20\"].mean(axis=0)}, 'X21':{np.nan: df[\"X21\"].mean(axis=0)}, 'X22':{np.nan: df[\"X22\"].mean(axis=0)}, \n",
        "                 'X23':{np.nan: df[\"X23\"].mean(axis=0)}, 'Y':{np.nan: df[\"Y\"].mean(axis=0)}})\n",
        "\n",
        "#Verificamos que no existan datos perdidos en ninguna columna\n",
        "df.isna().any()"
      ],
      "metadata": {
        "id": "a01cVFKIFLEq",
        "outputId": "82202d93-3540-4475-f8c5-1d4c81fcca2d",
        "colab": {
          "base_uri": "https://localhost:8080/"
        }
      },
      "execution_count": 10,
      "outputs": [
        {
          "output_type": "execute_result",
          "data": {
            "text/plain": [
              "ID     False\n",
              "X1     False\n",
              "X2     False\n",
              "X3     False\n",
              "X4     False\n",
              "X5     False\n",
              "X6     False\n",
              "X7     False\n",
              "X8     False\n",
              "X9     False\n",
              "X10    False\n",
              "X11    False\n",
              "X12    False\n",
              "X13    False\n",
              "X14    False\n",
              "X15    False\n",
              "X16    False\n",
              "X17    False\n",
              "X18    False\n",
              "X19    False\n",
              "X20    False\n",
              "X21    False\n",
              "X22    False\n",
              "X23    False\n",
              "Y      False\n",
              "dtype: bool"
            ]
          },
          "metadata": {},
          "execution_count": 10
        }
      ]
    },
    {
      "cell_type": "markdown",
      "source": [
        "🙌 No existen datos perdidos en nuestro dataframe."
      ],
      "metadata": {
        "id": "i6H_-lVKU0RY"
      }
    },
    {
      "cell_type": "markdown",
      "source": [
        "---\n",
        "\n",
        "## 👣 **4.   Calcula la estadística descriptiva explicando medidas de tendencia central y dispersión**\n",
        "\n",
        "\n",
        "---"
      ],
      "metadata": {
        "id": "wRxVxcftUjTa"
      }
    },
    {
      "cell_type": "code",
      "source": [
        "#Ejecutamos la función describe para evaluar el resumen estadístico de los datos en el dataframe\n",
        "df.describe()"
      ],
      "metadata": {
        "id": "1fpt2F7vVL-j",
        "outputId": "a2000300-e86c-4277-d8cd-35cdac117805",
        "colab": {
          "base_uri": "https://localhost:8080/",
          "height": 393
        }
      },
      "execution_count": 11,
      "outputs": [
        {
          "output_type": "execute_result",
          "data": {
            "text/plain": [
              "                 ID              X1            X2            X3            X4  \\\n",
              "count  29978.000000    29978.000000  29978.000000  29978.000000  29978.000000   \n",
              "mean   14999.834312   167526.842351      1.604043      1.853059      1.551805   \n",
              "std     8658.351060   129740.945308      0.489063      0.790445      0.521993   \n",
              "min        1.000000    10000.000000      1.000000      0.000000      0.000000   \n",
              "25%     7505.250000    50000.000000      1.000000      1.000000      1.000000   \n",
              "50%    14999.500000   140000.000000      2.000000      2.000000      2.000000   \n",
              "75%    22495.750000   240000.000000      2.000000      2.000000      2.000000   \n",
              "max    30000.000000  1000000.000000      2.000000      6.000000      3.000000   \n",
              "\n",
              "                 X5            X6            X7            X8            X9  \\\n",
              "count  29978.000000  29978.000000  29978.000000  29978.000000  29978.000000   \n",
              "mean      35.485838     -0.016846     -0.133865     -0.166555     -0.221062   \n",
              "std        9.217635      1.123856      1.197230      1.196193      1.168638   \n",
              "min       21.000000     -2.000000     -2.000000     -2.000000     -2.000000   \n",
              "25%       28.000000     -1.000000     -1.000000     -1.000000     -1.000000   \n",
              "50%       34.000000      0.000000      0.000000      0.000000      0.000000   \n",
              "75%       41.000000      0.000000      0.000000      0.000000      0.000000   \n",
              "max       79.000000      8.000000      8.000000      8.000000      8.000000   \n",
              "\n",
              "       ...            X15            X16            X17            X18  \\\n",
              "count  ...   29978.000000   29978.000000   29978.000000   29978.000000   \n",
              "mean   ...   43271.461379   40321.123895   38879.575018    5664.736681   \n",
              "std    ...   64348.501194   60810.150576   59567.118641   16567.730115   \n",
              "min    ... -170000.000000  -81334.000000 -339603.000000       0.000000   \n",
              "25%    ...    2326.250000    1763.000000    1256.000000    1000.000000   \n",
              "50%    ...   19049.000000   18106.500000   17068.000000    2100.000000   \n",
              "75%    ...   54498.750000   50183.750000   49205.750000    5007.000000   \n",
              "max    ...  891586.000000  927171.000000  961664.000000  873552.000000   \n",
              "\n",
              "                X19            X20            X21            X22  \\\n",
              "count  2.997800e+04   29978.000000   29978.000000   29978.000000   \n",
              "mean   5.924217e+03    5226.979483    4828.786808    4801.313760   \n",
              "std    2.304897e+04   17612.335274   15671.444841   15283.149318   \n",
              "min    0.000000e+00       0.000000       0.000000       0.000000   \n",
              "25%    8.352500e+02     390.000000     296.000000     251.000000   \n",
              "50%    2.009000e+03    1800.000000    1500.000000    1500.000000   \n",
              "75%    5.000000e+03    4509.500000    4015.750000    4040.750000   \n",
              "max    1.684259e+06  896040.000000  621000.000000  426529.000000   \n",
              "\n",
              "                 X23             Y  \n",
              "count   29978.000000  29978.000000  \n",
              "mean     5218.976112      0.221184  \n",
              "std     17783.558116      0.415031  \n",
              "min         0.000000      0.000000  \n",
              "25%       116.250000      0.000000  \n",
              "50%      1500.000000      0.000000  \n",
              "75%      4000.000000      0.000000  \n",
              "max    528666.000000      1.000000  \n",
              "\n",
              "[8 rows x 25 columns]"
            ],
            "text/html": [
              "\n",
              "  <div id=\"df-9b5cf674-876e-461e-91e9-9cf8c5715317\">\n",
              "    <div class=\"colab-df-container\">\n",
              "      <div>\n",
              "<style scoped>\n",
              "    .dataframe tbody tr th:only-of-type {\n",
              "        vertical-align: middle;\n",
              "    }\n",
              "\n",
              "    .dataframe tbody tr th {\n",
              "        vertical-align: top;\n",
              "    }\n",
              "\n",
              "    .dataframe thead th {\n",
              "        text-align: right;\n",
              "    }\n",
              "</style>\n",
              "<table border=\"1\" class=\"dataframe\">\n",
              "  <thead>\n",
              "    <tr style=\"text-align: right;\">\n",
              "      <th></th>\n",
              "      <th>ID</th>\n",
              "      <th>X1</th>\n",
              "      <th>X2</th>\n",
              "      <th>X3</th>\n",
              "      <th>X4</th>\n",
              "      <th>X5</th>\n",
              "      <th>X6</th>\n",
              "      <th>X7</th>\n",
              "      <th>X8</th>\n",
              "      <th>X9</th>\n",
              "      <th>...</th>\n",
              "      <th>X15</th>\n",
              "      <th>X16</th>\n",
              "      <th>X17</th>\n",
              "      <th>X18</th>\n",
              "      <th>X19</th>\n",
              "      <th>X20</th>\n",
              "      <th>X21</th>\n",
              "      <th>X22</th>\n",
              "      <th>X23</th>\n",
              "      <th>Y</th>\n",
              "    </tr>\n",
              "  </thead>\n",
              "  <tbody>\n",
              "    <tr>\n",
              "      <th>count</th>\n",
              "      <td>29978.000000</td>\n",
              "      <td>29978.000000</td>\n",
              "      <td>29978.000000</td>\n",
              "      <td>29978.000000</td>\n",
              "      <td>29978.000000</td>\n",
              "      <td>29978.000000</td>\n",
              "      <td>29978.000000</td>\n",
              "      <td>29978.000000</td>\n",
              "      <td>29978.000000</td>\n",
              "      <td>29978.000000</td>\n",
              "      <td>...</td>\n",
              "      <td>29978.000000</td>\n",
              "      <td>29978.000000</td>\n",
              "      <td>29978.000000</td>\n",
              "      <td>29978.000000</td>\n",
              "      <td>2.997800e+04</td>\n",
              "      <td>29978.000000</td>\n",
              "      <td>29978.000000</td>\n",
              "      <td>29978.000000</td>\n",
              "      <td>29978.000000</td>\n",
              "      <td>29978.000000</td>\n",
              "    </tr>\n",
              "    <tr>\n",
              "      <th>mean</th>\n",
              "      <td>14999.834312</td>\n",
              "      <td>167526.842351</td>\n",
              "      <td>1.604043</td>\n",
              "      <td>1.853059</td>\n",
              "      <td>1.551805</td>\n",
              "      <td>35.485838</td>\n",
              "      <td>-0.016846</td>\n",
              "      <td>-0.133865</td>\n",
              "      <td>-0.166555</td>\n",
              "      <td>-0.221062</td>\n",
              "      <td>...</td>\n",
              "      <td>43271.461379</td>\n",
              "      <td>40321.123895</td>\n",
              "      <td>38879.575018</td>\n",
              "      <td>5664.736681</td>\n",
              "      <td>5.924217e+03</td>\n",
              "      <td>5226.979483</td>\n",
              "      <td>4828.786808</td>\n",
              "      <td>4801.313760</td>\n",
              "      <td>5218.976112</td>\n",
              "      <td>0.221184</td>\n",
              "    </tr>\n",
              "    <tr>\n",
              "      <th>std</th>\n",
              "      <td>8658.351060</td>\n",
              "      <td>129740.945308</td>\n",
              "      <td>0.489063</td>\n",
              "      <td>0.790445</td>\n",
              "      <td>0.521993</td>\n",
              "      <td>9.217635</td>\n",
              "      <td>1.123856</td>\n",
              "      <td>1.197230</td>\n",
              "      <td>1.196193</td>\n",
              "      <td>1.168638</td>\n",
              "      <td>...</td>\n",
              "      <td>64348.501194</td>\n",
              "      <td>60810.150576</td>\n",
              "      <td>59567.118641</td>\n",
              "      <td>16567.730115</td>\n",
              "      <td>2.304897e+04</td>\n",
              "      <td>17612.335274</td>\n",
              "      <td>15671.444841</td>\n",
              "      <td>15283.149318</td>\n",
              "      <td>17783.558116</td>\n",
              "      <td>0.415031</td>\n",
              "    </tr>\n",
              "    <tr>\n",
              "      <th>min</th>\n",
              "      <td>1.000000</td>\n",
              "      <td>10000.000000</td>\n",
              "      <td>1.000000</td>\n",
              "      <td>0.000000</td>\n",
              "      <td>0.000000</td>\n",
              "      <td>21.000000</td>\n",
              "      <td>-2.000000</td>\n",
              "      <td>-2.000000</td>\n",
              "      <td>-2.000000</td>\n",
              "      <td>-2.000000</td>\n",
              "      <td>...</td>\n",
              "      <td>-170000.000000</td>\n",
              "      <td>-81334.000000</td>\n",
              "      <td>-339603.000000</td>\n",
              "      <td>0.000000</td>\n",
              "      <td>0.000000e+00</td>\n",
              "      <td>0.000000</td>\n",
              "      <td>0.000000</td>\n",
              "      <td>0.000000</td>\n",
              "      <td>0.000000</td>\n",
              "      <td>0.000000</td>\n",
              "    </tr>\n",
              "    <tr>\n",
              "      <th>25%</th>\n",
              "      <td>7505.250000</td>\n",
              "      <td>50000.000000</td>\n",
              "      <td>1.000000</td>\n",
              "      <td>1.000000</td>\n",
              "      <td>1.000000</td>\n",
              "      <td>28.000000</td>\n",
              "      <td>-1.000000</td>\n",
              "      <td>-1.000000</td>\n",
              "      <td>-1.000000</td>\n",
              "      <td>-1.000000</td>\n",
              "      <td>...</td>\n",
              "      <td>2326.250000</td>\n",
              "      <td>1763.000000</td>\n",
              "      <td>1256.000000</td>\n",
              "      <td>1000.000000</td>\n",
              "      <td>8.352500e+02</td>\n",
              "      <td>390.000000</td>\n",
              "      <td>296.000000</td>\n",
              "      <td>251.000000</td>\n",
              "      <td>116.250000</td>\n",
              "      <td>0.000000</td>\n",
              "    </tr>\n",
              "    <tr>\n",
              "      <th>50%</th>\n",
              "      <td>14999.500000</td>\n",
              "      <td>140000.000000</td>\n",
              "      <td>2.000000</td>\n",
              "      <td>2.000000</td>\n",
              "      <td>2.000000</td>\n",
              "      <td>34.000000</td>\n",
              "      <td>0.000000</td>\n",
              "      <td>0.000000</td>\n",
              "      <td>0.000000</td>\n",
              "      <td>0.000000</td>\n",
              "      <td>...</td>\n",
              "      <td>19049.000000</td>\n",
              "      <td>18106.500000</td>\n",
              "      <td>17068.000000</td>\n",
              "      <td>2100.000000</td>\n",
              "      <td>2.009000e+03</td>\n",
              "      <td>1800.000000</td>\n",
              "      <td>1500.000000</td>\n",
              "      <td>1500.000000</td>\n",
              "      <td>1500.000000</td>\n",
              "      <td>0.000000</td>\n",
              "    </tr>\n",
              "    <tr>\n",
              "      <th>75%</th>\n",
              "      <td>22495.750000</td>\n",
              "      <td>240000.000000</td>\n",
              "      <td>2.000000</td>\n",
              "      <td>2.000000</td>\n",
              "      <td>2.000000</td>\n",
              "      <td>41.000000</td>\n",
              "      <td>0.000000</td>\n",
              "      <td>0.000000</td>\n",
              "      <td>0.000000</td>\n",
              "      <td>0.000000</td>\n",
              "      <td>...</td>\n",
              "      <td>54498.750000</td>\n",
              "      <td>50183.750000</td>\n",
              "      <td>49205.750000</td>\n",
              "      <td>5007.000000</td>\n",
              "      <td>5.000000e+03</td>\n",
              "      <td>4509.500000</td>\n",
              "      <td>4015.750000</td>\n",
              "      <td>4040.750000</td>\n",
              "      <td>4000.000000</td>\n",
              "      <td>0.000000</td>\n",
              "    </tr>\n",
              "    <tr>\n",
              "      <th>max</th>\n",
              "      <td>30000.000000</td>\n",
              "      <td>1000000.000000</td>\n",
              "      <td>2.000000</td>\n",
              "      <td>6.000000</td>\n",
              "      <td>3.000000</td>\n",
              "      <td>79.000000</td>\n",
              "      <td>8.000000</td>\n",
              "      <td>8.000000</td>\n",
              "      <td>8.000000</td>\n",
              "      <td>8.000000</td>\n",
              "      <td>...</td>\n",
              "      <td>891586.000000</td>\n",
              "      <td>927171.000000</td>\n",
              "      <td>961664.000000</td>\n",
              "      <td>873552.000000</td>\n",
              "      <td>1.684259e+06</td>\n",
              "      <td>896040.000000</td>\n",
              "      <td>621000.000000</td>\n",
              "      <td>426529.000000</td>\n",
              "      <td>528666.000000</td>\n",
              "      <td>1.000000</td>\n",
              "    </tr>\n",
              "  </tbody>\n",
              "</table>\n",
              "<p>8 rows × 25 columns</p>\n",
              "</div>\n",
              "      <button class=\"colab-df-convert\" onclick=\"convertToInteractive('df-9b5cf674-876e-461e-91e9-9cf8c5715317')\"\n",
              "              title=\"Convert this dataframe to an interactive table.\"\n",
              "              style=\"display:none;\">\n",
              "        \n",
              "  <svg xmlns=\"http://www.w3.org/2000/svg\" height=\"24px\"viewBox=\"0 0 24 24\"\n",
              "       width=\"24px\">\n",
              "    <path d=\"M0 0h24v24H0V0z\" fill=\"none\"/>\n",
              "    <path d=\"M18.56 5.44l.94 2.06.94-2.06 2.06-.94-2.06-.94-.94-2.06-.94 2.06-2.06.94zm-11 1L8.5 8.5l.94-2.06 2.06-.94-2.06-.94L8.5 2.5l-.94 2.06-2.06.94zm10 10l.94 2.06.94-2.06 2.06-.94-2.06-.94-.94-2.06-.94 2.06-2.06.94z\"/><path d=\"M17.41 7.96l-1.37-1.37c-.4-.4-.92-.59-1.43-.59-.52 0-1.04.2-1.43.59L10.3 9.45l-7.72 7.72c-.78.78-.78 2.05 0 2.83L4 21.41c.39.39.9.59 1.41.59.51 0 1.02-.2 1.41-.59l7.78-7.78 2.81-2.81c.8-.78.8-2.07 0-2.86zM5.41 20L4 18.59l7.72-7.72 1.47 1.35L5.41 20z\"/>\n",
              "  </svg>\n",
              "      </button>\n",
              "      \n",
              "  <style>\n",
              "    .colab-df-container {\n",
              "      display:flex;\n",
              "      flex-wrap:wrap;\n",
              "      gap: 12px;\n",
              "    }\n",
              "\n",
              "    .colab-df-convert {\n",
              "      background-color: #E8F0FE;\n",
              "      border: none;\n",
              "      border-radius: 50%;\n",
              "      cursor: pointer;\n",
              "      display: none;\n",
              "      fill: #1967D2;\n",
              "      height: 32px;\n",
              "      padding: 0 0 0 0;\n",
              "      width: 32px;\n",
              "    }\n",
              "\n",
              "    .colab-df-convert:hover {\n",
              "      background-color: #E2EBFA;\n",
              "      box-shadow: 0px 1px 2px rgba(60, 64, 67, 0.3), 0px 1px 3px 1px rgba(60, 64, 67, 0.15);\n",
              "      fill: #174EA6;\n",
              "    }\n",
              "\n",
              "    [theme=dark] .colab-df-convert {\n",
              "      background-color: #3B4455;\n",
              "      fill: #D2E3FC;\n",
              "    }\n",
              "\n",
              "    [theme=dark] .colab-df-convert:hover {\n",
              "      background-color: #434B5C;\n",
              "      box-shadow: 0px 1px 3px 1px rgba(0, 0, 0, 0.15);\n",
              "      filter: drop-shadow(0px 1px 2px rgba(0, 0, 0, 0.3));\n",
              "      fill: #FFFFFF;\n",
              "    }\n",
              "  </style>\n",
              "\n",
              "      <script>\n",
              "        const buttonEl =\n",
              "          document.querySelector('#df-9b5cf674-876e-461e-91e9-9cf8c5715317 button.colab-df-convert');\n",
              "        buttonEl.style.display =\n",
              "          google.colab.kernel.accessAllowed ? 'block' : 'none';\n",
              "\n",
              "        async function convertToInteractive(key) {\n",
              "          const element = document.querySelector('#df-9b5cf674-876e-461e-91e9-9cf8c5715317');\n",
              "          const dataTable =\n",
              "            await google.colab.kernel.invokeFunction('convertToInteractive',\n",
              "                                                     [key], {});\n",
              "          if (!dataTable) return;\n",
              "\n",
              "          const docLinkHtml = 'Like what you see? Visit the ' +\n",
              "            '<a target=\"_blank\" href=https://colab.research.google.com/notebooks/data_table.ipynb>data table notebook</a>'\n",
              "            + ' to learn more about interactive tables.';\n",
              "          element.innerHTML = '';\n",
              "          dataTable['output_type'] = 'display_data';\n",
              "          await google.colab.output.renderOutput(dataTable, element);\n",
              "          const docLink = document.createElement('div');\n",
              "          docLink.innerHTML = docLinkHtml;\n",
              "          element.appendChild(docLink);\n",
              "        }\n",
              "      </script>\n",
              "    </div>\n",
              "  </div>\n",
              "  "
            ]
          },
          "metadata": {},
          "execution_count": 11
        }
      ]
    },
    {
      "cell_type": "markdown",
      "source": [
        "---\n",
        "\n",
        "\n",
        "✍ Observo que los rangos en los datos de los atributos numéricos difieren mucho entre columnas. Por ejemplo; para la columna X5 el mínimo es 21 y el máximo 79, mientras que en la columna X17 el mínimo es -339,603 y el máximo 961,664. Lo mismo ocurre con la media de las columnas, en algunos casos se visualizan valores entre 0 y 2, y en otras columnas mayores a 40,000, mostrando una amplia diferencia en el rango de los valores para las atributos numéricos, lo cual podría generar problemas al correr el modelo, ya que podrían priorizarse de forma erronea aquellas columnas con mayores rangos numéricos.\n",
        "\n",
        "\n",
        "---"
      ],
      "metadata": {
        "id": "UtspLqE_rTdH"
      }
    },
    {
      "cell_type": "markdown",
      "source": [
        "☝ Podemos enfocarnos puntualmente en las columnas X5 y X17 para corroborar lo arrojado por el método **describe()** y obtener también la mediana de dichas columnas."
      ],
      "metadata": {
        "id": "MU5Cguh4uxqF"
      }
    },
    {
      "cell_type": "code",
      "source": [
        "print(\"Estadísticas para la columna X5:\")\n",
        "print(\"* La media es\", df.X5.mean())\n",
        "print(\"* La mediana es\",df.X5.median())\n",
        "print(\"* La moda es\",df.X5.mode())\n",
        "\n",
        "print(\"Estadísticas para la columna X17:\")\n",
        "print(\"* La media es\", df.X17.mean())\n",
        "print(\"* La mediana es\",df.X17.median())\n",
        "print(\"* La moda es\",df.X17.mode())"
      ],
      "metadata": {
        "id": "ockZjVcnujqT",
        "outputId": "89f375c4-ddf7-453c-c6f8-34a23b55f134",
        "colab": {
          "base_uri": "https://localhost:8080/"
        }
      },
      "execution_count": 34,
      "outputs": [
        {
          "output_type": "stream",
          "name": "stdout",
          "text": [
            "Estadísticas para la columna X5:\n",
            "* La media es 35.48583819849875\n",
            "* La mediana es 34.0\n",
            "* La moda es 0    29.0\n",
            "dtype: float64\n",
            "Estadísticas para la columna X17:\n",
            "* La media es 38879.57501751577\n",
            "* La mediana es 17068.0\n",
            "* La moda es 0    0.0\n",
            "dtype: float64\n"
          ]
        }
      ]
    },
    {
      "cell_type": "markdown",
      "source": [
        "---\n",
        "\n",
        "\n",
        "⚠ Confirmamos lo indicado anteriormente, los rangos numéricos difieren mucho entre columnas. Sabemos también que cuando la distribución de los datos es simétrica cuando la media, la mediana y la moda presentan valores cercanos.\n",
        "\n",
        "\n",
        "---"
      ],
      "metadata": {
        "id": "LbsUXFyiv4bn"
      }
    },
    {
      "cell_type": "markdown",
      "source": [
        "☝ Ahora revisaremos la distribución de los datos a través de un histograma:"
      ],
      "metadata": {
        "id": "5rtT6mxr6Ubk"
      }
    },
    {
      "cell_type": "code",
      "source": [
        "#Importamos la librearía\n",
        "import matplotlib.pyplot as plt\n",
        "\n",
        "#Visualizamos las medidas\n",
        "print(\"Media es\", df.X5.mean())\n",
        "print(\"Mediana es\",df.X5.median())\n",
        "print(\"Moda es\",df.X5.mode())\n",
        "\n",
        "#Graficamos las columnas evaluadas anteriormente (X5 y X17)\n",
        "plt.hist(df.X5,8)\n",
        "plt.show"
      ],
      "metadata": {
        "id": "ijODOpe35K_A",
        "outputId": "60659f72-076a-42fe-b68e-1cda87fded5a",
        "colab": {
          "base_uri": "https://localhost:8080/",
          "height": 356
        }
      },
      "execution_count": 32,
      "outputs": [
        {
          "output_type": "stream",
          "name": "stdout",
          "text": [
            "Media es 35.48583819849875\n",
            "Mediana es 34.0\n",
            "Moda es 0    29.0\n",
            "dtype: float64\n"
          ]
        },
        {
          "output_type": "execute_result",
          "data": {
            "text/plain": [
              "<function matplotlib.pyplot.show(*args, **kw)>"
            ]
          },
          "metadata": {},
          "execution_count": 32
        },
        {
          "output_type": "display_data",
          "data": {
            "text/plain": [
              "<Figure size 432x288 with 1 Axes>"
            ],
            "image/png": "[encoded data removed]"
          },
          "metadata": {
            "needs_background": "light"
          }
        }
      ]
    },
    {
      "cell_type": "code",
      "source": [
        "#Visualizamos las medidas\n",
        "print(\"Media es\", df.X17.mean())\n",
        "print(\"Mediana es\",df.X17.median())\n",
        "print(\"Moda es\",df.X17.mode())\n",
        "\n",
        "#Graficamos las columnas evaluadas anteriormente (X5 y X17)\n",
        "plt.hist(df.X17,8)\n",
        "plt.show"
      ],
      "metadata": {
        "id": "u97g2SCC8wOG",
        "outputId": "aa7104d5-7e64-4df0-f1a9-dc85873990ac",
        "colab": {
          "base_uri": "https://localhost:8080/",
          "height": 369
        }
      },
      "execution_count": 35,
      "outputs": [
        {
          "output_type": "stream",
          "name": "stdout",
          "text": [
            "Media es 38879.57501751577\n",
            "Mediana es 17068.0\n",
            "Moda es 0    0.0\n",
            "dtype: float64\n"
          ]
        },
        {
          "output_type": "execute_result",
          "data": {
            "text/plain": [
              "<function matplotlib.pyplot.show(*args, **kw)>"
            ]
          },
          "metadata": {},
          "execution_count": 35
        },
        {
          "output_type": "display_data",
          "data": {
            "text/plain": [
              "<Figure size 432x288 with 1 Axes>"
            ],
            "image/png": "[encoded data removed]"
          },
          "metadata": {
            "needs_background": "light"
          }
        }
      ]
    },
    {
      "cell_type": "markdown",
      "source": [
        "✍ **PARA TENER EN CUENTA:** Los datos en los atributos X5 y X17 presentan un sesgo positivo, que es más notorio para la columna X5. Este sesgo es debido a que la moda es menor a la mediana y la mediana es menor a la media en los atributos analizados."
      ],
      "metadata": {
        "id": "Wu0g43bB7NKx"
      }
    },
    {
      "cell_type": "markdown",
      "source": [
        "---\n",
        "\n",
        "## 👣 **5.   Realiza el conteo de las variables categóricas**\n",
        "\n",
        "\n",
        "---"
      ],
      "metadata": {
        "id": "tCOJ81BRXrWI"
      }
    },
    {
      "cell_type": "code",
      "source": [
        "ner"
      ],
      "metadata": {
        "id": "tsMgAnQDCTb-"
      },
      "execution_count": null,
      "outputs": []
    },
    {
      "cell_type": "markdown",
      "source": [
        "✍ **PARA TENER EN CUENTA:** Debido a que los datos categóricos de nuestro set vienen de la fuente con el tipo de dato numérico, no podremos identificar de la manera convencional \"**df.select_dtypes(include='object')**\" las variables categóricas para realizar el conteo. \n",
        "Teniendo en cuenta lo comentado en el punto 3, respecto a cuales son las columnas categóricas, procederemos a realizar un conteo de los valores por cada atributo de este tipo.\n"
      ],
      "metadata": {
        "id": "sQeXeH73g_CA"
      }
    },
    {
      "cell_type": "code",
      "source": [
        "print(\"Repeticiones para X2 ('Género'):\")\n",
        "df.X2.value_counts()"
      ],
      "metadata": {
        "id": "laTo0T2Hcuun",
        "outputId": "697a76a3-bc6d-4fb1-833a-d65bfffb4aa0",
        "colab": {
          "base_uri": "https://localhost:8080/"
        }
      },
      "execution_count": 54,
      "outputs": [
        {
          "output_type": "stream",
          "name": "stdout",
          "text": [
            "Repeticiones para X2 ('Género'):\n"
          ]
        },
        {
          "output_type": "execute_result",
          "data": {
            "text/plain": [
              "2.0    18108\n",
              "1.0    11870\n",
              "Name: X2, dtype: int64"
            ]
          },
          "metadata": {},
          "execution_count": 54
        }
      ]
    },
    {
      "cell_type": "code",
      "source": [
        "print(\"Repeticiones para X3 ('Educación'):\")\n",
        "df.X3.value_counts()"
      ],
      "metadata": {
        "id": "CqNY-RmbonU_",
        "outputId": "65cbe028-04d1-4318-914e-45bf626a665e",
        "colab": {
          "base_uri": "https://localhost:8080/"
        }
      },
      "execution_count": 55,
      "outputs": [
        {
          "output_type": "stream",
          "name": "stdout",
          "text": [
            "Repeticiones para X3 ('Educación'):\n"
          ]
        },
        {
          "output_type": "execute_result",
          "data": {
            "text/plain": [
              "2.0    14017\n",
              "1.0    10580\n",
              "3.0     4913\n",
              "5.0      280\n",
              "4.0      123\n",
              "6.0       51\n",
              "0.0       14\n",
              "Name: X3, dtype: int64"
            ]
          },
          "metadata": {},
          "execution_count": 55
        }
      ]
    },
    {
      "cell_type": "code",
      "source": [
        "print(\"Repeticiones para X4 ('Estado marital'):\")\n",
        "df.X4.value_counts()"
      ],
      "metadata": {
        "id": "R6fHAUVPotMl",
        "outputId": "16d462f4-3f57-4c02-ce03-c8ad975cf136",
        "colab": {
          "base_uri": "https://localhost:8080/"
        }
      },
      "execution_count": 56,
      "outputs": [
        {
          "output_type": "stream",
          "name": "stdout",
          "text": [
            "Repeticiones para X4 ('Estado marital'):\n"
          ]
        },
        {
          "output_type": "execute_result",
          "data": {
            "text/plain": [
              "2.0    15950\n",
              "1.0    13651\n",
              "3.0      323\n",
              "0.0       54\n",
              "Name: X4, dtype: int64"
            ]
          },
          "metadata": {},
          "execution_count": 56
        }
      ]
    },
    {
      "cell_type": "code",
      "source": [
        "print(\"Repeticiones para X6 ('Historial de pagos pasados septiembre'):\")\n",
        "df.X6.value_counts()"
      ],
      "metadata": {
        "id": "cR8Wh0dwoyIL",
        "outputId": "aa417a80-ed7d-482b-c704-9b7616c7a400",
        "colab": {
          "base_uri": "https://localhost:8080/"
        }
      },
      "execution_count": 57,
      "outputs": [
        {
          "output_type": "stream",
          "name": "stdout",
          "text": [
            "Repeticiones para X6 ('Historial de pagos pasados septiembre'):\n"
          ]
        },
        {
          "output_type": "execute_result",
          "data": {
            "text/plain": [
              " 0.0    14727\n",
              "-1.0     5682\n",
              " 1.0     3684\n",
              "-2.0     2758\n",
              " 2.0     2664\n",
              " 3.0      322\n",
              " 4.0       76\n",
              " 5.0       26\n",
              " 8.0       19\n",
              " 6.0       11\n",
              " 7.0        9\n",
              "Name: X6, dtype: int64"
            ]
          },
          "metadata": {},
          "execution_count": 57
        }
      ]
    },
    {
      "cell_type": "code",
      "source": [
        "print(\"Repeticiones para X7 ('Historial de pagos pasados agosto'):\")\n",
        "df.X7.value_counts()"
      ],
      "metadata": {
        "id": "f-fd59Ayo5Q3",
        "outputId": "39bf5421-4e29-41e5-e5e0-adc3c0eb3b49",
        "colab": {
          "base_uri": "https://localhost:8080/"
        }
      },
      "execution_count": 58,
      "outputs": [
        {
          "output_type": "stream",
          "name": "stdout",
          "text": [
            "Repeticiones para X7 ('Historial de pagos pasados agosto'):\n"
          ]
        },
        {
          "output_type": "execute_result",
          "data": {
            "text/plain": [
              " 0.0    15718\n",
              "-1.0     6046\n",
              " 2.0     3923\n",
              "-2.0     3780\n",
              " 3.0      326\n",
              " 4.0       99\n",
              " 1.0       28\n",
              " 5.0       25\n",
              " 7.0       20\n",
              " 6.0       12\n",
              " 8.0        1\n",
              "Name: X7, dtype: int64"
            ]
          },
          "metadata": {},
          "execution_count": 58
        }
      ]
    },
    {
      "cell_type": "code",
      "source": [
        "print(\"Repeticiones para X8 ('Historial de pagos pasados julio'):\")\n",
        "df.X8.value_counts()"
      ],
      "metadata": {
        "id": "EYizuhTco7Nx",
        "outputId": "ada1d8ff-a56d-4deb-f199-81440626966e",
        "colab": {
          "base_uri": "https://localhost:8080/"
        }
      },
      "execution_count": 59,
      "outputs": [
        {
          "output_type": "stream",
          "name": "stdout",
          "text": [
            "Repeticiones para X8 ('Historial de pagos pasados julio'):\n"
          ]
        },
        {
          "output_type": "execute_result",
          "data": {
            "text/plain": [
              " 0.0    15750\n",
              "-1.0     5933\n",
              "-2.0     4085\n",
              " 2.0     3817\n",
              " 3.0      240\n",
              " 4.0       76\n",
              " 7.0       27\n",
              " 6.0       23\n",
              " 5.0       21\n",
              " 1.0        4\n",
              " 8.0        2\n",
              "Name: X8, dtype: int64"
            ]
          },
          "metadata": {},
          "execution_count": 59
        }
      ]
    },
    {
      "cell_type": "code",
      "source": [
        "print(\"Repeticiones para X9 ('Historial de pagos pasados junio'):\")\n",
        "df.X9.value_counts()"
      ],
      "metadata": {
        "id": "l8Jfk4kno-xW",
        "outputId": "f3ebfcc8-27d1-4cc2-9c04-db3db2e2dd5b",
        "colab": {
          "base_uri": "https://localhost:8080/"
        }
      },
      "execution_count": 60,
      "outputs": [
        {
          "output_type": "stream",
          "name": "stdout",
          "text": [
            "Repeticiones para X9 ('Historial de pagos pasados junio'):\n"
          ]
        },
        {
          "output_type": "execute_result",
          "data": {
            "text/plain": [
              " 0.0    16440\n",
              "-1.0     5683\n",
              "-2.0     4348\n",
              " 2.0     3157\n",
              " 3.0      180\n",
              " 4.0       69\n",
              " 7.0       57\n",
              " 5.0       35\n",
              " 6.0        5\n",
              " 1.0        2\n",
              " 8.0        2\n",
              "Name: X9, dtype: int64"
            ]
          },
          "metadata": {},
          "execution_count": 60
        }
      ]
    },
    {
      "cell_type": "code",
      "source": [
        "print(\"Repeticiones para X10 ('Historial de pagos pasados mayo'):\")\n",
        "df.X10.value_counts()"
      ],
      "metadata": {
        "id": "9P_TVv8VpB3_",
        "outputId": "581640a1-bdcb-4f2a-c280-5f08bb5ac79e",
        "colab": {
          "base_uri": "https://localhost:8080/"
        }
      },
      "execution_count": 61,
      "outputs": [
        {
          "output_type": "stream",
          "name": "stdout",
          "text": [
            "Repeticiones para X10 ('Historial de pagos pasados mayo'):\n"
          ]
        },
        {
          "output_type": "execute_result",
          "data": {
            "text/plain": [
              " 0.0    16934\n",
              "-1.0     5535\n",
              "-2.0     4546\n",
              " 2.0     2622\n",
              " 3.0      178\n",
              " 4.0       84\n",
              " 7.0       57\n",
              " 5.0       17\n",
              " 6.0        4\n",
              " 8.0        1\n",
              "Name: X10, dtype: int64"
            ]
          },
          "metadata": {},
          "execution_count": 61
        }
      ]
    },
    {
      "cell_type": "code",
      "source": [
        "print(\"Repeticiones para X11 ('Historial de pagos pasados abril'):\")\n",
        "df.X11.value_counts()"
      ],
      "metadata": {
        "id": "ubW8NnyhpFJs",
        "outputId": "61e18666-b4f9-459a-c38b-013f21862504",
        "colab": {
          "base_uri": "https://localhost:8080/"
        }
      },
      "execution_count": 62,
      "outputs": [
        {
          "output_type": "stream",
          "name": "stdout",
          "text": [
            "Repeticiones para X11 ('Historial de pagos pasados abril'):\n"
          ]
        },
        {
          "output_type": "execute_result",
          "data": {
            "text/plain": [
              " 0.0    16273\n",
              "-1.0     5735\n",
              "-2.0     4895\n",
              " 2.0     2763\n",
              " 3.0      184\n",
              " 4.0       49\n",
              " 7.0       46\n",
              " 6.0       18\n",
              " 5.0       13\n",
              " 8.0        2\n",
              "Name: X11, dtype: int64"
            ]
          },
          "metadata": {},
          "execution_count": 62
        }
      ]
    },
    {
      "cell_type": "markdown",
      "source": [
        "---\n",
        "\n",
        "## 👣 **6.   Escala los datos, si consideras necesario**\n",
        "\n",
        "\n",
        "---"
      ],
      "metadata": {
        "id": "MXaeYdKcX2Mq"
      }
    },
    {
      "cell_type": "markdown",
      "source": [
        "✍ Analizando la información enviada en el **describe()** observamos que los datos arrojados para las columnas X12-X23 difieren mucho en sus rangos si las comparamos con las columnas X2-X11, por lo cual sí considero necesario escalar los datos."
      ],
      "metadata": {
        "id": "J3ghn-1pp0Nu"
      }
    },
    {
      "cell_type": "code",
      "source": [
        "#Como realizaré el ajuste en los datos con la función 'StandardScaler' debemos importar la librería respectiva\n",
        "from sklearn.preprocessing import StandardScaler\n",
        "\n",
        "#Escalamos nuestro dataframe\n",
        "Scaler = StandardScaler()\n",
        "dfEscalado = Scaler.fit_transform(df)\n",
        "dfAjustado=pd.DataFrame(dfEscalado, columns=df.columns)\n",
        "\n",
        "#Visualizamos los primeros 5 registros\n",
        "dfAjustado.head()"
      ],
      "metadata": {
        "id": "FvLlVrqvX7Ki",
        "outputId": "1173f44d-d104-41f8-f101-d72aa7ca4639",
        "colab": {
          "base_uri": "https://localhost:8080/",
          "height": 299
        }
      },
      "execution_count": 63,
      "outputs": [
        {
          "output_type": "execute_result",
          "data": {
            "text/plain": [
              "         ID        X1        X2      X3        X4        X5        X6  \\\n",
              "0 -1.732326 -1.137107  0.809637  0.1859 -1.057128 -1.246093  1.794607   \n",
              "1 -1.732210 -0.366327  0.809637  0.1859  0.858637 -1.029114 -0.874819   \n",
              "2 -1.732095 -0.597561  0.809637  0.1859  0.858637 -0.161198  0.014989   \n",
              "3 -1.731979 -0.905873  0.809637  0.1859 -1.057128  0.164271  0.014989   \n",
              "4 -1.731864 -0.905873 -1.235122  0.1859 -1.057128  2.334061 -0.874819   \n",
              "\n",
              "         X7        X8        X9  ...       X15       X16       X17       X18  \\\n",
              "0  1.782365 -0.696759 -0.666546  ... -0.672466 -0.663077 -0.652713 -0.341920   \n",
              "1  1.782365  0.139240  0.189165  ... -0.621617 -0.606260 -0.597967 -0.341920   \n",
              "2  0.111814  0.139240  0.189165  ... -0.449753 -0.417258 -0.391675 -0.250294   \n",
              "3  0.111814  0.139240  0.189165  ... -0.232448 -0.186849 -0.156676 -0.221201   \n",
              "4  0.111814 -0.696759  0.189165  ... -0.347045 -0.348223 -0.331540 -0.221201   \n",
              "\n",
              "        X19       X20       X21       X22       X23         Y  \n",
              "0 -0.227138 -0.296784 -0.308132 -0.314163 -0.293477  1.876558  \n",
              "1 -0.213645 -0.240005 -0.244320 -0.314163 -0.181012  1.876558  \n",
              "2 -0.191952 -0.240005 -0.244320 -0.248730 -0.012314 -0.532944  \n",
              "3 -0.169434 -0.228649 -0.237939 -0.244215 -0.237244 -0.532944  \n",
              "4  1.334433  0.271009  0.266171 -0.269080 -0.255295 -0.532944  \n",
              "\n",
              "[5 rows x 25 columns]"
            ],
            "text/html": [
              "\n",
              "  <div id=\"df-d08aa733-60cb-4f81-b67b-8729b39fab12\">\n",
              "    <div class=\"colab-df-container\">\n",
              "      <div>\n",
              "<style scoped>\n",
              "    .dataframe tbody tr th:only-of-type {\n",
              "        vertical-align: middle;\n",
              "    }\n",
              "\n",
              "    .dataframe tbody tr th {\n",
              "        vertical-align: top;\n",
              "    }\n",
              "\n",
              "    .dataframe thead th {\n",
              "        text-align: right;\n",
              "    }\n",
              "</style>\n",
              "<table border=\"1\" class=\"dataframe\">\n",
              "  <thead>\n",
              "    <tr style=\"text-align: right;\">\n",
              "      <th></th>\n",
              "      <th>ID</th>\n",
              "      <th>X1</th>\n",
              "      <th>X2</th>\n",
              "      <th>X3</th>\n",
              "      <th>X4</th>\n",
              "      <th>X5</th>\n",
              "      <th>X6</th>\n",
              "      <th>X7</th>\n",
              "      <th>X8</th>\n",
              "      <th>X9</th>\n",
              "      <th>...</th>\n",
              "      <th>X15</th>\n",
              "      <th>X16</th>\n",
              "      <th>X17</th>\n",
              "      <th>X18</th>\n",
              "      <th>X19</th>\n",
              "      <th>X20</th>\n",
              "      <th>X21</th>\n",
              "      <th>X22</th>\n",
              "      <th>X23</th>\n",
              "      <th>Y</th>\n",
              "    </tr>\n",
              "  </thead>\n",
              "  <tbody>\n",
              "    <tr>\n",
              "      <th>0</th>\n",
              "      <td>-1.732326</td>\n",
              "      <td>-1.137107</td>\n",
              "      <td>0.809637</td>\n",
              "      <td>0.1859</td>\n",
              "      <td>-1.057128</td>\n",
              "      <td>-1.246093</td>\n",
              "      <td>1.794607</td>\n",
              "      <td>1.782365</td>\n",
              "      <td>-0.696759</td>\n",
              "      <td>-0.666546</td>\n",
              "      <td>...</td>\n",
              "      <td>-0.672466</td>\n",
              "      <td>-0.663077</td>\n",
              "      <td>-0.652713</td>\n",
              "      <td>-0.341920</td>\n",
              "      <td>-0.227138</td>\n",
              "      <td>-0.296784</td>\n",
              "      <td>-0.308132</td>\n",
              "      <td>-0.314163</td>\n",
              "      <td>-0.293477</td>\n",
              "      <td>1.876558</td>\n",
              "    </tr>\n",
              "    <tr>\n",
              "      <th>1</th>\n",
              "      <td>-1.732210</td>\n",
              "      <td>-0.366327</td>\n",
              "      <td>0.809637</td>\n",
              "      <td>0.1859</td>\n",
              "      <td>0.858637</td>\n",
              "      <td>-1.029114</td>\n",
              "      <td>-0.874819</td>\n",
              "      <td>1.782365</td>\n",
              "      <td>0.139240</td>\n",
              "      <td>0.189165</td>\n",
              "      <td>...</td>\n",
              "      <td>-0.621617</td>\n",
              "      <td>-0.606260</td>\n",
              "      <td>-0.597967</td>\n",
              "      <td>-0.341920</td>\n",
              "      <td>-0.213645</td>\n",
              "      <td>-0.240005</td>\n",
              "      <td>-0.244320</td>\n",
              "      <td>-0.314163</td>\n",
              "      <td>-0.181012</td>\n",
              "      <td>1.876558</td>\n",
              "    </tr>\n",
              "    <tr>\n",
              "      <th>2</th>\n",
              "      <td>-1.732095</td>\n",
              "      <td>-0.597561</td>\n",
              "      <td>0.809637</td>\n",
              "      <td>0.1859</td>\n",
              "      <td>0.858637</td>\n",
              "      <td>-0.161198</td>\n",
              "      <td>0.014989</td>\n",
              "      <td>0.111814</td>\n",
              "      <td>0.139240</td>\n",
              "      <td>0.189165</td>\n",
              "      <td>...</td>\n",
              "      <td>-0.449753</td>\n",
              "      <td>-0.417258</td>\n",
              "      <td>-0.391675</td>\n",
              "      <td>-0.250294</td>\n",
              "      <td>-0.191952</td>\n",
              "      <td>-0.240005</td>\n",
              "      <td>-0.244320</td>\n",
              "      <td>-0.248730</td>\n",
              "      <td>-0.012314</td>\n",
              "      <td>-0.532944</td>\n",
              "    </tr>\n",
              "    <tr>\n",
              "      <th>3</th>\n",
              "      <td>-1.731979</td>\n",
              "      <td>-0.905873</td>\n",
              "      <td>0.809637</td>\n",
              "      <td>0.1859</td>\n",
              "      <td>-1.057128</td>\n",
              "      <td>0.164271</td>\n",
              "      <td>0.014989</td>\n",
              "      <td>0.111814</td>\n",
              "      <td>0.139240</td>\n",
              "      <td>0.189165</td>\n",
              "      <td>...</td>\n",
              "      <td>-0.232448</td>\n",
              "      <td>-0.186849</td>\n",
              "      <td>-0.156676</td>\n",
              "      <td>-0.221201</td>\n",
              "      <td>-0.169434</td>\n",
              "      <td>-0.228649</td>\n",
              "      <td>-0.237939</td>\n",
              "      <td>-0.244215</td>\n",
              "      <td>-0.237244</td>\n",
              "      <td>-0.532944</td>\n",
              "    </tr>\n",
              "    <tr>\n",
              "      <th>4</th>\n",
              "      <td>-1.731864</td>\n",
              "      <td>-0.905873</td>\n",
              "      <td>-1.235122</td>\n",
              "      <td>0.1859</td>\n",
              "      <td>-1.057128</td>\n",
              "      <td>2.334061</td>\n",
              "      <td>-0.874819</td>\n",
              "      <td>0.111814</td>\n",
              "      <td>-0.696759</td>\n",
              "      <td>0.189165</td>\n",
              "      <td>...</td>\n",
              "      <td>-0.347045</td>\n",
              "      <td>-0.348223</td>\n",
              "      <td>-0.331540</td>\n",
              "      <td>-0.221201</td>\n",
              "      <td>1.334433</td>\n",
              "      <td>0.271009</td>\n",
              "      <td>0.266171</td>\n",
              "      <td>-0.269080</td>\n",
              "      <td>-0.255295</td>\n",
              "      <td>-0.532944</td>\n",
              "    </tr>\n",
              "  </tbody>\n",
              "</table>\n",
              "<p>5 rows × 25 columns</p>\n",
              "</div>\n",
              "      <button class=\"colab-df-convert\" onclick=\"convertToInteractive('df-d08aa733-60cb-4f81-b67b-8729b39fab12')\"\n",
              "              title=\"Convert this dataframe to an interactive table.\"\n",
              "              style=\"display:none;\">\n",
              "        \n",
              "  <svg xmlns=\"http://www.w3.org/2000/svg\" height=\"24px\"viewBox=\"0 0 24 24\"\n",
              "       width=\"24px\">\n",
              "    <path d=\"M0 0h24v24H0V0z\" fill=\"none\"/>\n",
              "    <path d=\"M18.56 5.44l.94 2.06.94-2.06 2.06-.94-2.06-.94-.94-2.06-.94 2.06-2.06.94zm-11 1L8.5 8.5l.94-2.06 2.06-.94-2.06-.94L8.5 2.5l-.94 2.06-2.06.94zm10 10l.94 2.06.94-2.06 2.06-.94-2.06-.94-.94-2.06-.94 2.06-2.06.94z\"/><path d=\"M17.41 7.96l-1.37-1.37c-.4-.4-.92-.59-1.43-.59-.52 0-1.04.2-1.43.59L10.3 9.45l-7.72 7.72c-.78.78-.78 2.05 0 2.83L4 21.41c.39.39.9.59 1.41.59.51 0 1.02-.2 1.41-.59l7.78-7.78 2.81-2.81c.8-.78.8-2.07 0-2.86zM5.41 20L4 18.59l7.72-7.72 1.47 1.35L5.41 20z\"/>\n",
              "  </svg>\n",
              "      </button>\n",
              "      \n",
              "  <style>\n",
              "    .colab-df-container {\n",
              "      display:flex;\n",
              "      flex-wrap:wrap;\n",
              "      gap: 12px;\n",
              "    }\n",
              "\n",
              "    .colab-df-convert {\n",
              "      background-color: #E8F0FE;\n",
              "      border: none;\n",
              "      border-radius: 50%;\n",
              "      cursor: pointer;\n",
              "      display: none;\n",
              "      fill: #1967D2;\n",
              "      height: 32px;\n",
              "      padding: 0 0 0 0;\n",
              "      width: 32px;\n",
              "    }\n",
              "\n",
              "    .colab-df-convert:hover {\n",
              "      background-color: #E2EBFA;\n",
              "      box-shadow: 0px 1px 2px rgba(60, 64, 67, 0.3), 0px 1px 3px 1px rgba(60, 64, 67, 0.15);\n",
              "      fill: #174EA6;\n",
              "    }\n",
              "\n",
              "    [theme=dark] .colab-df-convert {\n",
              "      background-color: #3B4455;\n",
              "      fill: #D2E3FC;\n",
              "    }\n",
              "\n",
              "    [theme=dark] .colab-df-convert:hover {\n",
              "      background-color: #434B5C;\n",
              "      box-shadow: 0px 1px 3px 1px rgba(0, 0, 0, 0.15);\n",
              "      filter: drop-shadow(0px 1px 2px rgba(0, 0, 0, 0.3));\n",
              "      fill: #FFFFFF;\n",
              "    }\n",
              "  </style>\n",
              "\n",
              "      <script>\n",
              "        const buttonEl =\n",
              "          document.querySelector('#df-d08aa733-60cb-4f81-b67b-8729b39fab12 button.colab-df-convert');\n",
              "        buttonEl.style.display =\n",
              "          google.colab.kernel.accessAllowed ? 'block' : 'none';\n",
              "\n",
              "        async function convertToInteractive(key) {\n",
              "          const element = document.querySelector('#df-d08aa733-60cb-4f81-b67b-8729b39fab12');\n",
              "          const dataTable =\n",
              "            await google.colab.kernel.invokeFunction('convertToInteractive',\n",
              "                                                     [key], {});\n",
              "          if (!dataTable) return;\n",
              "\n",
              "          const docLinkHtml = 'Like what you see? Visit the ' +\n",
              "            '<a target=\"_blank\" href=https://colab.research.google.com/notebooks/data_table.ipynb>data table notebook</a>'\n",
              "            + ' to learn more about interactive tables.';\n",
              "          element.innerHTML = '';\n",
              "          dataTable['output_type'] = 'display_data';\n",
              "          await google.colab.output.renderOutput(dataTable, element);\n",
              "          const docLink = document.createElement('div');\n",
              "          docLink.innerHTML = docLinkHtml;\n",
              "          element.appendChild(docLink);\n",
              "        }\n",
              "      </script>\n",
              "    </div>\n",
              "  </div>\n",
              "  "
            ]
          },
          "metadata": {},
          "execution_count": 63
        }
      ]
    },
    {
      "cell_type": "markdown",
      "source": [
        "---\n",
        "\n",
        "## 👣 **7.   Reduce las dimensiones con PCA, si consideras necesario.**\n",
        "\n",
        "\n",
        "---"
      ],
      "metadata": {
        "id": "E49_eIcMX7ZW"
      }
    },
    {
      "cell_type": "markdown",
      "source": [
        "---\n",
        "\n",
        "\n",
        "\n",
        "👣 **7.1. Indica varianza de datos explicada por componente seleccionado. Para actividades de exploración de los datos la varianza > 70% .**\n",
        "\n",
        "\n",
        "\n",
        "---"
      ],
      "metadata": {
        "id": "Ooi4hg6zYJpz"
      }
    },
    {
      "cell_type": "code",
      "source": [
        "#Llamamos la librería con la función correspondiente al PCA\n",
        "from sklearn.decomposition import PCA\n",
        "\n",
        "Componentes = PCA()\n",
        "ComponentesResult = Componentes.fit_transform(dfAjustado)\n",
        "ComponentesResult[:]"
      ],
      "metadata": {
        "id": "e7bXugtBZPnm",
        "outputId": "0740e3da-0fbf-4542-8fbe-2b50e06ac3a2",
        "colab": {
          "base_uri": "https://localhost:8080/"
        }
      },
      "execution_count": 64,
      "outputs": [
        {
          "output_type": "execute_result",
          "data": {
            "text/plain": [
              "array([[-1.81210679e+00, -1.31008311e+00, -4.79342837e-01, ...,\n",
              "         7.89981709e-03, -6.35071453e-04,  1.48037026e-02],\n",
              "       [-6.82116237e-01, -2.44627927e+00,  1.14268977e+00, ...,\n",
              "        -4.38486147e-03, -1.36527093e-02,  1.09184287e-02],\n",
              "       [-8.69195480e-01, -1.00960581e+00,  5.76217288e-01, ...,\n",
              "        -8.57328183e-02, -5.71542213e-02, -5.17995592e-02],\n",
              "       ...,\n",
              "       [ 4.76605203e-01, -3.57133318e+00,  3.87516962e-01, ...,\n",
              "         2.38511377e-02,  4.71656897e-03, -2.55263342e-02],\n",
              "       [ 7.29581952e-01,  4.21382483e-01,  1.71799152e-01, ...,\n",
              "         1.84634624e-01, -1.28260240e-01, -1.17990307e-02],\n",
              "       [-5.16134600e-02, -1.09727373e+00, -1.55916531e+00, ...,\n",
              "        -1.48835388e-02,  1.29519924e-01, -5.39511840e-02]])"
            ]
          },
          "metadata": {},
          "execution_count": 64
        }
      ]
    },
    {
      "cell_type": "code",
      "source": [
        "ComponentesExplicadosDF = pd.DataFrame({'% Varianza del componente': np.round(Componentes.explained_variance_ratio_,4) * 100, '% Varianza acumulada': np.cumsum(Componentes.explained_variance_ratio_) * 100\n",
        "})\n",
        "ComponentesExplicadosDF"
      ],
      "metadata": {
        "id": "PEx5mU92rW_-",
        "outputId": "ead9afc8-152c-4340-ec29-0b08bac22549",
        "colab": {
          "base_uri": "https://localhost:8080/",
          "height": 833
        }
      },
      "execution_count": 67,
      "outputs": [
        {
          "output_type": "execute_result",
          "data": {
            "text/plain": [
              "    % Varianza del componente  % Varianza acumulada\n",
              "0                       26.21             26.209575\n",
              "1                       16.81             43.021390\n",
              "2                        6.22             49.241014\n",
              "3                        5.91             55.146648\n",
              "4                        4.25             59.391766\n",
              "5                        3.94             63.332691\n",
              "6                        3.88             67.213154\n",
              "7                        3.66             70.872439\n",
              "8                        3.63             74.497806\n",
              "9                        3.54             78.041858\n",
              "10                       3.48             81.526346\n",
              "11                       3.12             84.645083\n",
              "12                       2.93             87.574058\n",
              "13                       2.51             90.085214\n",
              "14                       2.28             92.363575\n",
              "15                       2.10             94.459317\n",
              "16                       1.59             96.048378\n",
              "17                       1.04             97.086675\n",
              "18                       1.00             98.082178\n",
              "19                       0.75             98.836707\n",
              "20                       0.53             99.363254\n",
              "21                       0.28             99.643120\n",
              "22                       0.16             99.806219\n",
              "23                       0.10             99.907142\n",
              "24                       0.09            100.000000"
            ],
            "text/html": [
              "\n",
              "  <div id=\"df-ca27fd03-0190-4246-92c0-74e2b1ee1dc3\">\n",
              "    <div class=\"colab-df-container\">\n",
              "      <div>\n",
              "<style scoped>\n",
              "    .dataframe tbody tr th:only-of-type {\n",
              "        vertical-align: middle;\n",
              "    }\n",
              "\n",
              "    .dataframe tbody tr th {\n",
              "        vertical-align: top;\n",
              "    }\n",
              "\n",
              "    .dataframe thead th {\n",
              "        text-align: right;\n",
              "    }\n",
              "</style>\n",
              "<table border=\"1\" class=\"dataframe\">\n",
              "  <thead>\n",
              "    <tr style=\"text-align: right;\">\n",
              "      <th></th>\n",
              "      <th>% Varianza del componente</th>\n",
              "      <th>% Varianza acumulada</th>\n",
              "    </tr>\n",
              "  </thead>\n",
              "  <tbody>\n",
              "    <tr>\n",
              "      <th>0</th>\n",
              "      <td>26.21</td>\n",
              "      <td>26.209575</td>\n",
              "    </tr>\n",
              "    <tr>\n",
              "      <th>1</th>\n",
              "      <td>16.81</td>\n",
              "      <td>43.021390</td>\n",
              "    </tr>\n",
              "    <tr>\n",
              "      <th>2</th>\n",
              "      <td>6.22</td>\n",
              "      <td>49.241014</td>\n",
              "    </tr>\n",
              "    <tr>\n",
              "      <th>3</th>\n",
              "      <td>5.91</td>\n",
              "      <td>55.146648</td>\n",
              "    </tr>\n",
              "    <tr>\n",
              "      <th>4</th>\n",
              "      <td>4.25</td>\n",
              "      <td>59.391766</td>\n",
              "    </tr>\n",
              "    <tr>\n",
              "      <th>5</th>\n",
              "      <td>3.94</td>\n",
              "      <td>63.332691</td>\n",
              "    </tr>\n",
              "    <tr>\n",
              "      <th>6</th>\n",
              "      <td>3.88</td>\n",
              "      <td>67.213154</td>\n",
              "    </tr>\n",
              "    <tr>\n",
              "      <th>7</th>\n",
              "      <td>3.66</td>\n",
              "      <td>70.872439</td>\n",
              "    </tr>\n",
              "    <tr>\n",
              "      <th>8</th>\n",
              "      <td>3.63</td>\n",
              "      <td>74.497806</td>\n",
              "    </tr>\n",
              "    <tr>\n",
              "      <th>9</th>\n",
              "      <td>3.54</td>\n",
              "      <td>78.041858</td>\n",
              "    </tr>\n",
              "    <tr>\n",
              "      <th>10</th>\n",
              "      <td>3.48</td>\n",
              "      <td>81.526346</td>\n",
              "    </tr>\n",
              "    <tr>\n",
              "      <th>11</th>\n",
              "      <td>3.12</td>\n",
              "      <td>84.645083</td>\n",
              "    </tr>\n",
              "    <tr>\n",
              "      <th>12</th>\n",
              "      <td>2.93</td>\n",
              "      <td>87.574058</td>\n",
              "    </tr>\n",
              "    <tr>\n",
              "      <th>13</th>\n",
              "      <td>2.51</td>\n",
              "      <td>90.085214</td>\n",
              "    </tr>\n",
              "    <tr>\n",
              "      <th>14</th>\n",
              "      <td>2.28</td>\n",
              "      <td>92.363575</td>\n",
              "    </tr>\n",
              "    <tr>\n",
              "      <th>15</th>\n",
              "      <td>2.10</td>\n",
              "      <td>94.459317</td>\n",
              "    </tr>\n",
              "    <tr>\n",
              "      <th>16</th>\n",
              "      <td>1.59</td>\n",
              "      <td>96.048378</td>\n",
              "    </tr>\n",
              "    <tr>\n",
              "      <th>17</th>\n",
              "      <td>1.04</td>\n",
              "      <td>97.086675</td>\n",
              "    </tr>\n",
              "    <tr>\n",
              "      <th>18</th>\n",
              "      <td>1.00</td>\n",
              "      <td>98.082178</td>\n",
              "    </tr>\n",
              "    <tr>\n",
              "      <th>19</th>\n",
              "      <td>0.75</td>\n",
              "      <td>98.836707</td>\n",
              "    </tr>\n",
              "    <tr>\n",
              "      <th>20</th>\n",
              "      <td>0.53</td>\n",
              "      <td>99.363254</td>\n",
              "    </tr>\n",
              "    <tr>\n",
              "      <th>21</th>\n",
              "      <td>0.28</td>\n",
              "      <td>99.643120</td>\n",
              "    </tr>\n",
              "    <tr>\n",
              "      <th>22</th>\n",
              "      <td>0.16</td>\n",
              "      <td>99.806219</td>\n",
              "    </tr>\n",
              "    <tr>\n",
              "      <th>23</th>\n",
              "      <td>0.10</td>\n",
              "      <td>99.907142</td>\n",
              "    </tr>\n",
              "    <tr>\n",
              "      <th>24</th>\n",
              "      <td>0.09</td>\n",
              "      <td>100.000000</td>\n",
              "    </tr>\n",
              "  </tbody>\n",
              "</table>\n",
              "</div>\n",
              "      <button class=\"colab-df-convert\" onclick=\"convertToInteractive('df-ca27fd03-0190-4246-92c0-74e2b1ee1dc3')\"\n",
              "              title=\"Convert this dataframe to an interactive table.\"\n",
              "              style=\"display:none;\">\n",
              "        \n",
              "  <svg xmlns=\"http://www.w3.org/2000/svg\" height=\"24px\"viewBox=\"0 0 24 24\"\n",
              "       width=\"24px\">\n",
              "    <path d=\"M0 0h24v24H0V0z\" fill=\"none\"/>\n",
              "    <path d=\"M18.56 5.44l.94 2.06.94-2.06 2.06-.94-2.06-.94-.94-2.06-.94 2.06-2.06.94zm-11 1L8.5 8.5l.94-2.06 2.06-.94-2.06-.94L8.5 2.5l-.94 2.06-2.06.94zm10 10l.94 2.06.94-2.06 2.06-.94-2.06-.94-.94-2.06-.94 2.06-2.06.94z\"/><path d=\"M17.41 7.96l-1.37-1.37c-.4-.4-.92-.59-1.43-.59-.52 0-1.04.2-1.43.59L10.3 9.45l-7.72 7.72c-.78.78-.78 2.05 0 2.83L4 21.41c.39.39.9.59 1.41.59.51 0 1.02-.2 1.41-.59l7.78-7.78 2.81-2.81c.8-.78.8-2.07 0-2.86zM5.41 20L4 18.59l7.72-7.72 1.47 1.35L5.41 20z\"/>\n",
              "  </svg>\n",
              "      </button>\n",
              "      \n",
              "  <style>\n",
              "    .colab-df-container {\n",
              "      display:flex;\n",
              "      flex-wrap:wrap;\n",
              "      gap: 12px;\n",
              "    }\n",
              "\n",
              "    .colab-df-convert {\n",
              "      background-color: #E8F0FE;\n",
              "      border: none;\n",
              "      border-radius: 50%;\n",
              "      cursor: pointer;\n",
              "      display: none;\n",
              "      fill: #1967D2;\n",
              "      height: 32px;\n",
              "      padding: 0 0 0 0;\n",
              "      width: 32px;\n",
              "    }\n",
              "\n",
              "    .colab-df-convert:hover {\n",
              "      background-color: #E2EBFA;\n",
              "      box-shadow: 0px 1px 2px rgba(60, 64, 67, 0.3), 0px 1px 3px 1px rgba(60, 64, 67, 0.15);\n",
              "      fill: #174EA6;\n",
              "    }\n",
              "\n",
              "    [theme=dark] .colab-df-convert {\n",
              "      background-color: #3B4455;\n",
              "      fill: #D2E3FC;\n",
              "    }\n",
              "\n",
              "    [theme=dark] .colab-df-convert:hover {\n",
              "      background-color: #434B5C;\n",
              "      box-shadow: 0px 1px 3px 1px rgba(0, 0, 0, 0.15);\n",
              "      filter: drop-shadow(0px 1px 2px rgba(0, 0, 0, 0.3));\n",
              "      fill: #FFFFFF;\n",
              "    }\n",
              "  </style>\n",
              "\n",
              "      <script>\n",
              "        const buttonEl =\n",
              "          document.querySelector('#df-ca27fd03-0190-4246-92c0-74e2b1ee1dc3 button.colab-df-convert');\n",
              "        buttonEl.style.display =\n",
              "          google.colab.kernel.accessAllowed ? 'block' : 'none';\n",
              "\n",
              "        async function convertToInteractive(key) {\n",
              "          const element = document.querySelector('#df-ca27fd03-0190-4246-92c0-74e2b1ee1dc3');\n",
              "          const dataTable =\n",
              "            await google.colab.kernel.invokeFunction('convertToInteractive',\n",
              "                                                     [key], {});\n",
              "          if (!dataTable) return;\n",
              "\n",
              "          const docLinkHtml = 'Like what you see? Visit the ' +\n",
              "            '<a target=\"_blank\" href=https://colab.research.google.com/notebooks/data_table.ipynb>data table notebook</a>'\n",
              "            + ' to learn more about interactive tables.';\n",
              "          element.innerHTML = '';\n",
              "          dataTable['output_type'] = 'display_data';\n",
              "          await google.colab.output.renderOutput(dataTable, element);\n",
              "          const docLink = document.createElement('div');\n",
              "          docLink.innerHTML = docLinkHtml;\n",
              "          element.appendChild(docLink);\n",
              "        }\n",
              "      </script>\n",
              "    </div>\n",
              "  </div>\n",
              "  "
            ]
          },
          "metadata": {},
          "execution_count": 67
        }
      ]
    },
    {
      "cell_type": "markdown",
      "source": [
        "---\n",
        "\n",
        "\n",
        "☝ Observamos que con el componente **7** ya estaríamos cubriendo más del **70%** de la varianza del conjunto de datos, logrando la reducción de dimensionalidad y mejorando de esta forma el desempeño en el procesamiento del modelo.\n",
        "\n",
        "A continuación comparamos las varianzas de las variables iniciales contra las variables obtenidas después de ejecutar PCA, con el fin de descartar posibles perdidas de información."
      ],
      "metadata": {
        "id": "ybuGP4W4rt6K"
      }
    },
    {
      "cell_type": "code",
      "source": [
        "dfResultadoPCA = pd.DataFrame(ComponentesResult)\n",
        "print(\"Total varianza atributos iniciales: \", dfAjustado.var().sum())\n",
        "print(\"Total varianza componentes PCA: \", dfResultadoPCA.var().sum())"
      ],
      "metadata": {
        "id": "Ox5Mo3sfsspV",
        "outputId": "e017541b-ca8f-4180-81f1-e3dff9f3a66a",
        "colab": {
          "base_uri": "https://localhost:8080/"
        }
      },
      "execution_count": 68,
      "outputs": [
        {
          "output_type": "stream",
          "name": "stdout",
          "text": [
            "Total varianza atributos iniciales:  25.000833972712414\n",
            "Total varianza componentes PCA:  25.000833972712428\n"
          ]
        }
      ]
    },
    {
      "cell_type": "markdown",
      "source": [
        "✍ No existen perdidas en la varianza, por lo cual concluímos que no se presentó perdida de información durante la ejecución del PCA."
      ],
      "metadata": {
        "id": "NAfENF4Gt_hG"
      }
    },
    {
      "cell_type": "markdown",
      "source": [
        "---\n",
        "\n",
        "\n",
        "\n",
        "👣 **7.2. Indica la importancia de las variables en cada componente**\n",
        "\n",
        "\n",
        "\n",
        "---"
      ],
      "metadata": {
        "id": "399Zjeg1YJXi"
      }
    },
    {
      "cell_type": "code",
      "source": [
        "#Obtenemos la contribución de cada atributo para los componentes obtenidos\n",
        "dfAtributosComponente = pd.DataFrame(Componentes.components_.round(4), columns = dfResultadoPCA.columns, index = dfAjustado.columns)\n",
        "dfAtributosComponente.iloc[:,:]"
      ],
      "metadata": {
        "id": "tdQxMB-2uml_",
        "outputId": "37b922ef-2b54-472f-a4e7-7ac48b700dee",
        "colab": {
          "base_uri": "https://localhost:8080/",
          "height": 926
        }
      },
      "execution_count": 70,
      "outputs": [
        {
          "output_type": "execute_result",
          "data": {
            "text/plain": [
              "         0       1       2       3       4       5       6       7       8   \\\n",
              "ID   0.0062  0.0657 -0.0220  0.0199 -0.0057  0.0140  0.1645  0.1972  0.2032   \n",
              "X1   0.0227  0.3116  0.0307 -0.0882 -0.0397  0.0628 -0.2968 -0.3280 -0.3349   \n",
              "X2  -0.0595  0.0098  0.0270 -0.3239  0.4737 -0.4833 -0.0203  0.0174  0.0620   \n",
              "X3   0.0523  0.0757 -0.0763  0.2230 -0.4189  0.4358  0.0190  0.0486  0.0813   \n",
              "X4   0.5003 -0.1855  0.6106  0.4057  0.0199 -0.1601 -0.1045 -0.0405 -0.0026   \n",
              "X5   0.7117 -0.0572 -0.6479  0.0089  0.1755  0.0071 -0.0128  0.0030 -0.0131   \n",
              "X6  -0.4418 -0.2617 -0.3796  0.4203  0.1634  0.0109 -0.1468 -0.0711 -0.0089   \n",
              "X7  -0.1074 -0.2750  0.0139  0.4510  0.1956 -0.1395  0.2152  0.0450 -0.0852   \n",
              "X8  -0.0948  0.0154  0.0871 -0.2681 -0.1073  0.0398 -0.0093 -0.0800 -0.0529   \n",
              "X9  -0.0468 -0.0339 -0.0410  0.0593  0.0095  0.0079 -0.0340  0.0025 -0.0102   \n",
              "X10  0.0324  0.0270  0.0145 -0.1603 -0.0559  0.0468 -0.0331 -0.0325 -0.0098   \n",
              "X11 -0.1211  0.0089  0.0310  0.0750  0.0378  0.0148 -0.0074 -0.0024 -0.0262   \n",
              "X12 -0.0104  0.0152 -0.0153  0.0141 -0.0036 -0.0165 -0.0055  0.0028 -0.1099   \n",
              "X13  0.0077 -0.1239  0.0068 -0.1942 -0.2301 -0.0937  0.5111  0.3984  0.1520   \n",
              "X14  0.0057  0.3505  0.1754  0.0643  0.6440  0.5709  0.2005  0.1321  0.0788   \n",
              "X15  0.0319 -0.7531  0.1124 -0.3762  0.1346  0.4334 -0.0971 -0.0772 -0.0796   \n",
              "X16 -0.0296 -0.0174  0.0246 -0.0219  0.0080  0.0131 -0.6392  0.2855  0.5297   \n",
              "X17  0.0077  0.0432 -0.0005  0.0113  0.0077  0.0004 -0.2511  0.5577 -0.1001   \n",
              "X18  0.0002 -0.0234  0.0216 -0.0392 -0.0133 -0.0005 -0.0001 -0.0593 -0.1570   \n",
              "X19  0.0104  0.0063 -0.0041  0.0037 -0.0055 -0.0054  0.1374 -0.4853  0.6049   \n",
              "X20 -0.0154  0.0070 -0.0015  0.0030 -0.0010 -0.0059 -0.0351  0.1405 -0.3071   \n",
              "X21  0.0145 -0.0100  0.0017 -0.0033 -0.0021 -0.0001 -0.0053 -0.0321  0.0264   \n",
              "X22  0.0044  0.0143 -0.0008  0.0003 -0.0002 -0.0014  0.0009  0.0126 -0.0275   \n",
              "X23  0.0092 -0.0007 -0.0010  0.0010  0.0008  0.0000 -0.0022  0.0029 -0.0082   \n",
              "Y   -0.0025  0.0028  0.0009  0.0018 -0.0013  0.0003  0.0005  0.0001 -0.0048   \n",
              "\n",
              "         9   ...      15      16      17      18      19      20      21  \\\n",
              "ID   0.2099  ...  0.3522  0.3501  0.3429  0.0927  0.0774  0.0850  0.0765   \n",
              "X1  -0.3343  ...  0.1490  0.1471  0.1450  0.1487  0.1386  0.1500  0.1399   \n",
              "X2   0.0887  ... -0.0667 -0.0525 -0.0438  0.2669  0.2843  0.2614  0.2234   \n",
              "X3   0.1064  ... -0.1026 -0.0907 -0.0854  0.2944  0.3275  0.2970  0.2506   \n",
              "X4   0.0370  ...  0.0340  0.0140 -0.0048  0.0953  0.0925  0.0740 -0.0191   \n",
              "X5  -0.0179  ...  0.0329 -0.0005 -0.0177  0.0119  0.0039  0.1300 -0.0305   \n",
              "X6   0.0204  ...  0.0229  0.0031 -0.0266  0.1879  0.1673 -0.0161 -0.0866   \n",
              "X7  -0.1931  ...  0.0204  0.0164  0.0374  0.0538  0.1665  0.0953  0.0827   \n",
              "X8  -0.0292  ...  0.0742  0.0922 -0.0363  0.2329  0.1727  0.2675  0.0652   \n",
              "X9  -0.0177  ... -0.0466  0.1064  0.1632 -0.2797 -0.2466  0.1835  0.6347   \n",
              "X10  0.0475  ...  0.0273 -0.0718  0.0792  0.0320  0.3884 -0.0321 -0.4555   \n",
              "X11 -0.0568  ...  0.1212 -0.0016  0.0168 -0.2265 -0.2848  0.7804 -0.4257   \n",
              "X12  0.0115  ...  0.0347  0.0493 -0.0016 -0.7393  0.5819  0.0195  0.0695   \n",
              "X13 -0.1514  ... -0.0190 -0.0481 -0.0642  0.0221  0.1002  0.1340  0.0293   \n",
              "X14  0.0085  ... -0.0404 -0.0451 -0.0587 -0.0020  0.0399 -0.0116  0.0048   \n",
              "X15 -0.0585  ...  0.0485  0.0580  0.0732 -0.0064 -0.0050  0.0179  0.0433   \n",
              "X16  0.1746  ... -0.0051 -0.0464 -0.0649 -0.0845  0.0374  0.0759  0.0372   \n",
              "X17 -0.5860  ... -0.0477 -0.0264 -0.0064  0.0517  0.0332 -0.0495 -0.0512   \n",
              "X18  0.0628  ... -0.2019 -0.4102 -0.4793 -0.0456  0.0325  0.1280  0.1234   \n",
              "X19 -0.2246  ... -0.0402 -0.0575 -0.0470 -0.0649  0.0456  0.0278 -0.0237   \n",
              "X20  0.5689  ... -0.0112 -0.0153  0.0263  0.0187 -0.0216  0.0515 -0.0487   \n",
              "X21  0.0169  ... -0.5195  0.0662  0.5144  0.0437  0.1468  0.0002 -0.1113   \n",
              "X22  0.0012  ... -0.4878 -0.2525  0.3407 -0.0672 -0.0706  0.1232  0.0027   \n",
              "X23  0.0132  ... -0.3633  0.7155 -0.4231 -0.0455  0.0394  0.0258 -0.0811   \n",
              "Y   -0.0013  ...  0.3498 -0.2332  0.0750 -0.0842  0.1240 -0.0633  0.0429   \n",
              "\n",
              "         22      23      24  \n",
              "ID   0.0741  0.0687  0.0397  \n",
              "X1   0.1356  0.1280 -0.1765  \n",
              "X2   0.1837  0.1973 -0.0561  \n",
              "X3   0.1879  0.2193  0.0691  \n",
              "X4  -0.1099 -0.0812 -0.2983  \n",
              "X5  -0.1080 -0.0724  0.0165  \n",
              "X6  -0.1669 -0.0987 -0.4930  \n",
              "X7   0.1214 -0.0818  0.6097  \n",
              "X8  -0.6930 -0.4202  0.2191  \n",
              "X9   0.2265 -0.5160 -0.1544  \n",
              "X10  0.4793 -0.5869 -0.0057  \n",
              "X11  0.0527  0.0984 -0.0206  \n",
              "X12 -0.1785  0.1643 -0.0323  \n",
              "X13 -0.0306 -0.0276 -0.4012  \n",
              "X14 -0.0757 -0.0808 -0.0834  \n",
              "X15  0.0916  0.1419 -0.0072  \n",
              "X16 -0.0316 -0.0362  0.1135  \n",
              "X17  0.0074 -0.0052  0.0208  \n",
              "X18  0.0666 -0.0918  0.0235  \n",
              "X19  0.0169  0.0053 -0.0050  \n",
              "X20 -0.0003  0.0004  0.0031  \n",
              "X21 -0.1003  0.0349  0.0031  \n",
              "X22 -0.0700  0.0275 -0.0037  \n",
              "X23  0.0944 -0.0169 -0.0006  \n",
              "Y   -0.0091  0.0084 -0.0013  \n",
              "\n",
              "[25 rows x 25 columns]"
            ],
            "text/html": [
              "\n",
              "  <div id=\"df-fb3a270f-a6c0-4c8f-aa76-0a7456fc0a9e\">\n",
              "    <div class=\"colab-df-container\">\n",
              "      <div>\n",
              "<style scoped>\n",
              "    .dataframe tbody tr th:only-of-type {\n",
              "        vertical-align: middle;\n",
              "    }\n",
              "\n",
              "    .dataframe tbody tr th {\n",
              "        vertical-align: top;\n",
              "    }\n",
              "\n",
              "    .dataframe thead th {\n",
              "        text-align: right;\n",
              "    }\n",
              "</style>\n",
              "<table border=\"1\" class=\"dataframe\">\n",
              "  <thead>\n",
              "    <tr style=\"text-align: right;\">\n",
              "      <th></th>\n",
              "      <th>0</th>\n",
              "      <th>1</th>\n",
              "      <th>2</th>\n",
              "      <th>3</th>\n",
              "      <th>4</th>\n",
              "      <th>5</th>\n",
              "      <th>6</th>\n",
              "      <th>7</th>\n",
              "      <th>8</th>\n",
              "      <th>9</th>\n",
              "      <th>...</th>\n",
              "      <th>15</th>\n",
              "      <th>16</th>\n",
              "      <th>17</th>\n",
              "      <th>18</th>\n",
              "      <th>19</th>\n",
              "      <th>20</th>\n",
              "      <th>21</th>\n",
              "      <th>22</th>\n",
              "      <th>23</th>\n",
              "      <th>24</th>\n",
              "    </tr>\n",
              "  </thead>\n",
              "  <tbody>\n",
              "    <tr>\n",
              "      <th>ID</th>\n",
              "      <td>0.0062</td>\n",
              "      <td>0.0657</td>\n",
              "      <td>-0.0220</td>\n",
              "      <td>0.0199</td>\n",
              "      <td>-0.0057</td>\n",
              "      <td>0.0140</td>\n",
              "      <td>0.1645</td>\n",
              "      <td>0.1972</td>\n",
              "      <td>0.2032</td>\n",
              "      <td>0.2099</td>\n",
              "      <td>...</td>\n",
              "      <td>0.3522</td>\n",
              "      <td>0.3501</td>\n",
              "      <td>0.3429</td>\n",
              "      <td>0.0927</td>\n",
              "      <td>0.0774</td>\n",
              "      <td>0.0850</td>\n",
              "      <td>0.0765</td>\n",
              "      <td>0.0741</td>\n",
              "      <td>0.0687</td>\n",
              "      <td>0.0397</td>\n",
              "    </tr>\n",
              "    <tr>\n",
              "      <th>X1</th>\n",
              "      <td>0.0227</td>\n",
              "      <td>0.3116</td>\n",
              "      <td>0.0307</td>\n",
              "      <td>-0.0882</td>\n",
              "      <td>-0.0397</td>\n",
              "      <td>0.0628</td>\n",
              "      <td>-0.2968</td>\n",
              "      <td>-0.3280</td>\n",
              "      <td>-0.3349</td>\n",
              "      <td>-0.3343</td>\n",
              "      <td>...</td>\n",
              "      <td>0.1490</td>\n",
              "      <td>0.1471</td>\n",
              "      <td>0.1450</td>\n",
              "      <td>0.1487</td>\n",
              "      <td>0.1386</td>\n",
              "      <td>0.1500</td>\n",
              "      <td>0.1399</td>\n",
              "      <td>0.1356</td>\n",
              "      <td>0.1280</td>\n",
              "      <td>-0.1765</td>\n",
              "    </tr>\n",
              "    <tr>\n",
              "      <th>X2</th>\n",
              "      <td>-0.0595</td>\n",
              "      <td>0.0098</td>\n",
              "      <td>0.0270</td>\n",
              "      <td>-0.3239</td>\n",
              "      <td>0.4737</td>\n",
              "      <td>-0.4833</td>\n",
              "      <td>-0.0203</td>\n",
              "      <td>0.0174</td>\n",
              "      <td>0.0620</td>\n",
              "      <td>0.0887</td>\n",
              "      <td>...</td>\n",
              "      <td>-0.0667</td>\n",
              "      <td>-0.0525</td>\n",
              "      <td>-0.0438</td>\n",
              "      <td>0.2669</td>\n",
              "      <td>0.2843</td>\n",
              "      <td>0.2614</td>\n",
              "      <td>0.2234</td>\n",
              "      <td>0.1837</td>\n",
              "      <td>0.1973</td>\n",
              "      <td>-0.0561</td>\n",
              "    </tr>\n",
              "    <tr>\n",
              "      <th>X3</th>\n",
              "      <td>0.0523</td>\n",
              "      <td>0.0757</td>\n",
              "      <td>-0.0763</td>\n",
              "      <td>0.2230</td>\n",
              "      <td>-0.4189</td>\n",
              "      <td>0.4358</td>\n",
              "      <td>0.0190</td>\n",
              "      <td>0.0486</td>\n",
              "      <td>0.0813</td>\n",
              "      <td>0.1064</td>\n",
              "      <td>...</td>\n",
              "      <td>-0.1026</td>\n",
              "      <td>-0.0907</td>\n",
              "      <td>-0.0854</td>\n",
              "      <td>0.2944</td>\n",
              "      <td>0.3275</td>\n",
              "      <td>0.2970</td>\n",
              "      <td>0.2506</td>\n",
              "      <td>0.1879</td>\n",
              "      <td>0.2193</td>\n",
              "      <td>0.0691</td>\n",
              "    </tr>\n",
              "    <tr>\n",
              "      <th>X4</th>\n",
              "      <td>0.5003</td>\n",
              "      <td>-0.1855</td>\n",
              "      <td>0.6106</td>\n",
              "      <td>0.4057</td>\n",
              "      <td>0.0199</td>\n",
              "      <td>-0.1601</td>\n",
              "      <td>-0.1045</td>\n",
              "      <td>-0.0405</td>\n",
              "      <td>-0.0026</td>\n",
              "      <td>0.0370</td>\n",
              "      <td>...</td>\n",
              "      <td>0.0340</td>\n",
              "      <td>0.0140</td>\n",
              "      <td>-0.0048</td>\n",
              "      <td>0.0953</td>\n",
              "      <td>0.0925</td>\n",
              "      <td>0.0740</td>\n",
              "      <td>-0.0191</td>\n",
              "      <td>-0.1099</td>\n",
              "      <td>-0.0812</td>\n",
              "      <td>-0.2983</td>\n",
              "    </tr>\n",
              "    <tr>\n",
              "      <th>X5</th>\n",
              "      <td>0.7117</td>\n",
              "      <td>-0.0572</td>\n",
              "      <td>-0.6479</td>\n",
              "      <td>0.0089</td>\n",
              "      <td>0.1755</td>\n",
              "      <td>0.0071</td>\n",
              "      <td>-0.0128</td>\n",
              "      <td>0.0030</td>\n",
              "      <td>-0.0131</td>\n",
              "      <td>-0.0179</td>\n",
              "      <td>...</td>\n",
              "      <td>0.0329</td>\n",
              "      <td>-0.0005</td>\n",
              "      <td>-0.0177</td>\n",
              "      <td>0.0119</td>\n",
              "      <td>0.0039</td>\n",
              "      <td>0.1300</td>\n",
              "      <td>-0.0305</td>\n",
              "      <td>-0.1080</td>\n",
              "      <td>-0.0724</td>\n",
              "      <td>0.0165</td>\n",
              "    </tr>\n",
              "    <tr>\n",
              "      <th>X6</th>\n",
              "      <td>-0.4418</td>\n",
              "      <td>-0.2617</td>\n",
              "      <td>-0.3796</td>\n",
              "      <td>0.4203</td>\n",
              "      <td>0.1634</td>\n",
              "      <td>0.0109</td>\n",
              "      <td>-0.1468</td>\n",
              "      <td>-0.0711</td>\n",
              "      <td>-0.0089</td>\n",
              "      <td>0.0204</td>\n",
              "      <td>...</td>\n",
              "      <td>0.0229</td>\n",
              "      <td>0.0031</td>\n",
              "      <td>-0.0266</td>\n",
              "      <td>0.1879</td>\n",
              "      <td>0.1673</td>\n",
              "      <td>-0.0161</td>\n",
              "      <td>-0.0866</td>\n",
              "      <td>-0.1669</td>\n",
              "      <td>-0.0987</td>\n",
              "      <td>-0.4930</td>\n",
              "    </tr>\n",
              "    <tr>\n",
              "      <th>X7</th>\n",
              "      <td>-0.1074</td>\n",
              "      <td>-0.2750</td>\n",
              "      <td>0.0139</td>\n",
              "      <td>0.4510</td>\n",
              "      <td>0.1956</td>\n",
              "      <td>-0.1395</td>\n",
              "      <td>0.2152</td>\n",
              "      <td>0.0450</td>\n",
              "      <td>-0.0852</td>\n",
              "      <td>-0.1931</td>\n",
              "      <td>...</td>\n",
              "      <td>0.0204</td>\n",
              "      <td>0.0164</td>\n",
              "      <td>0.0374</td>\n",
              "      <td>0.0538</td>\n",
              "      <td>0.1665</td>\n",
              "      <td>0.0953</td>\n",
              "      <td>0.0827</td>\n",
              "      <td>0.1214</td>\n",
              "      <td>-0.0818</td>\n",
              "      <td>0.6097</td>\n",
              "    </tr>\n",
              "    <tr>\n",
              "      <th>X8</th>\n",
              "      <td>-0.0948</td>\n",
              "      <td>0.0154</td>\n",
              "      <td>0.0871</td>\n",
              "      <td>-0.2681</td>\n",
              "      <td>-0.1073</td>\n",
              "      <td>0.0398</td>\n",
              "      <td>-0.0093</td>\n",
              "      <td>-0.0800</td>\n",
              "      <td>-0.0529</td>\n",
              "      <td>-0.0292</td>\n",
              "      <td>...</td>\n",
              "      <td>0.0742</td>\n",
              "      <td>0.0922</td>\n",
              "      <td>-0.0363</td>\n",
              "      <td>0.2329</td>\n",
              "      <td>0.1727</td>\n",
              "      <td>0.2675</td>\n",
              "      <td>0.0652</td>\n",
              "      <td>-0.6930</td>\n",
              "      <td>-0.4202</td>\n",
              "      <td>0.2191</td>\n",
              "    </tr>\n",
              "    <tr>\n",
              "      <th>X9</th>\n",
              "      <td>-0.0468</td>\n",
              "      <td>-0.0339</td>\n",
              "      <td>-0.0410</td>\n",
              "      <td>0.0593</td>\n",
              "      <td>0.0095</td>\n",
              "      <td>0.0079</td>\n",
              "      <td>-0.0340</td>\n",
              "      <td>0.0025</td>\n",
              "      <td>-0.0102</td>\n",
              "      <td>-0.0177</td>\n",
              "      <td>...</td>\n",
              "      <td>-0.0466</td>\n",
              "      <td>0.1064</td>\n",
              "      <td>0.1632</td>\n",
              "      <td>-0.2797</td>\n",
              "      <td>-0.2466</td>\n",
              "      <td>0.1835</td>\n",
              "      <td>0.6347</td>\n",
              "      <td>0.2265</td>\n",
              "      <td>-0.5160</td>\n",
              "      <td>-0.1544</td>\n",
              "    </tr>\n",
              "    <tr>\n",
              "      <th>X10</th>\n",
              "      <td>0.0324</td>\n",
              "      <td>0.0270</td>\n",
              "      <td>0.0145</td>\n",
              "      <td>-0.1603</td>\n",
              "      <td>-0.0559</td>\n",
              "      <td>0.0468</td>\n",
              "      <td>-0.0331</td>\n",
              "      <td>-0.0325</td>\n",
              "      <td>-0.0098</td>\n",
              "      <td>0.0475</td>\n",
              "      <td>...</td>\n",
              "      <td>0.0273</td>\n",
              "      <td>-0.0718</td>\n",
              "      <td>0.0792</td>\n",
              "      <td>0.0320</td>\n",
              "      <td>0.3884</td>\n",
              "      <td>-0.0321</td>\n",
              "      <td>-0.4555</td>\n",
              "      <td>0.4793</td>\n",
              "      <td>-0.5869</td>\n",
              "      <td>-0.0057</td>\n",
              "    </tr>\n",
              "    <tr>\n",
              "      <th>X11</th>\n",
              "      <td>-0.1211</td>\n",
              "      <td>0.0089</td>\n",
              "      <td>0.0310</td>\n",
              "      <td>0.0750</td>\n",
              "      <td>0.0378</td>\n",
              "      <td>0.0148</td>\n",
              "      <td>-0.0074</td>\n",
              "      <td>-0.0024</td>\n",
              "      <td>-0.0262</td>\n",
              "      <td>-0.0568</td>\n",
              "      <td>...</td>\n",
              "      <td>0.1212</td>\n",
              "      <td>-0.0016</td>\n",
              "      <td>0.0168</td>\n",
              "      <td>-0.2265</td>\n",
              "      <td>-0.2848</td>\n",
              "      <td>0.7804</td>\n",
              "      <td>-0.4257</td>\n",
              "      <td>0.0527</td>\n",
              "      <td>0.0984</td>\n",
              "      <td>-0.0206</td>\n",
              "    </tr>\n",
              "    <tr>\n",
              "      <th>X12</th>\n",
              "      <td>-0.0104</td>\n",
              "      <td>0.0152</td>\n",
              "      <td>-0.0153</td>\n",
              "      <td>0.0141</td>\n",
              "      <td>-0.0036</td>\n",
              "      <td>-0.0165</td>\n",
              "      <td>-0.0055</td>\n",
              "      <td>0.0028</td>\n",
              "      <td>-0.1099</td>\n",
              "      <td>0.0115</td>\n",
              "      <td>...</td>\n",
              "      <td>0.0347</td>\n",
              "      <td>0.0493</td>\n",
              "      <td>-0.0016</td>\n",
              "      <td>-0.7393</td>\n",
              "      <td>0.5819</td>\n",
              "      <td>0.0195</td>\n",
              "      <td>0.0695</td>\n",
              "      <td>-0.1785</td>\n",
              "      <td>0.1643</td>\n",
              "      <td>-0.0323</td>\n",
              "    </tr>\n",
              "    <tr>\n",
              "      <th>X13</th>\n",
              "      <td>0.0077</td>\n",
              "      <td>-0.1239</td>\n",
              "      <td>0.0068</td>\n",
              "      <td>-0.1942</td>\n",
              "      <td>-0.2301</td>\n",
              "      <td>-0.0937</td>\n",
              "      <td>0.5111</td>\n",
              "      <td>0.3984</td>\n",
              "      <td>0.1520</td>\n",
              "      <td>-0.1514</td>\n",
              "      <td>...</td>\n",
              "      <td>-0.0190</td>\n",
              "      <td>-0.0481</td>\n",
              "      <td>-0.0642</td>\n",
              "      <td>0.0221</td>\n",
              "      <td>0.1002</td>\n",
              "      <td>0.1340</td>\n",
              "      <td>0.0293</td>\n",
              "      <td>-0.0306</td>\n",
              "      <td>-0.0276</td>\n",
              "      <td>-0.4012</td>\n",
              "    </tr>\n",
              "    <tr>\n",
              "      <th>X14</th>\n",
              "      <td>0.0057</td>\n",
              "      <td>0.3505</td>\n",
              "      <td>0.1754</td>\n",
              "      <td>0.0643</td>\n",
              "      <td>0.6440</td>\n",
              "      <td>0.5709</td>\n",
              "      <td>0.2005</td>\n",
              "      <td>0.1321</td>\n",
              "      <td>0.0788</td>\n",
              "      <td>0.0085</td>\n",
              "      <td>...</td>\n",
              "      <td>-0.0404</td>\n",
              "      <td>-0.0451</td>\n",
              "      <td>-0.0587</td>\n",
              "      <td>-0.0020</td>\n",
              "      <td>0.0399</td>\n",
              "      <td>-0.0116</td>\n",
              "      <td>0.0048</td>\n",
              "      <td>-0.0757</td>\n",
              "      <td>-0.0808</td>\n",
              "      <td>-0.0834</td>\n",
              "    </tr>\n",
              "    <tr>\n",
              "      <th>X15</th>\n",
              "      <td>0.0319</td>\n",
              "      <td>-0.7531</td>\n",
              "      <td>0.1124</td>\n",
              "      <td>-0.3762</td>\n",
              "      <td>0.1346</td>\n",
              "      <td>0.4334</td>\n",
              "      <td>-0.0971</td>\n",
              "      <td>-0.0772</td>\n",
              "      <td>-0.0796</td>\n",
              "      <td>-0.0585</td>\n",
              "      <td>...</td>\n",
              "      <td>0.0485</td>\n",
              "      <td>0.0580</td>\n",
              "      <td>0.0732</td>\n",
              "      <td>-0.0064</td>\n",
              "      <td>-0.0050</td>\n",
              "      <td>0.0179</td>\n",
              "      <td>0.0433</td>\n",
              "      <td>0.0916</td>\n",
              "      <td>0.1419</td>\n",
              "      <td>-0.0072</td>\n",
              "    </tr>\n",
              "    <tr>\n",
              "      <th>X16</th>\n",
              "      <td>-0.0296</td>\n",
              "      <td>-0.0174</td>\n",
              "      <td>0.0246</td>\n",
              "      <td>-0.0219</td>\n",
              "      <td>0.0080</td>\n",
              "      <td>0.0131</td>\n",
              "      <td>-0.6392</td>\n",
              "      <td>0.2855</td>\n",
              "      <td>0.5297</td>\n",
              "      <td>0.1746</td>\n",
              "      <td>...</td>\n",
              "      <td>-0.0051</td>\n",
              "      <td>-0.0464</td>\n",
              "      <td>-0.0649</td>\n",
              "      <td>-0.0845</td>\n",
              "      <td>0.0374</td>\n",
              "      <td>0.0759</td>\n",
              "      <td>0.0372</td>\n",
              "      <td>-0.0316</td>\n",
              "      <td>-0.0362</td>\n",
              "      <td>0.1135</td>\n",
              "    </tr>\n",
              "    <tr>\n",
              "      <th>X17</th>\n",
              "      <td>0.0077</td>\n",
              "      <td>0.0432</td>\n",
              "      <td>-0.0005</td>\n",
              "      <td>0.0113</td>\n",
              "      <td>0.0077</td>\n",
              "      <td>0.0004</td>\n",
              "      <td>-0.2511</td>\n",
              "      <td>0.5577</td>\n",
              "      <td>-0.1001</td>\n",
              "      <td>-0.5860</td>\n",
              "      <td>...</td>\n",
              "      <td>-0.0477</td>\n",
              "      <td>-0.0264</td>\n",
              "      <td>-0.0064</td>\n",
              "      <td>0.0517</td>\n",
              "      <td>0.0332</td>\n",
              "      <td>-0.0495</td>\n",
              "      <td>-0.0512</td>\n",
              "      <td>0.0074</td>\n",
              "      <td>-0.0052</td>\n",
              "      <td>0.0208</td>\n",
              "    </tr>\n",
              "    <tr>\n",
              "      <th>X18</th>\n",
              "      <td>0.0002</td>\n",
              "      <td>-0.0234</td>\n",
              "      <td>0.0216</td>\n",
              "      <td>-0.0392</td>\n",
              "      <td>-0.0133</td>\n",
              "      <td>-0.0005</td>\n",
              "      <td>-0.0001</td>\n",
              "      <td>-0.0593</td>\n",
              "      <td>-0.1570</td>\n",
              "      <td>0.0628</td>\n",
              "      <td>...</td>\n",
              "      <td>-0.2019</td>\n",
              "      <td>-0.4102</td>\n",
              "      <td>-0.4793</td>\n",
              "      <td>-0.0456</td>\n",
              "      <td>0.0325</td>\n",
              "      <td>0.1280</td>\n",
              "      <td>0.1234</td>\n",
              "      <td>0.0666</td>\n",
              "      <td>-0.0918</td>\n",
              "      <td>0.0235</td>\n",
              "    </tr>\n",
              "    <tr>\n",
              "      <th>X19</th>\n",
              "      <td>0.0104</td>\n",
              "      <td>0.0063</td>\n",
              "      <td>-0.0041</td>\n",
              "      <td>0.0037</td>\n",
              "      <td>-0.0055</td>\n",
              "      <td>-0.0054</td>\n",
              "      <td>0.1374</td>\n",
              "      <td>-0.4853</td>\n",
              "      <td>0.6049</td>\n",
              "      <td>-0.2246</td>\n",
              "      <td>...</td>\n",
              "      <td>-0.0402</td>\n",
              "      <td>-0.0575</td>\n",
              "      <td>-0.0470</td>\n",
              "      <td>-0.0649</td>\n",
              "      <td>0.0456</td>\n",
              "      <td>0.0278</td>\n",
              "      <td>-0.0237</td>\n",
              "      <td>0.0169</td>\n",
              "      <td>0.0053</td>\n",
              "      <td>-0.0050</td>\n",
              "    </tr>\n",
              "    <tr>\n",
              "      <th>X20</th>\n",
              "      <td>-0.0154</td>\n",
              "      <td>0.0070</td>\n",
              "      <td>-0.0015</td>\n",
              "      <td>0.0030</td>\n",
              "      <td>-0.0010</td>\n",
              "      <td>-0.0059</td>\n",
              "      <td>-0.0351</td>\n",
              "      <td>0.1405</td>\n",
              "      <td>-0.3071</td>\n",
              "      <td>0.5689</td>\n",
              "      <td>...</td>\n",
              "      <td>-0.0112</td>\n",
              "      <td>-0.0153</td>\n",
              "      <td>0.0263</td>\n",
              "      <td>0.0187</td>\n",
              "      <td>-0.0216</td>\n",
              "      <td>0.0515</td>\n",
              "      <td>-0.0487</td>\n",
              "      <td>-0.0003</td>\n",
              "      <td>0.0004</td>\n",
              "      <td>0.0031</td>\n",
              "    </tr>\n",
              "    <tr>\n",
              "      <th>X21</th>\n",
              "      <td>0.0145</td>\n",
              "      <td>-0.0100</td>\n",
              "      <td>0.0017</td>\n",
              "      <td>-0.0033</td>\n",
              "      <td>-0.0021</td>\n",
              "      <td>-0.0001</td>\n",
              "      <td>-0.0053</td>\n",
              "      <td>-0.0321</td>\n",
              "      <td>0.0264</td>\n",
              "      <td>0.0169</td>\n",
              "      <td>...</td>\n",
              "      <td>-0.5195</td>\n",
              "      <td>0.0662</td>\n",
              "      <td>0.5144</td>\n",
              "      <td>0.0437</td>\n",
              "      <td>0.1468</td>\n",
              "      <td>0.0002</td>\n",
              "      <td>-0.1113</td>\n",
              "      <td>-0.1003</td>\n",
              "      <td>0.0349</td>\n",
              "      <td>0.0031</td>\n",
              "    </tr>\n",
              "    <tr>\n",
              "      <th>X22</th>\n",
              "      <td>0.0044</td>\n",
              "      <td>0.0143</td>\n",
              "      <td>-0.0008</td>\n",
              "      <td>0.0003</td>\n",
              "      <td>-0.0002</td>\n",
              "      <td>-0.0014</td>\n",
              "      <td>0.0009</td>\n",
              "      <td>0.0126</td>\n",
              "      <td>-0.0275</td>\n",
              "      <td>0.0012</td>\n",
              "      <td>...</td>\n",
              "      <td>-0.4878</td>\n",
              "      <td>-0.2525</td>\n",
              "      <td>0.3407</td>\n",
              "      <td>-0.0672</td>\n",
              "      <td>-0.0706</td>\n",
              "      <td>0.1232</td>\n",
              "      <td>0.0027</td>\n",
              "      <td>-0.0700</td>\n",
              "      <td>0.0275</td>\n",
              "      <td>-0.0037</td>\n",
              "    </tr>\n",
              "    <tr>\n",
              "      <th>X23</th>\n",
              "      <td>0.0092</td>\n",
              "      <td>-0.0007</td>\n",
              "      <td>-0.0010</td>\n",
              "      <td>0.0010</td>\n",
              "      <td>0.0008</td>\n",
              "      <td>0.0000</td>\n",
              "      <td>-0.0022</td>\n",
              "      <td>0.0029</td>\n",
              "      <td>-0.0082</td>\n",
              "      <td>0.0132</td>\n",
              "      <td>...</td>\n",
              "      <td>-0.3633</td>\n",
              "      <td>0.7155</td>\n",
              "      <td>-0.4231</td>\n",
              "      <td>-0.0455</td>\n",
              "      <td>0.0394</td>\n",
              "      <td>0.0258</td>\n",
              "      <td>-0.0811</td>\n",
              "      <td>0.0944</td>\n",
              "      <td>-0.0169</td>\n",
              "      <td>-0.0006</td>\n",
              "    </tr>\n",
              "    <tr>\n",
              "      <th>Y</th>\n",
              "      <td>-0.0025</td>\n",
              "      <td>0.0028</td>\n",
              "      <td>0.0009</td>\n",
              "      <td>0.0018</td>\n",
              "      <td>-0.0013</td>\n",
              "      <td>0.0003</td>\n",
              "      <td>0.0005</td>\n",
              "      <td>0.0001</td>\n",
              "      <td>-0.0048</td>\n",
              "      <td>-0.0013</td>\n",
              "      <td>...</td>\n",
              "      <td>0.3498</td>\n",
              "      <td>-0.2332</td>\n",
              "      <td>0.0750</td>\n",
              "      <td>-0.0842</td>\n",
              "      <td>0.1240</td>\n",
              "      <td>-0.0633</td>\n",
              "      <td>0.0429</td>\n",
              "      <td>-0.0091</td>\n",
              "      <td>0.0084</td>\n",
              "      <td>-0.0013</td>\n",
              "    </tr>\n",
              "  </tbody>\n",
              "</table>\n",
              "<p>25 rows × 25 columns</p>\n",
              "</div>\n",
              "      <button class=\"colab-df-convert\" onclick=\"convertToInteractive('df-fb3a270f-a6c0-4c8f-aa76-0a7456fc0a9e')\"\n",
              "              title=\"Convert this dataframe to an interactive table.\"\n",
              "              style=\"display:none;\">\n",
              "        \n",
              "  <svg xmlns=\"http://www.w3.org/2000/svg\" height=\"24px\"viewBox=\"0 0 24 24\"\n",
              "       width=\"24px\">\n",
              "    <path d=\"M0 0h24v24H0V0z\" fill=\"none\"/>\n",
              "    <path d=\"M18.56 5.44l.94 2.06.94-2.06 2.06-.94-2.06-.94-.94-2.06-.94 2.06-2.06.94zm-11 1L8.5 8.5l.94-2.06 2.06-.94-2.06-.94L8.5 2.5l-.94 2.06-2.06.94zm10 10l.94 2.06.94-2.06 2.06-.94-2.06-.94-.94-2.06-.94 2.06-2.06.94z\"/><path d=\"M17.41 7.96l-1.37-1.37c-.4-.4-.92-.59-1.43-.59-.52 0-1.04.2-1.43.59L10.3 9.45l-7.72 7.72c-.78.78-.78 2.05 0 2.83L4 21.41c.39.39.9.59 1.41.59.51 0 1.02-.2 1.41-.59l7.78-7.78 2.81-2.81c.8-.78.8-2.07 0-2.86zM5.41 20L4 18.59l7.72-7.72 1.47 1.35L5.41 20z\"/>\n",
              "  </svg>\n",
              "      </button>\n",
              "      \n",
              "  <style>\n",
              "    .colab-df-container {\n",
              "      display:flex;\n",
              "      flex-wrap:wrap;\n",
              "      gap: 12px;\n",
              "    }\n",
              "\n",
              "    .colab-df-convert {\n",
              "      background-color: #E8F0FE;\n",
              "      border: none;\n",
              "      border-radius: 50%;\n",
              "      cursor: pointer;\n",
              "      display: none;\n",
              "      fill: #1967D2;\n",
              "      height: 32px;\n",
              "      padding: 0 0 0 0;\n",
              "      width: 32px;\n",
              "    }\n",
              "\n",
              "    .colab-df-convert:hover {\n",
              "      background-color: #E2EBFA;\n",
              "      box-shadow: 0px 1px 2px rgba(60, 64, 67, 0.3), 0px 1px 3px 1px rgba(60, 64, 67, 0.15);\n",
              "      fill: #174EA6;\n",
              "    }\n",
              "\n",
              "    [theme=dark] .colab-df-convert {\n",
              "      background-color: #3B4455;\n",
              "      fill: #D2E3FC;\n",
              "    }\n",
              "\n",
              "    [theme=dark] .colab-df-convert:hover {\n",
              "      background-color: #434B5C;\n",
              "      box-shadow: 0px 1px 3px 1px rgba(0, 0, 0, 0.15);\n",
              "      filter: drop-shadow(0px 1px 2px rgba(0, 0, 0, 0.3));\n",
              "      fill: #FFFFFF;\n",
              "    }\n",
              "  </style>\n",
              "\n",
              "      <script>\n",
              "        const buttonEl =\n",
              "          document.querySelector('#df-fb3a270f-a6c0-4c8f-aa76-0a7456fc0a9e button.colab-df-convert');\n",
              "        buttonEl.style.display =\n",
              "          google.colab.kernel.accessAllowed ? 'block' : 'none';\n",
              "\n",
              "        async function convertToInteractive(key) {\n",
              "          const element = document.querySelector('#df-fb3a270f-a6c0-4c8f-aa76-0a7456fc0a9e');\n",
              "          const dataTable =\n",
              "            await google.colab.kernel.invokeFunction('convertToInteractive',\n",
              "                                                     [key], {});\n",
              "          if (!dataTable) return;\n",
              "\n",
              "          const docLinkHtml = 'Like what you see? Visit the ' +\n",
              "            '<a target=\"_blank\" href=https://colab.research.google.com/notebooks/data_table.ipynb>data table notebook</a>'\n",
              "            + ' to learn more about interactive tables.';\n",
              "          element.innerHTML = '';\n",
              "          dataTable['output_type'] = 'display_data';\n",
              "          await google.colab.output.renderOutput(dataTable, element);\n",
              "          const docLink = document.createElement('div');\n",
              "          docLink.innerHTML = docLinkHtml;\n",
              "          element.appendChild(docLink);\n",
              "        }\n",
              "      </script>\n",
              "    </div>\n",
              "  </div>\n",
              "  "
            ]
          },
          "metadata": {},
          "execution_count": 70
        }
      ]
    },
    {
      "cell_type": "markdown",
      "source": [
        "☝ **PARA TENER EN CUENTA:** Para entender de una mejor manera la contribución de cada atributo para los componentes generados, obtendremos la magnitud del valor absoluto del coeficiente, teniendo en cuenta que a mayor valor absoluto mayor será el peso del atributo en el cálculo del componente."
      ],
      "metadata": {
        "id": "lglkGbUZF8eq"
      }
    },
    {
      "cell_type": "code",
      "source": [
        "#Obtenemos el valor absoluto del coeficiente\n",
        "dfAtributosComponente.iloc[:,:].abs().idxmax()"
      ],
      "metadata": {
        "id": "4a6GN0gEZQNp",
        "outputId": "05bacfdf-f308-4339-8f50-5678251afd68",
        "colab": {
          "base_uri": "https://localhost:8080/"
        }
      },
      "execution_count": 84,
      "outputs": [
        {
          "output_type": "execute_result",
          "data": {
            "text/plain": [
              "0      X5\n",
              "1     X15\n",
              "2      X5\n",
              "3      X7\n",
              "4     X14\n",
              "5     X14\n",
              "6     X16\n",
              "7     X17\n",
              "8     X19\n",
              "9     X17\n",
              "10    X20\n",
              "11    X17\n",
              "12    X18\n",
              "13      Y\n",
              "14      Y\n",
              "15    X21\n",
              "16    X23\n",
              "17    X21\n",
              "18    X12\n",
              "19    X12\n",
              "20    X11\n",
              "21     X9\n",
              "22     X8\n",
              "23    X10\n",
              "24     X7\n",
              "dtype: object"
            ]
          },
          "metadata": {},
          "execution_count": 84
        }
      ]
    },
    {
      "cell_type": "markdown",
      "source": [
        "---\n",
        "\n",
        "\n",
        "✍ Las variables más importantes para los componentes (0 al 7) que explican más del **70%** de la varianza son **X5** porque representa el mayor peso en los componentes 0 y 2, y **X14** que representa el mayor peso en los componentes 4 y 5."
      ],
      "metadata": {
        "id": "H67-v9p9vAPH"
      }
    },
    {
      "cell_type": "markdown",
      "source": [
        "---\n",
        "\n",
        "## 👣 **8.   Elabora los histogramas de los atributos para visualizar su distribución.**\n",
        "\n",
        "\n",
        "---"
      ],
      "metadata": {
        "id": "Oap1vSA7ZTiR"
      }
    },
    {
      "cell_type": "code",
      "source": [
        "%matplotlib inline\n",
        "import matplotlib as plt\n",
        "from matplotlib import pyplot\n",
        "plt.pyplot.hist(df[\"X5\"])\n",
        "\n",
        "# set x/y labels and plot title\n",
        "plt.pyplot.xlabel(\"Edad\")\n",
        "plt.pyplot.ylabel(\"Conteo\")\n",
        "plt.pyplot.title(\"Histograma Edad\")"
      ],
      "metadata": {
        "id": "2eWsip-TZXle",
        "outputId": "936d8f5f-c0f6-4d1f-b4a8-21763e936e89",
        "colab": {
          "base_uri": "https://localhost:8080/",
          "height": 313
        }
      },
      "execution_count": 89,
      "outputs": [
        {
          "output_type": "execute_result",
          "data": {
            "text/plain": [
              "Text(0.5, 1.0, 'Histograma Edad')"
            ]
          },
          "metadata": {},
          "execution_count": 89
        },
        {
          "output_type": "display_data",
          "data": {
            "text/plain": [
              "<Figure size 432x288 with 1 Axes>"
            ],
            "image/png": "[encoded data removed]"
          },
          "metadata": {
            "needs_background": "light"
          }
        }
      ]
    },
    {
      "cell_type": "code",
      "source": [
        "plt.pyplot.hist(df[\"X14\"])\n",
        "\n",
        "# set x/y labels and plot title\n",
        "plt.pyplot.xlabel(\"Monto de estado de factura julio\")\n",
        "plt.pyplot.ylabel(\"Conteo\")\n",
        "plt.pyplot.title(\"Histograma Monto de estado de factura julio\")"
      ],
      "metadata": {
        "id": "wRsM04Qewj6k",
        "outputId": "18d3a7c2-5a1d-4002-ade8-427d5020ab55",
        "colab": {
          "base_uri": "https://localhost:8080/",
          "height": 313
        }
      },
      "execution_count": 90,
      "outputs": [
        {
          "output_type": "execute_result",
          "data": {
            "text/plain": [
              "Text(0.5, 1.0, 'Histograma Monto de estado de factura julio')"
            ]
          },
          "metadata": {},
          "execution_count": 90
        },
        {
          "output_type": "display_data",
          "data": {
            "text/plain": [
              "<Figure size 432x288 with 1 Axes>"
            ],
            "image/png": "[encoded data removed]"
          },
          "metadata": {
            "needs_background": "light"
          }
        }
      ]
    },
    {
      "cell_type": "markdown",
      "source": [
        "---\n",
        "\n",
        "## 👣 **9.   Visualiza los datos usando por lo menos 3 gráficos adecuados: plot, scatter, jointplot, boxplot, areaplot, pie chart, pairplot, bar chart, etc.**\n",
        "\n",
        "\n",
        "---"
      ],
      "metadata": {
        "id": "S792U569ZcZN"
      }
    },
    {
      "cell_type": "code",
      "source": [
        "import matplotlib.pyplot as plt\n",
        "\n",
        "#Creamos una lista con los nombres de los 23 componentes para enviarlo a graficar junto con el dataframe\n",
        "nombres=list()\n",
        "nombres=[f'C{i}' for i in range(len(dfAjustado.columns))]\n",
        "\n",
        "plt.boxplot(dfAtributosComponente, labels=nombres, showmeans=True)\n",
        "plt.show()"
      ],
      "metadata": {
        "id": "q4Zv5RqxZqrj",
        "outputId": "d61da0ae-469d-410d-f578-73cef05cea66",
        "colab": {
          "base_uri": "https://localhost:8080/",
          "height": 265
        }
      },
      "execution_count": 112,
      "outputs": [
        {
          "output_type": "display_data",
          "data": {
            "text/plain": [
              "<Figure size 432x288 with 1 Axes>"
            ],
            "image/png": "[encoded data removed]"
          },
          "metadata": {
            "needs_background": "light"
          }
        }
      ]
    },
    {
      "cell_type": "markdown",
      "source": [
        "---\n",
        "\n",
        "## 👣 **10.   Interpreta y explica los gráficos indicando la información relevante que podría ayudar en el proceso de toma de decisiones.**\n",
        "\n",
        "\n",
        "---"
      ],
      "metadata": {
        "id": "ZMvIK9T1Zt7d"
      }
    },
    {
      "cell_type": "code",
      "source": [],
      "metadata": {
        "id": "mbq_wdfAZ7As"
      },
      "execution_count": null,
      "outputs": []
    }
  ]
}