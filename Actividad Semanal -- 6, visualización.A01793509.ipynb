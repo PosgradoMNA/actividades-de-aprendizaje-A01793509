{
  "nbformat": 4,
  "nbformat_minor": 0,
  "metadata": {
    "kernelspec": {
      "display_name": "Python 3",
      "language": "python",
      "name": "python3"
    },
    "language_info": {
      "codemirror_mode": {
        "name": "ipython",
        "version": 3
      },
      "file_extension": ".py",
      "mimetype": "text/x-python",
      "name": "python",
      "nbconvert_exporter": "python",
      "pygments_lexer": "ipython3",
      "version": "3.7.7"
    },
    "colab": {
      "provenance": [],
      "collapsed_sections": [],
      "include_colab_link": true
    }
  },
  "cells": [
    {
      "cell_type": "markdown",
      "metadata": {
        "id": "view-in-github",
        "colab_type": "text"
      },
      "source": [
        "<a href=\"https://colab.research.google.com/github/PosgradoMNA/actividades-de-aprendizaje-A01793509/blob/main/Actividad%20Semanal%20--%206%2C%20visualizaci%C3%B3n.A01793509.ipynb\" target=\"_parent\"><img src=\"https://colab.research.google.com/assets/colab-badge.svg\" alt=\"Open In Colab\"/></a>"
      ]
    },
    {
      "cell_type": "markdown",
      "source": [
        "\n",
        "---\n",
        "\n",
        "\n",
        "🚀 **Actividad Semanal -- 6, visualización**: Realizar la exploración y visualización de los datos para generar un panorama general de las distribuciones, patrones y relaciones de los datos.\n",
        "\n",
        "📑 **Asignatura:** Ciencia y analítica de datos\n",
        "\n",
        "🧑 **Alumno:** Alberto José García Porras (Matrícula No. **A01793509**)\n",
        "\n",
        "🧑 **Profesora**: María de la Paz Rico Fernández\n",
        "\n",
        "📅 Noviembre 01 del 2022\n",
        "\n",
        "---"
      ],
      "metadata": {
        "id": "uG4n4eWqJtEv"
      }
    },
    {
      "cell_type": "markdown",
      "source": [
        "---\n",
        "\n",
        "\n",
        "## 👣 **1.   Descarga los datos y carga el dataset en libreta.**\n",
        "\n",
        "---"
      ],
      "metadata": {
        "id": "HQmVzgUN8bip"
      }
    },
    {
      "cell_type": "code",
      "source": [
        "#Importamos la librería pandas y leemos el archivo default of credit card clients.csv\n",
        "import pandas as pd\n",
        "url = \"https://raw.githubusercontent.com/PosgradoMNA/Actividades_Aprendizaje-/main/default%20of%20credit%20card%20clients.csv\"\n",
        "df = pd.read_csv(url, index_col=0)\n",
        "#Eliminamos el encabezado del índice\n",
        "df.index.name = None"
      ],
      "metadata": {
        "id": "sQ7uWTcA7plf"
      },
      "execution_count": 145,
      "outputs": []
    },
    {
      "cell_type": "markdown",
      "source": [
        "---\n",
        "\n",
        "## 👣 **2.   Obten la información del DataFrame (shape, columns, head(), dtypes, info(), isna())**\n",
        "\n",
        "\n",
        "---"
      ],
      "metadata": {
        "id": "fieFw4gt-LT0"
      }
    },
    {
      "cell_type": "code",
      "source": [
        "#Obtenemos la dimensionalidad de nuestro dataframe\n",
        "print(\"El shape del dataframe es:\", df.shape)"
      ],
      "metadata": {
        "id": "1-TU4aJG-yh6",
        "outputId": "a1cadfe9-4f2e-4b21-e3db-9c5edf913530",
        "colab": {
          "base_uri": "https://localhost:8080/"
        }
      },
      "execution_count": 146,
      "outputs": [
        {
          "output_type": "stream",
          "name": "stdout",
          "text": [
            "El shape del dataframe es: (30000, 24)\n"
          ]
        }
      ]
    },
    {
      "cell_type": "code",
      "source": [
        "#Obtenemos el encabezado de las columnas de nuestro dataframe\n",
        "print(\"Las columnas del dataframe son:\")\n",
        "df.columns"
      ],
      "metadata": {
        "id": "jGHsP7Bw_zxU",
        "outputId": "4a302659-3836-42f8-d967-9302dc5fa35e",
        "colab": {
          "base_uri": "https://localhost:8080/"
        }
      },
      "execution_count": 147,
      "outputs": [
        {
          "output_type": "stream",
          "name": "stdout",
          "text": [
            "Las columnas del dataframe son:\n"
          ]
        },
        {
          "output_type": "execute_result",
          "data": {
            "text/plain": [
              "Index(['X1', 'X2', 'X3', 'X4', 'X5', 'X6', 'X7', 'X8', 'X9', 'X10', 'X11',\n",
              "       'X12', 'X13', 'X14', 'X15', 'X16', 'X17', 'X18', 'X19', 'X20', 'X21',\n",
              "       'X22', 'X23', 'Y'],\n",
              "      dtype='object')"
            ]
          },
          "metadata": {},
          "execution_count": 147
        }
      ]
    },
    {
      "cell_type": "code",
      "source": [
        "#Visualizamos los primeros 5 registros de nuestro dataframe\n",
        "print(\"Visualizamos los primeros 5 registros del dataframe:\")\n",
        "df.head()"
      ],
      "metadata": {
        "id": "lr9lVByt_2ex",
        "outputId": "c4b0b903-f919-4250-cc73-1f1dd23945ad",
        "colab": {
          "base_uri": "https://localhost:8080/",
          "height": 253
        }
      },
      "execution_count": 148,
      "outputs": [
        {
          "output_type": "stream",
          "name": "stdout",
          "text": [
            "Visualizamos los primeros 5 registros del dataframe:\n"
          ]
        },
        {
          "output_type": "execute_result",
          "data": {
            "text/plain": [
              "       X1   X2   X3   X4    X5   X6   X7   X8   X9  X10  ...      X15  \\\n",
              "1   20000  2.0  2.0  1.0  24.0  2.0  2.0 -1.0 -1.0 -2.0  ...      0.0   \n",
              "2  120000  2.0  2.0  2.0  26.0 -1.0  2.0  0.0  0.0  0.0  ...   3272.0   \n",
              "3   90000  2.0  2.0  2.0  34.0  0.0  0.0  0.0  0.0  0.0  ...  14331.0   \n",
              "4   50000  2.0  2.0  1.0  37.0  0.0  0.0  0.0  0.0  0.0  ...  28314.0   \n",
              "5   50000  1.0  2.0  1.0  57.0 -1.0  0.0 -1.0  0.0  0.0  ...  20940.0   \n",
              "\n",
              "       X16      X17     X18      X19      X20     X21     X22     X23    Y  \n",
              "1      0.0      0.0     0.0    689.0      0.0     0.0     0.0     0.0  1.0  \n",
              "2   3455.0   3261.0     0.0   1000.0   1000.0  1000.0     0.0  2000.0  1.0  \n",
              "3  14948.0  15549.0  1518.0   1500.0   1000.0  1000.0  1000.0  5000.0  0.0  \n",
              "4  28959.0  29547.0  2000.0   2019.0   1200.0  1100.0  1069.0  1000.0  0.0  \n",
              "5  19146.0  19131.0  2000.0  36681.0  10000.0  9000.0   689.0   679.0  0.0  \n",
              "\n",
              "[5 rows x 24 columns]"
            ],
            "text/html": [
              "\n",
              "  <div id=\"df-90f6b64d-ec0c-492a-8000-1e553bd00de3\">\n",
              "    <div class=\"colab-df-container\">\n",
              "      <div>\n",
              "<style scoped>\n",
              "    .dataframe tbody tr th:only-of-type {\n",
              "        vertical-align: middle;\n",
              "    }\n",
              "\n",
              "    .dataframe tbody tr th {\n",
              "        vertical-align: top;\n",
              "    }\n",
              "\n",
              "    .dataframe thead th {\n",
              "        text-align: right;\n",
              "    }\n",
              "</style>\n",
              "<table border=\"1\" class=\"dataframe\">\n",
              "  <thead>\n",
              "    <tr style=\"text-align: right;\">\n",
              "      <th></th>\n",
              "      <th>X1</th>\n",
              "      <th>X2</th>\n",
              "      <th>X3</th>\n",
              "      <th>X4</th>\n",
              "      <th>X5</th>\n",
              "      <th>X6</th>\n",
              "      <th>X7</th>\n",
              "      <th>X8</th>\n",
              "      <th>X9</th>\n",
              "      <th>X10</th>\n",
              "      <th>...</th>\n",
              "      <th>X15</th>\n",
              "      <th>X16</th>\n",
              "      <th>X17</th>\n",
              "      <th>X18</th>\n",
              "      <th>X19</th>\n",
              "      <th>X20</th>\n",
              "      <th>X21</th>\n",
              "      <th>X22</th>\n",
              "      <th>X23</th>\n",
              "      <th>Y</th>\n",
              "    </tr>\n",
              "  </thead>\n",
              "  <tbody>\n",
              "    <tr>\n",
              "      <th>1</th>\n",
              "      <td>20000</td>\n",
              "      <td>2.0</td>\n",
              "      <td>2.0</td>\n",
              "      <td>1.0</td>\n",
              "      <td>24.0</td>\n",
              "      <td>2.0</td>\n",
              "      <td>2.0</td>\n",
              "      <td>-1.0</td>\n",
              "      <td>-1.0</td>\n",
              "      <td>-2.0</td>\n",
              "      <td>...</td>\n",
              "      <td>0.0</td>\n",
              "      <td>0.0</td>\n",
              "      <td>0.0</td>\n",
              "      <td>0.0</td>\n",
              "      <td>689.0</td>\n",
              "      <td>0.0</td>\n",
              "      <td>0.0</td>\n",
              "      <td>0.0</td>\n",
              "      <td>0.0</td>\n",
              "      <td>1.0</td>\n",
              "    </tr>\n",
              "    <tr>\n",
              "      <th>2</th>\n",
              "      <td>120000</td>\n",
              "      <td>2.0</td>\n",
              "      <td>2.0</td>\n",
              "      <td>2.0</td>\n",
              "      <td>26.0</td>\n",
              "      <td>-1.0</td>\n",
              "      <td>2.0</td>\n",
              "      <td>0.0</td>\n",
              "      <td>0.0</td>\n",
              "      <td>0.0</td>\n",
              "      <td>...</td>\n",
              "      <td>3272.0</td>\n",
              "      <td>3455.0</td>\n",
              "      <td>3261.0</td>\n",
              "      <td>0.0</td>\n",
              "      <td>1000.0</td>\n",
              "      <td>1000.0</td>\n",
              "      <td>1000.0</td>\n",
              "      <td>0.0</td>\n",
              "      <td>2000.0</td>\n",
              "      <td>1.0</td>\n",
              "    </tr>\n",
              "    <tr>\n",
              "      <th>3</th>\n",
              "      <td>90000</td>\n",
              "      <td>2.0</td>\n",
              "      <td>2.0</td>\n",
              "      <td>2.0</td>\n",
              "      <td>34.0</td>\n",
              "      <td>0.0</td>\n",
              "      <td>0.0</td>\n",
              "      <td>0.0</td>\n",
              "      <td>0.0</td>\n",
              "      <td>0.0</td>\n",
              "      <td>...</td>\n",
              "      <td>14331.0</td>\n",
              "      <td>14948.0</td>\n",
              "      <td>15549.0</td>\n",
              "      <td>1518.0</td>\n",
              "      <td>1500.0</td>\n",
              "      <td>1000.0</td>\n",
              "      <td>1000.0</td>\n",
              "      <td>1000.0</td>\n",
              "      <td>5000.0</td>\n",
              "      <td>0.0</td>\n",
              "    </tr>\n",
              "    <tr>\n",
              "      <th>4</th>\n",
              "      <td>50000</td>\n",
              "      <td>2.0</td>\n",
              "      <td>2.0</td>\n",
              "      <td>1.0</td>\n",
              "      <td>37.0</td>\n",
              "      <td>0.0</td>\n",
              "      <td>0.0</td>\n",
              "      <td>0.0</td>\n",
              "      <td>0.0</td>\n",
              "      <td>0.0</td>\n",
              "      <td>...</td>\n",
              "      <td>28314.0</td>\n",
              "      <td>28959.0</td>\n",
              "      <td>29547.0</td>\n",
              "      <td>2000.0</td>\n",
              "      <td>2019.0</td>\n",
              "      <td>1200.0</td>\n",
              "      <td>1100.0</td>\n",
              "      <td>1069.0</td>\n",
              "      <td>1000.0</td>\n",
              "      <td>0.0</td>\n",
              "    </tr>\n",
              "    <tr>\n",
              "      <th>5</th>\n",
              "      <td>50000</td>\n",
              "      <td>1.0</td>\n",
              "      <td>2.0</td>\n",
              "      <td>1.0</td>\n",
              "      <td>57.0</td>\n",
              "      <td>-1.0</td>\n",
              "      <td>0.0</td>\n",
              "      <td>-1.0</td>\n",
              "      <td>0.0</td>\n",
              "      <td>0.0</td>\n",
              "      <td>...</td>\n",
              "      <td>20940.0</td>\n",
              "      <td>19146.0</td>\n",
              "      <td>19131.0</td>\n",
              "      <td>2000.0</td>\n",
              "      <td>36681.0</td>\n",
              "      <td>10000.0</td>\n",
              "      <td>9000.0</td>\n",
              "      <td>689.0</td>\n",
              "      <td>679.0</td>\n",
              "      <td>0.0</td>\n",
              "    </tr>\n",
              "  </tbody>\n",
              "</table>\n",
              "<p>5 rows × 24 columns</p>\n",
              "</div>\n",
              "      <button class=\"colab-df-convert\" onclick=\"convertToInteractive('df-90f6b64d-ec0c-492a-8000-1e553bd00de3')\"\n",
              "              title=\"Convert this dataframe to an interactive table.\"\n",
              "              style=\"display:none;\">\n",
              "        \n",
              "  <svg xmlns=\"http://www.w3.org/2000/svg\" height=\"24px\"viewBox=\"0 0 24 24\"\n",
              "       width=\"24px\">\n",
              "    <path d=\"M0 0h24v24H0V0z\" fill=\"none\"/>\n",
              "    <path d=\"M18.56 5.44l.94 2.06.94-2.06 2.06-.94-2.06-.94-.94-2.06-.94 2.06-2.06.94zm-11 1L8.5 8.5l.94-2.06 2.06-.94-2.06-.94L8.5 2.5l-.94 2.06-2.06.94zm10 10l.94 2.06.94-2.06 2.06-.94-2.06-.94-.94-2.06-.94 2.06-2.06.94z\"/><path d=\"M17.41 7.96l-1.37-1.37c-.4-.4-.92-.59-1.43-.59-.52 0-1.04.2-1.43.59L10.3 9.45l-7.72 7.72c-.78.78-.78 2.05 0 2.83L4 21.41c.39.39.9.59 1.41.59.51 0 1.02-.2 1.41-.59l7.78-7.78 2.81-2.81c.8-.78.8-2.07 0-2.86zM5.41 20L4 18.59l7.72-7.72 1.47 1.35L5.41 20z\"/>\n",
              "  </svg>\n",
              "      </button>\n",
              "      \n",
              "  <style>\n",
              "    .colab-df-container {\n",
              "      display:flex;\n",
              "      flex-wrap:wrap;\n",
              "      gap: 12px;\n",
              "    }\n",
              "\n",
              "    .colab-df-convert {\n",
              "      background-color: #E8F0FE;\n",
              "      border: none;\n",
              "      border-radius: 50%;\n",
              "      cursor: pointer;\n",
              "      display: none;\n",
              "      fill: #1967D2;\n",
              "      height: 32px;\n",
              "      padding: 0 0 0 0;\n",
              "      width: 32px;\n",
              "    }\n",
              "\n",
              "    .colab-df-convert:hover {\n",
              "      background-color: #E2EBFA;\n",
              "      box-shadow: 0px 1px 2px rgba(60, 64, 67, 0.3), 0px 1px 3px 1px rgba(60, 64, 67, 0.15);\n",
              "      fill: #174EA6;\n",
              "    }\n",
              "\n",
              "    [theme=dark] .colab-df-convert {\n",
              "      background-color: #3B4455;\n",
              "      fill: #D2E3FC;\n",
              "    }\n",
              "\n",
              "    [theme=dark] .colab-df-convert:hover {\n",
              "      background-color: #434B5C;\n",
              "      box-shadow: 0px 1px 3px 1px rgba(0, 0, 0, 0.15);\n",
              "      filter: drop-shadow(0px 1px 2px rgba(0, 0, 0, 0.3));\n",
              "      fill: #FFFFFF;\n",
              "    }\n",
              "  </style>\n",
              "\n",
              "      <script>\n",
              "        const buttonEl =\n",
              "          document.querySelector('#df-90f6b64d-ec0c-492a-8000-1e553bd00de3 button.colab-df-convert');\n",
              "        buttonEl.style.display =\n",
              "          google.colab.kernel.accessAllowed ? 'block' : 'none';\n",
              "\n",
              "        async function convertToInteractive(key) {\n",
              "          const element = document.querySelector('#df-90f6b64d-ec0c-492a-8000-1e553bd00de3');\n",
              "          const dataTable =\n",
              "            await google.colab.kernel.invokeFunction('convertToInteractive',\n",
              "                                                     [key], {});\n",
              "          if (!dataTable) return;\n",
              "\n",
              "          const docLinkHtml = 'Like what you see? Visit the ' +\n",
              "            '<a target=\"_blank\" href=https://colab.research.google.com/notebooks/data_table.ipynb>data table notebook</a>'\n",
              "            + ' to learn more about interactive tables.';\n",
              "          element.innerHTML = '';\n",
              "          dataTable['output_type'] = 'display_data';\n",
              "          await google.colab.output.renderOutput(dataTable, element);\n",
              "          const docLink = document.createElement('div');\n",
              "          docLink.innerHTML = docLinkHtml;\n",
              "          element.appendChild(docLink);\n",
              "        }\n",
              "      </script>\n",
              "    </div>\n",
              "  </div>\n",
              "  "
            ]
          },
          "metadata": {},
          "execution_count": 148
        }
      ]
    },
    {
      "cell_type": "code",
      "source": [
        "#Obtenemos el tipo de datos de nuestras columnas\n",
        "print(\"Obtenemos el tipo de datos de cada columna en el dataframe:\")\n",
        "df.dtypes"
      ],
      "metadata": {
        "id": "yQmj3iaV_8FM",
        "outputId": "45e3bec6-0b90-42d3-8fc3-2f1f0c9bac25",
        "colab": {
          "base_uri": "https://localhost:8080/"
        }
      },
      "execution_count": 149,
      "outputs": [
        {
          "output_type": "stream",
          "name": "stdout",
          "text": [
            "Obtenemos el tipo de datos de cada columna en el dataframe:\n"
          ]
        },
        {
          "output_type": "execute_result",
          "data": {
            "text/plain": [
              "X1       int64\n",
              "X2     float64\n",
              "X3     float64\n",
              "X4     float64\n",
              "X5     float64\n",
              "X6     float64\n",
              "X7     float64\n",
              "X8     float64\n",
              "X9     float64\n",
              "X10    float64\n",
              "X11    float64\n",
              "X12    float64\n",
              "X13    float64\n",
              "X14    float64\n",
              "X15    float64\n",
              "X16    float64\n",
              "X17    float64\n",
              "X18    float64\n",
              "X19    float64\n",
              "X20    float64\n",
              "X21    float64\n",
              "X22    float64\n",
              "X23    float64\n",
              "Y      float64\n",
              "dtype: object"
            ]
          },
          "metadata": {},
          "execution_count": 149
        }
      ]
    },
    {
      "cell_type": "code",
      "source": [
        "#Obtenemos datos resumidos del dataframe\n",
        "print(\"Obtenemos un resumen conciso de nuestro dataframe:\")\n",
        "print(\"\")\n",
        "df.info()"
      ],
      "metadata": {
        "id": "o1ykSsL7AA1N",
        "outputId": "1ca5dbef-bbd3-4005-f594-12fd78d667a7",
        "colab": {
          "base_uri": "https://localhost:8080/"
        }
      },
      "execution_count": 150,
      "outputs": [
        {
          "output_type": "stream",
          "name": "stdout",
          "text": [
            "Obtenemos un resumen conciso de nuestro dataframe:\n",
            "\n",
            "<class 'pandas.core.frame.DataFrame'>\n",
            "Int64Index: 30000 entries, 1 to 30000\n",
            "Data columns (total 24 columns):\n",
            " #   Column  Non-Null Count  Dtype  \n",
            "---  ------  --------------  -----  \n",
            " 0   X1      30000 non-null  int64  \n",
            " 1   X2      29999 non-null  float64\n",
            " 2   X3      29998 non-null  float64\n",
            " 3   X4      29998 non-null  float64\n",
            " 4   X5      29995 non-null  float64\n",
            " 5   X6      29997 non-null  float64\n",
            " 6   X7      29995 non-null  float64\n",
            " 7   X8      29993 non-null  float64\n",
            " 8   X9      29991 non-null  float64\n",
            " 9   X10     29984 non-null  float64\n",
            " 10  X11     29986 non-null  float64\n",
            " 11  X12     29989 non-null  float64\n",
            " 12  X13     29989 non-null  float64\n",
            " 13  X14     29987 non-null  float64\n",
            " 14  X15     29985 non-null  float64\n",
            " 15  X16     29983 non-null  float64\n",
            " 16  X17     29990 non-null  float64\n",
            " 17  X18     29992 non-null  float64\n",
            " 18  X19     29991 non-null  float64\n",
            " 19  X20     29992 non-null  float64\n",
            " 20  X21     29989 non-null  float64\n",
            " 21  X22     29989 non-null  float64\n",
            " 22  X23     29995 non-null  float64\n",
            " 23  Y       29997 non-null  float64\n",
            "dtypes: float64(23), int64(1)\n",
            "memory usage: 5.7 MB\n"
          ]
        }
      ]
    },
    {
      "cell_type": "code",
      "source": [
        "#Validamos los datos perdidos del dataframe\n",
        "print(\"Verificamos las columnas con datos perdidos en nuestro dataframe:\")\n",
        "df.isna().any()"
      ],
      "metadata": {
        "id": "TFwimwzXAFke",
        "outputId": "5976ae81-d1f6-4315-adb0-df3980e3e0b9",
        "colab": {
          "base_uri": "https://localhost:8080/"
        }
      },
      "execution_count": 151,
      "outputs": [
        {
          "output_type": "stream",
          "name": "stdout",
          "text": [
            "Verificamos las columnas con datos perdidos en nuestro dataframe:\n"
          ]
        },
        {
          "output_type": "execute_result",
          "data": {
            "text/plain": [
              "X1     False\n",
              "X2      True\n",
              "X3      True\n",
              "X4      True\n",
              "X5      True\n",
              "X6      True\n",
              "X7      True\n",
              "X8      True\n",
              "X9      True\n",
              "X10     True\n",
              "X11     True\n",
              "X12     True\n",
              "X13     True\n",
              "X14     True\n",
              "X15     True\n",
              "X16     True\n",
              "X17     True\n",
              "X18     True\n",
              "X19     True\n",
              "X20     True\n",
              "X21     True\n",
              "X22     True\n",
              "X23     True\n",
              "Y       True\n",
              "dtype: bool"
            ]
          },
          "metadata": {},
          "execution_count": 151
        }
      ]
    },
    {
      "cell_type": "markdown",
      "source": [
        "☝ Observamos que en todas las columnas (excepto X1) existen datos perdidos, por lo cual procederemos con la limpieza en el siguiente punto."
      ],
      "metadata": {
        "id": "DEz1FmGNCp78"
      }
    },
    {
      "cell_type": "markdown",
      "source": [
        "---\n",
        "\n",
        "## 👣 **3.   Limpia los datos eliminando los registros nulos o rellena con la media de la columna**\n",
        "\n",
        "\n",
        "---"
      ],
      "metadata": {
        "id": "KJoQ1g_KBZRo"
      }
    },
    {
      "cell_type": "markdown",
      "source": [
        "⚠ Teniendo en cuenta que la eliminación de registros nulos podría llevarse datos sensibles útiles para las predicciones del modelo, procederemos a evaluar la cantidad de registros nulos por columna y tipo con el fin de aplicar la eliminación solo en aquellas variables categóricas en las que existan menos de 20 registros con datos nulos, si existen más de 20 registros nulos podríamos aplicar una imputación con la moda a los atributos categóricos. Para las columnas numéricas se rellenarán los datos perdidos con la media de la columna."
      ],
      "metadata": {
        "id": "5xlYppy1DoMX"
      }
    },
    {
      "cell_type": "code",
      "metadata": {
        "id": "315jkeDeO-Ja",
        "colab": {
          "base_uri": "https://localhost:8080/"
        },
        "outputId": "4fa7ca8f-af17-4b36-c406-762371c4565b"
      },
      "source": [
        "#Creamos un dataframe llamado \"datos_perdidos_columnas\" en el que almacenaremos los datos faltantes del dataframe original \"df\"\n",
        "datos_perdidos_columnas = df.isna()\n",
        "datos_perdidos_columnas\n",
        "\n",
        "#Recorremos las columnas obtenidas en \"datos_perdidos_columnas\" e imprimimos la cantidad de registros con valores perdidos (True) y valores correctos (False)\n",
        "for columna in datos_perdidos_columnas.columns.values.tolist():\n",
        "    print(columna)\n",
        "    print (datos_perdidos_columnas[columna].value_counts())\n",
        "    print(\"\")"
      ],
      "execution_count": 152,
      "outputs": [
        {
          "output_type": "stream",
          "name": "stdout",
          "text": [
            "X1\n",
            "False    30000\n",
            "Name: X1, dtype: int64\n",
            "\n",
            "X2\n",
            "False    29999\n",
            "True         1\n",
            "Name: X2, dtype: int64\n",
            "\n",
            "X3\n",
            "False    29998\n",
            "True         2\n",
            "Name: X3, dtype: int64\n",
            "\n",
            "X4\n",
            "False    29998\n",
            "True         2\n",
            "Name: X4, dtype: int64\n",
            "\n",
            "X5\n",
            "False    29995\n",
            "True         5\n",
            "Name: X5, dtype: int64\n",
            "\n",
            "X6\n",
            "False    29997\n",
            "True         3\n",
            "Name: X6, dtype: int64\n",
            "\n",
            "X7\n",
            "False    29995\n",
            "True         5\n",
            "Name: X7, dtype: int64\n",
            "\n",
            "X8\n",
            "False    29993\n",
            "True         7\n",
            "Name: X8, dtype: int64\n",
            "\n",
            "X9\n",
            "False    29991\n",
            "True         9\n",
            "Name: X9, dtype: int64\n",
            "\n",
            "X10\n",
            "False    29984\n",
            "True        16\n",
            "Name: X10, dtype: int64\n",
            "\n",
            "X11\n",
            "False    29986\n",
            "True        14\n",
            "Name: X11, dtype: int64\n",
            "\n",
            "X12\n",
            "False    29989\n",
            "True        11\n",
            "Name: X12, dtype: int64\n",
            "\n",
            "X13\n",
            "False    29989\n",
            "True        11\n",
            "Name: X13, dtype: int64\n",
            "\n",
            "X14\n",
            "False    29987\n",
            "True        13\n",
            "Name: X14, dtype: int64\n",
            "\n",
            "X15\n",
            "False    29985\n",
            "True        15\n",
            "Name: X15, dtype: int64\n",
            "\n",
            "X16\n",
            "False    29983\n",
            "True        17\n",
            "Name: X16, dtype: int64\n",
            "\n",
            "X17\n",
            "False    29990\n",
            "True        10\n",
            "Name: X17, dtype: int64\n",
            "\n",
            "X18\n",
            "False    29992\n",
            "True         8\n",
            "Name: X18, dtype: int64\n",
            "\n",
            "X19\n",
            "False    29991\n",
            "True         9\n",
            "Name: X19, dtype: int64\n",
            "\n",
            "X20\n",
            "False    29992\n",
            "True         8\n",
            "Name: X20, dtype: int64\n",
            "\n",
            "X21\n",
            "False    29989\n",
            "True        11\n",
            "Name: X21, dtype: int64\n",
            "\n",
            "X22\n",
            "False    29989\n",
            "True        11\n",
            "Name: X22, dtype: int64\n",
            "\n",
            "X23\n",
            "False    29995\n",
            "True         5\n",
            "Name: X23, dtype: int64\n",
            "\n",
            "Y\n",
            "False    29997\n",
            "True         3\n",
            "Name: Y, dtype: int64\n",
            "\n"
          ]
        }
      ]
    },
    {
      "cell_type": "markdown",
      "source": [
        "☝ **PARA TENER EN CUENTA:** Sabemos por la descripción del dataset que, aunque todos los datos son numéricos, los siguientes atributos son categóricos:\n",
        "\n",
        "\n",
        "*   X2: Género (Categórica nominal)\n",
        "*   X3: Educación (Categórica ordinal)\n",
        "*   X4: Estado Marital (Categórica nominal)\n",
        "*   X6: Historial de pagos pasados septiembre (Categórica ordinal)\n",
        "*   X7: Historial de pagos pasados agosto (Categórica ordinal)\n",
        "*   X8: Historial de pagos pasados julio (Categórica ordinal)\n",
        "*   X9: Historial de pagos pasados junio (Categórica ordinal)\n",
        "*   X10: Historial de pagos pasados mayo (Categórica ordinal)\n",
        "*   X11: Historial de pagos pasados abril (Categórica ordinal)\n",
        "\n",
        "El resto de columnas (X1, X5 y X12-X23) son numéricas.\n",
        "De igual forma, validaremos el porcentaje de datos perdidos en el dataframe."
      ],
      "metadata": {
        "id": "wV-buLFLlChA"
      }
    },
    {
      "cell_type": "code",
      "source": [
        "#Validamos el total de datos registros con datos perdidos versus el universo en la dataframe\n",
        "print(\"Existen\", str(df.isna().sum().sum()), \"registros con datos perdidos, correspondientes al %\", str(round(df.isna().sum().sum()/df.shape[0] * 100,2)), \"del total de registros en el dataframe.\")"
      ],
      "metadata": {
        "id": "yB3iwiJhiIoR",
        "outputId": "85e45e41-c5d3-477c-8d21-f2325e189aca",
        "colab": {
          "base_uri": "https://localhost:8080/"
        }
      },
      "execution_count": 153,
      "outputs": [
        {
          "output_type": "stream",
          "name": "stdout",
          "text": [
            "Existen 196 registros con datos perdidos, correspondientes al % 0.65 del total de registros en el dataframe.\n"
          ]
        }
      ]
    },
    {
      "cell_type": "code",
      "source": [
        "#Validamos el total de datos registros con datos perdidos para las columnas categóricas versus el universo en la dataframe\n",
        "PerdidosCat=df.X2.isna().sum().sum() + df.X3.isna().sum().sum() + df.X4.isna().sum().sum() + df.X6.isna().sum().sum()+df.X7.isna().sum().sum() + df.X8.isna().sum().sum() + df.X9.isna().sum().sum() + df.X10.isna().sum().sum() + df.X11.isna().sum().sum()\n",
        "print(\"Existen\", str(PerdidosCat), \"registros con datos perdidos para columnas categóricas, correspondientes al %\", str(round(PerdidosCat/df.shape[0] * 100,2)), \"del total de registros en el dataframe.\")"
      ],
      "metadata": {
        "id": "DrZAaSNKjmMz",
        "outputId": "0caaf8ab-6d5c-4bd9-8ff4-4ec5ef11fcb2",
        "colab": {
          "base_uri": "https://localhost:8080/"
        }
      },
      "execution_count": 154,
      "outputs": [
        {
          "output_type": "stream",
          "name": "stdout",
          "text": [
            "Existen 59 registros con datos perdidos para columnas categóricas, correspondientes al % 0.2 del total de registros en el dataframe.\n"
          ]
        }
      ]
    },
    {
      "cell_type": "markdown",
      "source": [
        "---\n",
        "\n",
        "\n",
        "✍ De acuerdo a los resultados obtenidos, aplicaremos eliminación de registros para todas las columnas categóricas mencionadas, ya que el número de registros nulos no superan el **0.2% **del total de registros. Para los atributos numéricos, donde el porcentaje es un poco mayor, imputaremos la media en sus datos perdidos."
      ],
      "metadata": {
        "id": "Nx0Vn5ICEfG5"
      }
    },
    {
      "cell_type": "code",
      "source": [
        "#Ejecutamos la función 'dropna' para las columnas categóricas indicándoles que aplique la eliminación de forma permanente en el dataframe.\n",
        "df.dropna(subset=[\"X2\"], axis=0, inplace=True)\n",
        "df.dropna(subset=[\"X3\"], axis=0, inplace=True)\n",
        "df.dropna(subset=[\"X4\"], axis=0, inplace=True)\n",
        "df.dropna(subset=[\"X6\"], axis=0, inplace=True)\n",
        "df.dropna(subset=[\"X7\"], axis=0, inplace=True)\n",
        "df.dropna(subset=[\"X8\"], axis=0, inplace=True)\n",
        "df.dropna(subset=[\"X9\"], axis=0, inplace=True)\n",
        "df.dropna(subset=[\"X10\"], axis=0, inplace=True)\n",
        "df.dropna(subset=[\"X11\"], axis=0, inplace=True)\n",
        "\n",
        "#Reseteamos el indice del dataframe debido a la eliminación del registro\n",
        "df.reset_index(drop=True, inplace=True)"
      ],
      "metadata": {
        "id": "npQYOPsJEwB4"
      },
      "execution_count": 155,
      "outputs": []
    },
    {
      "cell_type": "code",
      "source": [
        "import numpy as np\n",
        "\n",
        "#Aplicaremos reemplazo de datos utilizando el promedio de la columna para el resto de columnas (X5 y X12 hasta la última Y).\n",
        "#Calculamos la media de la columna\n",
        "df = df.replace({'X5':{np.nan: df[\"X5\"].mean(axis=0)}, 'X12':{np.nan: df[\"X12\"].mean(axis=0)}, 'X13':{np.nan: df[\"X13\"].mean(axis=0)}, \n",
        "                 'X14':{np.nan: df[\"X14\"].mean(axis=0)}, 'X15':{np.nan: df[\"X15\"].mean(axis=0)}, 'X16':{np.nan: df[\"X16\"].mean(axis=0)}, \n",
        "                 'X17':{np.nan: df[\"X17\"].mean(axis=0)}, 'X18':{np.nan: df[\"X18\"].mean(axis=0)}, 'X19':{np.nan: df[\"X19\"].mean(axis=0)}, \n",
        "                 'X20':{np.nan: df[\"X20\"].mean(axis=0)}, 'X21':{np.nan: df[\"X21\"].mean(axis=0)}, 'X22':{np.nan: df[\"X22\"].mean(axis=0)}, \n",
        "                 'X23':{np.nan: df[\"X23\"].mean(axis=0)}, 'Y':{np.nan: df[\"Y\"].mean(axis=0)}})\n",
        "\n",
        "#Verificamos que no existan datos perdidos en ninguna columna\n",
        "df.isna().any()"
      ],
      "metadata": {
        "id": "a01cVFKIFLEq",
        "outputId": "662dd25a-6cc8-44ff-c4c7-829dc4b41073",
        "colab": {
          "base_uri": "https://localhost:8080/"
        }
      },
      "execution_count": 156,
      "outputs": [
        {
          "output_type": "execute_result",
          "data": {
            "text/plain": [
              "X1     False\n",
              "X2     False\n",
              "X3     False\n",
              "X4     False\n",
              "X5     False\n",
              "X6     False\n",
              "X7     False\n",
              "X8     False\n",
              "X9     False\n",
              "X10    False\n",
              "X11    False\n",
              "X12    False\n",
              "X13    False\n",
              "X14    False\n",
              "X15    False\n",
              "X16    False\n",
              "X17    False\n",
              "X18    False\n",
              "X19    False\n",
              "X20    False\n",
              "X21    False\n",
              "X22    False\n",
              "X23    False\n",
              "Y      False\n",
              "dtype: bool"
            ]
          },
          "metadata": {},
          "execution_count": 156
        }
      ]
    },
    {
      "cell_type": "markdown",
      "source": [
        "🙌 No existen datos perdidos en nuestro dataframe."
      ],
      "metadata": {
        "id": "i6H_-lVKU0RY"
      }
    },
    {
      "cell_type": "markdown",
      "source": [
        "---\n",
        "\n",
        "## 👣 **4.   Calcula la estadística descriptiva explicando medidas de tendencia central y dispersión**\n",
        "\n",
        "\n",
        "---"
      ],
      "metadata": {
        "id": "wRxVxcftUjTa"
      }
    },
    {
      "cell_type": "code",
      "source": [
        "#Ejecutamos la función describe para evaluar el resumen estadístico de los datos en el dataframe\n",
        "df.describe()"
      ],
      "metadata": {
        "id": "1fpt2F7vVL-j",
        "outputId": "ca79520f-0b96-4673-acca-0d4d21abf858",
        "colab": {
          "base_uri": "https://localhost:8080/",
          "height": 394
        }
      },
      "execution_count": 157,
      "outputs": [
        {
          "output_type": "execute_result",
          "data": {
            "text/plain": [
              "                   X1            X2            X3            X4            X5  \\\n",
              "count    29978.000000  29978.000000  29978.000000  29978.000000  29978.000000   \n",
              "mean    167526.842351      1.604043      1.853059      1.551805     35.485838   \n",
              "std     129740.945308      0.489063      0.790445      0.521993      9.217635   \n",
              "min      10000.000000      1.000000      0.000000      0.000000     21.000000   \n",
              "25%      50000.000000      1.000000      1.000000      1.000000     28.000000   \n",
              "50%     140000.000000      2.000000      2.000000      2.000000     34.000000   \n",
              "75%     240000.000000      2.000000      2.000000      2.000000     41.000000   \n",
              "max    1000000.000000      2.000000      6.000000      3.000000     79.000000   \n",
              "\n",
              "                 X6            X7            X8            X9           X10  \\\n",
              "count  29978.000000  29978.000000  29978.000000  29978.000000  29978.000000   \n",
              "mean      -0.016846     -0.133865     -0.166555     -0.221062     -0.266762   \n",
              "std        1.123856      1.197230      1.196193      1.168638      1.132478   \n",
              "min       -2.000000     -2.000000     -2.000000     -2.000000     -2.000000   \n",
              "25%       -1.000000     -1.000000     -1.000000     -1.000000     -1.000000   \n",
              "50%        0.000000      0.000000      0.000000      0.000000      0.000000   \n",
              "75%        0.000000      0.000000      0.000000      0.000000      0.000000   \n",
              "max        8.000000      8.000000      8.000000      8.000000      8.000000   \n",
              "\n",
              "       ...            X15            X16            X17            X18  \\\n",
              "count  ...   29978.000000   29978.000000   29978.000000   29978.000000   \n",
              "mean   ...   43271.461379   40321.123895   38879.575018    5664.736681   \n",
              "std    ...   64348.501194   60810.150576   59567.118641   16567.730115   \n",
              "min    ... -170000.000000  -81334.000000 -339603.000000       0.000000   \n",
              "25%    ...    2326.250000    1763.000000    1256.000000    1000.000000   \n",
              "50%    ...   19049.000000   18106.500000   17068.000000    2100.000000   \n",
              "75%    ...   54498.750000   50183.750000   49205.750000    5007.000000   \n",
              "max    ...  891586.000000  927171.000000  961664.000000  873552.000000   \n",
              "\n",
              "                X19            X20            X21            X22  \\\n",
              "count  2.997800e+04   29978.000000   29978.000000   29978.000000   \n",
              "mean   5.924217e+03    5226.979483    4828.786808    4801.313760   \n",
              "std    2.304897e+04   17612.335274   15671.444841   15283.149318   \n",
              "min    0.000000e+00       0.000000       0.000000       0.000000   \n",
              "25%    8.352500e+02     390.000000     296.000000     251.000000   \n",
              "50%    2.009000e+03    1800.000000    1500.000000    1500.000000   \n",
              "75%    5.000000e+03    4509.500000    4015.750000    4040.750000   \n",
              "max    1.684259e+06  896040.000000  621000.000000  426529.000000   \n",
              "\n",
              "                 X23             Y  \n",
              "count   29978.000000  29978.000000  \n",
              "mean     5218.976112      0.221184  \n",
              "std     17783.558116      0.415031  \n",
              "min         0.000000      0.000000  \n",
              "25%       116.250000      0.000000  \n",
              "50%      1500.000000      0.000000  \n",
              "75%      4000.000000      0.000000  \n",
              "max    528666.000000      1.000000  \n",
              "\n",
              "[8 rows x 24 columns]"
            ],
            "text/html": [
              "\n",
              "  <div id=\"df-b6ec3a89-d296-4e6e-8352-5fe2362519c7\">\n",
              "    <div class=\"colab-df-container\">\n",
              "      <div>\n",
              "<style scoped>\n",
              "    .dataframe tbody tr th:only-of-type {\n",
              "        vertical-align: middle;\n",
              "    }\n",
              "\n",
              "    .dataframe tbody tr th {\n",
              "        vertical-align: top;\n",
              "    }\n",
              "\n",
              "    .dataframe thead th {\n",
              "        text-align: right;\n",
              "    }\n",
              "</style>\n",
              "<table border=\"1\" class=\"dataframe\">\n",
              "  <thead>\n",
              "    <tr style=\"text-align: right;\">\n",
              "      <th></th>\n",
              "      <th>X1</th>\n",
              "      <th>X2</th>\n",
              "      <th>X3</th>\n",
              "      <th>X4</th>\n",
              "      <th>X5</th>\n",
              "      <th>X6</th>\n",
              "      <th>X7</th>\n",
              "      <th>X8</th>\n",
              "      <th>X9</th>\n",
              "      <th>X10</th>\n",
              "      <th>...</th>\n",
              "      <th>X15</th>\n",
              "      <th>X16</th>\n",
              "      <th>X17</th>\n",
              "      <th>X18</th>\n",
              "      <th>X19</th>\n",
              "      <th>X20</th>\n",
              "      <th>X21</th>\n",
              "      <th>X22</th>\n",
              "      <th>X23</th>\n",
              "      <th>Y</th>\n",
              "    </tr>\n",
              "  </thead>\n",
              "  <tbody>\n",
              "    <tr>\n",
              "      <th>count</th>\n",
              "      <td>29978.000000</td>\n",
              "      <td>29978.000000</td>\n",
              "      <td>29978.000000</td>\n",
              "      <td>29978.000000</td>\n",
              "      <td>29978.000000</td>\n",
              "      <td>29978.000000</td>\n",
              "      <td>29978.000000</td>\n",
              "      <td>29978.000000</td>\n",
              "      <td>29978.000000</td>\n",
              "      <td>29978.000000</td>\n",
              "      <td>...</td>\n",
              "      <td>29978.000000</td>\n",
              "      <td>29978.000000</td>\n",
              "      <td>29978.000000</td>\n",
              "      <td>29978.000000</td>\n",
              "      <td>2.997800e+04</td>\n",
              "      <td>29978.000000</td>\n",
              "      <td>29978.000000</td>\n",
              "      <td>29978.000000</td>\n",
              "      <td>29978.000000</td>\n",
              "      <td>29978.000000</td>\n",
              "    </tr>\n",
              "    <tr>\n",
              "      <th>mean</th>\n",
              "      <td>167526.842351</td>\n",
              "      <td>1.604043</td>\n",
              "      <td>1.853059</td>\n",
              "      <td>1.551805</td>\n",
              "      <td>35.485838</td>\n",
              "      <td>-0.016846</td>\n",
              "      <td>-0.133865</td>\n",
              "      <td>-0.166555</td>\n",
              "      <td>-0.221062</td>\n",
              "      <td>-0.266762</td>\n",
              "      <td>...</td>\n",
              "      <td>43271.461379</td>\n",
              "      <td>40321.123895</td>\n",
              "      <td>38879.575018</td>\n",
              "      <td>5664.736681</td>\n",
              "      <td>5.924217e+03</td>\n",
              "      <td>5226.979483</td>\n",
              "      <td>4828.786808</td>\n",
              "      <td>4801.313760</td>\n",
              "      <td>5218.976112</td>\n",
              "      <td>0.221184</td>\n",
              "    </tr>\n",
              "    <tr>\n",
              "      <th>std</th>\n",
              "      <td>129740.945308</td>\n",
              "      <td>0.489063</td>\n",
              "      <td>0.790445</td>\n",
              "      <td>0.521993</td>\n",
              "      <td>9.217635</td>\n",
              "      <td>1.123856</td>\n",
              "      <td>1.197230</td>\n",
              "      <td>1.196193</td>\n",
              "      <td>1.168638</td>\n",
              "      <td>1.132478</td>\n",
              "      <td>...</td>\n",
              "      <td>64348.501194</td>\n",
              "      <td>60810.150576</td>\n",
              "      <td>59567.118641</td>\n",
              "      <td>16567.730115</td>\n",
              "      <td>2.304897e+04</td>\n",
              "      <td>17612.335274</td>\n",
              "      <td>15671.444841</td>\n",
              "      <td>15283.149318</td>\n",
              "      <td>17783.558116</td>\n",
              "      <td>0.415031</td>\n",
              "    </tr>\n",
              "    <tr>\n",
              "      <th>min</th>\n",
              "      <td>10000.000000</td>\n",
              "      <td>1.000000</td>\n",
              "      <td>0.000000</td>\n",
              "      <td>0.000000</td>\n",
              "      <td>21.000000</td>\n",
              "      <td>-2.000000</td>\n",
              "      <td>-2.000000</td>\n",
              "      <td>-2.000000</td>\n",
              "      <td>-2.000000</td>\n",
              "      <td>-2.000000</td>\n",
              "      <td>...</td>\n",
              "      <td>-170000.000000</td>\n",
              "      <td>-81334.000000</td>\n",
              "      <td>-339603.000000</td>\n",
              "      <td>0.000000</td>\n",
              "      <td>0.000000e+00</td>\n",
              "      <td>0.000000</td>\n",
              "      <td>0.000000</td>\n",
              "      <td>0.000000</td>\n",
              "      <td>0.000000</td>\n",
              "      <td>0.000000</td>\n",
              "    </tr>\n",
              "    <tr>\n",
              "      <th>25%</th>\n",
              "      <td>50000.000000</td>\n",
              "      <td>1.000000</td>\n",
              "      <td>1.000000</td>\n",
              "      <td>1.000000</td>\n",
              "      <td>28.000000</td>\n",
              "      <td>-1.000000</td>\n",
              "      <td>-1.000000</td>\n",
              "      <td>-1.000000</td>\n",
              "      <td>-1.000000</td>\n",
              "      <td>-1.000000</td>\n",
              "      <td>...</td>\n",
              "      <td>2326.250000</td>\n",
              "      <td>1763.000000</td>\n",
              "      <td>1256.000000</td>\n",
              "      <td>1000.000000</td>\n",
              "      <td>8.352500e+02</td>\n",
              "      <td>390.000000</td>\n",
              "      <td>296.000000</td>\n",
              "      <td>251.000000</td>\n",
              "      <td>116.250000</td>\n",
              "      <td>0.000000</td>\n",
              "    </tr>\n",
              "    <tr>\n",
              "      <th>50%</th>\n",
              "      <td>140000.000000</td>\n",
              "      <td>2.000000</td>\n",
              "      <td>2.000000</td>\n",
              "      <td>2.000000</td>\n",
              "      <td>34.000000</td>\n",
              "      <td>0.000000</td>\n",
              "      <td>0.000000</td>\n",
              "      <td>0.000000</td>\n",
              "      <td>0.000000</td>\n",
              "      <td>0.000000</td>\n",
              "      <td>...</td>\n",
              "      <td>19049.000000</td>\n",
              "      <td>18106.500000</td>\n",
              "      <td>17068.000000</td>\n",
              "      <td>2100.000000</td>\n",
              "      <td>2.009000e+03</td>\n",
              "      <td>1800.000000</td>\n",
              "      <td>1500.000000</td>\n",
              "      <td>1500.000000</td>\n",
              "      <td>1500.000000</td>\n",
              "      <td>0.000000</td>\n",
              "    </tr>\n",
              "    <tr>\n",
              "      <th>75%</th>\n",
              "      <td>240000.000000</td>\n",
              "      <td>2.000000</td>\n",
              "      <td>2.000000</td>\n",
              "      <td>2.000000</td>\n",
              "      <td>41.000000</td>\n",
              "      <td>0.000000</td>\n",
              "      <td>0.000000</td>\n",
              "      <td>0.000000</td>\n",
              "      <td>0.000000</td>\n",
              "      <td>0.000000</td>\n",
              "      <td>...</td>\n",
              "      <td>54498.750000</td>\n",
              "      <td>50183.750000</td>\n",
              "      <td>49205.750000</td>\n",
              "      <td>5007.000000</td>\n",
              "      <td>5.000000e+03</td>\n",
              "      <td>4509.500000</td>\n",
              "      <td>4015.750000</td>\n",
              "      <td>4040.750000</td>\n",
              "      <td>4000.000000</td>\n",
              "      <td>0.000000</td>\n",
              "    </tr>\n",
              "    <tr>\n",
              "      <th>max</th>\n",
              "      <td>1000000.000000</td>\n",
              "      <td>2.000000</td>\n",
              "      <td>6.000000</td>\n",
              "      <td>3.000000</td>\n",
              "      <td>79.000000</td>\n",
              "      <td>8.000000</td>\n",
              "      <td>8.000000</td>\n",
              "      <td>8.000000</td>\n",
              "      <td>8.000000</td>\n",
              "      <td>8.000000</td>\n",
              "      <td>...</td>\n",
              "      <td>891586.000000</td>\n",
              "      <td>927171.000000</td>\n",
              "      <td>961664.000000</td>\n",
              "      <td>873552.000000</td>\n",
              "      <td>1.684259e+06</td>\n",
              "      <td>896040.000000</td>\n",
              "      <td>621000.000000</td>\n",
              "      <td>426529.000000</td>\n",
              "      <td>528666.000000</td>\n",
              "      <td>1.000000</td>\n",
              "    </tr>\n",
              "  </tbody>\n",
              "</table>\n",
              "<p>8 rows × 24 columns</p>\n",
              "</div>\n",
              "      <button class=\"colab-df-convert\" onclick=\"convertToInteractive('df-b6ec3a89-d296-4e6e-8352-5fe2362519c7')\"\n",
              "              title=\"Convert this dataframe to an interactive table.\"\n",
              "              style=\"display:none;\">\n",
              "        \n",
              "  <svg xmlns=\"http://www.w3.org/2000/svg\" height=\"24px\"viewBox=\"0 0 24 24\"\n",
              "       width=\"24px\">\n",
              "    <path d=\"M0 0h24v24H0V0z\" fill=\"none\"/>\n",
              "    <path d=\"M18.56 5.44l.94 2.06.94-2.06 2.06-.94-2.06-.94-.94-2.06-.94 2.06-2.06.94zm-11 1L8.5 8.5l.94-2.06 2.06-.94-2.06-.94L8.5 2.5l-.94 2.06-2.06.94zm10 10l.94 2.06.94-2.06 2.06-.94-2.06-.94-.94-2.06-.94 2.06-2.06.94z\"/><path d=\"M17.41 7.96l-1.37-1.37c-.4-.4-.92-.59-1.43-.59-.52 0-1.04.2-1.43.59L10.3 9.45l-7.72 7.72c-.78.78-.78 2.05 0 2.83L4 21.41c.39.39.9.59 1.41.59.51 0 1.02-.2 1.41-.59l7.78-7.78 2.81-2.81c.8-.78.8-2.07 0-2.86zM5.41 20L4 18.59l7.72-7.72 1.47 1.35L5.41 20z\"/>\n",
              "  </svg>\n",
              "      </button>\n",
              "      \n",
              "  <style>\n",
              "    .colab-df-container {\n",
              "      display:flex;\n",
              "      flex-wrap:wrap;\n",
              "      gap: 12px;\n",
              "    }\n",
              "\n",
              "    .colab-df-convert {\n",
              "      background-color: #E8F0FE;\n",
              "      border: none;\n",
              "      border-radius: 50%;\n",
              "      cursor: pointer;\n",
              "      display: none;\n",
              "      fill: #1967D2;\n",
              "      height: 32px;\n",
              "      padding: 0 0 0 0;\n",
              "      width: 32px;\n",
              "    }\n",
              "\n",
              "    .colab-df-convert:hover {\n",
              "      background-color: #E2EBFA;\n",
              "      box-shadow: 0px 1px 2px rgba(60, 64, 67, 0.3), 0px 1px 3px 1px rgba(60, 64, 67, 0.15);\n",
              "      fill: #174EA6;\n",
              "    }\n",
              "\n",
              "    [theme=dark] .colab-df-convert {\n",
              "      background-color: #3B4455;\n",
              "      fill: #D2E3FC;\n",
              "    }\n",
              "\n",
              "    [theme=dark] .colab-df-convert:hover {\n",
              "      background-color: #434B5C;\n",
              "      box-shadow: 0px 1px 3px 1px rgba(0, 0, 0, 0.15);\n",
              "      filter: drop-shadow(0px 1px 2px rgba(0, 0, 0, 0.3));\n",
              "      fill: #FFFFFF;\n",
              "    }\n",
              "  </style>\n",
              "\n",
              "      <script>\n",
              "        const buttonEl =\n",
              "          document.querySelector('#df-b6ec3a89-d296-4e6e-8352-5fe2362519c7 button.colab-df-convert');\n",
              "        buttonEl.style.display =\n",
              "          google.colab.kernel.accessAllowed ? 'block' : 'none';\n",
              "\n",
              "        async function convertToInteractive(key) {\n",
              "          const element = document.querySelector('#df-b6ec3a89-d296-4e6e-8352-5fe2362519c7');\n",
              "          const dataTable =\n",
              "            await google.colab.kernel.invokeFunction('convertToInteractive',\n",
              "                                                     [key], {});\n",
              "          if (!dataTable) return;\n",
              "\n",
              "          const docLinkHtml = 'Like what you see? Visit the ' +\n",
              "            '<a target=\"_blank\" href=https://colab.research.google.com/notebooks/data_table.ipynb>data table notebook</a>'\n",
              "            + ' to learn more about interactive tables.';\n",
              "          element.innerHTML = '';\n",
              "          dataTable['output_type'] = 'display_data';\n",
              "          await google.colab.output.renderOutput(dataTable, element);\n",
              "          const docLink = document.createElement('div');\n",
              "          docLink.innerHTML = docLinkHtml;\n",
              "          element.appendChild(docLink);\n",
              "        }\n",
              "      </script>\n",
              "    </div>\n",
              "  </div>\n",
              "  "
            ]
          },
          "metadata": {},
          "execution_count": 157
        }
      ]
    },
    {
      "cell_type": "markdown",
      "source": [
        "---\n",
        "\n",
        "\n",
        "✍ Observo que los rangos en los datos de los atributos numéricos difieren mucho entre columnas. Por ejemplo; para la columna X5 el mínimo es 21 y el máximo 79, mientras que en la columna X17 el mínimo es -339,603 y el máximo 961,664. Lo mismo ocurre con la media de las columnas, en algunos casos se visualizan valores entre 0 y 2, y en otras columnas mayores a 40,000, mostrando una amplia diferencia en el rango de los valores para las atributos numéricos, lo cual podría generar problemas al correr el modelo, ya que podrían priorizarse de forma erronea aquellas columnas con mayores rangos numéricos.\n",
        "\n",
        "\n",
        "---"
      ],
      "metadata": {
        "id": "UtspLqE_rTdH"
      }
    },
    {
      "cell_type": "markdown",
      "source": [
        "☝ Podemos enfocarnos puntualmente en las columnas X5 y X17 para corroborar lo arrojado por el método **describe()** y obtener también la mediana de dichas columnas."
      ],
      "metadata": {
        "id": "MU5Cguh4uxqF"
      }
    },
    {
      "cell_type": "code",
      "source": [
        "print(\"Estadísticas para la columna X5:\")\n",
        "print(\"* La media es\", df.X5.mean())\n",
        "print(\"* La mediana es\",df.X5.median())\n",
        "print(\"* La moda es\",df.X5.mode())\n",
        "\n",
        "print(\"Estadísticas para la columna X17:\")\n",
        "print(\"* La media es\", df.X17.mean())\n",
        "print(\"* La mediana es\",df.X17.median())\n",
        "print(\"* La moda es\",df.X17.mode())"
      ],
      "metadata": {
        "colab": {
          "base_uri": "https://localhost:8080/"
        },
        "id": "ockZjVcnujqT",
        "outputId": "1249ebde-d694-4ba6-d092-f888555ca3f0"
      },
      "execution_count": 158,
      "outputs": [
        {
          "output_type": "stream",
          "name": "stdout",
          "text": [
            "Estadísticas para la columna X5:\n",
            "* La media es 35.48583819849875\n",
            "* La mediana es 34.0\n",
            "* La moda es 0    29.0\n",
            "dtype: float64\n",
            "Estadísticas para la columna X17:\n",
            "* La media es 38879.57501751577\n",
            "* La mediana es 17068.0\n",
            "* La moda es 0    0.0\n",
            "dtype: float64\n"
          ]
        }
      ]
    },
    {
      "cell_type": "markdown",
      "source": [
        "---\n",
        "\n",
        "\n",
        "⚠ Confirmamos lo indicado anteriormente, los rangos numéricos difieren mucho entre columnas. Sabemos también que cuando la distribución de los datos es simétrica cuando la media, la mediana y la moda presentan valores cercanos.\n",
        "\n",
        "\n",
        "---"
      ],
      "metadata": {
        "id": "LbsUXFyiv4bn"
      }
    },
    {
      "cell_type": "markdown",
      "source": [
        "☝ Ahora revisaremos la distribución de los datos a través de un histograma:"
      ],
      "metadata": {
        "id": "5rtT6mxr6Ubk"
      }
    },
    {
      "cell_type": "code",
      "source": [
        "#Importamos la librearía\n",
        "import matplotlib.pyplot as plt\n",
        "\n",
        "#Visualizamos las medidas\n",
        "print(\"Media es\", df.X5.mean())\n",
        "print(\"Mediana es\",df.X5.median())\n",
        "print(\"Moda es\",df.X5.mode())\n",
        "\n",
        "#Graficamos las columnas evaluadas anteriormente (X5 y X17)\n",
        "plt.hist(df.X5,8)\n",
        "plt.show"
      ],
      "metadata": {
        "colab": {
          "base_uri": "https://localhost:8080/",
          "height": 352
        },
        "id": "ijODOpe35K_A",
        "outputId": "4b2d1aeb-711c-407e-cd71-724a68c43f2e"
      },
      "execution_count": 159,
      "outputs": [
        {
          "output_type": "stream",
          "name": "stdout",
          "text": [
            "Media es 35.48583819849875\n",
            "Mediana es 34.0\n",
            "Moda es 0    29.0\n",
            "dtype: float64\n"
          ]
        },
        {
          "output_type": "execute_result",
          "data": {
            "text/plain": [
              "<function matplotlib.pyplot.show(*args, **kw)>"
            ]
          },
          "metadata": {},
          "execution_count": 159
        },
        {
          "output_type": "display_data",
          "data": {
            "text/plain": [
              "<Figure size 432x288 with 1 Axes>"
            ],
            "image/png": "[encoded data removed]"
          },
          "metadata": {
            "needs_background": "light"
          }
        }
      ]
    },
    {
      "cell_type": "code",
      "source": [
        "#Visualizamos las medidas\n",
        "print(\"Media es\", df.X17.mean())\n",
        "print(\"Mediana es\",df.X17.median())\n",
        "print(\"Moda es\",df.X17.mode())\n",
        "\n",
        "#Graficamos las columnas evaluadas anteriormente (X5 y X17)\n",
        "plt.hist(df.X17,8)\n",
        "plt.show"
      ],
      "metadata": {
        "colab": {
          "base_uri": "https://localhost:8080/",
          "height": 365
        },
        "id": "u97g2SCC8wOG",
        "outputId": "9e0a587f-68ca-4a7f-bf78-e96ca57437c9"
      },
      "execution_count": 160,
      "outputs": [
        {
          "output_type": "stream",
          "name": "stdout",
          "text": [
            "Media es 38879.57501751577\n",
            "Mediana es 17068.0\n",
            "Moda es 0    0.0\n",
            "dtype: float64\n"
          ]
        },
        {
          "output_type": "execute_result",
          "data": {
            "text/plain": [
              "<function matplotlib.pyplot.show(*args, **kw)>"
            ]
          },
          "metadata": {},
          "execution_count": 160
        },
        {
          "output_type": "display_data",
          "data": {
            "text/plain": [
              "<Figure size 432x288 with 1 Axes>"
            ],
            "image/png": "[encoded data removed]"
          },
          "metadata": {
            "needs_background": "light"
          }
        }
      ]
    },
    {
      "cell_type": "markdown",
      "source": [
        "✍ **PARA TENER EN CUENTA:** Los datos en los atributos X5 y X17 presentan un sesgo positivo, que es más notorio para la columna X5. Este sesgo es debido a que la moda es menor a la mediana y la mediana es menor a la media en los atributos analizados."
      ],
      "metadata": {
        "id": "Wu0g43bB7NKx"
      }
    },
    {
      "cell_type": "markdown",
      "source": [
        "---\n",
        "\n",
        "## 👣 **5.   Realiza el conteo de las variables categóricas**\n",
        "\n",
        "\n",
        "---"
      ],
      "metadata": {
        "id": "tCOJ81BRXrWI"
      }
    },
    {
      "cell_type": "markdown",
      "source": [
        "✍ **PARA TENER EN CUENTA:** Debido a que los datos categóricos de nuestro set vienen de la fuente con el tipo de dato numérico, no podremos identificar de la manera convencional \"**df.select_dtypes(include='object')**\" las variables categóricas para realizar el conteo. \n",
        "Teniendo en cuenta lo comentado en el punto 3, respecto a cuales son las columnas categóricas, procederemos a realizar un conteo de los valores por cada atributo de este tipo.\n"
      ],
      "metadata": {
        "id": "sQeXeH73g_CA"
      }
    },
    {
      "cell_type": "code",
      "source": [
        "print(\"Repeticiones para X2 ('Género'):\")\n",
        "df.X2.value_counts()"
      ],
      "metadata": {
        "id": "laTo0T2Hcuun",
        "outputId": "d07ce097-552a-48fe-8080-85e271ccb5f8",
        "colab": {
          "base_uri": "https://localhost:8080/"
        }
      },
      "execution_count": 161,
      "outputs": [
        {
          "output_type": "stream",
          "name": "stdout",
          "text": [
            "Repeticiones para X2 ('Género'):\n"
          ]
        },
        {
          "output_type": "execute_result",
          "data": {
            "text/plain": [
              "2.0    18108\n",
              "1.0    11870\n",
              "Name: X2, dtype: int64"
            ]
          },
          "metadata": {},
          "execution_count": 161
        }
      ]
    },
    {
      "cell_type": "code",
      "source": [
        "print(\"Repeticiones para X3 ('Educación'):\")\n",
        "df.X3.value_counts()"
      ],
      "metadata": {
        "id": "CqNY-RmbonU_",
        "outputId": "21009a25-dccc-42e5-8251-d95bb4191237",
        "colab": {
          "base_uri": "https://localhost:8080/"
        }
      },
      "execution_count": 162,
      "outputs": [
        {
          "output_type": "stream",
          "name": "stdout",
          "text": [
            "Repeticiones para X3 ('Educación'):\n"
          ]
        },
        {
          "output_type": "execute_result",
          "data": {
            "text/plain": [
              "2.0    14017\n",
              "1.0    10580\n",
              "3.0     4913\n",
              "5.0      280\n",
              "4.0      123\n",
              "6.0       51\n",
              "0.0       14\n",
              "Name: X3, dtype: int64"
            ]
          },
          "metadata": {},
          "execution_count": 162
        }
      ]
    },
    {
      "cell_type": "code",
      "source": [
        "print(\"Repeticiones para X4 ('Estado marital'):\")\n",
        "df.X4.value_counts()"
      ],
      "metadata": {
        "id": "R6fHAUVPotMl",
        "outputId": "1a4b1788-71d1-4bb4-ebdb-b8438e127f2d",
        "colab": {
          "base_uri": "https://localhost:8080/"
        }
      },
      "execution_count": 163,
      "outputs": [
        {
          "output_type": "stream",
          "name": "stdout",
          "text": [
            "Repeticiones para X4 ('Estado marital'):\n"
          ]
        },
        {
          "output_type": "execute_result",
          "data": {
            "text/plain": [
              "2.0    15950\n",
              "1.0    13651\n",
              "3.0      323\n",
              "0.0       54\n",
              "Name: X4, dtype: int64"
            ]
          },
          "metadata": {},
          "execution_count": 163
        }
      ]
    },
    {
      "cell_type": "code",
      "source": [
        "print(\"Repeticiones para X6 ('Historial de pagos pasados septiembre'):\")\n",
        "df.X6.value_counts()"
      ],
      "metadata": {
        "id": "cR8Wh0dwoyIL",
        "outputId": "f9f4a91c-fb79-4cb8-e405-0d6f7c9d2e72",
        "colab": {
          "base_uri": "https://localhost:8080/"
        }
      },
      "execution_count": 164,
      "outputs": [
        {
          "output_type": "stream",
          "name": "stdout",
          "text": [
            "Repeticiones para X6 ('Historial de pagos pasados septiembre'):\n"
          ]
        },
        {
          "output_type": "execute_result",
          "data": {
            "text/plain": [
              " 0.0    14727\n",
              "-1.0     5682\n",
              " 1.0     3684\n",
              "-2.0     2758\n",
              " 2.0     2664\n",
              " 3.0      322\n",
              " 4.0       76\n",
              " 5.0       26\n",
              " 8.0       19\n",
              " 6.0       11\n",
              " 7.0        9\n",
              "Name: X6, dtype: int64"
            ]
          },
          "metadata": {},
          "execution_count": 164
        }
      ]
    },
    {
      "cell_type": "code",
      "source": [
        "print(\"Repeticiones para X7 ('Historial de pagos pasados agosto'):\")\n",
        "df.X7.value_counts()"
      ],
      "metadata": {
        "id": "f-fd59Ayo5Q3",
        "outputId": "3fd59a71-a15c-4cdc-82cc-19da0bf3748f",
        "colab": {
          "base_uri": "https://localhost:8080/"
        }
      },
      "execution_count": 165,
      "outputs": [
        {
          "output_type": "stream",
          "name": "stdout",
          "text": [
            "Repeticiones para X7 ('Historial de pagos pasados agosto'):\n"
          ]
        },
        {
          "output_type": "execute_result",
          "data": {
            "text/plain": [
              " 0.0    15718\n",
              "-1.0     6046\n",
              " 2.0     3923\n",
              "-2.0     3780\n",
              " 3.0      326\n",
              " 4.0       99\n",
              " 1.0       28\n",
              " 5.0       25\n",
              " 7.0       20\n",
              " 6.0       12\n",
              " 8.0        1\n",
              "Name: X7, dtype: int64"
            ]
          },
          "metadata": {},
          "execution_count": 165
        }
      ]
    },
    {
      "cell_type": "code",
      "source": [
        "print(\"Repeticiones para X8 ('Historial de pagos pasados julio'):\")\n",
        "df.X8.value_counts()"
      ],
      "metadata": {
        "id": "EYizuhTco7Nx",
        "outputId": "920be55c-a56f-40f8-f420-116c0c5ba4cc",
        "colab": {
          "base_uri": "https://localhost:8080/"
        }
      },
      "execution_count": 166,
      "outputs": [
        {
          "output_type": "stream",
          "name": "stdout",
          "text": [
            "Repeticiones para X8 ('Historial de pagos pasados julio'):\n"
          ]
        },
        {
          "output_type": "execute_result",
          "data": {
            "text/plain": [
              " 0.0    15750\n",
              "-1.0     5933\n",
              "-2.0     4085\n",
              " 2.0     3817\n",
              " 3.0      240\n",
              " 4.0       76\n",
              " 7.0       27\n",
              " 6.0       23\n",
              " 5.0       21\n",
              " 1.0        4\n",
              " 8.0        2\n",
              "Name: X8, dtype: int64"
            ]
          },
          "metadata": {},
          "execution_count": 166
        }
      ]
    },
    {
      "cell_type": "code",
      "source": [
        "print(\"Repeticiones para X9 ('Historial de pagos pasados junio'):\")\n",
        "df.X9.value_counts()"
      ],
      "metadata": {
        "id": "l8Jfk4kno-xW",
        "outputId": "69f3b420-0945-4465-97f6-37364ec2df45",
        "colab": {
          "base_uri": "https://localhost:8080/"
        }
      },
      "execution_count": 167,
      "outputs": [
        {
          "output_type": "stream",
          "name": "stdout",
          "text": [
            "Repeticiones para X9 ('Historial de pagos pasados junio'):\n"
          ]
        },
        {
          "output_type": "execute_result",
          "data": {
            "text/plain": [
              " 0.0    16440\n",
              "-1.0     5683\n",
              "-2.0     4348\n",
              " 2.0     3157\n",
              " 3.0      180\n",
              " 4.0       69\n",
              " 7.0       57\n",
              " 5.0       35\n",
              " 6.0        5\n",
              " 1.0        2\n",
              " 8.0        2\n",
              "Name: X9, dtype: int64"
            ]
          },
          "metadata": {},
          "execution_count": 167
        }
      ]
    },
    {
      "cell_type": "code",
      "source": [
        "print(\"Repeticiones para X10 ('Historial de pagos pasados mayo'):\")\n",
        "df.X10.value_counts()"
      ],
      "metadata": {
        "id": "9P_TVv8VpB3_",
        "outputId": "6f6eb48a-bfe2-4626-b2d1-2274bcbff07b",
        "colab": {
          "base_uri": "https://localhost:8080/"
        }
      },
      "execution_count": 168,
      "outputs": [
        {
          "output_type": "stream",
          "name": "stdout",
          "text": [
            "Repeticiones para X10 ('Historial de pagos pasados mayo'):\n"
          ]
        },
        {
          "output_type": "execute_result",
          "data": {
            "text/plain": [
              " 0.0    16934\n",
              "-1.0     5535\n",
              "-2.0     4546\n",
              " 2.0     2622\n",
              " 3.0      178\n",
              " 4.0       84\n",
              " 7.0       57\n",
              " 5.0       17\n",
              " 6.0        4\n",
              " 8.0        1\n",
              "Name: X10, dtype: int64"
            ]
          },
          "metadata": {},
          "execution_count": 168
        }
      ]
    },
    {
      "cell_type": "code",
      "source": [
        "print(\"Repeticiones para X11 ('Historial de pagos pasados abril'):\")\n",
        "df.X11.value_counts()"
      ],
      "metadata": {
        "id": "ubW8NnyhpFJs",
        "outputId": "498377b4-65a3-44e7-f978-b4871763bba3",
        "colab": {
          "base_uri": "https://localhost:8080/"
        }
      },
      "execution_count": 169,
      "outputs": [
        {
          "output_type": "stream",
          "name": "stdout",
          "text": [
            "Repeticiones para X11 ('Historial de pagos pasados abril'):\n"
          ]
        },
        {
          "output_type": "execute_result",
          "data": {
            "text/plain": [
              " 0.0    16273\n",
              "-1.0     5735\n",
              "-2.0     4895\n",
              " 2.0     2763\n",
              " 3.0      184\n",
              " 4.0       49\n",
              " 7.0       46\n",
              " 6.0       18\n",
              " 5.0       13\n",
              " 8.0        2\n",
              "Name: X11, dtype: int64"
            ]
          },
          "metadata": {},
          "execution_count": 169
        }
      ]
    },
    {
      "cell_type": "markdown",
      "source": [
        "---\n",
        "\n",
        "## 👣 **6.   Escala los datos, si consideras necesario**\n",
        "\n",
        "\n",
        "---"
      ],
      "metadata": {
        "id": "MXaeYdKcX2Mq"
      }
    },
    {
      "cell_type": "markdown",
      "source": [
        "✍ Analizando la información enviada en el **describe()** observamos que los datos arrojados para las columnas X12-X23 difieren mucho en sus rangos si las comparamos con las columnas X2-X11, por lo cual sí considero necesario escalar los datos."
      ],
      "metadata": {
        "id": "J3ghn-1pp0Nu"
      }
    },
    {
      "cell_type": "code",
      "source": [
        "#Como realizaré el ajuste en los datos con la función 'StandardScaler' debemos importar la librería respectiva\n",
        "from sklearn.preprocessing import StandardScaler\n",
        "\n",
        "#Escalamos nuestro dataframe\n",
        "Scaler = StandardScaler()\n",
        "dfEscalado = Scaler.fit_transform(df)\n",
        "dfAjustado=pd.DataFrame(dfEscalado, columns=df.columns)\n",
        "\n",
        "#Visualizamos los primeros 5 registros\n",
        "dfAjustado.head()"
      ],
      "metadata": {
        "id": "FvLlVrqvX7Ki",
        "outputId": "97475eb4-a4b3-441b-ac51-41245dc83ad1",
        "colab": {
          "base_uri": "https://localhost:8080/",
          "height": 299
        }
      },
      "execution_count": 170,
      "outputs": [
        {
          "output_type": "execute_result",
          "data": {
            "text/plain": [
              "         X1        X2      X3        X4        X5        X6        X7  \\\n",
              "0 -1.137107  0.809637  0.1859 -1.057128 -1.246093  1.794607  1.782365   \n",
              "1 -0.366327  0.809637  0.1859  0.858637 -1.029114 -0.874819  1.782365   \n",
              "2 -0.597561  0.809637  0.1859  0.858637 -0.161198  0.014989  0.111814   \n",
              "3 -0.905873  0.809637  0.1859 -1.057128  0.164271  0.014989  0.111814   \n",
              "4 -0.905873 -1.235122  0.1859 -1.057128  2.334061 -0.874819  0.111814   \n",
              "\n",
              "         X8        X9       X10  ...       X15       X16       X17       X18  \\\n",
              "0 -0.696759 -0.666546 -1.530508  ... -0.672466 -0.663077 -0.652713 -0.341920   \n",
              "1  0.139240  0.189165  0.235560  ... -0.621617 -0.606260 -0.597967 -0.341920   \n",
              "2  0.139240  0.189165  0.235560  ... -0.449753 -0.417258 -0.391675 -0.250294   \n",
              "3  0.139240  0.189165  0.235560  ... -0.232448 -0.186849 -0.156676 -0.221201   \n",
              "4 -0.696759  0.189165  0.235560  ... -0.347045 -0.348223 -0.331540 -0.221201   \n",
              "\n",
              "        X19       X20       X21       X22       X23         Y  \n",
              "0 -0.227138 -0.296784 -0.308132 -0.314163 -0.293477  1.876558  \n",
              "1 -0.213645 -0.240005 -0.244320 -0.314163 -0.181012  1.876558  \n",
              "2 -0.191952 -0.240005 -0.244320 -0.248730 -0.012314 -0.532944  \n",
              "3 -0.169434 -0.228649 -0.237939 -0.244215 -0.237244 -0.532944  \n",
              "4  1.334433  0.271009  0.266171 -0.269080 -0.255295 -0.532944  \n",
              "\n",
              "[5 rows x 24 columns]"
            ],
            "text/html": [
              "\n",
              "  <div id=\"df-6983ffc4-9534-4f20-937c-e58b53ca6b8b\">\n",
              "    <div class=\"colab-df-container\">\n",
              "      <div>\n",
              "<style scoped>\n",
              "    .dataframe tbody tr th:only-of-type {\n",
              "        vertical-align: middle;\n",
              "    }\n",
              "\n",
              "    .dataframe tbody tr th {\n",
              "        vertical-align: top;\n",
              "    }\n",
              "\n",
              "    .dataframe thead th {\n",
              "        text-align: right;\n",
              "    }\n",
              "</style>\n",
              "<table border=\"1\" class=\"dataframe\">\n",
              "  <thead>\n",
              "    <tr style=\"text-align: right;\">\n",
              "      <th></th>\n",
              "      <th>X1</th>\n",
              "      <th>X2</th>\n",
              "      <th>X3</th>\n",
              "      <th>X4</th>\n",
              "      <th>X5</th>\n",
              "      <th>X6</th>\n",
              "      <th>X7</th>\n",
              "      <th>X8</th>\n",
              "      <th>X9</th>\n",
              "      <th>X10</th>\n",
              "      <th>...</th>\n",
              "      <th>X15</th>\n",
              "      <th>X16</th>\n",
              "      <th>X17</th>\n",
              "      <th>X18</th>\n",
              "      <th>X19</th>\n",
              "      <th>X20</th>\n",
              "      <th>X21</th>\n",
              "      <th>X22</th>\n",
              "      <th>X23</th>\n",
              "      <th>Y</th>\n",
              "    </tr>\n",
              "  </thead>\n",
              "  <tbody>\n",
              "    <tr>\n",
              "      <th>0</th>\n",
              "      <td>-1.137107</td>\n",
              "      <td>0.809637</td>\n",
              "      <td>0.1859</td>\n",
              "      <td>-1.057128</td>\n",
              "      <td>-1.246093</td>\n",
              "      <td>1.794607</td>\n",
              "      <td>1.782365</td>\n",
              "      <td>-0.696759</td>\n",
              "      <td>-0.666546</td>\n",
              "      <td>-1.530508</td>\n",
              "      <td>...</td>\n",
              "      <td>-0.672466</td>\n",
              "      <td>-0.663077</td>\n",
              "      <td>-0.652713</td>\n",
              "      <td>-0.341920</td>\n",
              "      <td>-0.227138</td>\n",
              "      <td>-0.296784</td>\n",
              "      <td>-0.308132</td>\n",
              "      <td>-0.314163</td>\n",
              "      <td>-0.293477</td>\n",
              "      <td>1.876558</td>\n",
              "    </tr>\n",
              "    <tr>\n",
              "      <th>1</th>\n",
              "      <td>-0.366327</td>\n",
              "      <td>0.809637</td>\n",
              "      <td>0.1859</td>\n",
              "      <td>0.858637</td>\n",
              "      <td>-1.029114</td>\n",
              "      <td>-0.874819</td>\n",
              "      <td>1.782365</td>\n",
              "      <td>0.139240</td>\n",
              "      <td>0.189165</td>\n",
              "      <td>0.235560</td>\n",
              "      <td>...</td>\n",
              "      <td>-0.621617</td>\n",
              "      <td>-0.606260</td>\n",
              "      <td>-0.597967</td>\n",
              "      <td>-0.341920</td>\n",
              "      <td>-0.213645</td>\n",
              "      <td>-0.240005</td>\n",
              "      <td>-0.244320</td>\n",
              "      <td>-0.314163</td>\n",
              "      <td>-0.181012</td>\n",
              "      <td>1.876558</td>\n",
              "    </tr>\n",
              "    <tr>\n",
              "      <th>2</th>\n",
              "      <td>-0.597561</td>\n",
              "      <td>0.809637</td>\n",
              "      <td>0.1859</td>\n",
              "      <td>0.858637</td>\n",
              "      <td>-0.161198</td>\n",
              "      <td>0.014989</td>\n",
              "      <td>0.111814</td>\n",
              "      <td>0.139240</td>\n",
              "      <td>0.189165</td>\n",
              "      <td>0.235560</td>\n",
              "      <td>...</td>\n",
              "      <td>-0.449753</td>\n",
              "      <td>-0.417258</td>\n",
              "      <td>-0.391675</td>\n",
              "      <td>-0.250294</td>\n",
              "      <td>-0.191952</td>\n",
              "      <td>-0.240005</td>\n",
              "      <td>-0.244320</td>\n",
              "      <td>-0.248730</td>\n",
              "      <td>-0.012314</td>\n",
              "      <td>-0.532944</td>\n",
              "    </tr>\n",
              "    <tr>\n",
              "      <th>3</th>\n",
              "      <td>-0.905873</td>\n",
              "      <td>0.809637</td>\n",
              "      <td>0.1859</td>\n",
              "      <td>-1.057128</td>\n",
              "      <td>0.164271</td>\n",
              "      <td>0.014989</td>\n",
              "      <td>0.111814</td>\n",
              "      <td>0.139240</td>\n",
              "      <td>0.189165</td>\n",
              "      <td>0.235560</td>\n",
              "      <td>...</td>\n",
              "      <td>-0.232448</td>\n",
              "      <td>-0.186849</td>\n",
              "      <td>-0.156676</td>\n",
              "      <td>-0.221201</td>\n",
              "      <td>-0.169434</td>\n",
              "      <td>-0.228649</td>\n",
              "      <td>-0.237939</td>\n",
              "      <td>-0.244215</td>\n",
              "      <td>-0.237244</td>\n",
              "      <td>-0.532944</td>\n",
              "    </tr>\n",
              "    <tr>\n",
              "      <th>4</th>\n",
              "      <td>-0.905873</td>\n",
              "      <td>-1.235122</td>\n",
              "      <td>0.1859</td>\n",
              "      <td>-1.057128</td>\n",
              "      <td>2.334061</td>\n",
              "      <td>-0.874819</td>\n",
              "      <td>0.111814</td>\n",
              "      <td>-0.696759</td>\n",
              "      <td>0.189165</td>\n",
              "      <td>0.235560</td>\n",
              "      <td>...</td>\n",
              "      <td>-0.347045</td>\n",
              "      <td>-0.348223</td>\n",
              "      <td>-0.331540</td>\n",
              "      <td>-0.221201</td>\n",
              "      <td>1.334433</td>\n",
              "      <td>0.271009</td>\n",
              "      <td>0.266171</td>\n",
              "      <td>-0.269080</td>\n",
              "      <td>-0.255295</td>\n",
              "      <td>-0.532944</td>\n",
              "    </tr>\n",
              "  </tbody>\n",
              "</table>\n",
              "<p>5 rows × 24 columns</p>\n",
              "</div>\n",
              "      <button class=\"colab-df-convert\" onclick=\"convertToInteractive('df-6983ffc4-9534-4f20-937c-e58b53ca6b8b')\"\n",
              "              title=\"Convert this dataframe to an interactive table.\"\n",
              "              style=\"display:none;\">\n",
              "        \n",
              "  <svg xmlns=\"http://www.w3.org/2000/svg\" height=\"24px\"viewBox=\"0 0 24 24\"\n",
              "       width=\"24px\">\n",
              "    <path d=\"M0 0h24v24H0V0z\" fill=\"none\"/>\n",
              "    <path d=\"M18.56 5.44l.94 2.06.94-2.06 2.06-.94-2.06-.94-.94-2.06-.94 2.06-2.06.94zm-11 1L8.5 8.5l.94-2.06 2.06-.94-2.06-.94L8.5 2.5l-.94 2.06-2.06.94zm10 10l.94 2.06.94-2.06 2.06-.94-2.06-.94-.94-2.06-.94 2.06-2.06.94z\"/><path d=\"M17.41 7.96l-1.37-1.37c-.4-.4-.92-.59-1.43-.59-.52 0-1.04.2-1.43.59L10.3 9.45l-7.72 7.72c-.78.78-.78 2.05 0 2.83L4 21.41c.39.39.9.59 1.41.59.51 0 1.02-.2 1.41-.59l7.78-7.78 2.81-2.81c.8-.78.8-2.07 0-2.86zM5.41 20L4 18.59l7.72-7.72 1.47 1.35L5.41 20z\"/>\n",
              "  </svg>\n",
              "      </button>\n",
              "      \n",
              "  <style>\n",
              "    .colab-df-container {\n",
              "      display:flex;\n",
              "      flex-wrap:wrap;\n",
              "      gap: 12px;\n",
              "    }\n",
              "\n",
              "    .colab-df-convert {\n",
              "      background-color: #E8F0FE;\n",
              "      border: none;\n",
              "      border-radius: 50%;\n",
              "      cursor: pointer;\n",
              "      display: none;\n",
              "      fill: #1967D2;\n",
              "      height: 32px;\n",
              "      padding: 0 0 0 0;\n",
              "      width: 32px;\n",
              "    }\n",
              "\n",
              "    .colab-df-convert:hover {\n",
              "      background-color: #E2EBFA;\n",
              "      box-shadow: 0px 1px 2px rgba(60, 64, 67, 0.3), 0px 1px 3px 1px rgba(60, 64, 67, 0.15);\n",
              "      fill: #174EA6;\n",
              "    }\n",
              "\n",
              "    [theme=dark] .colab-df-convert {\n",
              "      background-color: #3B4455;\n",
              "      fill: #D2E3FC;\n",
              "    }\n",
              "\n",
              "    [theme=dark] .colab-df-convert:hover {\n",
              "      background-color: #434B5C;\n",
              "      box-shadow: 0px 1px 3px 1px rgba(0, 0, 0, 0.15);\n",
              "      filter: drop-shadow(0px 1px 2px rgba(0, 0, 0, 0.3));\n",
              "      fill: #FFFFFF;\n",
              "    }\n",
              "  </style>\n",
              "\n",
              "      <script>\n",
              "        const buttonEl =\n",
              "          document.querySelector('#df-6983ffc4-9534-4f20-937c-e58b53ca6b8b button.colab-df-convert');\n",
              "        buttonEl.style.display =\n",
              "          google.colab.kernel.accessAllowed ? 'block' : 'none';\n",
              "\n",
              "        async function convertToInteractive(key) {\n",
              "          const element = document.querySelector('#df-6983ffc4-9534-4f20-937c-e58b53ca6b8b');\n",
              "          const dataTable =\n",
              "            await google.colab.kernel.invokeFunction('convertToInteractive',\n",
              "                                                     [key], {});\n",
              "          if (!dataTable) return;\n",
              "\n",
              "          const docLinkHtml = 'Like what you see? Visit the ' +\n",
              "            '<a target=\"_blank\" href=https://colab.research.google.com/notebooks/data_table.ipynb>data table notebook</a>'\n",
              "            + ' to learn more about interactive tables.';\n",
              "          element.innerHTML = '';\n",
              "          dataTable['output_type'] = 'display_data';\n",
              "          await google.colab.output.renderOutput(dataTable, element);\n",
              "          const docLink = document.createElement('div');\n",
              "          docLink.innerHTML = docLinkHtml;\n",
              "          element.appendChild(docLink);\n",
              "        }\n",
              "      </script>\n",
              "    </div>\n",
              "  </div>\n",
              "  "
            ]
          },
          "metadata": {},
          "execution_count": 170
        }
      ]
    },
    {
      "cell_type": "markdown",
      "source": [
        "---\n",
        "\n",
        "## 👣 **7.   Reduce las dimensiones con PCA, si consideras necesario.**\n",
        "\n",
        "\n",
        "---"
      ],
      "metadata": {
        "id": "E49_eIcMX7ZW"
      }
    },
    {
      "cell_type": "markdown",
      "source": [
        "---\n",
        "\n",
        "\n",
        "\n",
        "👣 **7.1. Indica varianza de datos explicada por componente seleccionado. Para actividades de exploración de los datos la varianza > 70% .**\n",
        "\n",
        "\n",
        "\n",
        "---"
      ],
      "metadata": {
        "id": "Ooi4hg6zYJpz"
      }
    },
    {
      "cell_type": "code",
      "source": [
        "#Llamamos la librería con la función correspondiente al PCA\n",
        "from sklearn.decomposition import PCA\n",
        "\n",
        "Componentes = PCA()\n",
        "ComponentesResult = Componentes.fit_transform(dfAjustado)\n",
        "ComponentesResult[:5]"
      ],
      "metadata": {
        "id": "e7bXugtBZPnm",
        "outputId": "dbd42cd6-359b-4f81-9704-31da92c9a92a",
        "colab": {
          "base_uri": "https://localhost:8080/"
        }
      },
      "execution_count": 171,
      "outputs": [
        {
          "output_type": "execute_result",
          "data": {
            "text/plain": [
              "array([[-1.80109370e+00, -1.27176808e+00, -5.87821694e-01,\n",
              "        -3.98990342e-01, -1.08927154e-01, -1.61783560e+00,\n",
              "         2.69501680e+00,  7.21377313e-02, -5.23919952e-01,\n",
              "        -2.11908202e-01, -1.85554174e-01, -7.97448529e-02,\n",
              "         2.29356034e+00, -9.02807762e-01, -3.12309191e-01,\n",
              "        -1.37528963e-01,  4.02584268e-01, -2.67607795e-01,\n",
              "        -8.86443743e-01,  5.89633174e-01, -4.56933986e-02,\n",
              "         1.60146764e-02,  1.60272738e-02,  1.04856789e-02],\n",
              "       [-6.70824561e-01, -2.40760696e+00,  1.04184752e+00,\n",
              "        -3.58748901e-01,  3.02158940e-01, -9.72763463e-01,\n",
              "         7.86824291e-01,  2.75301954e-01, -9.63753640e-02,\n",
              "        -1.59560007e-01,  1.13391568e-01,  1.63448052e-01,\n",
              "        -1.39361114e+00, -1.21192232e-01, -2.90691583e-01,\n",
              "         6.44933384e-01,  2.11750746e+00,  2.03570465e-02,\n",
              "        -2.59898205e-01,  8.28927634e-01, -1.24318498e-01,\n",
              "         3.74344589e-03,  3.05286211e-03,  6.46808602e-03],\n",
              "       [-8.58194541e-01, -9.70704191e-01,  4.70335836e-01,\n",
              "        -4.77643141e-01,  9.52951047e-01,  7.15282729e-02,\n",
              "        -2.79406700e-01, -2.36090669e-01,  1.99598429e-03,\n",
              "        -1.53738871e-01,  1.02531775e-01,  8.44785885e-02,\n",
              "        -7.82376309e-02,  5.38781089e-01,  3.42058347e-01,\n",
              "        -4.71199599e-02,  3.81490788e-02,  1.01685522e-02,\n",
              "        -4.94194200e-03,  8.25422057e-04,  1.08998020e-01,\n",
              "        -7.85605630e-02, -4.09533707e-02, -5.64074121e-02],\n",
              "       [-2.09708781e-01, -7.07397971e-01, -7.81860325e-01,\n",
              "         2.09435522e-01,  1.06752781e+00, -1.98016212e-01,\n",
              "        -5.03850545e-01,  1.12612463e-01,  3.47047407e-02,\n",
              "         1.17875426e-01, -5.64645788e-02,  4.04759289e-02,\n",
              "         3.83022624e-01, -6.47539274e-01,  5.08793378e-01,\n",
              "        -1.52439334e-02,  4.90763173e-03,  1.83354181e-01,\n",
              "         2.41670921e-02, -8.12346615e-03,  5.64876606e-03,\n",
              "         1.41094888e-01,  1.79212658e-02, -5.40334995e-02],\n",
              "       [-8.59804629e-01,  2.15287249e-03, -1.04050439e+00,\n",
              "         2.24669034e+00, -4.68457842e-01,  1.40914780e+00,\n",
              "        -6.26074421e-01,  5.58032682e-01,  2.54986930e-01,\n",
              "         6.09044320e-01, -2.86440468e-01,  1.10246285e+00,\n",
              "        -2.07660505e-01,  8.39456962e-02,  1.32867775e+00,\n",
              "         1.55114992e-01,  2.97135112e-01,  8.69246341e-02,\n",
              "        -5.79914411e-01,  2.34055093e-01, -3.49883614e-02,\n",
              "         8.06719603e-02, -2.77015140e-02, -9.27860364e-03]])"
            ]
          },
          "metadata": {},
          "execution_count": 171
        }
      ]
    },
    {
      "cell_type": "code",
      "source": [
        "ComponentesExplicadosDF = pd.DataFrame({'% Varianza del componente': np.round(Componentes.explained_variance_ratio_,4) * 100, \n",
        "                                        '% Varianza acumulada': np.cumsum(Componentes.explained_variance_ratio_) * 100\n",
        "})\n",
        "ComponentesExplicadosDF"
      ],
      "metadata": {
        "id": "PEx5mU92rW_-",
        "outputId": "b55061ac-3671-447f-e75f-486a85175fe7",
        "colab": {
          "base_uri": "https://localhost:8080/",
          "height": 802
        }
      },
      "execution_count": 172,
      "outputs": [
        {
          "output_type": "execute_result",
          "data": {
            "text/plain": [
              "    % Varianza del componente  % Varianza acumulada\n",
              "0                       27.30             27.300738\n",
              "1                       17.51             44.806139\n",
              "2                        6.47             51.276851\n",
              "3                        6.15             57.422987\n",
              "4                        4.34             61.759038\n",
              "5                        4.06             65.818057\n",
              "6                        3.82             69.634008\n",
              "7                        3.78             73.413445\n",
              "8                        3.69             77.106122\n",
              "9                        3.63             80.736328\n",
              "10                       3.26             83.998203\n",
              "11                       3.05             87.049330\n",
              "12                       2.62             89.665208\n",
              "13                       2.37             92.038559\n",
              "14                       2.19             94.223624\n",
              "15                       1.66             95.881073\n",
              "16                       1.08             96.962812\n",
              "17                       1.04             97.999795\n",
              "18                       0.79             98.786126\n",
              "19                       0.55             99.335471\n",
              "20                       0.29             99.627812\n",
              "21                       0.17             99.797782\n",
              "22                       0.11             99.903250\n",
              "23                       0.10            100.000000"
            ],
            "text/html": [
              "\n",
              "  <div id=\"df-01a89630-e33e-4b0f-9265-2883b1214dc8\">\n",
              "    <div class=\"colab-df-container\">\n",
              "      <div>\n",
              "<style scoped>\n",
              "    .dataframe tbody tr th:only-of-type {\n",
              "        vertical-align: middle;\n",
              "    }\n",
              "\n",
              "    .dataframe tbody tr th {\n",
              "        vertical-align: top;\n",
              "    }\n",
              "\n",
              "    .dataframe thead th {\n",
              "        text-align: right;\n",
              "    }\n",
              "</style>\n",
              "<table border=\"1\" class=\"dataframe\">\n",
              "  <thead>\n",
              "    <tr style=\"text-align: right;\">\n",
              "      <th></th>\n",
              "      <th>% Varianza del componente</th>\n",
              "      <th>% Varianza acumulada</th>\n",
              "    </tr>\n",
              "  </thead>\n",
              "  <tbody>\n",
              "    <tr>\n",
              "      <th>0</th>\n",
              "      <td>27.30</td>\n",
              "      <td>27.300738</td>\n",
              "    </tr>\n",
              "    <tr>\n",
              "      <th>1</th>\n",
              "      <td>17.51</td>\n",
              "      <td>44.806139</td>\n",
              "    </tr>\n",
              "    <tr>\n",
              "      <th>2</th>\n",
              "      <td>6.47</td>\n",
              "      <td>51.276851</td>\n",
              "    </tr>\n",
              "    <tr>\n",
              "      <th>3</th>\n",
              "      <td>6.15</td>\n",
              "      <td>57.422987</td>\n",
              "    </tr>\n",
              "    <tr>\n",
              "      <th>4</th>\n",
              "      <td>4.34</td>\n",
              "      <td>61.759038</td>\n",
              "    </tr>\n",
              "    <tr>\n",
              "      <th>5</th>\n",
              "      <td>4.06</td>\n",
              "      <td>65.818057</td>\n",
              "    </tr>\n",
              "    <tr>\n",
              "      <th>6</th>\n",
              "      <td>3.82</td>\n",
              "      <td>69.634008</td>\n",
              "    </tr>\n",
              "    <tr>\n",
              "      <th>7</th>\n",
              "      <td>3.78</td>\n",
              "      <td>73.413445</td>\n",
              "    </tr>\n",
              "    <tr>\n",
              "      <th>8</th>\n",
              "      <td>3.69</td>\n",
              "      <td>77.106122</td>\n",
              "    </tr>\n",
              "    <tr>\n",
              "      <th>9</th>\n",
              "      <td>3.63</td>\n",
              "      <td>80.736328</td>\n",
              "    </tr>\n",
              "    <tr>\n",
              "      <th>10</th>\n",
              "      <td>3.26</td>\n",
              "      <td>83.998203</td>\n",
              "    </tr>\n",
              "    <tr>\n",
              "      <th>11</th>\n",
              "      <td>3.05</td>\n",
              "      <td>87.049330</td>\n",
              "    </tr>\n",
              "    <tr>\n",
              "      <th>12</th>\n",
              "      <td>2.62</td>\n",
              "      <td>89.665208</td>\n",
              "    </tr>\n",
              "    <tr>\n",
              "      <th>13</th>\n",
              "      <td>2.37</td>\n",
              "      <td>92.038559</td>\n",
              "    </tr>\n",
              "    <tr>\n",
              "      <th>14</th>\n",
              "      <td>2.19</td>\n",
              "      <td>94.223624</td>\n",
              "    </tr>\n",
              "    <tr>\n",
              "      <th>15</th>\n",
              "      <td>1.66</td>\n",
              "      <td>95.881073</td>\n",
              "    </tr>\n",
              "    <tr>\n",
              "      <th>16</th>\n",
              "      <td>1.08</td>\n",
              "      <td>96.962812</td>\n",
              "    </tr>\n",
              "    <tr>\n",
              "      <th>17</th>\n",
              "      <td>1.04</td>\n",
              "      <td>97.999795</td>\n",
              "    </tr>\n",
              "    <tr>\n",
              "      <th>18</th>\n",
              "      <td>0.79</td>\n",
              "      <td>98.786126</td>\n",
              "    </tr>\n",
              "    <tr>\n",
              "      <th>19</th>\n",
              "      <td>0.55</td>\n",
              "      <td>99.335471</td>\n",
              "    </tr>\n",
              "    <tr>\n",
              "      <th>20</th>\n",
              "      <td>0.29</td>\n",
              "      <td>99.627812</td>\n",
              "    </tr>\n",
              "    <tr>\n",
              "      <th>21</th>\n",
              "      <td>0.17</td>\n",
              "      <td>99.797782</td>\n",
              "    </tr>\n",
              "    <tr>\n",
              "      <th>22</th>\n",
              "      <td>0.11</td>\n",
              "      <td>99.903250</td>\n",
              "    </tr>\n",
              "    <tr>\n",
              "      <th>23</th>\n",
              "      <td>0.10</td>\n",
              "      <td>100.000000</td>\n",
              "    </tr>\n",
              "  </tbody>\n",
              "</table>\n",
              "</div>\n",
              "      <button class=\"colab-df-convert\" onclick=\"convertToInteractive('df-01a89630-e33e-4b0f-9265-2883b1214dc8')\"\n",
              "              title=\"Convert this dataframe to an interactive table.\"\n",
              "              style=\"display:none;\">\n",
              "        \n",
              "  <svg xmlns=\"http://www.w3.org/2000/svg\" height=\"24px\"viewBox=\"0 0 24 24\"\n",
              "       width=\"24px\">\n",
              "    <path d=\"M0 0h24v24H0V0z\" fill=\"none\"/>\n",
              "    <path d=\"M18.56 5.44l.94 2.06.94-2.06 2.06-.94-2.06-.94-.94-2.06-.94 2.06-2.06.94zm-11 1L8.5 8.5l.94-2.06 2.06-.94-2.06-.94L8.5 2.5l-.94 2.06-2.06.94zm10 10l.94 2.06.94-2.06 2.06-.94-2.06-.94-.94-2.06-.94 2.06-2.06.94z\"/><path d=\"M17.41 7.96l-1.37-1.37c-.4-.4-.92-.59-1.43-.59-.52 0-1.04.2-1.43.59L10.3 9.45l-7.72 7.72c-.78.78-.78 2.05 0 2.83L4 21.41c.39.39.9.59 1.41.59.51 0 1.02-.2 1.41-.59l7.78-7.78 2.81-2.81c.8-.78.8-2.07 0-2.86zM5.41 20L4 18.59l7.72-7.72 1.47 1.35L5.41 20z\"/>\n",
              "  </svg>\n",
              "      </button>\n",
              "      \n",
              "  <style>\n",
              "    .colab-df-container {\n",
              "      display:flex;\n",
              "      flex-wrap:wrap;\n",
              "      gap: 12px;\n",
              "    }\n",
              "\n",
              "    .colab-df-convert {\n",
              "      background-color: #E8F0FE;\n",
              "      border: none;\n",
              "      border-radius: 50%;\n",
              "      cursor: pointer;\n",
              "      display: none;\n",
              "      fill: #1967D2;\n",
              "      height: 32px;\n",
              "      padding: 0 0 0 0;\n",
              "      width: 32px;\n",
              "    }\n",
              "\n",
              "    .colab-df-convert:hover {\n",
              "      background-color: #E2EBFA;\n",
              "      box-shadow: 0px 1px 2px rgba(60, 64, 67, 0.3), 0px 1px 3px 1px rgba(60, 64, 67, 0.15);\n",
              "      fill: #174EA6;\n",
              "    }\n",
              "\n",
              "    [theme=dark] .colab-df-convert {\n",
              "      background-color: #3B4455;\n",
              "      fill: #D2E3FC;\n",
              "    }\n",
              "\n",
              "    [theme=dark] .colab-df-convert:hover {\n",
              "      background-color: #434B5C;\n",
              "      box-shadow: 0px 1px 3px 1px rgba(0, 0, 0, 0.15);\n",
              "      filter: drop-shadow(0px 1px 2px rgba(0, 0, 0, 0.3));\n",
              "      fill: #FFFFFF;\n",
              "    }\n",
              "  </style>\n",
              "\n",
              "      <script>\n",
              "        const buttonEl =\n",
              "          document.querySelector('#df-01a89630-e33e-4b0f-9265-2883b1214dc8 button.colab-df-convert');\n",
              "        buttonEl.style.display =\n",
              "          google.colab.kernel.accessAllowed ? 'block' : 'none';\n",
              "\n",
              "        async function convertToInteractive(key) {\n",
              "          const element = document.querySelector('#df-01a89630-e33e-4b0f-9265-2883b1214dc8');\n",
              "          const dataTable =\n",
              "            await google.colab.kernel.invokeFunction('convertToInteractive',\n",
              "                                                     [key], {});\n",
              "          if (!dataTable) return;\n",
              "\n",
              "          const docLinkHtml = 'Like what you see? Visit the ' +\n",
              "            '<a target=\"_blank\" href=https://colab.research.google.com/notebooks/data_table.ipynb>data table notebook</a>'\n",
              "            + ' to learn more about interactive tables.';\n",
              "          element.innerHTML = '';\n",
              "          dataTable['output_type'] = 'display_data';\n",
              "          await google.colab.output.renderOutput(dataTable, element);\n",
              "          const docLink = document.createElement('div');\n",
              "          docLink.innerHTML = docLinkHtml;\n",
              "          element.appendChild(docLink);\n",
              "        }\n",
              "      </script>\n",
              "    </div>\n",
              "  </div>\n",
              "  "
            ]
          },
          "metadata": {},
          "execution_count": 172
        }
      ]
    },
    {
      "cell_type": "markdown",
      "source": [
        "---\n",
        "\n",
        "\n",
        "☝ Observamos que con el componente **7** ya estaríamos cubriendo más del **70%** de la varianza del conjunto de datos, logrando la reducción de dimensionalidad y mejorando de esta forma el desempeño en el procesamiento del modelo.\n",
        "\n",
        "A continuación comparamos las varianzas de las variables iniciales contra las variables obtenidas después de ejecutar PCA, con el fin de descartar posibles perdidas de información."
      ],
      "metadata": {
        "id": "ybuGP4W4rt6K"
      }
    },
    {
      "cell_type": "code",
      "source": [
        "dfResultadoPCA = pd.DataFrame(ComponentesResult)\n",
        "print(\"Total varianza atributos iniciales: \", dfAjustado.var().sum())\n",
        "print(\"Total varianza componentes PCA: \", dfResultadoPCA.var().sum())"
      ],
      "metadata": {
        "id": "Ox5Mo3sfsspV",
        "outputId": "787b1f01-627b-4334-f46f-868d48c2d14e",
        "colab": {
          "base_uri": "https://localhost:8080/"
        }
      },
      "execution_count": 173,
      "outputs": [
        {
          "output_type": "stream",
          "name": "stdout",
          "text": [
            "Total varianza atributos iniciales:  24.000800613803918\n",
            "Total varianza componentes PCA:  24.000800613803925\n"
          ]
        }
      ]
    },
    {
      "cell_type": "markdown",
      "source": [
        "✍ No existen perdidas en la varianza, por lo cual concluímos que no se presentó perdida de información durante la ejecución del PCA."
      ],
      "metadata": {
        "id": "NAfENF4Gt_hG"
      }
    },
    {
      "cell_type": "markdown",
      "source": [
        "---\n",
        "\n",
        "\n",
        "\n",
        "👣 **7.2. Indica la importancia de las variables en cada componente**\n",
        "\n",
        "\n",
        "\n",
        "---"
      ],
      "metadata": {
        "id": "399Zjeg1YJXi"
      }
    },
    {
      "cell_type": "code",
      "source": [
        "#Obtenemos la contribución de cada atributo para los componentes obtenidos\n",
        "dfAtributosComponente = pd.DataFrame(Componentes.components_.round(4), columns = dfResultadoPCA.columns, index = dfAjustado.columns)\n",
        "dfAtributosComponente.iloc[:,:]"
      ],
      "metadata": {
        "id": "tdQxMB-2uml_",
        "outputId": "1d7bf3c6-29e8-4ffb-8711-0de9a8f443fe",
        "colab": {
          "base_uri": "https://localhost:8080/",
          "height": 895
        }
      },
      "execution_count": 174,
      "outputs": [
        {
          "output_type": "execute_result",
          "data": {
            "text/plain": [
              "         0       1       2       3       4       5       6       7       8   \\\n",
              "X1   0.0656 -0.0220  0.0198 -0.0056  0.0140  0.1645  0.1973  0.2033  0.2100   \n",
              "X2   0.3117  0.0306 -0.0886 -0.0395  0.0627 -0.2967 -0.3280 -0.3350 -0.3344   \n",
              "X3   0.0102  0.0280 -0.3172  0.4666 -0.4769 -0.0206  0.0189  0.0641  0.0920   \n",
              "X4   0.0768 -0.0796  0.2274 -0.4301  0.4483  0.0201  0.0478  0.0797  0.1035   \n",
              "X5  -0.1982  0.7383  0.4516 -0.0263 -0.1391 -0.1119 -0.0520 -0.0023  0.0376   \n",
              "X6  -0.2660 -0.6266  0.3897  0.2316  0.0046 -0.1350 -0.0616 -0.0163  0.0068   \n",
              "X7  -0.2618  0.0077  0.4061  0.1881 -0.1390  0.2175  0.0418 -0.0899 -0.1962   \n",
              "X8   0.0492  0.0745 -0.3211 -0.1227  0.0502 -0.0282 -0.0806 -0.0441 -0.0109   \n",
              "X9  -0.0268 -0.0478  0.0547  0.0109  0.0070 -0.0357  0.0053 -0.0077 -0.0147   \n",
              "X10  0.0224  0.0179 -0.1557 -0.0564  0.0474 -0.0325 -0.0338 -0.0110  0.0456   \n",
              "X11  0.0197  0.0213  0.0645  0.0394  0.0098 -0.0104  0.0010 -0.0239 -0.0507   \n",
              "X12  0.0159 -0.0162  0.0130 -0.0037 -0.0171 -0.0058  0.0031 -0.1095  0.0124   \n",
              "X13 -0.1248  0.0073 -0.1940 -0.2299 -0.0929  0.5114  0.3980  0.1517 -0.1520   \n",
              "X14  0.3490  0.1759  0.0641  0.6442  0.5719  0.2005  0.1316  0.0783  0.0081   \n",
              "X15 -0.7544  0.1134 -0.3742  0.1332  0.4332 -0.0955 -0.0796 -0.0819 -0.0608   \n",
              "X16 -0.0197  0.0242 -0.0248  0.0092  0.0144 -0.6392  0.2860  0.5290  0.1765   \n",
              "X17  0.0434 -0.0003  0.0117  0.0075  0.0003 -0.2516  0.5574 -0.0988 -0.5866   \n",
              "X18 -0.0234  0.0216 -0.0392 -0.0133 -0.0005 -0.0001 -0.0593 -0.1569  0.0629   \n",
              "X19  0.0065 -0.0039  0.0042 -0.0058 -0.0054  0.1371 -0.4860  0.6062 -0.2254   \n",
              "X20  0.0067 -0.0018  0.0023 -0.0006 -0.0059 -0.0342  0.1397 -0.3064  0.5678   \n",
              "X21 -0.0098  0.0019 -0.0026 -0.0024 -0.0001 -0.0061 -0.0312  0.0251  0.0193   \n",
              "X22  0.0144 -0.0007  0.0005 -0.0003 -0.0014  0.0007  0.0129 -0.0278  0.0017   \n",
              "X23 -0.0006 -0.0008  0.0014  0.0007  0.0000 -0.0026  0.0033 -0.0086  0.0141   \n",
              "Y    0.0028  0.0008  0.0017 -0.0012  0.0003  0.0006  0.0000 -0.0048 -0.0014   \n",
              "\n",
              "         9   ...      14      15      16      17      18      19      20  \\\n",
              "X1   0.2137  ...  0.3522  0.3501  0.3429  0.0927  0.0773  0.0850  0.0765   \n",
              "X2  -0.3212  ...  0.1491  0.1473  0.1452  0.1488  0.1387  0.1499  0.1400   \n",
              "X3   0.1119  ... -0.0682 -0.0548 -0.0461  0.2727  0.2908  0.2693  0.2279   \n",
              "X4   0.1099  ... -0.1018 -0.0893 -0.0841  0.2890  0.3218  0.2897  0.2465   \n",
              "X5   0.0552  ...  0.0235  0.0169 -0.0008  0.1180  0.1152  0.0258 -0.0145   \n",
              "X6   0.0178  ...  0.0395  0.0048 -0.0315  0.1727  0.1512  0.0644 -0.0872   \n",
              "X7  -0.2339  ...  0.0297  0.0268  0.0356  0.0581  0.1629  0.1441  0.0996   \n",
              "X8   0.0461  ...  0.0733  0.0918 -0.0376  0.2113  0.1387  0.2755  0.0687   \n",
              "X9   0.0133  ... -0.0471  0.1046  0.1623 -0.2906 -0.2617  0.1860  0.6340   \n",
              "X10  0.0560  ...  0.0263 -0.0693  0.0812  0.0349  0.3917 -0.0343 -0.4441   \n",
              "X11  0.0752  ...  0.1229 -0.0055  0.0148 -0.2369 -0.2855  0.7810 -0.4352   \n",
              "X12  0.0404  ...  0.0341  0.0490 -0.0019 -0.7384  0.5833  0.0150  0.0715   \n",
              "X13 -0.3041  ... -0.0189 -0.0478 -0.0640  0.0218  0.1001  0.1351  0.0290   \n",
              "X14 -0.0538  ... -0.0403 -0.0448 -0.0585 -0.0021  0.0398 -0.0110  0.0047   \n",
              "X15 -0.0226  ...  0.0484  0.0591  0.0742 -0.0066 -0.0054  0.0206  0.0422   \n",
              "X16 -0.1675  ... -0.0042 -0.0470 -0.0652 -0.0843  0.0373  0.0742  0.0380   \n",
              "X17 -0.0823  ... -0.0481 -0.0263 -0.0063  0.0515  0.0333 -0.0490 -0.0514   \n",
              "X18  0.1427  ... -0.2019 -0.4102 -0.4793 -0.0456  0.0325  0.1280  0.1234   \n",
              "X19 -0.3858  ... -0.0410 -0.0569 -0.0467 -0.0651  0.0458  0.0283 -0.0238   \n",
              "X20 -0.6741  ... -0.0088 -0.0165  0.0248  0.0187 -0.0220  0.0507 -0.0482   \n",
              "X21  0.0272  ... -0.5217  0.0680  0.5140  0.0435  0.1466  0.0013 -0.1118   \n",
              "X22  0.0235  ... -0.4878 -0.2507  0.3386 -0.0674 -0.0709  0.1235  0.0027   \n",
              "X23 -0.0083  ... -0.3642  0.7184 -0.4261 -0.0446  0.0379  0.0266 -0.0813   \n",
              "Y   -0.0006  ...  0.3453 -0.2258  0.0711 -0.0847  0.1244 -0.0631  0.0420   \n",
              "\n",
              "         21      22      23  \n",
              "X1   0.0741  0.0687  0.0398  \n",
              "X2   0.1358  0.1281 -0.1765  \n",
              "X3   0.1863  0.2008 -0.0556  \n",
              "X4   0.1853  0.2161  0.0713  \n",
              "X5  -0.0964 -0.0718 -0.3509  \n",
              "X6  -0.2094 -0.1313 -0.4187  \n",
              "X7   0.0550 -0.1244  0.6496  \n",
              "X8  -0.6994 -0.4133  0.1707  \n",
              "X9   0.2341 -0.4984 -0.1612  \n",
              "X10  0.4763 -0.5978 -0.0054  \n",
              "X11  0.0595  0.1044 -0.0173  \n",
              "X12 -0.1783  0.1640 -0.0319  \n",
              "X13 -0.0307 -0.0274 -0.4015  \n",
              "X14 -0.0756 -0.0805 -0.0835  \n",
              "X15  0.0913  0.1422 -0.0078  \n",
              "X16 -0.0309 -0.0357  0.1137  \n",
              "X17  0.0072 -0.0053  0.0208  \n",
              "X18  0.0666 -0.0918  0.0235  \n",
              "X19  0.0166  0.0052 -0.0050  \n",
              "X20  0.0003  0.0005  0.0031  \n",
              "X21 -0.1004  0.0347  0.0031  \n",
              "X22 -0.0696  0.0274 -0.0037  \n",
              "X23  0.0948 -0.0172 -0.0006  \n",
              "Y   -0.0081  0.0083 -0.0013  \n",
              "\n",
              "[24 rows x 24 columns]"
            ],
            "text/html": [
              "\n",
              "  <div id=\"df-695e9788-2474-4030-b084-7a5bee8a9780\">\n",
              "    <div class=\"colab-df-container\">\n",
              "      <div>\n",
              "<style scoped>\n",
              "    .dataframe tbody tr th:only-of-type {\n",
              "        vertical-align: middle;\n",
              "    }\n",
              "\n",
              "    .dataframe tbody tr th {\n",
              "        vertical-align: top;\n",
              "    }\n",
              "\n",
              "    .dataframe thead th {\n",
              "        text-align: right;\n",
              "    }\n",
              "</style>\n",
              "<table border=\"1\" class=\"dataframe\">\n",
              "  <thead>\n",
              "    <tr style=\"text-align: right;\">\n",
              "      <th></th>\n",
              "      <th>0</th>\n",
              "      <th>1</th>\n",
              "      <th>2</th>\n",
              "      <th>3</th>\n",
              "      <th>4</th>\n",
              "      <th>5</th>\n",
              "      <th>6</th>\n",
              "      <th>7</th>\n",
              "      <th>8</th>\n",
              "      <th>9</th>\n",
              "      <th>...</th>\n",
              "      <th>14</th>\n",
              "      <th>15</th>\n",
              "      <th>16</th>\n",
              "      <th>17</th>\n",
              "      <th>18</th>\n",
              "      <th>19</th>\n",
              "      <th>20</th>\n",
              "      <th>21</th>\n",
              "      <th>22</th>\n",
              "      <th>23</th>\n",
              "    </tr>\n",
              "  </thead>\n",
              "  <tbody>\n",
              "    <tr>\n",
              "      <th>X1</th>\n",
              "      <td>0.0656</td>\n",
              "      <td>-0.0220</td>\n",
              "      <td>0.0198</td>\n",
              "      <td>-0.0056</td>\n",
              "      <td>0.0140</td>\n",
              "      <td>0.1645</td>\n",
              "      <td>0.1973</td>\n",
              "      <td>0.2033</td>\n",
              "      <td>0.2100</td>\n",
              "      <td>0.2137</td>\n",
              "      <td>...</td>\n",
              "      <td>0.3522</td>\n",
              "      <td>0.3501</td>\n",
              "      <td>0.3429</td>\n",
              "      <td>0.0927</td>\n",
              "      <td>0.0773</td>\n",
              "      <td>0.0850</td>\n",
              "      <td>0.0765</td>\n",
              "      <td>0.0741</td>\n",
              "      <td>0.0687</td>\n",
              "      <td>0.0398</td>\n",
              "    </tr>\n",
              "    <tr>\n",
              "      <th>X2</th>\n",
              "      <td>0.3117</td>\n",
              "      <td>0.0306</td>\n",
              "      <td>-0.0886</td>\n",
              "      <td>-0.0395</td>\n",
              "      <td>0.0627</td>\n",
              "      <td>-0.2967</td>\n",
              "      <td>-0.3280</td>\n",
              "      <td>-0.3350</td>\n",
              "      <td>-0.3344</td>\n",
              "      <td>-0.3212</td>\n",
              "      <td>...</td>\n",
              "      <td>0.1491</td>\n",
              "      <td>0.1473</td>\n",
              "      <td>0.1452</td>\n",
              "      <td>0.1488</td>\n",
              "      <td>0.1387</td>\n",
              "      <td>0.1499</td>\n",
              "      <td>0.1400</td>\n",
              "      <td>0.1358</td>\n",
              "      <td>0.1281</td>\n",
              "      <td>-0.1765</td>\n",
              "    </tr>\n",
              "    <tr>\n",
              "      <th>X3</th>\n",
              "      <td>0.0102</td>\n",
              "      <td>0.0280</td>\n",
              "      <td>-0.3172</td>\n",
              "      <td>0.4666</td>\n",
              "      <td>-0.4769</td>\n",
              "      <td>-0.0206</td>\n",
              "      <td>0.0189</td>\n",
              "      <td>0.0641</td>\n",
              "      <td>0.0920</td>\n",
              "      <td>0.1119</td>\n",
              "      <td>...</td>\n",
              "      <td>-0.0682</td>\n",
              "      <td>-0.0548</td>\n",
              "      <td>-0.0461</td>\n",
              "      <td>0.2727</td>\n",
              "      <td>0.2908</td>\n",
              "      <td>0.2693</td>\n",
              "      <td>0.2279</td>\n",
              "      <td>0.1863</td>\n",
              "      <td>0.2008</td>\n",
              "      <td>-0.0556</td>\n",
              "    </tr>\n",
              "    <tr>\n",
              "      <th>X4</th>\n",
              "      <td>0.0768</td>\n",
              "      <td>-0.0796</td>\n",
              "      <td>0.2274</td>\n",
              "      <td>-0.4301</td>\n",
              "      <td>0.4483</td>\n",
              "      <td>0.0201</td>\n",
              "      <td>0.0478</td>\n",
              "      <td>0.0797</td>\n",
              "      <td>0.1035</td>\n",
              "      <td>0.1099</td>\n",
              "      <td>...</td>\n",
              "      <td>-0.1018</td>\n",
              "      <td>-0.0893</td>\n",
              "      <td>-0.0841</td>\n",
              "      <td>0.2890</td>\n",
              "      <td>0.3218</td>\n",
              "      <td>0.2897</td>\n",
              "      <td>0.2465</td>\n",
              "      <td>0.1853</td>\n",
              "      <td>0.2161</td>\n",
              "      <td>0.0713</td>\n",
              "    </tr>\n",
              "    <tr>\n",
              "      <th>X5</th>\n",
              "      <td>-0.1982</td>\n",
              "      <td>0.7383</td>\n",
              "      <td>0.4516</td>\n",
              "      <td>-0.0263</td>\n",
              "      <td>-0.1391</td>\n",
              "      <td>-0.1119</td>\n",
              "      <td>-0.0520</td>\n",
              "      <td>-0.0023</td>\n",
              "      <td>0.0376</td>\n",
              "      <td>0.0552</td>\n",
              "      <td>...</td>\n",
              "      <td>0.0235</td>\n",
              "      <td>0.0169</td>\n",
              "      <td>-0.0008</td>\n",
              "      <td>0.1180</td>\n",
              "      <td>0.1152</td>\n",
              "      <td>0.0258</td>\n",
              "      <td>-0.0145</td>\n",
              "      <td>-0.0964</td>\n",
              "      <td>-0.0718</td>\n",
              "      <td>-0.3509</td>\n",
              "    </tr>\n",
              "    <tr>\n",
              "      <th>X6</th>\n",
              "      <td>-0.2660</td>\n",
              "      <td>-0.6266</td>\n",
              "      <td>0.3897</td>\n",
              "      <td>0.2316</td>\n",
              "      <td>0.0046</td>\n",
              "      <td>-0.1350</td>\n",
              "      <td>-0.0616</td>\n",
              "      <td>-0.0163</td>\n",
              "      <td>0.0068</td>\n",
              "      <td>0.0178</td>\n",
              "      <td>...</td>\n",
              "      <td>0.0395</td>\n",
              "      <td>0.0048</td>\n",
              "      <td>-0.0315</td>\n",
              "      <td>0.1727</td>\n",
              "      <td>0.1512</td>\n",
              "      <td>0.0644</td>\n",
              "      <td>-0.0872</td>\n",
              "      <td>-0.2094</td>\n",
              "      <td>-0.1313</td>\n",
              "      <td>-0.4187</td>\n",
              "    </tr>\n",
              "    <tr>\n",
              "      <th>X7</th>\n",
              "      <td>-0.2618</td>\n",
              "      <td>0.0077</td>\n",
              "      <td>0.4061</td>\n",
              "      <td>0.1881</td>\n",
              "      <td>-0.1390</td>\n",
              "      <td>0.2175</td>\n",
              "      <td>0.0418</td>\n",
              "      <td>-0.0899</td>\n",
              "      <td>-0.1962</td>\n",
              "      <td>-0.2339</td>\n",
              "      <td>...</td>\n",
              "      <td>0.0297</td>\n",
              "      <td>0.0268</td>\n",
              "      <td>0.0356</td>\n",
              "      <td>0.0581</td>\n",
              "      <td>0.1629</td>\n",
              "      <td>0.1441</td>\n",
              "      <td>0.0996</td>\n",
              "      <td>0.0550</td>\n",
              "      <td>-0.1244</td>\n",
              "      <td>0.6496</td>\n",
              "    </tr>\n",
              "    <tr>\n",
              "      <th>X8</th>\n",
              "      <td>0.0492</td>\n",
              "      <td>0.0745</td>\n",
              "      <td>-0.3211</td>\n",
              "      <td>-0.1227</td>\n",
              "      <td>0.0502</td>\n",
              "      <td>-0.0282</td>\n",
              "      <td>-0.0806</td>\n",
              "      <td>-0.0441</td>\n",
              "      <td>-0.0109</td>\n",
              "      <td>0.0461</td>\n",
              "      <td>...</td>\n",
              "      <td>0.0733</td>\n",
              "      <td>0.0918</td>\n",
              "      <td>-0.0376</td>\n",
              "      <td>0.2113</td>\n",
              "      <td>0.1387</td>\n",
              "      <td>0.2755</td>\n",
              "      <td>0.0687</td>\n",
              "      <td>-0.6994</td>\n",
              "      <td>-0.4133</td>\n",
              "      <td>0.1707</td>\n",
              "    </tr>\n",
              "    <tr>\n",
              "      <th>X9</th>\n",
              "      <td>-0.0268</td>\n",
              "      <td>-0.0478</td>\n",
              "      <td>0.0547</td>\n",
              "      <td>0.0109</td>\n",
              "      <td>0.0070</td>\n",
              "      <td>-0.0357</td>\n",
              "      <td>0.0053</td>\n",
              "      <td>-0.0077</td>\n",
              "      <td>-0.0147</td>\n",
              "      <td>0.0133</td>\n",
              "      <td>...</td>\n",
              "      <td>-0.0471</td>\n",
              "      <td>0.1046</td>\n",
              "      <td>0.1623</td>\n",
              "      <td>-0.2906</td>\n",
              "      <td>-0.2617</td>\n",
              "      <td>0.1860</td>\n",
              "      <td>0.6340</td>\n",
              "      <td>0.2341</td>\n",
              "      <td>-0.4984</td>\n",
              "      <td>-0.1612</td>\n",
              "    </tr>\n",
              "    <tr>\n",
              "      <th>X10</th>\n",
              "      <td>0.0224</td>\n",
              "      <td>0.0179</td>\n",
              "      <td>-0.1557</td>\n",
              "      <td>-0.0564</td>\n",
              "      <td>0.0474</td>\n",
              "      <td>-0.0325</td>\n",
              "      <td>-0.0338</td>\n",
              "      <td>-0.0110</td>\n",
              "      <td>0.0456</td>\n",
              "      <td>0.0560</td>\n",
              "      <td>...</td>\n",
              "      <td>0.0263</td>\n",
              "      <td>-0.0693</td>\n",
              "      <td>0.0812</td>\n",
              "      <td>0.0349</td>\n",
              "      <td>0.3917</td>\n",
              "      <td>-0.0343</td>\n",
              "      <td>-0.4441</td>\n",
              "      <td>0.4763</td>\n",
              "      <td>-0.5978</td>\n",
              "      <td>-0.0054</td>\n",
              "    </tr>\n",
              "    <tr>\n",
              "      <th>X11</th>\n",
              "      <td>0.0197</td>\n",
              "      <td>0.0213</td>\n",
              "      <td>0.0645</td>\n",
              "      <td>0.0394</td>\n",
              "      <td>0.0098</td>\n",
              "      <td>-0.0104</td>\n",
              "      <td>0.0010</td>\n",
              "      <td>-0.0239</td>\n",
              "      <td>-0.0507</td>\n",
              "      <td>0.0752</td>\n",
              "      <td>...</td>\n",
              "      <td>0.1229</td>\n",
              "      <td>-0.0055</td>\n",
              "      <td>0.0148</td>\n",
              "      <td>-0.2369</td>\n",
              "      <td>-0.2855</td>\n",
              "      <td>0.7810</td>\n",
              "      <td>-0.4352</td>\n",
              "      <td>0.0595</td>\n",
              "      <td>0.1044</td>\n",
              "      <td>-0.0173</td>\n",
              "    </tr>\n",
              "    <tr>\n",
              "      <th>X12</th>\n",
              "      <td>0.0159</td>\n",
              "      <td>-0.0162</td>\n",
              "      <td>0.0130</td>\n",
              "      <td>-0.0037</td>\n",
              "      <td>-0.0171</td>\n",
              "      <td>-0.0058</td>\n",
              "      <td>0.0031</td>\n",
              "      <td>-0.1095</td>\n",
              "      <td>0.0124</td>\n",
              "      <td>0.0404</td>\n",
              "      <td>...</td>\n",
              "      <td>0.0341</td>\n",
              "      <td>0.0490</td>\n",
              "      <td>-0.0019</td>\n",
              "      <td>-0.7384</td>\n",
              "      <td>0.5833</td>\n",
              "      <td>0.0150</td>\n",
              "      <td>0.0715</td>\n",
              "      <td>-0.1783</td>\n",
              "      <td>0.1640</td>\n",
              "      <td>-0.0319</td>\n",
              "    </tr>\n",
              "    <tr>\n",
              "      <th>X13</th>\n",
              "      <td>-0.1248</td>\n",
              "      <td>0.0073</td>\n",
              "      <td>-0.1940</td>\n",
              "      <td>-0.2299</td>\n",
              "      <td>-0.0929</td>\n",
              "      <td>0.5114</td>\n",
              "      <td>0.3980</td>\n",
              "      <td>0.1517</td>\n",
              "      <td>-0.1520</td>\n",
              "      <td>-0.3041</td>\n",
              "      <td>...</td>\n",
              "      <td>-0.0189</td>\n",
              "      <td>-0.0478</td>\n",
              "      <td>-0.0640</td>\n",
              "      <td>0.0218</td>\n",
              "      <td>0.1001</td>\n",
              "      <td>0.1351</td>\n",
              "      <td>0.0290</td>\n",
              "      <td>-0.0307</td>\n",
              "      <td>-0.0274</td>\n",
              "      <td>-0.4015</td>\n",
              "    </tr>\n",
              "    <tr>\n",
              "      <th>X14</th>\n",
              "      <td>0.3490</td>\n",
              "      <td>0.1759</td>\n",
              "      <td>0.0641</td>\n",
              "      <td>0.6442</td>\n",
              "      <td>0.5719</td>\n",
              "      <td>0.2005</td>\n",
              "      <td>0.1316</td>\n",
              "      <td>0.0783</td>\n",
              "      <td>0.0081</td>\n",
              "      <td>-0.0538</td>\n",
              "      <td>...</td>\n",
              "      <td>-0.0403</td>\n",
              "      <td>-0.0448</td>\n",
              "      <td>-0.0585</td>\n",
              "      <td>-0.0021</td>\n",
              "      <td>0.0398</td>\n",
              "      <td>-0.0110</td>\n",
              "      <td>0.0047</td>\n",
              "      <td>-0.0756</td>\n",
              "      <td>-0.0805</td>\n",
              "      <td>-0.0835</td>\n",
              "    </tr>\n",
              "    <tr>\n",
              "      <th>X15</th>\n",
              "      <td>-0.7544</td>\n",
              "      <td>0.1134</td>\n",
              "      <td>-0.3742</td>\n",
              "      <td>0.1332</td>\n",
              "      <td>0.4332</td>\n",
              "      <td>-0.0955</td>\n",
              "      <td>-0.0796</td>\n",
              "      <td>-0.0819</td>\n",
              "      <td>-0.0608</td>\n",
              "      <td>-0.0226</td>\n",
              "      <td>...</td>\n",
              "      <td>0.0484</td>\n",
              "      <td>0.0591</td>\n",
              "      <td>0.0742</td>\n",
              "      <td>-0.0066</td>\n",
              "      <td>-0.0054</td>\n",
              "      <td>0.0206</td>\n",
              "      <td>0.0422</td>\n",
              "      <td>0.0913</td>\n",
              "      <td>0.1422</td>\n",
              "      <td>-0.0078</td>\n",
              "    </tr>\n",
              "    <tr>\n",
              "      <th>X16</th>\n",
              "      <td>-0.0197</td>\n",
              "      <td>0.0242</td>\n",
              "      <td>-0.0248</td>\n",
              "      <td>0.0092</td>\n",
              "      <td>0.0144</td>\n",
              "      <td>-0.6392</td>\n",
              "      <td>0.2860</td>\n",
              "      <td>0.5290</td>\n",
              "      <td>0.1765</td>\n",
              "      <td>-0.1675</td>\n",
              "      <td>...</td>\n",
              "      <td>-0.0042</td>\n",
              "      <td>-0.0470</td>\n",
              "      <td>-0.0652</td>\n",
              "      <td>-0.0843</td>\n",
              "      <td>0.0373</td>\n",
              "      <td>0.0742</td>\n",
              "      <td>0.0380</td>\n",
              "      <td>-0.0309</td>\n",
              "      <td>-0.0357</td>\n",
              "      <td>0.1137</td>\n",
              "    </tr>\n",
              "    <tr>\n",
              "      <th>X17</th>\n",
              "      <td>0.0434</td>\n",
              "      <td>-0.0003</td>\n",
              "      <td>0.0117</td>\n",
              "      <td>0.0075</td>\n",
              "      <td>0.0003</td>\n",
              "      <td>-0.2516</td>\n",
              "      <td>0.5574</td>\n",
              "      <td>-0.0988</td>\n",
              "      <td>-0.5866</td>\n",
              "      <td>-0.0823</td>\n",
              "      <td>...</td>\n",
              "      <td>-0.0481</td>\n",
              "      <td>-0.0263</td>\n",
              "      <td>-0.0063</td>\n",
              "      <td>0.0515</td>\n",
              "      <td>0.0333</td>\n",
              "      <td>-0.0490</td>\n",
              "      <td>-0.0514</td>\n",
              "      <td>0.0072</td>\n",
              "      <td>-0.0053</td>\n",
              "      <td>0.0208</td>\n",
              "    </tr>\n",
              "    <tr>\n",
              "      <th>X18</th>\n",
              "      <td>-0.0234</td>\n",
              "      <td>0.0216</td>\n",
              "      <td>-0.0392</td>\n",
              "      <td>-0.0133</td>\n",
              "      <td>-0.0005</td>\n",
              "      <td>-0.0001</td>\n",
              "      <td>-0.0593</td>\n",
              "      <td>-0.1569</td>\n",
              "      <td>0.0629</td>\n",
              "      <td>0.1427</td>\n",
              "      <td>...</td>\n",
              "      <td>-0.2019</td>\n",
              "      <td>-0.4102</td>\n",
              "      <td>-0.4793</td>\n",
              "      <td>-0.0456</td>\n",
              "      <td>0.0325</td>\n",
              "      <td>0.1280</td>\n",
              "      <td>0.1234</td>\n",
              "      <td>0.0666</td>\n",
              "      <td>-0.0918</td>\n",
              "      <td>0.0235</td>\n",
              "    </tr>\n",
              "    <tr>\n",
              "      <th>X19</th>\n",
              "      <td>0.0065</td>\n",
              "      <td>-0.0039</td>\n",
              "      <td>0.0042</td>\n",
              "      <td>-0.0058</td>\n",
              "      <td>-0.0054</td>\n",
              "      <td>0.1371</td>\n",
              "      <td>-0.4860</td>\n",
              "      <td>0.6062</td>\n",
              "      <td>-0.2254</td>\n",
              "      <td>-0.3858</td>\n",
              "      <td>...</td>\n",
              "      <td>-0.0410</td>\n",
              "      <td>-0.0569</td>\n",
              "      <td>-0.0467</td>\n",
              "      <td>-0.0651</td>\n",
              "      <td>0.0458</td>\n",
              "      <td>0.0283</td>\n",
              "      <td>-0.0238</td>\n",
              "      <td>0.0166</td>\n",
              "      <td>0.0052</td>\n",
              "      <td>-0.0050</td>\n",
              "    </tr>\n",
              "    <tr>\n",
              "      <th>X20</th>\n",
              "      <td>0.0067</td>\n",
              "      <td>-0.0018</td>\n",
              "      <td>0.0023</td>\n",
              "      <td>-0.0006</td>\n",
              "      <td>-0.0059</td>\n",
              "      <td>-0.0342</td>\n",
              "      <td>0.1397</td>\n",
              "      <td>-0.3064</td>\n",
              "      <td>0.5678</td>\n",
              "      <td>-0.6741</td>\n",
              "      <td>...</td>\n",
              "      <td>-0.0088</td>\n",
              "      <td>-0.0165</td>\n",
              "      <td>0.0248</td>\n",
              "      <td>0.0187</td>\n",
              "      <td>-0.0220</td>\n",
              "      <td>0.0507</td>\n",
              "      <td>-0.0482</td>\n",
              "      <td>0.0003</td>\n",
              "      <td>0.0005</td>\n",
              "      <td>0.0031</td>\n",
              "    </tr>\n",
              "    <tr>\n",
              "      <th>X21</th>\n",
              "      <td>-0.0098</td>\n",
              "      <td>0.0019</td>\n",
              "      <td>-0.0026</td>\n",
              "      <td>-0.0024</td>\n",
              "      <td>-0.0001</td>\n",
              "      <td>-0.0061</td>\n",
              "      <td>-0.0312</td>\n",
              "      <td>0.0251</td>\n",
              "      <td>0.0193</td>\n",
              "      <td>0.0272</td>\n",
              "      <td>...</td>\n",
              "      <td>-0.5217</td>\n",
              "      <td>0.0680</td>\n",
              "      <td>0.5140</td>\n",
              "      <td>0.0435</td>\n",
              "      <td>0.1466</td>\n",
              "      <td>0.0013</td>\n",
              "      <td>-0.1118</td>\n",
              "      <td>-0.1004</td>\n",
              "      <td>0.0347</td>\n",
              "      <td>0.0031</td>\n",
              "    </tr>\n",
              "    <tr>\n",
              "      <th>X22</th>\n",
              "      <td>0.0144</td>\n",
              "      <td>-0.0007</td>\n",
              "      <td>0.0005</td>\n",
              "      <td>-0.0003</td>\n",
              "      <td>-0.0014</td>\n",
              "      <td>0.0007</td>\n",
              "      <td>0.0129</td>\n",
              "      <td>-0.0278</td>\n",
              "      <td>0.0017</td>\n",
              "      <td>0.0235</td>\n",
              "      <td>...</td>\n",
              "      <td>-0.4878</td>\n",
              "      <td>-0.2507</td>\n",
              "      <td>0.3386</td>\n",
              "      <td>-0.0674</td>\n",
              "      <td>-0.0709</td>\n",
              "      <td>0.1235</td>\n",
              "      <td>0.0027</td>\n",
              "      <td>-0.0696</td>\n",
              "      <td>0.0274</td>\n",
              "      <td>-0.0037</td>\n",
              "    </tr>\n",
              "    <tr>\n",
              "      <th>X23</th>\n",
              "      <td>-0.0006</td>\n",
              "      <td>-0.0008</td>\n",
              "      <td>0.0014</td>\n",
              "      <td>0.0007</td>\n",
              "      <td>0.0000</td>\n",
              "      <td>-0.0026</td>\n",
              "      <td>0.0033</td>\n",
              "      <td>-0.0086</td>\n",
              "      <td>0.0141</td>\n",
              "      <td>-0.0083</td>\n",
              "      <td>...</td>\n",
              "      <td>-0.3642</td>\n",
              "      <td>0.7184</td>\n",
              "      <td>-0.4261</td>\n",
              "      <td>-0.0446</td>\n",
              "      <td>0.0379</td>\n",
              "      <td>0.0266</td>\n",
              "      <td>-0.0813</td>\n",
              "      <td>0.0948</td>\n",
              "      <td>-0.0172</td>\n",
              "      <td>-0.0006</td>\n",
              "    </tr>\n",
              "    <tr>\n",
              "      <th>Y</th>\n",
              "      <td>0.0028</td>\n",
              "      <td>0.0008</td>\n",
              "      <td>0.0017</td>\n",
              "      <td>-0.0012</td>\n",
              "      <td>0.0003</td>\n",
              "      <td>0.0006</td>\n",
              "      <td>0.0000</td>\n",
              "      <td>-0.0048</td>\n",
              "      <td>-0.0014</td>\n",
              "      <td>-0.0006</td>\n",
              "      <td>...</td>\n",
              "      <td>0.3453</td>\n",
              "      <td>-0.2258</td>\n",
              "      <td>0.0711</td>\n",
              "      <td>-0.0847</td>\n",
              "      <td>0.1244</td>\n",
              "      <td>-0.0631</td>\n",
              "      <td>0.0420</td>\n",
              "      <td>-0.0081</td>\n",
              "      <td>0.0083</td>\n",
              "      <td>-0.0013</td>\n",
              "    </tr>\n",
              "  </tbody>\n",
              "</table>\n",
              "<p>24 rows × 24 columns</p>\n",
              "</div>\n",
              "      <button class=\"colab-df-convert\" onclick=\"convertToInteractive('df-695e9788-2474-4030-b084-7a5bee8a9780')\"\n",
              "              title=\"Convert this dataframe to an interactive table.\"\n",
              "              style=\"display:none;\">\n",
              "        \n",
              "  <svg xmlns=\"http://www.w3.org/2000/svg\" height=\"24px\"viewBox=\"0 0 24 24\"\n",
              "       width=\"24px\">\n",
              "    <path d=\"M0 0h24v24H0V0z\" fill=\"none\"/>\n",
              "    <path d=\"M18.56 5.44l.94 2.06.94-2.06 2.06-.94-2.06-.94-.94-2.06-.94 2.06-2.06.94zm-11 1L8.5 8.5l.94-2.06 2.06-.94-2.06-.94L8.5 2.5l-.94 2.06-2.06.94zm10 10l.94 2.06.94-2.06 2.06-.94-2.06-.94-.94-2.06-.94 2.06-2.06.94z\"/><path d=\"M17.41 7.96l-1.37-1.37c-.4-.4-.92-.59-1.43-.59-.52 0-1.04.2-1.43.59L10.3 9.45l-7.72 7.72c-.78.78-.78 2.05 0 2.83L4 21.41c.39.39.9.59 1.41.59.51 0 1.02-.2 1.41-.59l7.78-7.78 2.81-2.81c.8-.78.8-2.07 0-2.86zM5.41 20L4 18.59l7.72-7.72 1.47 1.35L5.41 20z\"/>\n",
              "  </svg>\n",
              "      </button>\n",
              "      \n",
              "  <style>\n",
              "    .colab-df-container {\n",
              "      display:flex;\n",
              "      flex-wrap:wrap;\n",
              "      gap: 12px;\n",
              "    }\n",
              "\n",
              "    .colab-df-convert {\n",
              "      background-color: #E8F0FE;\n",
              "      border: none;\n",
              "      border-radius: 50%;\n",
              "      cursor: pointer;\n",
              "      display: none;\n",
              "      fill: #1967D2;\n",
              "      height: 32px;\n",
              "      padding: 0 0 0 0;\n",
              "      width: 32px;\n",
              "    }\n",
              "\n",
              "    .colab-df-convert:hover {\n",
              "      background-color: #E2EBFA;\n",
              "      box-shadow: 0px 1px 2px rgba(60, 64, 67, 0.3), 0px 1px 3px 1px rgba(60, 64, 67, 0.15);\n",
              "      fill: #174EA6;\n",
              "    }\n",
              "\n",
              "    [theme=dark] .colab-df-convert {\n",
              "      background-color: #3B4455;\n",
              "      fill: #D2E3FC;\n",
              "    }\n",
              "\n",
              "    [theme=dark] .colab-df-convert:hover {\n",
              "      background-color: #434B5C;\n",
              "      box-shadow: 0px 1px 3px 1px rgba(0, 0, 0, 0.15);\n",
              "      filter: drop-shadow(0px 1px 2px rgba(0, 0, 0, 0.3));\n",
              "      fill: #FFFFFF;\n",
              "    }\n",
              "  </style>\n",
              "\n",
              "      <script>\n",
              "        const buttonEl =\n",
              "          document.querySelector('#df-695e9788-2474-4030-b084-7a5bee8a9780 button.colab-df-convert');\n",
              "        buttonEl.style.display =\n",
              "          google.colab.kernel.accessAllowed ? 'block' : 'none';\n",
              "\n",
              "        async function convertToInteractive(key) {\n",
              "          const element = document.querySelector('#df-695e9788-2474-4030-b084-7a5bee8a9780');\n",
              "          const dataTable =\n",
              "            await google.colab.kernel.invokeFunction('convertToInteractive',\n",
              "                                                     [key], {});\n",
              "          if (!dataTable) return;\n",
              "\n",
              "          const docLinkHtml = 'Like what you see? Visit the ' +\n",
              "            '<a target=\"_blank\" href=https://colab.research.google.com/notebooks/data_table.ipynb>data table notebook</a>'\n",
              "            + ' to learn more about interactive tables.';\n",
              "          element.innerHTML = '';\n",
              "          dataTable['output_type'] = 'display_data';\n",
              "          await google.colab.output.renderOutput(dataTable, element);\n",
              "          const docLink = document.createElement('div');\n",
              "          docLink.innerHTML = docLinkHtml;\n",
              "          element.appendChild(docLink);\n",
              "        }\n",
              "      </script>\n",
              "    </div>\n",
              "  </div>\n",
              "  "
            ]
          },
          "metadata": {},
          "execution_count": 174
        }
      ]
    },
    {
      "cell_type": "markdown",
      "source": [
        "☝ **PARA TENER EN CUENTA:** Para entender de una mejor manera la contribución de cada atributo para los componentes generados, obtendremos la magnitud del valor absoluto del coeficiente, teniendo en cuenta que a mayor valor absoluto mayor será el peso del atributo en el cálculo del componente."
      ],
      "metadata": {
        "id": "lglkGbUZF8eq"
      }
    },
    {
      "cell_type": "code",
      "source": [
        "#Obtenemos el valor absoluto del coeficiente\n",
        "dfAtributosComponente.iloc[:,:8].abs().idxmax()"
      ],
      "metadata": {
        "id": "4a6GN0gEZQNp",
        "outputId": "2db32ab3-ca18-4132-ddd4-5845c16cb1d5",
        "colab": {
          "base_uri": "https://localhost:8080/"
        }
      },
      "execution_count": 175,
      "outputs": [
        {
          "output_type": "execute_result",
          "data": {
            "text/plain": [
              "0    X15\n",
              "1     X5\n",
              "2     X5\n",
              "3    X14\n",
              "4    X14\n",
              "5    X16\n",
              "6    X17\n",
              "7    X19\n",
              "dtype: object"
            ]
          },
          "metadata": {},
          "execution_count": 175
        }
      ]
    },
    {
      "cell_type": "markdown",
      "source": [
        "---\n",
        "\n",
        "\n",
        "✍ Las variables más importantes para los componentes (0 al 7) que explican más del **70%** de la varianza son **X5** porque representa el mayor peso en los componentes 1 y 2, y **X14** que representa el mayor peso en los componentes 3 y 4."
      ],
      "metadata": {
        "id": "H67-v9p9vAPH"
      }
    },
    {
      "cell_type": "markdown",
      "source": [
        "---\n",
        "\n",
        "## 👣 **8.   Elabora los histogramas de los atributos para visualizar su distribución.**\n",
        "\n",
        "\n",
        "---"
      ],
      "metadata": {
        "id": "Oap1vSA7ZTiR"
      }
    },
    {
      "cell_type": "code",
      "source": [
        "#Graficamos el histograma para validar la distribución de los atributos en el dataframe ajustado y escalado.\n",
        "dfAjustado.hist(bins = 60, figsize=(20,30))"
      ],
      "metadata": {
        "id": "g4fVHcNw6n0a",
        "outputId": "5eec09a2-2ab9-4023-fb55-ffd2f5da6953",
        "colab": {
          "base_uri": "https://localhost:8080/",
          "height": 1000
        }
      },
      "execution_count": 176,
      "outputs": [
        {
          "output_type": "execute_result",
          "data": {
            "text/plain": [
              "array([[<matplotlib.axes._subplots.AxesSubplot object at 0x7fc1c0b244d0>,\n",
              "        <matplotlib.axes._subplots.AxesSubplot object at 0x7fc1c0b19a50>,\n",
              "        <matplotlib.axes._subplots.AxesSubplot object at 0x7fc1c0becbd0>,\n",
              "        <matplotlib.axes._subplots.AxesSubplot object at 0x7fc2003e6550>,\n",
              "        <matplotlib.axes._subplots.AxesSubplot object at 0x7fc2017c3c50>],\n",
              "       [<matplotlib.axes._subplots.AxesSubplot object at 0x7fc20047cb50>,\n",
              "        <matplotlib.axes._subplots.AxesSubplot object at 0x7fc200733290>,\n",
              "        <matplotlib.axes._subplots.AxesSubplot object at 0x7fc200424650>,\n",
              "        <matplotlib.axes._subplots.AxesSubplot object at 0x7fc2002aa0d0>,\n",
              "        <matplotlib.axes._subplots.AxesSubplot object at 0x7fc1da8a3a10>],\n",
              "       [<matplotlib.axes._subplots.AxesSubplot object at 0x7fc1feb8b550>,\n",
              "        <matplotlib.axes._subplots.AxesSubplot object at 0x7fc1feb97fd0>,\n",
              "        <matplotlib.axes._subplots.AxesSubplot object at 0x7fc1feab3750>,\n",
              "        <matplotlib.axes._subplots.AxesSubplot object at 0x7fc1fea452d0>,\n",
              "        <matplotlib.axes._subplots.AxesSubplot object at 0x7fc1fe9abb90>],\n",
              "       [<matplotlib.axes._subplots.AxesSubplot object at 0x7fc1fe93d2d0>,\n",
              "        <matplotlib.axes._subplots.AxesSubplot object at 0x7fc1fe8f0fd0>,\n",
              "        <matplotlib.axes._subplots.AxesSubplot object at 0x7fc1fe8d9750>,\n",
              "        <matplotlib.axes._subplots.AxesSubplot object at 0x7fc1fe84f2d0>,\n",
              "        <matplotlib.axes._subplots.AxesSubplot object at 0x7fc1fe7aa910>],\n",
              "       [<matplotlib.axes._subplots.AxesSubplot object at 0x7fc200952190>,\n",
              "        <matplotlib.axes._subplots.AxesSubplot object at 0x7fc201b1c150>,\n",
              "        <matplotlib.axes._subplots.AxesSubplot object at 0x7fc1fe7c3b10>,\n",
              "        <matplotlib.axes._subplots.AxesSubplot object at 0x7fc200589f10>,\n",
              "        <matplotlib.axes._subplots.AxesSubplot object at 0x7fc200868dd0>]],\n",
              "      dtype=object)"
            ]
          },
          "metadata": {},
          "execution_count": 176
        },
        {
          "output_type": "display_data",
          "data": {
            "text/plain": [
              "<Figure size 1440x2160 with 25 Axes>"
            ],
            "image/png": "[encoded data removed]"
          },
          "metadata": {
            "needs_background": "light"
          }
        }
      ]
    },
    {
      "cell_type": "markdown",
      "source": [
        "☝ Hacemos zoom en los campos relevantes (X5 y X14) para los PC seleccionados en el análisis PCA."
      ],
      "metadata": {
        "id": "R8ELKYY__-Lv"
      }
    },
    {
      "cell_type": "code",
      "source": [
        "%matplotlib inline\n",
        "import matplotlib as plt\n",
        "from matplotlib import pyplot\n",
        "plt.pyplot.hist(dfAjustado[\"X5\"])\n",
        "\n",
        "# set x/y labels and plot title\n",
        "plt.pyplot.xlabel(\"Edad\")\n",
        "plt.pyplot.ylabel(\"Conteo\")\n",
        "plt.pyplot.title(\"Histograma Edad\")"
      ],
      "metadata": {
        "id": "2eWsip-TZXle",
        "outputId": "ebe84764-fa73-4519-a88f-011786fa60df",
        "colab": {
          "base_uri": "https://localhost:8080/",
          "height": 312
        }
      },
      "execution_count": 177,
      "outputs": [
        {
          "output_type": "execute_result",
          "data": {
            "text/plain": [
              "Text(0.5, 1.0, 'Histograma Edad')"
            ]
          },
          "metadata": {},
          "execution_count": 177
        },
        {
          "output_type": "display_data",
          "data": {
            "text/plain": [
              "<Figure size 432x288 with 1 Axes>"
            ],
            "image/png": "[encoded data removed]"
          },
          "metadata": {
            "needs_background": "light"
          }
        }
      ]
    },
    {
      "cell_type": "code",
      "source": [
        "plt.pyplot.hist(df[\"X14\"])\n",
        "\n",
        "# set x/y labels and plot title\n",
        "plt.pyplot.xlabel(\"Monto de estado de factura julio\")\n",
        "plt.pyplot.ylabel(\"Conteo\")\n",
        "plt.pyplot.title(\"Histograma Monto de estado de factura julio\")"
      ],
      "metadata": {
        "id": "wRsM04Qewj6k",
        "outputId": "5bac8d5c-b11c-4253-aeca-49ae75f47bef",
        "colab": {
          "base_uri": "https://localhost:8080/",
          "height": 312
        }
      },
      "execution_count": 178,
      "outputs": [
        {
          "output_type": "execute_result",
          "data": {
            "text/plain": [
              "Text(0.5, 1.0, 'Histograma Monto de estado de factura julio')"
            ]
          },
          "metadata": {},
          "execution_count": 178
        },
        {
          "output_type": "display_data",
          "data": {
            "text/plain": [
              "<Figure size 432x288 with 1 Axes>"
            ],
            "image/png": "[encoded data removed]"
          },
          "metadata": {
            "needs_background": "light"
          }
        }
      ]
    },
    {
      "cell_type": "markdown",
      "source": [
        "---\n",
        "\n",
        "## 👣 **9.   Visualiza los datos usando por lo menos 3 gráficos adecuados: plot, scatter, jointplot, boxplot, areaplot, pie chart, pairplot, bar chart, etc.**\n",
        "\n",
        "\n",
        "---"
      ],
      "metadata": {
        "id": "S792U569ZcZN"
      }
    },
    {
      "cell_type": "markdown",
      "source": [
        "📊 **BOXPLOT:** Generamos un boxplot para analizar datos estadísticos de los atributos con los componentes obtenidos mediante PCA, en aras de encontrar la varianza, mediana y valores atípicos."
      ],
      "metadata": {
        "id": "yF6lqg6Ym-Wc"
      }
    },
    {
      "cell_type": "code",
      "source": [
        "import matplotlib.pyplot as plt\n",
        "\n",
        "#Creamos una lista con los nombres de los 23 componentes para enviarlo a graficar junto con el dataframe\n",
        "nombres=list()\n",
        "nombres=[f'C{i}' for i in range(len(dfAtributosComponente.columns))]\n",
        "\n",
        "plt.boxplot(dfAtributosComponente, labels=nombres, showmeans=True)\n",
        "plt.show()"
      ],
      "metadata": {
        "id": "q4Zv5RqxZqrj",
        "colab": {
          "base_uri": "https://localhost:8080/",
          "height": 265
        },
        "outputId": "26ba2956-b527-4148-ca6d-5a30d2b3d2fb"
      },
      "execution_count": 179,
      "outputs": [
        {
          "output_type": "display_data",
          "data": {
            "text/plain": [
              "<Figure size 432x288 with 1 Axes>"
            ],
            "image/png": "[encoded data removed]"
          },
          "metadata": {
            "needs_background": "light"
          }
        }
      ]
    },
    {
      "cell_type": "markdown",
      "source": [
        "📊 **SCATTER PLOT:** Generamos un scatter plot para analizar la distribución de los atributos (X5 y X14) que más aportan al conjunto de PCA que representa la mayor varianza (0 al 7)."
      ],
      "metadata": {
        "id": "GLmDRmJ9edo7"
      }
    },
    {
      "cell_type": "code",
      "source": [
        "#Creamos una lista con los nombres de los 23 componentes para enviarlo a graficar junto con el dataframe\n",
        "nombres=list()\n",
        "nombres=[f'C{i}' for i in range(len(dfAtributosComponente.T.columns))]\n",
        "\n",
        "print(\"Distribución datos atributo X5:\")\n",
        "dfAtributosComponente.T.plot(kind = 'scatter', x = 'X5', y = 'Y')"
      ],
      "metadata": {
        "id": "ZSDvYr47OVid",
        "outputId": "2125f369-e893-4c29-a3c4-88c484fb1c6c",
        "colab": {
          "base_uri": "https://localhost:8080/",
          "height": 314
        }
      },
      "execution_count": 180,
      "outputs": [
        {
          "output_type": "stream",
          "name": "stdout",
          "text": [
            "Distribución datos atributo X5:\n"
          ]
        },
        {
          "output_type": "execute_result",
          "data": {
            "text/plain": [
              "<matplotlib.axes._subplots.AxesSubplot at 0x7fc1eba636d0>"
            ]
          },
          "metadata": {},
          "execution_count": 180
        },
        {
          "output_type": "display_data",
          "data": {
            "text/plain": [
              "<Figure size 432x288 with 1 Axes>"
            ],
            "image/png": "[encoded data removed]"
          },
          "metadata": {
            "needs_background": "light"
          }
        }
      ]
    },
    {
      "cell_type": "code",
      "source": [
        "#Creamos una lista con los nombres de los 23 componentes para enviarlo a graficar junto con el dataframe\n",
        "nombres=list()\n",
        "nombres=[f'C{i}' for i in range(len(dfAtributosComponente.T.columns))]\n",
        "\n",
        "print(\"Distribución datos atributo X14:\")\n",
        "dfAtributosComponente.T.plot(kind = 'scatter', x = 'X14', y = 'Y')"
      ],
      "metadata": {
        "id": "zUN2_Vp5faWI",
        "outputId": "af8a6cc1-9c56-4d22-d6dc-70378a185a81",
        "colab": {
          "base_uri": "https://localhost:8080/",
          "height": 314
        }
      },
      "execution_count": 181,
      "outputs": [
        {
          "output_type": "stream",
          "name": "stdout",
          "text": [
            "Distribución datos atributo X14:\n"
          ]
        },
        {
          "output_type": "execute_result",
          "data": {
            "text/plain": [
              "<matplotlib.axes._subplots.AxesSubplot at 0x7fc1eb9a8790>"
            ]
          },
          "metadata": {},
          "execution_count": 181
        },
        {
          "output_type": "display_data",
          "data": {
            "text/plain": [
              "<Figure size 432x288 with 1 Axes>"
            ],
            "image/png": "[encoded data removed]"
          },
          "metadata": {
            "needs_background": "light"
          }
        }
      ]
    },
    {
      "cell_type": "code",
      "source": [
        "dfAtributosComponente.T.plot(kind = 'bar',\n",
        "        x = 'X5',\n",
        "        y = 'Y',\n",
        "        color = 'green')\n",
        "  \n",
        "# set the title\n",
        "plt.title('BarPlot Edad (X5)')\n",
        "  \n",
        "# show the plot\n",
        "plt.show()"
      ],
      "metadata": {
        "id": "zz0ZzaTAOWCX",
        "outputId": "8b58044a-28c4-4cb9-e2f1-f7b850d674f2",
        "colab": {
          "base_uri": "https://localhost:8080/",
          "height": 324
        }
      },
      "execution_count": 182,
      "outputs": [
        {
          "output_type": "display_data",
          "data": {
            "text/plain": [
              "<Figure size 432x288 with 1 Axes>"
            ],
            "image/png": "[encoded data removed]"
          },
          "metadata": {
            "needs_background": "light"
          }
        }
      ]
    },
    {
      "cell_type": "code",
      "source": [
        "dfAtributosComponente.T.plot(kind = 'bar',\n",
        "        x = 'X14',\n",
        "        y = 'Y',\n",
        "        color = 'green')\n",
        "  \n",
        "# set the title\n",
        "plt.title('BarPlot Monto de estado de factura julio (X14)')\n",
        "  \n",
        "# show the plot\n",
        "plt.show()"
      ],
      "metadata": {
        "id": "rnqgOL7UdXby",
        "outputId": "b72a42b6-3dab-422c-c682-b80c778ca0fb",
        "colab": {
          "base_uri": "https://localhost:8080/",
          "height": 324
        }
      },
      "execution_count": 183,
      "outputs": [
        {
          "output_type": "display_data",
          "data": {
            "text/plain": [
              "<Figure size 432x288 with 1 Axes>"
            ],
            "image/png": "[encoded data removed]"
          },
          "metadata": {
            "needs_background": "light"
          }
        }
      ]
    },
    {
      "cell_type": "markdown",
      "source": [
        "---\n",
        "\n",
        "## 👣 **10.   Interpreta y explica los gráficos indicando la información relevante que podría ayudar en el proceso de toma de decisiones.**\n",
        "\n",
        "\n",
        "---"
      ],
      "metadata": {
        "id": "ZMvIK9T1Zt7d"
      }
    },
    {
      "cell_type": "markdown",
      "source": [
        "---\n",
        "\n",
        "\n",
        "📊 **CONCLUSIÓN BOXPLOT:**\n",
        "\n",
        "Analizando el boxplot concluyo que de los componentes seleccionados en el punto 7, que cubren más del 70% de la varianza, solo los componentes C0, C1 y C3 no presentan valores atípicos, los componentes C2 y C6 presentan valores atípicos que considero manejables, mientras que los componentes C4, C5 y C7 presentan outliers extremos que podrían interferir en las métricas de predicción requeridas por el modelo al hacer uso de los componentes mencionados.\n",
        "\n",
        "\n",
        "---"
      ],
      "metadata": {
        "id": "8rQM_FhIUbQb"
      }
    },
    {
      "cell_type": "markdown",
      "source": [
        "---\n",
        "\n",
        "\n",
        "📊 **CONCLUSIÓN SCATTER PLOT:**\n",
        "\n",
        "Observamos que para los dos atributos (X5 y X14) que más aportan a los PC seleccionados, la dispersión se centra en los valores negativos, sin embargo, no se observa un patrón positivo ni negativo en la dispersión de los datos. Debemos seguir aplicando técnicas de normalización en aras de que podamos obtener una mejor dispersión de los datos.\n",
        "\n",
        "---"
      ],
      "metadata": {
        "id": "YjC6xUGBlFTr"
      }
    },
    {
      "cell_type": "markdown",
      "source": [
        "---\n",
        "\n",
        "\n",
        "📊 **CONCLUSIÓN BAR PLOT:**\n",
        "\n",
        "Observamos que para los atributos analizados (X5 y X14) existe una tendencia decreciente en Y a medida que los datos en el eje X van pasando de valores positivos a negativos. Tal como está la información, no podríamos concluir que los datos nos servirán para el modelo, por lo tanto, debemos seguir mejorando el comportamiento en la correlación de las variables, de tal manera que garanticemos mejoras en el desempeño del modelo.\n",
        "\n",
        "---"
      ],
      "metadata": {
        "id": "0EIriAITl27Z"
      }
    }
  ]
}