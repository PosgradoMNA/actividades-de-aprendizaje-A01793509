{
  "nbformat": 4,
  "nbformat_minor": 0,
  "metadata": {
    "colab": {
      "name": "assignment01.ipynb",
      "provenance": [],
      "include_colab_link": true
    },
    "kernelspec": {
      "name": "python3",
      "display_name": "Python 3"
    },
    "language_info": {
      "name": "python"
    }
  },
  "cells": [
    {
      "cell_type": "markdown",
      "metadata": {
        "id": "view-in-github",
        "colab_type": "text"
      },
      "source": [
        "<a href=\"https://colab.research.google.com/github/PosgradoMNA/actividades-de-aprendizaje-A01793509/blob/main/Semana%204%20-%20Data%20Analysis%20with%20Python%20(IBM)%20(M%C3%B3dulo%201).ipynb\" target=\"_parent\"><img src=\"https://colab.research.google.com/assets/colab-badge.svg\" alt=\"Open In Colab\"/></a>"
      ]
    },
    {
      "cell_type": "markdown",
      "source": [
        "\n",
        "---\n",
        "\n",
        "📅 Semana 4\n",
        "\n",
        "🚀 Curso: Data Analysis with Python (IBM: DA0101EN)\n",
        "\n",
        "📖 Módulo 1\n",
        "\n",
        "Alberto José García Porras (**A01793509**)\n",
        "\n",
        "\n",
        "---"
      ],
      "metadata": {
        "id": "vG7DoVUg8CFK"
      }
    },
    {
      "cell_type": "code",
      "source": [],
      "metadata": {
        "id": "nqZ-JYcTA9HZ"
      },
      "execution_count": null,
      "outputs": []
    }
  ]
}
