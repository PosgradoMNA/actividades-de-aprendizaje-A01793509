{
  "nbformat": 4,
  "nbformat_minor": 0,
  "metadata": {
    "colab": {
      "name": "assignment01.ipynb",
      "provenance": [],
      "include_colab_link": true
    },
    "kernelspec": {
      "name": "python3",
      "display_name": "Python 3"
    },
    "language_info": {
      "name": "python"
    }
  },
  "cells": [
    {
      "cell_type": "markdown",
      "metadata": {
        "id": "view-in-github",
        "colab_type": "text"
      },
      "source": [
        "<a href=\"https://colab.research.google.com/github/PosgradoMNA/actividades-de-aprendizaje-A01793509/blob/main/Funciones.ipynb\" target=\"_parent\"><img src=\"https://colab.research.google.com/assets/colab-badge.svg\" alt=\"Open In Colab\"/></a>"
      ]
    },
    {
      "cell_type": "code",
      "execution_count": 26,
      "metadata": {
        "id": "LzUSMM79NR9P"
      },
      "outputs": [],
      "source": [
        "#Probando funciones\n",
        "def visionOK(distancia):\n",
        "  if distancia>=200:\n",
        "    analisis=\"90%\"\n",
        "  else:\n",
        "    analisis=\"50%\"\n",
        "\n",
        "  return analisis\n"
      ]
    },
    {
      "cell_type": "code",
      "source": [
        "#Indique la distancia a la que puede visualizar objetos correctamente\n",
        "distancia=50\n",
        "print(\"Su visión está en un\", visionOK(distancia))"
      ],
      "metadata": {
        "colab": {
          "base_uri": "https://localhost:8080/"
        },
        "id": "we0bED5km9bB",
        "outputId": "fa96e883-28d2-41ea-898b-608863535cad"
      },
      "execution_count": 27,
      "outputs": [
        {
          "output_type": "stream",
          "name": "stdout",
          "text": [
            "Su visión está en un 50%\n"
          ]
        }
      ]
    },
    {
      "cell_type": "code",
      "source": [
        "#Indique la distancia a la que puede visualizar objetos correctamente\n",
        "distancia=240\n",
        "print(\"Su visión está en un\", visionOK(distancia))"
      ],
      "metadata": {
        "colab": {
          "base_uri": "https://localhost:8080/"
        },
        "id": "ZxkgWfDjm344",
        "outputId": "c1eeee60-a583-4bfa-ade4-3f1d0c96b7a3"
      },
      "execution_count": 28,
      "outputs": [
        {
          "output_type": "stream",
          "name": "stdout",
          "text": [
            "Su visión está en un 90%\n"
          ]
        }
      ]
    },
    {
      "cell_type": "code",
      "source": [
        "def imprimaetiqueta():\n",
        "  print(\"Probando funciones\")\n",
        "  return None"
      ],
      "metadata": {
        "id": "WrE8vRB4z0Hg"
      },
      "execution_count": 36,
      "outputs": []
    },
    {
      "cell_type": "code",
      "source": [
        "print(imprimaetiqueta())"
      ],
      "metadata": {
        "id": "v572hxV8z7w0",
        "outputId": "73a6932a-c8e8-4e6e-c9c2-336dbea9f38d",
        "colab": {
          "base_uri": "https://localhost:8080/"
        }
      },
      "execution_count": 37,
      "outputs": [
        {
          "output_type": "stream",
          "name": "stdout",
          "text": [
            "Probando funciones\n",
            "None\n"
          ]
        }
      ]
    },
    {
      "cell_type": "code",
      "source": [],
      "metadata": {
        "id": "rbiDniWxz9-M"
      },
      "execution_count": null,
      "outputs": []
    }
  ]
}