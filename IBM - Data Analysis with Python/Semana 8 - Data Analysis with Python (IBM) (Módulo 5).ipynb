{
  "nbformat": 4,
  "nbformat_minor": 0,
  "metadata": {
    "colab": {
      "name": "assignment01.ipynb",
      "provenance": [],
      "include_colab_link": true
    },
    "kernelspec": {
      "name": "python3",
      "display_name": "Python 3"
    },
    "language_info": {
      "name": "python"
    }
  },
  "cells": [
    {
      "cell_type": "markdown",
      "metadata": {
        "id": "view-in-github",
        "colab_type": "text"
      },
      "source": [
        "<a href=\"https://colab.research.google.com/github/PosgradoMNA/actividades-de-aprendizaje-A01793509/blob/main/IBM%20-%20Data%20Analysis%20with%20Python/Semana%208%20-%20Data%20Analysis%20with%20Python%20(IBM)%20(M%C3%B3dulo%205).ipynb\" target=\"_parent\"><img src=\"https://colab.research.google.com/assets/colab-badge.svg\" alt=\"Open In Colab\"/></a>"
      ]
    },
    {
      "cell_type": "markdown",
      "source": [
        "\n",
        "---\n",
        "\n",
        "📅 Semana 8\n",
        "\n",
        "🚀 Curso: Data Analysis with Python (IBM: DA0101EN)\n",
        "\n",
        "📖 Módulo 5\n",
        "\n",
        "Alberto José García Porras (**A01793509**)\n",
        "\n",
        "\n",
        "---"
      ],
      "metadata": {
        "id": "vG7DoVUg8CFK"
      }
    },
    {
      "cell_type": "markdown",
      "source": [
        "☝ **Evaluación y afinamiento de modelos:**\n",
        "\n",
        "Una vez diseñamos nuestro modelo es hora de determinar si funciona de acuerdo a lo esperado o si debemos realizar ajustes. Esto es lo que aprenderemos en este notebook."
      ],
      "metadata": {
        "id": "6gsukTd9PKZV"
      }
    },
    {
      "cell_type": "markdown",
      "source": [
        "---\n",
        "\n",
        "☝ **NOTA:** Estaré trabajando nuevamente con la base de datos **website-trafficcsv** que mide el tráfico de usuarios que ingresa diariamente a un sitio web universitario.\n",
        "\n",
        "---\n",
        "\n",
        "👓 Siguiendo lo aprendido en el módulo 1 utilizaremos el método **read_csv()** de la librería **Pandas** para leer los datos e introducirlos en nuestro dataframe.\n",
        "\n",
        "---"
      ],
      "metadata": {
        "id": "7NHVlyyRRKMK"
      }
    },
    {
      "cell_type": "code",
      "source": [
        "#Importamos la librería pandas y leemos el archivo website-traffic.csv\n",
        "import pandas as pd\n",
        "url = \"https://openmv.net/file/website-traffic.csv\"\n",
        "df = pd.read_csv(url)\n",
        "\n",
        "#Convertimos las dos variables de entrada que utilizaremos para nuestro ejercicio\n",
        "df.DayOfWeek = pd.Categorical(df.DayOfWeek)\n",
        "df['DayOfWeek'] = df.DayOfWeek.cat.codes\n",
        "\n",
        "df.MonthDay = pd.Categorical(df.MonthDay)\n",
        "df['MonthDay'] = df.MonthDay.cat.codes\n",
        "\n",
        "#Visualizamos los primeros 10 registros\n",
        "df.head(10)"
      ],
      "metadata": {
        "id": "nqZ-JYcTA9HZ",
        "colab": {
          "base_uri": "https://localhost:8080/",
          "height": 363
        },
        "outputId": "0a510cb2-0527-46b8-d2f8-373f1c8f0973"
      },
      "execution_count": 1,
      "outputs": [
        {
          "output_type": "execute_result",
          "data": {
            "text/plain": [
              "   DayOfWeek  MonthDay  Year  Visits\n",
              "0          1        93  2009      27\n",
              "1          5       104  2009      31\n",
              "2          6       115  2009      38\n",
              "3          4       117  2009      38\n",
              "4          0       118  2009      31\n",
              "5          2       119  2009      24\n",
              "6          3       120  2009      21\n",
              "7          1       121  2009      29\n",
              "8          5       122  2009      30\n",
              "9          6        94  2009      22"
            ],
            "text/html": [
              "\n",
              "  <div id=\"df-12018820-c86f-4a6d-8aa6-faa4d5cc25de\">\n",
              "    <div class=\"colab-df-container\">\n",
              "      <div>\n",
              "<style scoped>\n",
              "    .dataframe tbody tr th:only-of-type {\n",
              "        vertical-align: middle;\n",
              "    }\n",
              "\n",
              "    .dataframe tbody tr th {\n",
              "        vertical-align: top;\n",
              "    }\n",
              "\n",
              "    .dataframe thead th {\n",
              "        text-align: right;\n",
              "    }\n",
              "</style>\n",
              "<table border=\"1\" class=\"dataframe\">\n",
              "  <thead>\n",
              "    <tr style=\"text-align: right;\">\n",
              "      <th></th>\n",
              "      <th>DayOfWeek</th>\n",
              "      <th>MonthDay</th>\n",
              "      <th>Year</th>\n",
              "      <th>Visits</th>\n",
              "    </tr>\n",
              "  </thead>\n",
              "  <tbody>\n",
              "    <tr>\n",
              "      <th>0</th>\n",
              "      <td>1</td>\n",
              "      <td>93</td>\n",
              "      <td>2009</td>\n",
              "      <td>27</td>\n",
              "    </tr>\n",
              "    <tr>\n",
              "      <th>1</th>\n",
              "      <td>5</td>\n",
              "      <td>104</td>\n",
              "      <td>2009</td>\n",
              "      <td>31</td>\n",
              "    </tr>\n",
              "    <tr>\n",
              "      <th>2</th>\n",
              "      <td>6</td>\n",
              "      <td>115</td>\n",
              "      <td>2009</td>\n",
              "      <td>38</td>\n",
              "    </tr>\n",
              "    <tr>\n",
              "      <th>3</th>\n",
              "      <td>4</td>\n",
              "      <td>117</td>\n",
              "      <td>2009</td>\n",
              "      <td>38</td>\n",
              "    </tr>\n",
              "    <tr>\n",
              "      <th>4</th>\n",
              "      <td>0</td>\n",
              "      <td>118</td>\n",
              "      <td>2009</td>\n",
              "      <td>31</td>\n",
              "    </tr>\n",
              "    <tr>\n",
              "      <th>5</th>\n",
              "      <td>2</td>\n",
              "      <td>119</td>\n",
              "      <td>2009</td>\n",
              "      <td>24</td>\n",
              "    </tr>\n",
              "    <tr>\n",
              "      <th>6</th>\n",
              "      <td>3</td>\n",
              "      <td>120</td>\n",
              "      <td>2009</td>\n",
              "      <td>21</td>\n",
              "    </tr>\n",
              "    <tr>\n",
              "      <th>7</th>\n",
              "      <td>1</td>\n",
              "      <td>121</td>\n",
              "      <td>2009</td>\n",
              "      <td>29</td>\n",
              "    </tr>\n",
              "    <tr>\n",
              "      <th>8</th>\n",
              "      <td>5</td>\n",
              "      <td>122</td>\n",
              "      <td>2009</td>\n",
              "      <td>30</td>\n",
              "    </tr>\n",
              "    <tr>\n",
              "      <th>9</th>\n",
              "      <td>6</td>\n",
              "      <td>94</td>\n",
              "      <td>2009</td>\n",
              "      <td>22</td>\n",
              "    </tr>\n",
              "  </tbody>\n",
              "</table>\n",
              "</div>\n",
              "      <button class=\"colab-df-convert\" onclick=\"convertToInteractive('df-12018820-c86f-4a6d-8aa6-faa4d5cc25de')\"\n",
              "              title=\"Convert this dataframe to an interactive table.\"\n",
              "              style=\"display:none;\">\n",
              "        \n",
              "  <svg xmlns=\"http://www.w3.org/2000/svg\" height=\"24px\"viewBox=\"0 0 24 24\"\n",
              "       width=\"24px\">\n",
              "    <path d=\"M0 0h24v24H0V0z\" fill=\"none\"/>\n",
              "    <path d=\"M18.56 5.44l.94 2.06.94-2.06 2.06-.94-2.06-.94-.94-2.06-.94 2.06-2.06.94zm-11 1L8.5 8.5l.94-2.06 2.06-.94-2.06-.94L8.5 2.5l-.94 2.06-2.06.94zm10 10l.94 2.06.94-2.06 2.06-.94-2.06-.94-.94-2.06-.94 2.06-2.06.94z\"/><path d=\"M17.41 7.96l-1.37-1.37c-.4-.4-.92-.59-1.43-.59-.52 0-1.04.2-1.43.59L10.3 9.45l-7.72 7.72c-.78.78-.78 2.05 0 2.83L4 21.41c.39.39.9.59 1.41.59.51 0 1.02-.2 1.41-.59l7.78-7.78 2.81-2.81c.8-.78.8-2.07 0-2.86zM5.41 20L4 18.59l7.72-7.72 1.47 1.35L5.41 20z\"/>\n",
              "  </svg>\n",
              "      </button>\n",
              "      \n",
              "  <style>\n",
              "    .colab-df-container {\n",
              "      display:flex;\n",
              "      flex-wrap:wrap;\n",
              "      gap: 12px;\n",
              "    }\n",
              "\n",
              "    .colab-df-convert {\n",
              "      background-color: #E8F0FE;\n",
              "      border: none;\n",
              "      border-radius: 50%;\n",
              "      cursor: pointer;\n",
              "      display: none;\n",
              "      fill: #1967D2;\n",
              "      height: 32px;\n",
              "      padding: 0 0 0 0;\n",
              "      width: 32px;\n",
              "    }\n",
              "\n",
              "    .colab-df-convert:hover {\n",
              "      background-color: #E2EBFA;\n",
              "      box-shadow: 0px 1px 2px rgba(60, 64, 67, 0.3), 0px 1px 3px 1px rgba(60, 64, 67, 0.15);\n",
              "      fill: #174EA6;\n",
              "    }\n",
              "\n",
              "    [theme=dark] .colab-df-convert {\n",
              "      background-color: #3B4455;\n",
              "      fill: #D2E3FC;\n",
              "    }\n",
              "\n",
              "    [theme=dark] .colab-df-convert:hover {\n",
              "      background-color: #434B5C;\n",
              "      box-shadow: 0px 1px 3px 1px rgba(0, 0, 0, 0.15);\n",
              "      filter: drop-shadow(0px 1px 2px rgba(0, 0, 0, 0.3));\n",
              "      fill: #FFFFFF;\n",
              "    }\n",
              "  </style>\n",
              "\n",
              "      <script>\n",
              "        const buttonEl =\n",
              "          document.querySelector('#df-12018820-c86f-4a6d-8aa6-faa4d5cc25de button.colab-df-convert');\n",
              "        buttonEl.style.display =\n",
              "          google.colab.kernel.accessAllowed ? 'block' : 'none';\n",
              "\n",
              "        async function convertToInteractive(key) {\n",
              "          const element = document.querySelector('#df-12018820-c86f-4a6d-8aa6-faa4d5cc25de');\n",
              "          const dataTable =\n",
              "            await google.colab.kernel.invokeFunction('convertToInteractive',\n",
              "                                                     [key], {});\n",
              "          if (!dataTable) return;\n",
              "\n",
              "          const docLinkHtml = 'Like what you see? Visit the ' +\n",
              "            '<a target=\"_blank\" href=https://colab.research.google.com/notebooks/data_table.ipynb>data table notebook</a>'\n",
              "            + ' to learn more about interactive tables.';\n",
              "          element.innerHTML = '';\n",
              "          dataTable['output_type'] = 'display_data';\n",
              "          await google.colab.output.renderOutput(dataTable, element);\n",
              "          const docLink = document.createElement('div');\n",
              "          docLink.innerHTML = docLinkHtml;\n",
              "          element.appendChild(docLink);\n",
              "        }\n",
              "      </script>\n",
              "    </div>\n",
              "  </div>\n",
              "  "
            ]
          },
          "metadata": {},
          "execution_count": 1
        }
      ]
    },
    {
      "cell_type": "markdown",
      "source": [
        "---\n",
        "\n",
        "👣 **DATOS DE ENTRENAMIENTO Y PRUEBA:** Un aspecto importante para la prueba de nuestro modelo será la segmentación de los datos en dos conjuntos, entrenamiento y prueba. Esta separación debemos realizarla para las variables independientes (atributos de entrada) y para las variables dependientes (variable a predecir).\n",
        "\n",
        "---\n"
      ],
      "metadata": {
        "id": "I7f-XRLl_maq"
      }
    },
    {
      "cell_type": "markdown",
      "source": [
        "🙌 **Manos a la obra !!!**"
      ],
      "metadata": {
        "id": "d94fYype8Vju"
      }
    },
    {
      "cell_type": "code",
      "source": [
        "#Definimos inicialmente nuestra variable a predecir (Visits) y la asignamos a la 'Y'\n",
        "Y = df['Visits']\n",
        "\n",
        "#Asignamos nuestras variables dependientes o predictoras a 'X', para ello asignamos todas la columnas del DF excepto la variable de salida.\n",
        "X = df.drop('Visits',axis=1)"
      ],
      "metadata": {
        "id": "yhCvwacr_6Zv"
      },
      "execution_count": 2,
      "outputs": []
    },
    {
      "cell_type": "code",
      "source": [
        "#Vamos a utilizar 'DayOfWeek' para predecir el número de visitas ('Visits') al sitio web.\n",
        "#Capturamos nuestra variable independiente (X) y nuestra variable a predecir o dependiente (Y)\n",
        "X = df[['DayOfWeek']]\n",
        "Y = df['Visits']\n",
        "\n",
        "#Importamos el método para dividir el dataframe en los conjuntos de train y validación\n",
        "from sklearn.model_selection import train_test_split\n",
        "\n",
        "#Ejecutamos el método y asignamos a nuestro conjunto de validación el 30% de los datos, quedando el conjunto de entrenamiento con el 70%\n",
        "X_Train, X_Val, Y_Train, Y_Val = train_test_split(X, Y, test_size=0.30, random_state=1)\n",
        "\n",
        "#Imprimimos el número de registros por cada conjunto creado\n",
        "print(\"Número de registros de entrenamiento:\", X_Train.shape[0])\n",
        "print(\"Número de registros de validación:\",X_Val.shape[0])"
      ],
      "metadata": {
        "colab": {
          "base_uri": "https://localhost:8080/"
        },
        "id": "WQAdwoXiAjaJ",
        "outputId": "79877c33-47c9-42f9-f8a1-413470e2063d"
      },
      "execution_count": 3,
      "outputs": [
        {
          "output_type": "stream",
          "name": "stdout",
          "text": [
            "Número de registros de entrenamiento: 149\n",
            "Número de registros de validación: 65\n"
          ]
        }
      ]
    },
    {
      "cell_type": "markdown",
      "source": [
        "---\n",
        "\n",
        "\n",
        "🖊 **NOTA:** Utilizaremos para fines de aprendizaje el método de regresión lineal en nuestro modelo.\n",
        "\n",
        "\n",
        "---\n",
        "\n"
      ],
      "metadata": {
        "id": "tQQbZXi1gq4y"
      }
    },
    {
      "cell_type": "code",
      "source": [
        "#Llamamos el modelo de regresión lineal de la librería sklearn\n",
        "from sklearn.linear_model import LinearRegression\n",
        "\n",
        "#Instanciamos el objeto de regresión a utilizar\n",
        "RL = LinearRegression()\n",
        "\n",
        "#Ajustamos nuestro modelo con los datos de entrenamiento\n",
        "RL.fit(X_Train, Y_Train)\n",
        "\n",
        "#Una vez entrenado el modelo, calculamos y comparamos el score del modelo para los datos de validación y para los datos de entrenamiento\n",
        "print(\"El score R^2 para el conjunto de entrenamiento es de\", RL.score(X_Train, Y_Train), \"y el score R^2 para pruebas es\", RL.score(X_Val, Y_Val))"
      ],
      "metadata": {
        "id": "_6NquEIHEHuF",
        "outputId": "6147f328-7992-481e-9955-d062ec364e8d",
        "colab": {
          "base_uri": "https://localhost:8080/"
        }
      },
      "execution_count": 4,
      "outputs": [
        {
          "output_type": "stream",
          "name": "stdout",
          "text": [
            "El score R^2 para el conjunto de entrenamiento es de 0.06100958692204894 y el score R^2 para pruebas es -0.01112330210802992\n"
          ]
        }
      ]
    },
    {
      "cell_type": "markdown",
      "source": [
        "\n",
        "\n",
        "---\n",
        "\n",
        "\n",
        "✍ Observamos que el R^2 para el conjunto de validación (-0.01112330210802992) es mucho menor que el del conjunto de entrenamiento (0.06100958692204894).\n",
        "\n",
        "---"
      ],
      "metadata": {
        "id": "8cKur23KGPkK"
      }
    },
    {
      "cell_type": "markdown",
      "source": [
        "☝ **Score Cross-Validation**: Esta métrica es la más efectiva para el uso de los datos, ya que cada observación dada es utilizada tanto en el conjunto de entrenamiento como en el de validación. "
      ],
      "metadata": {
        "id": "YV9Oc_Mxif8w"
      }
    },
    {
      "cell_type": "code",
      "source": [
        "#Llamamos la librería que contiene la métrica\n",
        "from sklearn.model_selection import cross_val_score\n",
        "\n",
        "#Ejecutamos la función indicándole el modelo 'RL', la variable de entrada, la variable de salida y los pliegues (Folds) que queremos usar en las iteraciones\n",
        "Score_Cross = cross_val_score(RL, X, Y, cv=4)\n",
        "\n",
        "#Imprimimos la métrica obtenida\n",
        "print(\"A continuación observaremos en el arreglo, el promedio del score R^2 por cada pliegue:\")\n",
        "Score_Cross\n",
        "\n",
        "print(\"El promedio de los pliegues es\", Score_Cross.mean(), \"y la desviación estandar fue\" , Score_Cross.std())"
      ],
      "metadata": {
        "colab": {
          "base_uri": "https://localhost:8080/"
        },
        "id": "LhahDPME5T45",
        "outputId": "078f3c1a-0e36-4df3-ed6d-6825103c128f"
      },
      "execution_count": 5,
      "outputs": [
        {
          "output_type": "stream",
          "name": "stdout",
          "text": [
            "A continuación observaremos en el arreglo, el promedio del score R^2 por cada pliegue:\n",
            "El promedio de los pliegues es -0.15417910799031376 y la desviación estandar fue 0.24613042626858647\n"
          ]
        }
      ]
    },
    {
      "cell_type": "markdown",
      "source": [
        "---\n",
        "\n",
        "\n",
        "☝ **Predict Cross-Validation**: Esta función nos permite predecir la salida, dividiendo el conjunto de datos en el número de pliegues especificado, tomando uno para validación y el resto para entrenamiento. La predicción devuelta corresponde a cada elemento obtenido en el pliegue de validación."
      ],
      "metadata": {
        "id": "hrV5kM-Ok_8v"
      }
    },
    {
      "cell_type": "code",
      "source": [
        "#Importamos el método de la librería sklearn\n",
        "from sklearn.model_selection import cross_val_predict\n",
        "\n",
        "#Ejecutamos la predicción con 4 pliegues\n",
        "Y_Pred = cross_val_predict(RL, X, Y, cv=4)\n",
        "\n",
        "print(\"Las predicciones encontradas según los datos enviados son:\", Y_Pred[0:5])"
      ],
      "metadata": {
        "id": "dzk9zE5Nk_ng",
        "outputId": "e7084dd8-3bef-4bfc-94d2-21de00527f93",
        "colab": {
          "base_uri": "https://localhost:8080/"
        }
      },
      "execution_count": 6,
      "outputs": [
        {
          "output_type": "stream",
          "name": "stdout",
          "text": [
            "Las predicciones encontradas según los datos enviados son: [20.89170301 25.15582089 26.22185036 24.08979142 19.82567353]\n"
          ]
        }
      ]
    },
    {
      "cell_type": "markdown",
      "source": [
        "---\n",
        "\n",
        "👣 **SOBRE-ENTRENAMIENTO, SUB-ENTRENAMIENTO Y SELECCIÓN DEL MODELO:** Para garantizar una adecuada selección de nuestro modelo, debemos garantizar que este no se encuentre sobre-entrenado ni sub-entrenado con los datos de validación y pruebas, en aras de que pueda estar preparado para utilizarse con data del mundo real.\n",
        "\n",
        "\n",
        "*   **Sobre-entrenamiento:** ocurre cuando el modelo se ajusta el ruido, pero no al modelo subyacente, por lo tanto, cuando probamos nuestro modelo utilizando los datos de prueba, no presentará un adecuado desempeño, ya que está modelando el ruido.\n",
        "*   **Sub-entrenamiento:** ocurre cuando el modelo no presenta un desempeño óptimo en el conjunto de datos de entrenamiento ni en el de validación.\n",
        "\n",
        "---"
      ],
      "metadata": {
        "id": "7kaFS4VGJQXn"
      }
    },
    {
      "cell_type": "markdown",
      "source": [
        "🙌 **Manos a la obra !!!**"
      ],
      "metadata": {
        "id": "dBXNCRGbLq5j"
      }
    },
    {
      "cell_type": "markdown",
      "source": [
        "---\n",
        "☝ Teniendo en cuenta que el sobre-entrenamiento se puede presentar con mayor frecuencia en modelos de regresión lineal múltiples o en regresiones polinomiales, realizaremos los ejercicios con estos modelos.\n"
      ],
      "metadata": {
        "id": "cDs8tik2nBOo"
      }
    },
    {
      "cell_type": "code",
      "source": [
        "#Utilizaremos inicialmente un modelo de regresión lineal múltiple: \n",
        "#Vamos a utilizar 'DayOfWeek' y 'MonthDay' para predecir el número de visitas ('Visits') al sitio web.\n",
        "X = df[['DayOfWeek', 'MonthDay']]\n",
        "Y = df['Visits']\n",
        "\n",
        "#Ejecutamos la partición y asignamos a nuestro conjunto de validación el 30% de los datos, quedando el conjunto de entrenamiento con el 70%\n",
        "X_Train, X_Val, Y_Train, Y_Val = train_test_split(X, Y, test_size=0.30, random_state=1)\n",
        "\n",
        "#Entrenamos el modelo con datos de entrenamiento\n",
        "RL.fit(X_Train, Y_Train)\n",
        "#Ejecutamos la predicción\n",
        "Y_Predict_Train = RL.predict(X_Train)\n",
        "print(\"Predicciones en entrenamiento:\", Y_Predict_Train[0:5])\n",
        "\n",
        "#Entrenamos el modelo con datos de validación\n",
        "RL.fit(X_Val, Y_Val)\n",
        "#Ejecutamos la predicción\n",
        "Y_Predict_Val = RL.predict(X_Val)\n",
        "print(\"Predicciones en entrenamiento:\", Y_Predict_Val[0:5])"
      ],
      "metadata": {
        "id": "KnGdnYjWMZnU",
        "colab": {
          "base_uri": "https://localhost:8080/"
        },
        "outputId": "d9776f9f-2292-40f4-abc9-8a51e63bd4a5"
      },
      "execution_count": 7,
      "outputs": [
        {
          "output_type": "stream",
          "name": "stdout",
          "text": [
            "Predicciones en entrenamiento: [19.74148663 24.01456934 19.61604564 23.4736254  21.74134263]\n",
            "Predicciones en entrenamiento: [26.26438567 18.04528902 26.78666994 27.47900448 20.96041058]\n"
          ]
        }
      ]
    },
    {
      "cell_type": "markdown",
      "source": [
        "\n",
        "---\n",
        "\n",
        "\n",
        "📊 Visualizaremos gráficamente la distribución de los valores de predicción en el conjunto de entrenamiento.\n",
        "\n",
        "\n",
        "---"
      ],
      "metadata": {
        "id": "SlyxhTxWLkgP"
      }
    },
    {
      "cell_type": "code",
      "source": [
        "import matplotlib.pyplot as plt\n",
        "%matplotlib inline\n",
        "import seaborn as sns\n",
        "\n",
        "Titulo = 'Plot de distribución de predicciones usando datos de entrenamiento versus la distribución de los datos de entrenamiento'\n",
        "\n",
        "width = 12\n",
        "height = 10\n",
        "plt.figure(figsize=(width, height))\n",
        "\n",
        "ax1 = sns.distplot(Y_Train, hist=False, color=\"r\", label=\"Actual Values (Train)\")\n",
        "ax2 = sns.distplot(Y_Predict_Train, hist=False, color=\"b\", label=\"Predicted Values (Train)\", ax=ax1)\n",
        "\n",
        "plt.title(Titulo)\n",
        "plt.xlabel('Visitas')\n",
        "plt.ylabel('Unidades de tiempo')\n",
        "\n",
        "plt.show()\n",
        "plt.close()"
      ],
      "metadata": {
        "id": "TT5QuxBlLbMU",
        "outputId": "706238f3-9d8e-41bd-c662-bfba1dbe7e3a",
        "colab": {
          "base_uri": "https://localhost:8080/",
          "height": 710
        }
      },
      "execution_count": 8,
      "outputs": [
        {
          "output_type": "stream",
          "name": "stderr",
          "text": [
            "/usr/local/lib/python3.7/dist-packages/seaborn/distributions.py:2619: FutureWarning: `distplot` is a deprecated function and will be removed in a future version. Please adapt your code to use either `displot` (a figure-level function with similar flexibility) or `kdeplot` (an axes-level function for kernel density plots).\n",
            "  warnings.warn(msg, FutureWarning)\n",
            "/usr/local/lib/python3.7/dist-packages/seaborn/distributions.py:2619: FutureWarning: `distplot` is a deprecated function and will be removed in a future version. Please adapt your code to use either `displot` (a figure-level function with similar flexibility) or `kdeplot` (an axes-level function for kernel density plots).\n",
            "  warnings.warn(msg, FutureWarning)\n"
          ]
        },
        {
          "output_type": "display_data",
          "data": {
            "text/plain": [
              "<Figure size 864x720 with 1 Axes>"
            ],
            "image/png": "[encoded data removed]"
          },
          "metadata": {
            "needs_background": "light"
          }
        }
      ]
    },
    {
      "cell_type": "markdown",
      "source": [
        "---\n",
        "\n",
        "👓 Comparemos ahora con la gráfica para los datos de validación:\n",
        "\n",
        "---\n"
      ],
      "metadata": {
        "id": "JNzoLXos8B0i"
      }
    },
    {
      "cell_type": "code",
      "source": [
        "Titulo = 'Plot de distribución de predicciones usando datos de validación versus la distribución de los datos de validación'\n",
        "\n",
        "width = 12\n",
        "height = 10\n",
        "plt.figure(figsize=(width, height))\n",
        "\n",
        "ax1 = sns.distplot(Y_Val, hist=False, color=\"r\", label=\"Actual Values (Validación)\")\n",
        "ax2 = sns.distplot(Y_Predict_Val, hist=False, color=\"b\", label=\"Predicted Values (Validación)\", ax=ax1)\n",
        "\n",
        "plt.title(Titulo)\n",
        "plt.xlabel('Visitas')\n",
        "plt.ylabel('Unidades de tiempo')\n",
        "\n",
        "plt.show()\n",
        "plt.close()"
      ],
      "metadata": {
        "id": "OGCEypUrqlbv",
        "outputId": "6cadf91f-f0e0-492f-d374-3c980b5bc51f",
        "colab": {
          "base_uri": "https://localhost:8080/",
          "height": 710
        }
      },
      "execution_count": 9,
      "outputs": [
        {
          "output_type": "stream",
          "name": "stderr",
          "text": [
            "/usr/local/lib/python3.7/dist-packages/seaborn/distributions.py:2619: FutureWarning: `distplot` is a deprecated function and will be removed in a future version. Please adapt your code to use either `displot` (a figure-level function with similar flexibility) or `kdeplot` (an axes-level function for kernel density plots).\n",
            "  warnings.warn(msg, FutureWarning)\n",
            "/usr/local/lib/python3.7/dist-packages/seaborn/distributions.py:2619: FutureWarning: `distplot` is a deprecated function and will be removed in a future version. Please adapt your code to use either `displot` (a figure-level function with similar flexibility) or `kdeplot` (an axes-level function for kernel density plots).\n",
            "  warnings.warn(msg, FutureWarning)\n"
          ]
        },
        {
          "output_type": "display_data",
          "data": {
            "text/plain": [
              "<Figure size 864x720 with 1 Axes>"
            ],
            "image/png": "[encoded data removed]"
          },
          "metadata": {
            "needs_background": "light"
          }
        }
      ]
    },
    {
      "cell_type": "markdown",
      "source": [
        "\n",
        "\n",
        "---\n",
        "✍ Podemos observar que las predicciones de nuestro modelo difieren mucho de los datos reales tanto en el conjunto de entrenamiento como en el conjunto de validación, lo cual nos indica que el modelo se encuentra subentrenado. Sabemos que una de las técnicas utilizadas para que nuestro modelo se ajuste a los datos existentes y genere una mejor predicción, es el uso de un modelo de regresión polinomial. A continuación haremos uso de este modelo de grado 5.\n",
        "\n",
        "\n",
        "---\n",
        "\n"
      ],
      "metadata": {
        "id": "uPEYuLlms-vH"
      }
    },
    {
      "cell_type": "code",
      "source": [
        "#Utilizaremos ahora un modelo de regresión polinomial: \n",
        "#Importamos la librería requerida\n",
        "from sklearn.preprocessing import PolynomialFeatures\n",
        "\n",
        "#Capturamos nuestra variable independiente (X) y nuestra variable a predecir o dependiente (Y)\n",
        "X = df[['DayOfWeek']]\n",
        "Y = df['Visits']\n",
        "\n",
        "#Ejecutamos el split y asignamos a nuestro conjunto de validación el 45% de los datos, quedando el conjunto de entrenamiento con el 55%\n",
        "X_Train, X_Val, Y_Train, Y_Val = train_test_split(X, Y, test_size=0.45, random_state=1)"
      ],
      "metadata": {
        "id": "NVVLW9c29M6Z"
      },
      "execution_count": 10,
      "outputs": []
    },
    {
      "cell_type": "code",
      "source": [
        "#Instanciamos nuestro objeto polinomial grado 5\n",
        "Pol = PolynomialFeatures(degree=5)\n",
        "#Aplicamos el polinomio a los datos para el conjunto de entrenamiento\n",
        "X_Train_Pol = Pol.fit_transform(X_Train)\n",
        "#Aplicamos el polinomio a los datos para el conjunto de validación\n",
        "X_Val_Pol = Pol.fit_transform(X_Val)\n",
        "\n",
        "#Creamos ahora nuestro modelo de regresión lineal polinomial y lo entrenamos\n",
        "Pol_Mod = LinearRegression()\n",
        "Pol_Mod.fit(X_Train_Pol, Y_Train)\n",
        "#Realizamos la predicción para el conjunto de validación\n",
        "Y_Pred_Pol = Pol_Mod.predict(X_Val_Pol)\n",
        "\n",
        "print(\"Valores de predicción:\", Y_Pred_Pol[0:5])\n",
        "print(\"Valores reales:\", Y_Val[0:5].values)"
      ],
      "metadata": {
        "colab": {
          "base_uri": "https://localhost:8080/"
        },
        "id": "-CPeJDVyA5V8",
        "outputId": "6f123245-660f-4c26-bc5b-5c846f65af1a"
      },
      "execution_count": 23,
      "outputs": [
        {
          "output_type": "stream",
          "name": "stdout",
          "text": [
            "Valores de predicción: [25.10803305 25.10803305 25.84842615 27.46945521 27.46945521]\n",
            "Valores reales: [44 13 23 24 27]\n"
          ]
        }
      ]
    },
    {
      "cell_type": "markdown",
      "source": [
        "---\n",
        "\n",
        "👓 Analicemos el ajuste realizado graficando el plot de distribución nuevamente:\n",
        "\n",
        "---"
      ],
      "metadata": {
        "id": "ieExQOwrvTv5"
      }
    },
    {
      "cell_type": "code",
      "source": [
        "Titulo = 'Plot de distribución de predicciones usando un polinomio grado 5 con los datos de validación versus la distribución de los datos de validación'\n",
        "\n",
        "width = 12\n",
        "height = 10\n",
        "plt.figure(figsize=(width, height))\n",
        "\n",
        "ax1 = sns.distplot(Y_Val, hist=False, color=\"r\", label=\"Actual Values (Validación)\")\n",
        "ax2 = sns.distplot(Y_Pred_Pol, hist=False, color=\"b\", label=\"Predicted Values (Validación)\", ax=ax1)\n",
        "\n",
        "plt.title(Titulo)\n",
        "plt.xlabel('Visitas')\n",
        "plt.ylabel('Unidades de tiempo')\n",
        "\n",
        "plt.show()\n",
        "plt.close()"
      ],
      "metadata": {
        "id": "tp8ZBrrCu44o",
        "outputId": "429bee78-a82b-425b-bc4a-8e5db95df714",
        "colab": {
          "base_uri": "https://localhost:8080/",
          "height": 710
        }
      },
      "execution_count": 27,
      "outputs": [
        {
          "output_type": "stream",
          "name": "stderr",
          "text": [
            "/usr/local/lib/python3.7/dist-packages/seaborn/distributions.py:2619: FutureWarning: `distplot` is a deprecated function and will be removed in a future version. Please adapt your code to use either `displot` (a figure-level function with similar flexibility) or `kdeplot` (an axes-level function for kernel density plots).\n",
            "  warnings.warn(msg, FutureWarning)\n",
            "/usr/local/lib/python3.7/dist-packages/seaborn/distributions.py:2619: FutureWarning: `distplot` is a deprecated function and will be removed in a future version. Please adapt your code to use either `displot` (a figure-level function with similar flexibility) or `kdeplot` (an axes-level function for kernel density plots).\n",
            "  warnings.warn(msg, FutureWarning)\n"
          ]
        },
        {
          "output_type": "display_data",
          "data": {
            "text/plain": [
              "<Figure size 864x720 with 1 Axes>"
            ],
            "image/png": "[encoded data removed]"
          },
          "metadata": {
            "needs_background": "light"
          }
        }
      ]
    },
    {
      "cell_type": "markdown",
      "source": [
        "---\n",
        "\n",
        "✍ Observamos que el modelo trató de adaptarse un poco más a los valores reales, sin embargo, aún notamos un subentrenamiento, probablemente debamos replantear los datos existentes, normalizándolos o verificando la correlación, de tal forma que podamos garantizar una mejor predicción del modelo.\n",
        "\n",
        "---"
      ],
      "metadata": {
        "id": "JCKErh_WvhSd"
      }
    },
    {
      "cell_type": "code",
      "source": [
        "#Validamos con un plot como cambian los datos de prueba para los diferentes ordenes polinomiales\n",
        "Rsqu_test = []\n",
        "\n",
        "order = [1, 2, 3, 4]\n",
        "for n in order:\n",
        "    pr = PolynomialFeatures(degree=n)\n",
        "    \n",
        "    X_Train_Pol = pr.fit_transform(X_Train)\n",
        "    \n",
        "    X_Val_Pol = pr.fit_transform(X_Val)    \n",
        "    \n",
        "    RL.fit(X_Train_Pol, Y_Train)\n",
        "    \n",
        "    Rsqu_test.append(RL.score(X_Val_Pol, Y_Val))\n",
        "\n",
        "plt.plot(order, Rsqu_test)\n",
        "plt.xlabel('order')\n",
        "plt.ylabel('R^2')\n",
        "plt.title('R^2 Using Test Data')"
      ],
      "metadata": {
        "id": "E-PstDym49bP",
        "outputId": "b701eac4-fdc3-43db-8332-bb246e699468",
        "colab": {
          "base_uri": "https://localhost:8080/",
          "height": 312
        }
      },
      "execution_count": 44,
      "outputs": [
        {
          "output_type": "execute_result",
          "data": {
            "text/plain": [
              "Text(0.5, 1.0, 'R^2 Using Test Data')"
            ]
          },
          "metadata": {},
          "execution_count": 44
        },
        {
          "output_type": "display_data",
          "data": {
            "text/plain": [
              "<Figure size 432x288 with 1 Axes>"
            ],
            "image/png": "[encoded data removed]"
          },
          "metadata": {
            "needs_background": "light"
          }
        }
      ]
    },
    {
      "cell_type": "markdown",
      "source": [
        "---\n",
        "\n",
        "👣 **REGRESIÓN RIDGE:** Sabemos que nuestro modelo se encuentra sub-entrenado, sin embargo, para fines académicos evaluaremos a continuación el modelo **Ridge** que nos permite ajustar las predicciones cuando detectamos sobre-entrenamiento en nuestro modelo.\n",
        "\n",
        "\n",
        "---"
      ],
      "metadata": {
        "id": "hLaYFtlC5MnK"
      }
    },
    {
      "cell_type": "code",
      "source": [
        "#Utilizaremos ahora un modelo polinomial grado 2 para este ejercicio\n",
        "Pol=PolynomialFeatures(degree=2)\n",
        "x_train_pr=Pol.fit_transform(X_Train)\n",
        "x_test_pr=Pol.fit_transform(X_Val)"
      ],
      "metadata": {
        "id": "fAy8Vteuv_60"
      },
      "execution_count": 41,
      "outputs": []
    },
    {
      "cell_type": "code",
      "source": [
        "#Importamos la librería\n",
        "from sklearn.linear_model import Ridge\n",
        "\n",
        "#Instanciamos el objeto Ridge enviándole un alpha de 1\n",
        "Modelo_Ridge=Ridge(alpha=1)\n",
        "\n",
        "#Ajustamos el modelo\n",
        "Modelo_Ridge.fit(x_train_pr, Y_Train)\n",
        "\n",
        "#Realizamos la predicción del modelo Ridge con nuestro set de pruebas\n",
        "YPred = Modelo_Ridge.predict(x_test_pr)\n",
        "\n",
        "#Imprimimos las predicciones para comparar\n",
        "print('Predicciones:', YPred[0:4])\n",
        "print('Datos de prueba:', Y_Val[0:4].values)"
      ],
      "metadata": {
        "id": "rYSfno64yHof",
        "outputId": "7a4545ea-7875-44fd-8a19-f0c257f4701a",
        "colab": {
          "base_uri": "https://localhost:8080/"
        }
      },
      "execution_count": 42,
      "outputs": [
        {
          "output_type": "stream",
          "name": "stdout",
          "text": [
            "Predicciones: [22.46282864 22.46282864 24.86187282 28.44349227]\n",
            "Datos de prueba: [44 13 23 24]\n"
          ]
        }
      ]
    },
    {
      "cell_type": "markdown",
      "source": [
        "\n",
        "\n",
        "---\n",
        "☝ Sabemos que el parámetro **\"Alpha\"** es el que determina la disminución de los coeficientes en aras de minimizar la correlación de los atributos de entrada para una mejor generalización del modelo. Teniendo en cuenta esto, a continuación realizaremos una iteración con el fin de verificar de forma gráfica el impacto del parámetro mencionado en el desempeño del modelo."
      ],
      "metadata": {
        "id": "JKYBob7Y1HDu"
      }
    },
    {
      "cell_type": "code",
      "source": [
        "from tqdm import tqdm\n",
        "\n",
        "Rsqu_test = []\n",
        "Rsqu_train = []\n",
        "dummy1 = []\n",
        "Alpha = 10 * np.array(range(0,1000))\n",
        "pbar = tqdm(Alpha)\n",
        "\n",
        "for alpha in pbar:\n",
        "    RigeModel = Ridge(alpha=alpha) \n",
        "    RigeModel.fit(x_train_pr, Y_Train)\n",
        "    test_score, train_score = RigeModel.score(x_test_pr, Y_Val), RigeModel.score(x_train_pr, Y_Train)\n",
        "    \n",
        "    pbar.set_postfix({\"Test Score\": test_score, \"Train Score\": train_score})\n",
        "\n",
        "    Rsqu_test.append(test_score)\n",
        "    Rsqu_train.append(train_score)\n",
        "\n",
        "width = 12\n",
        "height = 10\n",
        "plt.figure(figsize=(width, height))\n",
        "\n",
        "plt.plot(Alpha,Rsqu_test, label='validation data  ')\n",
        "plt.plot(Alpha,Rsqu_train, 'r', label='training Data ')\n",
        "plt.xlabel('alpha')\n",
        "plt.ylabel('R^2')\n",
        "plt.legend()"
      ],
      "metadata": {
        "id": "yd0FwmxO0stD",
        "outputId": "8e1c1516-707c-4efc-d871-3f49c6a86859",
        "colab": {
          "base_uri": "https://localhost:8080/",
          "height": 641
        }
      },
      "execution_count": 43,
      "outputs": [
        {
          "output_type": "stream",
          "name": "stderr",
          "text": [
            "100%|██████████| 1000/1000 [00:06<00:00, 155.74it/s, Test Score=-.0936, Train Score=0.0479]\n"
          ]
        },
        {
          "output_type": "execute_result",
          "data": {
            "text/plain": [
              "<matplotlib.legend.Legend at 0x7f985fe112d0>"
            ]
          },
          "metadata": {},
          "execution_count": 43
        },
        {
          "output_type": "display_data",
          "data": {
            "text/plain": [
              "<Figure size 864x720 with 1 Axes>"
            ],
            "image/png": "[encoded data removed]"
          },
          "metadata": {
            "needs_background": "light"
          }
        }
      ]
    },
    {
      "cell_type": "markdown",
      "source": [
        "---\n",
        "\n",
        "\n",
        "✍ Sabemos que la línea azul representa el score R^2 para los datos de validación y la línea roja el R^2 para los datos de entrenamiento, y en el eje X tenemos los diferentes valores de \"Alpha\".\n",
        "\n",
        "\n",
        "*   **Datos de entrenamiento:** A medida que Alfa aumenta decrece el score R^2, por lo tanto, el modelo presentará un desempeño bajo cuando Alfa crece.\n",
        "*   **Datos de validación:** A medida que se incremente Alpha, se incrementa también el score R^2 convergiendo a un punto final.\n",
        "\n",
        "---"
      ],
      "metadata": {
        "id": "7kotOxdh-r9a"
      }
    },
    {
      "cell_type": "markdown",
      "source": [
        "---\n",
        "\n",
        "👣 **GRID SEARCH:** Ya vimos el impacto de ajustar el valor **Alpha** al momento de entrenar nuestro modelo utilizando la técnica **Ridge**, pero, ¿Cómo sabemos cuál es el mejor valor para Alpha en aras de mejorar las predicciones de nuestro modelo? Allí es donde el método **\"Grid Search\"** juega un papel crucial, ya que a través de las iteraciones, este método nos permitirá identificar el mejor hiperparámetro para nuestro modelo.\n",
        "\n",
        "---"
      ],
      "metadata": {
        "id": "1rDT5p1X5cme"
      }
    },
    {
      "cell_type": "code",
      "source": [
        "#Importamos el método de la librería respectiva\n",
        "from sklearn.model_selection import GridSearchCV\n",
        "\n",
        "#Creamos un diccionario con los posibles valores para Alpha\n",
        "Dic_Alpha= [{'alpha': [0.001,0.1,1, 10, 100, 1000, 10000, 100000, 100000]}]\n",
        "Dic_Alpha\n",
        "\n",
        "#Instanciamos nuestro modelo Ridge\n",
        "Modelo_Ridge=Ridge()\n",
        "\n",
        "#Instanciamos nuestro método grid search enviándole el modelo a utilizar, el diccionario con los posibles valores para Alpha y 4 folds\n",
        "Grid_Ridge = GridSearchCV(Modelo_Ridge, Dic_Alpha, cv=4)\n",
        "\n",
        "#Ajustamos el grid con nuestros datos y capturamos los mejores hiperparámetros del grid ejecutado\n",
        "Grid_Ridge.fit(X, Y)\n",
        "Mejor_Ridge=Grid_Ridge.best_estimator_\n",
        "\n",
        "#Imprimimos nuestras métricas\n",
        "print(\"El mejor valor para Alpha según el grid es:\", Mejor_Ridge)\n",
        "print(\"El mejor score para nuestros datos de validación es:\", Mejor_Ridge.score(X_Val, Y_Val))"
      ],
      "metadata": {
        "id": "KKliJ2J5dRH6",
        "outputId": "0cf56962-4e9d-46db-b65a-40402b4e6cac",
        "colab": {
          "base_uri": "https://localhost:8080/"
        }
      },
      "execution_count": 46,
      "outputs": [
        {
          "output_type": "stream",
          "name": "stdout",
          "text": [
            "El mejor valor para Alpha según el grid es: Ridge(alpha=100)\n",
            "El mejor score para nuestros datos de validación es: 0.014981181966420065\n"
          ]
        }
      ]
    },
    {
      "cell_type": "markdown",
      "source": [
        "---\n",
        "\n",
        "\n",
        "🖊 **Conclusión:** La selección del mejor modelo conlleva una serie de prerrequisitos que van desde la adecuada separación de los datos de entrenamiento y prueba, hasta la correcta identificación de los hiperparámetros requeridos para obtener un buen desempeño del modelo. En cada prerrequisito existirán técnicas y métodos que permitirán sacar el mejor provecho a los atributos existentes en el conjunto de datos y con el apoyo de las herramientas gráficas se nos facilitará el análisis y la decisión de cuál será el camino a seguir en búsqueda del modelo ideal para la obtención de las predicciones esperadas.\n",
        "\n",
        "\n",
        "---\n",
        "\n"
      ],
      "metadata": {
        "id": "9n0d1QeI8TW9"
      }
    }
  ]
}