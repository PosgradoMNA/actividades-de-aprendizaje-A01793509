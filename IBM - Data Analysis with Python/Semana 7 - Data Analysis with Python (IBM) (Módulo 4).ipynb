{
  "nbformat": 4,
  "nbformat_minor": 0,
  "metadata": {
    "colab": {
      "name": "assignment01.ipynb",
      "provenance": [],
      "include_colab_link": true
    },
    "kernelspec": {
      "name": "python3",
      "display_name": "Python 3"
    },
    "language_info": {
      "name": "python"
    }
  },
  "cells": [
    {
      "cell_type": "markdown",
      "metadata": {
        "id": "view-in-github",
        "colab_type": "text"
      },
      "source": [
        "<a href=\"https://colab.research.google.com/github/PosgradoMNA/actividades-de-aprendizaje-A01793509/blob/main/IBM%20-%20Data%20Analysis%20with%20Python/Semana%207%20-%20Data%20Analysis%20with%20Python%20(IBM)%20(M%C3%B3dulo%204).ipynb\" target=\"_parent\"><img src=\"https://colab.research.google.com/assets/colab-badge.svg\" alt=\"Open In Colab\"/></a>"
      ]
    },
    {
      "cell_type": "markdown",
      "source": [
        "\n",
        "---\n",
        "\n",
        "📅 Semana 7\n",
        "\n",
        "🚀 Curso: Data Analysis with Python (IBM: DA0101EN)\n",
        "\n",
        "📖 Módulo 4\n",
        "\n",
        "Alberto José García Porras (**A01793509**)\n",
        "\n",
        "\n",
        "---"
      ],
      "metadata": {
        "id": "vG7DoVUg8CFK"
      }
    },
    {
      "cell_type": "markdown",
      "source": [
        "☝ **Desarrollo de Modelos:**\n",
        "\n",
        "\n",
        "Los modelos nos permiten entender la relación entre las variables de entrada (atributos independientes) de cara a la predicción de la variable de salida (atributo dependiente), de tal manera que podamos realizar predicciones de observaciones futuras a partir de los datos con los que contamos."
      ],
      "metadata": {
        "id": "6gsukTd9PKZV"
      }
    },
    {
      "cell_type": "markdown",
      "source": [
        "---\n",
        "\n",
        "☝ **NOTA:** Estaré trabajando con la base de datos **website-trafficcsv** que mide el tráfico de usuarios que ingresa diariamente a un sitio web universitario.\n",
        "\n",
        "---\n",
        "\n",
        "👓 Siguiendo lo aprendido en el módulo 1 utilizaremos el método **read_csv()** de la librería **Pandas** para leer los datos e introducirlos en nuestro dataframe.\n",
        "\n",
        "---"
      ],
      "metadata": {
        "id": "7NHVlyyRRKMK"
      }
    },
    {
      "cell_type": "code",
      "source": [
        "#Importamos la librería pandas y leemos el archivo website-traffic.csv\n",
        "import pandas as pd\n",
        "url = \"https://openmv.net/file/website-traffic.csv\"\n",
        "df = pd.read_csv(url)\n",
        "#Visualizamos los primeros 10 registros\n",
        "df.head(10)"
      ],
      "metadata": {
        "id": "nqZ-JYcTA9HZ",
        "colab": {
          "base_uri": "https://localhost:8080/",
          "height": 363
        },
        "outputId": "dbb96fbf-89f2-4604-bf54-3801c0a52125"
      },
      "execution_count": 1,
      "outputs": [
        {
          "output_type": "execute_result",
          "data": {
            "text/plain": [
              "   DayOfWeek MonthDay  Year  Visits\n",
              "0     Monday   June 1  2009      27\n",
              "1    Tuesday   June 2  2009      31\n",
              "2  Wednesday   June 3  2009      38\n",
              "3   Thursday   June 4  2009      38\n",
              "4     Friday   June 5  2009      31\n",
              "5   Saturday   June 6  2009      24\n",
              "6     Sunday   June 7  2009      21\n",
              "7     Monday   June 8  2009      29\n",
              "8    Tuesday   June 9  2009      30\n",
              "9  Wednesday  June 10  2009      22"
            ],
            "text/html": [
              "\n",
              "  <div id=\"df-dbed324f-6da9-413f-ae67-38ee3621542f\">\n",
              "    <div class=\"colab-df-container\">\n",
              "      <div>\n",
              "<style scoped>\n",
              "    .dataframe tbody tr th:only-of-type {\n",
              "        vertical-align: middle;\n",
              "    }\n",
              "\n",
              "    .dataframe tbody tr th {\n",
              "        vertical-align: top;\n",
              "    }\n",
              "\n",
              "    .dataframe thead th {\n",
              "        text-align: right;\n",
              "    }\n",
              "</style>\n",
              "<table border=\"1\" class=\"dataframe\">\n",
              "  <thead>\n",
              "    <tr style=\"text-align: right;\">\n",
              "      <th></th>\n",
              "      <th>DayOfWeek</th>\n",
              "      <th>MonthDay</th>\n",
              "      <th>Year</th>\n",
              "      <th>Visits</th>\n",
              "    </tr>\n",
              "  </thead>\n",
              "  <tbody>\n",
              "    <tr>\n",
              "      <th>0</th>\n",
              "      <td>Monday</td>\n",
              "      <td>June 1</td>\n",
              "      <td>2009</td>\n",
              "      <td>27</td>\n",
              "    </tr>\n",
              "    <tr>\n",
              "      <th>1</th>\n",
              "      <td>Tuesday</td>\n",
              "      <td>June 2</td>\n",
              "      <td>2009</td>\n",
              "      <td>31</td>\n",
              "    </tr>\n",
              "    <tr>\n",
              "      <th>2</th>\n",
              "      <td>Wednesday</td>\n",
              "      <td>June 3</td>\n",
              "      <td>2009</td>\n",
              "      <td>38</td>\n",
              "    </tr>\n",
              "    <tr>\n",
              "      <th>3</th>\n",
              "      <td>Thursday</td>\n",
              "      <td>June 4</td>\n",
              "      <td>2009</td>\n",
              "      <td>38</td>\n",
              "    </tr>\n",
              "    <tr>\n",
              "      <th>4</th>\n",
              "      <td>Friday</td>\n",
              "      <td>June 5</td>\n",
              "      <td>2009</td>\n",
              "      <td>31</td>\n",
              "    </tr>\n",
              "    <tr>\n",
              "      <th>5</th>\n",
              "      <td>Saturday</td>\n",
              "      <td>June 6</td>\n",
              "      <td>2009</td>\n",
              "      <td>24</td>\n",
              "    </tr>\n",
              "    <tr>\n",
              "      <th>6</th>\n",
              "      <td>Sunday</td>\n",
              "      <td>June 7</td>\n",
              "      <td>2009</td>\n",
              "      <td>21</td>\n",
              "    </tr>\n",
              "    <tr>\n",
              "      <th>7</th>\n",
              "      <td>Monday</td>\n",
              "      <td>June 8</td>\n",
              "      <td>2009</td>\n",
              "      <td>29</td>\n",
              "    </tr>\n",
              "    <tr>\n",
              "      <th>8</th>\n",
              "      <td>Tuesday</td>\n",
              "      <td>June 9</td>\n",
              "      <td>2009</td>\n",
              "      <td>30</td>\n",
              "    </tr>\n",
              "    <tr>\n",
              "      <th>9</th>\n",
              "      <td>Wednesday</td>\n",
              "      <td>June 10</td>\n",
              "      <td>2009</td>\n",
              "      <td>22</td>\n",
              "    </tr>\n",
              "  </tbody>\n",
              "</table>\n",
              "</div>\n",
              "      <button class=\"colab-df-convert\" onclick=\"convertToInteractive('df-dbed324f-6da9-413f-ae67-38ee3621542f')\"\n",
              "              title=\"Convert this dataframe to an interactive table.\"\n",
              "              style=\"display:none;\">\n",
              "        \n",
              "  <svg xmlns=\"http://www.w3.org/2000/svg\" height=\"24px\"viewBox=\"0 0 24 24\"\n",
              "       width=\"24px\">\n",
              "    <path d=\"M0 0h24v24H0V0z\" fill=\"none\"/>\n",
              "    <path d=\"M18.56 5.44l.94 2.06.94-2.06 2.06-.94-2.06-.94-.94-2.06-.94 2.06-2.06.94zm-11 1L8.5 8.5l.94-2.06 2.06-.94-2.06-.94L8.5 2.5l-.94 2.06-2.06.94zm10 10l.94 2.06.94-2.06 2.06-.94-2.06-.94-.94-2.06-.94 2.06-2.06.94z\"/><path d=\"M17.41 7.96l-1.37-1.37c-.4-.4-.92-.59-1.43-.59-.52 0-1.04.2-1.43.59L10.3 9.45l-7.72 7.72c-.78.78-.78 2.05 0 2.83L4 21.41c.39.39.9.59 1.41.59.51 0 1.02-.2 1.41-.59l7.78-7.78 2.81-2.81c.8-.78.8-2.07 0-2.86zM5.41 20L4 18.59l7.72-7.72 1.47 1.35L5.41 20z\"/>\n",
              "  </svg>\n",
              "      </button>\n",
              "      \n",
              "  <style>\n",
              "    .colab-df-container {\n",
              "      display:flex;\n",
              "      flex-wrap:wrap;\n",
              "      gap: 12px;\n",
              "    }\n",
              "\n",
              "    .colab-df-convert {\n",
              "      background-color: #E8F0FE;\n",
              "      border: none;\n",
              "      border-radius: 50%;\n",
              "      cursor: pointer;\n",
              "      display: none;\n",
              "      fill: #1967D2;\n",
              "      height: 32px;\n",
              "      padding: 0 0 0 0;\n",
              "      width: 32px;\n",
              "    }\n",
              "\n",
              "    .colab-df-convert:hover {\n",
              "      background-color: #E2EBFA;\n",
              "      box-shadow: 0px 1px 2px rgba(60, 64, 67, 0.3), 0px 1px 3px 1px rgba(60, 64, 67, 0.15);\n",
              "      fill: #174EA6;\n",
              "    }\n",
              "\n",
              "    [theme=dark] .colab-df-convert {\n",
              "      background-color: #3B4455;\n",
              "      fill: #D2E3FC;\n",
              "    }\n",
              "\n",
              "    [theme=dark] .colab-df-convert:hover {\n",
              "      background-color: #434B5C;\n",
              "      box-shadow: 0px 1px 3px 1px rgba(0, 0, 0, 0.15);\n",
              "      filter: drop-shadow(0px 1px 2px rgba(0, 0, 0, 0.3));\n",
              "      fill: #FFFFFF;\n",
              "    }\n",
              "  </style>\n",
              "\n",
              "      <script>\n",
              "        const buttonEl =\n",
              "          document.querySelector('#df-dbed324f-6da9-413f-ae67-38ee3621542f button.colab-df-convert');\n",
              "        buttonEl.style.display =\n",
              "          google.colab.kernel.accessAllowed ? 'block' : 'none';\n",
              "\n",
              "        async function convertToInteractive(key) {\n",
              "          const element = document.querySelector('#df-dbed324f-6da9-413f-ae67-38ee3621542f');\n",
              "          const dataTable =\n",
              "            await google.colab.kernel.invokeFunction('convertToInteractive',\n",
              "                                                     [key], {});\n",
              "          if (!dataTable) return;\n",
              "\n",
              "          const docLinkHtml = 'Like what you see? Visit the ' +\n",
              "            '<a target=\"_blank\" href=https://colab.research.google.com/notebooks/data_table.ipynb>data table notebook</a>'\n",
              "            + ' to learn more about interactive tables.';\n",
              "          element.innerHTML = '';\n",
              "          dataTable['output_type'] = 'display_data';\n",
              "          await google.colab.output.renderOutput(dataTable, element);\n",
              "          const docLink = document.createElement('div');\n",
              "          docLink.innerHTML = docLinkHtml;\n",
              "          element.appendChild(docLink);\n",
              "        }\n",
              "      </script>\n",
              "    </div>\n",
              "  </div>\n",
              "  "
            ]
          },
          "metadata": {},
          "execution_count": 1
        }
      ]
    },
    {
      "cell_type": "markdown",
      "source": [
        "---\n",
        "\n",
        "\n",
        "\n",
        "☝**PARA TENER EN CUENTA:** Convertiremos los datos categóricos de la variable de entrada a numéricos con el fin de que podamos trabajar mejor nuestro ejercicio.\n",
        "\n",
        "---\n"
      ],
      "metadata": {
        "id": "vCV9MvJW9se7"
      }
    },
    {
      "cell_type": "code",
      "source": [
        "#Convertimos las dos variables de entrada que utilizaremos para nuestro ejercicio\n",
        "df.DayOfWeek = pd.Categorical(df.DayOfWeek)\n",
        "df['DayOfWeek'] = df.DayOfWeek.cat.codes\n",
        "\n",
        "df.MonthDay = pd.Categorical(df.MonthDay)\n",
        "df['MonthDay'] = df.MonthDay.cat.codes\n",
        "\n",
        "print(df.head(10))"
      ],
      "metadata": {
        "id": "0iLvvgO39qAq",
        "outputId": "1e9ad66e-4b22-4003-e8f2-47ac92592570",
        "colab": {
          "base_uri": "https://localhost:8080/"
        }
      },
      "execution_count": 2,
      "outputs": [
        {
          "output_type": "stream",
          "name": "stdout",
          "text": [
            "   DayOfWeek  MonthDay  Year  Visits\n",
            "0          1        93  2009      27\n",
            "1          5       104  2009      31\n",
            "2          6       115  2009      38\n",
            "3          4       117  2009      38\n",
            "4          0       118  2009      31\n",
            "5          2       119  2009      24\n",
            "6          3       120  2009      21\n",
            "7          1       121  2009      29\n",
            "8          5       122  2009      30\n",
            "9          6        94  2009      22\n"
          ]
        }
      ]
    },
    {
      "cell_type": "markdown",
      "source": [
        "---\n",
        "\n",
        "👣 **REGRESIÓN LINEAL SIMPLE:** Este método nos permite entender la relación entre dos variables, una de entrada llamada independiente (X) y otra de salida llamada dependiente o variable a predecir (Y). El resultado obtenido con este método será una función lineal que predice la respuesta (Y) en función de la variable predictora (X).\n",
        "Su fórmula se expresa de la siguiente manera:\n",
        "***Y^ = a + bX***\n",
        "*   La variable **a** es igual a la intercepción de la regresión lineal o el valor de Y cuando X es igual a 0.\n",
        "*   La variable **b** es igual a la pendiente de la regresión lineal o el valor con el que Y cambia cuando se incrementa 1 unidad en X.\n",
        "\n",
        "\n",
        "\n",
        "\n",
        "\n",
        "---\n"
      ],
      "metadata": {
        "id": "I7f-XRLl_maq"
      }
    },
    {
      "cell_type": "markdown",
      "source": [
        "🙌 **Manos a la obra !!!**"
      ],
      "metadata": {
        "id": "d94fYype8Vju"
      }
    },
    {
      "cell_type": "code",
      "source": [
        "#Importamos el método de regresión lineal de la librería sklearn\n",
        "from sklearn.linear_model import LinearRegression\n",
        "\n",
        "#Asignamos a la variable LR el objeto del modelo a utilizar\n",
        "LR = LinearRegression()"
      ],
      "metadata": {
        "id": "yhCvwacr_6Zv"
      },
      "execution_count": 3,
      "outputs": []
    },
    {
      "cell_type": "code",
      "source": [
        "#Vamos a utilizar 'DayOfWeek' para predecir el número de visitas ('Visits') al sitio web.\n",
        "#Capturamos nuestra variable independiente (X) y nuestra variable a predecir o dependiente (Y)\n",
        "X = df[['DayOfWeek']]\n",
        "Y = df['Visits']\n",
        "\n",
        "#Ajustamos el modelo de regresión lineal simple para las variables X y Y\n",
        "LR.fit(X, Y)"
      ],
      "metadata": {
        "colab": {
          "base_uri": "https://localhost:8080/"
        },
        "id": "WQAdwoXiAjaJ",
        "outputId": "de34cf79-29b1-447b-ae6f-2bf445bf385d"
      },
      "execution_count": 4,
      "outputs": [
        {
          "output_type": "execute_result",
          "data": {
            "text/plain": [
              "LinearRegression()"
            ]
          },
          "metadata": {},
          "execution_count": 4
        }
      ]
    },
    {
      "cell_type": "code",
      "source": [
        "#Obtenemos la variable dependiente (Y)\n",
        "Ypred=LR.predict(X)\n",
        "Ypred[0:7]  "
      ],
      "metadata": {
        "id": "_6NquEIHEHuF",
        "outputId": "1c811c45-ba47-4468-baa4-f96f43599dce",
        "colab": {
          "base_uri": "https://localhost:8080/"
        }
      },
      "execution_count": 52,
      "outputs": [
        {
          "output_type": "execute_result",
          "data": {
            "text/plain": [
              "array([20.27109523, 24.15985098, 25.13203991, 23.18766204, 19.29890629,\n",
              "       21.24328417, 22.2154731 ])"
            ]
          },
          "metadata": {},
          "execution_count": 52
        }
      ]
    },
    {
      "cell_type": "markdown",
      "source": [
        "\n",
        "\n",
        "---\n",
        "\n",
        "\n",
        "✍Ahora validamos la intercepción (**a**) y la pendiente (**b**) para validar nuestro modelo de regresión lineal según la formula indicada en la parte superior.\n",
        "\n",
        "\n",
        "---"
      ],
      "metadata": {
        "id": "8cKur23KGPkK"
      }
    },
    {
      "cell_type": "code",
      "source": [
        "print(\"Nuestra intercepción (a) es: \", LR.intercept_)\n",
        "print(\"Nuestra pendiente (b) es: \", LR.coef_)\n",
        "print(\"Nuestro modelo LR es:\")\n",
        "print(LR.intercept_ + (LR.coef_ * + df['DayOfWeek']))"
      ],
      "metadata": {
        "colab": {
          "base_uri": "https://localhost:8080/"
        },
        "id": "LhahDPME5T45",
        "outputId": "e5365521-e461-4479-a024-a5f69af81614"
      },
      "execution_count": 6,
      "outputs": [
        {
          "output_type": "stream",
          "name": "stdout",
          "text": [
            "Nuestra intercepción (a) es:  19.298906294254778\n",
            "Nuestra pendiente (b) es:  [0.97218894]\n",
            "Nuestro modelo LR es:\n",
            "0      20.271095\n",
            "1      24.159851\n",
            "2      25.132040\n",
            "3      23.187662\n",
            "4      19.298906\n",
            "         ...    \n",
            "209    22.215473\n",
            "210    20.271095\n",
            "211    24.159851\n",
            "212    25.132040\n",
            "213    23.187662\n",
            "Name: DayOfWeek, Length: 214, dtype: float64\n"
          ]
        }
      ]
    },
    {
      "cell_type": "markdown",
      "source": [
        "---\n",
        "\n",
        "👣 **REGRESIÓN LINEAL MÚLTIPLE:** Este método es similar al anterior, la diferencia es que nos permite entender la relación entre una variable dependiente a predecir (Y) y diferentes variables independientes (X1, X2, X3, etc).El resultado obtenido con este método será una función lineal que predice la respuesta (Y) en función de la variable predictora (X).\n",
        "Su fórmula se expresa de la siguiente manera:\n",
        "\n",
        "***Y^ = a + b1X1 + b2X2 + b3X3 + b4X4***\n",
        "*   La variable **a** es igual a la intercepción de la regresión lineal o el valor de Y cuando X es igual a 0.\n",
        "*   La variable **b** es igual a la pendiente de la regresión lineal o el valor con el que Y cambia cuando se incrementa 1 unidad en X.\n",
        "\n",
        "\n",
        "\n",
        "\n",
        "\n",
        "---\n",
        "\n"
      ],
      "metadata": {
        "id": "7kaFS4VGJQXn"
      }
    },
    {
      "cell_type": "markdown",
      "source": [
        "🙌 **Manos a la obra !!!**"
      ],
      "metadata": {
        "id": "dBXNCRGbLq5j"
      }
    },
    {
      "cell_type": "code",
      "source": [
        "#Vamos a utilizar 'DayOfWeek' y 'MonthDay' para predecir el número de visitas ('Visits') al sitio web.\n",
        "#Capturamos nuestras variables independientes (X) y nuestra variable a predecir o dependiente (Y)\n",
        "Xmr = df[['DayOfWeek', 'MonthDay']]\n",
        "Y = df['Visits']\n",
        "\n",
        "#Ajustamos el modelo de regresión lineal simple para las variables X y Y\n",
        "LR.fit(Xmr, Y)"
      ],
      "metadata": {
        "id": "KnGdnYjWMZnU",
        "colab": {
          "base_uri": "https://localhost:8080/"
        },
        "outputId": "9d113af9-247f-4dd0-8ac9-8fc0f72d519b"
      },
      "execution_count": 7,
      "outputs": [
        {
          "output_type": "execute_result",
          "data": {
            "text/plain": [
              "LinearRegression()"
            ]
          },
          "metadata": {},
          "execution_count": 7
        }
      ]
    },
    {
      "cell_type": "markdown",
      "source": [
        "\n",
        "---\n",
        "\n",
        "\n",
        "✍Ahora validamos la intercepción (**a**) y la pendiente (**b**) para identificar las variables de nuestro modelo de regresión lineal múltiple según la formula indicada en la parte superior.\n",
        "\n",
        "\n",
        "---"
      ],
      "metadata": {
        "id": "SlyxhTxWLkgP"
      }
    },
    {
      "cell_type": "code",
      "source": [
        "print(\"Nuestra intercepción (a) es: \", LR.intercept_)\n",
        "print(\"Nuestra pendiente (b) es: \", LR.coef_)"
      ],
      "metadata": {
        "id": "TT5QuxBlLbMU",
        "outputId": "2d5dcf37-64ea-4d56-81a3-f9bb0ed4f463",
        "colab": {
          "base_uri": "https://localhost:8080/"
        }
      },
      "execution_count": 8,
      "outputs": [
        {
          "output_type": "stream",
          "name": "stdout",
          "text": [
            "Nuestra intercepción (a) es:  14.598158221009173\n",
            "Nuestra pendiente (b) es:  [0.96930251 0.04422029]\n"
          ]
        }
      ]
    },
    {
      "cell_type": "markdown",
      "source": [
        "---\n",
        "\n",
        "👣 **EVALUAR MODELOS UTILIZANDO HERRAMIENTAS DE VISUALIZACIÓN:** Este mecanismo facilita la visualización en los resultados del modelo, de tal forma que podamos realizar el afinamiento requerido con el fin de mejorar progresivamente el desempeño del modelo.\n",
        "\n",
        "\n",
        "\n",
        "\n",
        "\n",
        "---\n"
      ],
      "metadata": {
        "id": "JNzoLXos8B0i"
      }
    },
    {
      "cell_type": "markdown",
      "source": [
        "**📊 Plot de Regresión:** Esta herramienta mostrará una combinación de puntos de datos dispersos y la línea de regresión lineal ajustada a través de los datos. De esta forma, obtendremos una estimación razonable de la relación existente entre dos variables, así como también si la corelación es fuerte y la dirección de dicha correlación (positiva o negativa)."
      ],
      "metadata": {
        "id": "SHqnQAjwM_1T"
      }
    },
    {
      "cell_type": "code",
      "source": [
        "#Primero cargamos las librerias requeridas para este tipo de graficación\n",
        "import matplotlib.pyplot as plt\n",
        "import seaborn as sns\n",
        "import numpy as np\n",
        "%matplotlib inline "
      ],
      "metadata": {
        "id": "NVVLW9c29M6Z"
      },
      "execution_count": 22,
      "outputs": []
    },
    {
      "cell_type": "code",
      "source": [
        "#Generamos el plot de regresión lineal para la variable 'DayOfWeek'.\n",
        "width = 12\n",
        "height = 10\n",
        "plt.figure(figsize=(width, height))\n",
        "sns.regplot(x=\"DayOfWeek\", y=\"Visits\", data=df)\n",
        "plt.ylim(0,)"
      ],
      "metadata": {
        "colab": {
          "base_uri": "https://localhost:8080/",
          "height": 625
        },
        "id": "-CPeJDVyA5V8",
        "outputId": "e06e5eff-ad9e-4adf-d457-90f83d1f7ad2"
      },
      "execution_count": 10,
      "outputs": [
        {
          "output_type": "execute_result",
          "data": {
            "text/plain": [
              "(0.0, 50.25)"
            ]
          },
          "metadata": {},
          "execution_count": 10
        },
        {
          "output_type": "display_data",
          "data": {
            "text/plain": [
              "<Figure size 864x720 with 1 Axes>"
            ],
            "image/png": "[encoded data removed]"
          },
          "metadata": {
            "needs_background": "light"
          }
        }
      ]
    },
    {
      "cell_type": "code",
      "source": [
        "#Generamos el plot de regresión lineal para la variable 'MonthDay'.\n",
        "width = 12\n",
        "height = 10\n",
        "plt.figure(figsize=(width, height))\n",
        "sns.regplot(x=\"MonthDay\", y=\"Visits\", data=df)\n",
        "plt.ylim(0,)"
      ],
      "metadata": {
        "id": "lPcLwJbUYSgH",
        "outputId": "30c0bdc6-f122-453e-ae66-2232fdbe9231",
        "colab": {
          "base_uri": "https://localhost:8080/",
          "height": 625
        }
      },
      "execution_count": 11,
      "outputs": [
        {
          "output_type": "execute_result",
          "data": {
            "text/plain": [
              "(0.0, 50.25)"
            ]
          },
          "metadata": {},
          "execution_count": 11
        },
        {
          "output_type": "display_data",
          "data": {
            "text/plain": [
              "<Figure size 864x720 with 1 Axes>"
            ],
            "image/png": "[encoded data removed]"
          },
          "metadata": {
            "needs_background": "light"
          }
        }
      ]
    },
    {
      "cell_type": "markdown",
      "source": [
        "\n",
        "\n",
        "---\n",
        "\n",
        "\n",
        "✍ Las dos gráficas muestran una correlación positiva entre las variables independientes y la dependiente, ya que a medida que aumentan los valores de 'DayOfWeek' y 'MonthDay' aumentan las visitas. Por otra parte, vemos que para 'MonthDay' los puntos de los datos están mucho más cerca de la línea de regresión que con 'DayOfWeek', lo que nos daría a entender que con esta variable ('MonthDay') funciona mejor nuestro modelo de regresión lineal para realizar las predicciones. De hecho, lo corroboraremos con la matriz de correlación a continuación.\n",
        "\n",
        "\n",
        "---\n",
        "\n"
      ],
      "metadata": {
        "id": "B_Ypr93d9hSL"
      }
    },
    {
      "cell_type": "code",
      "source": [
        "df[[\"DayOfWeek\",\"MonthDay\",\"Visits\"]].corr()"
      ],
      "metadata": {
        "colab": {
          "base_uri": "https://localhost:8080/",
          "height": 143
        },
        "id": "WfcdwogfRQRU",
        "outputId": "027fc343-69a9-4b65-b45d-c9e79df29353"
      },
      "execution_count": 12,
      "outputs": [
        {
          "output_type": "execute_result",
          "data": {
            "text/plain": [
              "           DayOfWeek  MonthDay    Visits\n",
              "DayOfWeek   1.000000  0.002116  0.234178\n",
              "MonthDay    0.002116  1.000000  0.329131\n",
              "Visits      0.234178  0.329131  1.000000"
            ],
            "text/html": [
              "\n",
              "  <div id=\"df-50b15f7c-62c7-4169-bb9d-95d3e99dc6e6\">\n",
              "    <div class=\"colab-df-container\">\n",
              "      <div>\n",
              "<style scoped>\n",
              "    .dataframe tbody tr th:only-of-type {\n",
              "        vertical-align: middle;\n",
              "    }\n",
              "\n",
              "    .dataframe tbody tr th {\n",
              "        vertical-align: top;\n",
              "    }\n",
              "\n",
              "    .dataframe thead th {\n",
              "        text-align: right;\n",
              "    }\n",
              "</style>\n",
              "<table border=\"1\" class=\"dataframe\">\n",
              "  <thead>\n",
              "    <tr style=\"text-align: right;\">\n",
              "      <th></th>\n",
              "      <th>DayOfWeek</th>\n",
              "      <th>MonthDay</th>\n",
              "      <th>Visits</th>\n",
              "    </tr>\n",
              "  </thead>\n",
              "  <tbody>\n",
              "    <tr>\n",
              "      <th>DayOfWeek</th>\n",
              "      <td>1.000000</td>\n",
              "      <td>0.002116</td>\n",
              "      <td>0.234178</td>\n",
              "    </tr>\n",
              "    <tr>\n",
              "      <th>MonthDay</th>\n",
              "      <td>0.002116</td>\n",
              "      <td>1.000000</td>\n",
              "      <td>0.329131</td>\n",
              "    </tr>\n",
              "    <tr>\n",
              "      <th>Visits</th>\n",
              "      <td>0.234178</td>\n",
              "      <td>0.329131</td>\n",
              "      <td>1.000000</td>\n",
              "    </tr>\n",
              "  </tbody>\n",
              "</table>\n",
              "</div>\n",
              "      <button class=\"colab-df-convert\" onclick=\"convertToInteractive('df-50b15f7c-62c7-4169-bb9d-95d3e99dc6e6')\"\n",
              "              title=\"Convert this dataframe to an interactive table.\"\n",
              "              style=\"display:none;\">\n",
              "        \n",
              "  <svg xmlns=\"http://www.w3.org/2000/svg\" height=\"24px\"viewBox=\"0 0 24 24\"\n",
              "       width=\"24px\">\n",
              "    <path d=\"M0 0h24v24H0V0z\" fill=\"none\"/>\n",
              "    <path d=\"M18.56 5.44l.94 2.06.94-2.06 2.06-.94-2.06-.94-.94-2.06-.94 2.06-2.06.94zm-11 1L8.5 8.5l.94-2.06 2.06-.94-2.06-.94L8.5 2.5l-.94 2.06-2.06.94zm10 10l.94 2.06.94-2.06 2.06-.94-2.06-.94-.94-2.06-.94 2.06-2.06.94z\"/><path d=\"M17.41 7.96l-1.37-1.37c-.4-.4-.92-.59-1.43-.59-.52 0-1.04.2-1.43.59L10.3 9.45l-7.72 7.72c-.78.78-.78 2.05 0 2.83L4 21.41c.39.39.9.59 1.41.59.51 0 1.02-.2 1.41-.59l7.78-7.78 2.81-2.81c.8-.78.8-2.07 0-2.86zM5.41 20L4 18.59l7.72-7.72 1.47 1.35L5.41 20z\"/>\n",
              "  </svg>\n",
              "      </button>\n",
              "      \n",
              "  <style>\n",
              "    .colab-df-container {\n",
              "      display:flex;\n",
              "      flex-wrap:wrap;\n",
              "      gap: 12px;\n",
              "    }\n",
              "\n",
              "    .colab-df-convert {\n",
              "      background-color: #E8F0FE;\n",
              "      border: none;\n",
              "      border-radius: 50%;\n",
              "      cursor: pointer;\n",
              "      display: none;\n",
              "      fill: #1967D2;\n",
              "      height: 32px;\n",
              "      padding: 0 0 0 0;\n",
              "      width: 32px;\n",
              "    }\n",
              "\n",
              "    .colab-df-convert:hover {\n",
              "      background-color: #E2EBFA;\n",
              "      box-shadow: 0px 1px 2px rgba(60, 64, 67, 0.3), 0px 1px 3px 1px rgba(60, 64, 67, 0.15);\n",
              "      fill: #174EA6;\n",
              "    }\n",
              "\n",
              "    [theme=dark] .colab-df-convert {\n",
              "      background-color: #3B4455;\n",
              "      fill: #D2E3FC;\n",
              "    }\n",
              "\n",
              "    [theme=dark] .colab-df-convert:hover {\n",
              "      background-color: #434B5C;\n",
              "      box-shadow: 0px 1px 3px 1px rgba(0, 0, 0, 0.15);\n",
              "      filter: drop-shadow(0px 1px 2px rgba(0, 0, 0, 0.3));\n",
              "      fill: #FFFFFF;\n",
              "    }\n",
              "  </style>\n",
              "\n",
              "      <script>\n",
              "        const buttonEl =\n",
              "          document.querySelector('#df-50b15f7c-62c7-4169-bb9d-95d3e99dc6e6 button.colab-df-convert');\n",
              "        buttonEl.style.display =\n",
              "          google.colab.kernel.accessAllowed ? 'block' : 'none';\n",
              "\n",
              "        async function convertToInteractive(key) {\n",
              "          const element = document.querySelector('#df-50b15f7c-62c7-4169-bb9d-95d3e99dc6e6');\n",
              "          const dataTable =\n",
              "            await google.colab.kernel.invokeFunction('convertToInteractive',\n",
              "                                                     [key], {});\n",
              "          if (!dataTable) return;\n",
              "\n",
              "          const docLinkHtml = 'Like what you see? Visit the ' +\n",
              "            '<a target=\"_blank\" href=https://colab.research.google.com/notebooks/data_table.ipynb>data table notebook</a>'\n",
              "            + ' to learn more about interactive tables.';\n",
              "          element.innerHTML = '';\n",
              "          dataTable['output_type'] = 'display_data';\n",
              "          await google.colab.output.renderOutput(dataTable, element);\n",
              "          const docLink = document.createElement('div');\n",
              "          docLink.innerHTML = docLinkHtml;\n",
              "          element.appendChild(docLink);\n",
              "        }\n",
              "      </script>\n",
              "    </div>\n",
              "  </div>\n",
              "  "
            ]
          },
          "metadata": {},
          "execution_count": 12
        }
      ]
    },
    {
      "cell_type": "markdown",
      "source": [
        "---\n",
        "\n",
        "\n",
        "ℹ Tal como lo mostraron los plot de regresión la variable '**MonthDay**' muestra una mayor correlación con la variable a predecir '**Visits**':\n",
        "\n",
        "*   Correlación 'MonthDay' - 'Visits': **0.329131**\n",
        "*   Correlación 'DayOfWeek' - 'Visits': **0.234178**\n",
        "\n",
        "\n",
        "---"
      ],
      "metadata": {
        "id": "7kotOxdh-r9a"
      }
    },
    {
      "cell_type": "markdown",
      "source": [
        "**📊 Plot Residual:** El residuo es la diferencia entre el valor observado (y) y la variable a predecir (y^), o en otra palabras, es la distancia entre el punto del dato y la linea de regresión ajustada. Por lo tanto, esta herramienta nos mostrará los residuos en el eje vertical Y y las variables independientes en el eje X."
      ],
      "metadata": {
        "id": "li4Y-2ssb-KO"
      }
    },
    {
      "cell_type": "code",
      "source": [
        "#Generamos el plot residual para la variable 'DayOfWeek'.\n",
        "width = 12\n",
        "height = 10\n",
        "plt.figure(figsize=(width, height))\n",
        "sns.residplot(x=df['DayOfWeek'],y=df['Visits'])\n",
        "plt.show()"
      ],
      "metadata": {
        "id": "1f4TnDD9bwbE",
        "outputId": "4d7ba1f6-dc93-4e6c-e509-f4173ab71bc7",
        "colab": {
          "base_uri": "https://localhost:8080/",
          "height": 606
        }
      },
      "execution_count": 13,
      "outputs": [
        {
          "output_type": "display_data",
          "data": {
            "text/plain": [
              "<Figure size 864x720 with 1 Axes>"
            ],
            "image/png": "[encoded data removed]"
          },
          "metadata": {
            "needs_background": "light"
          }
        }
      ]
    },
    {
      "cell_type": "code",
      "source": [
        "#Generamos el plot residual para la variable 'MonthDay'.\n",
        "width = 12\n",
        "height = 10\n",
        "plt.figure(figsize=(width, height))\n",
        "sns.residplot(x=df['MonthDay'],y=df['Visits'])\n",
        "plt.show()"
      ],
      "metadata": {
        "id": "KKliJ2J5dRH6",
        "outputId": "8951cffc-e01b-4c4d-abc8-81579761ca76",
        "colab": {
          "base_uri": "https://localhost:8080/",
          "height": 606
        }
      },
      "execution_count": 14,
      "outputs": [
        {
          "output_type": "display_data",
          "data": {
            "text/plain": [
              "<Figure size 864x720 with 1 Axes>"
            ],
            "image/png": "[encoded data removed]"
          },
          "metadata": {
            "needs_background": "light"
          }
        }
      ]
    },
    {
      "cell_type": "markdown",
      "source": [
        "\n",
        "\n",
        "---\n",
        "\n",
        "\n",
        "✍ Teniendo en cuenta que en este tipo de gráficos, cuando los puntos se encuentran esparcidos aleatoriamente alrededor del eje X se considerará un buen modelo, observamos que con la variable 'MonthDay' obtenemos mejores resultados y nos podría servir un modelo de regresión lineal, caso contrario al mostrado con la variable 'DayOfWeek'.\n",
        "\n",
        "\n",
        "---"
      ],
      "metadata": {
        "id": "3Nq_pv7kYJBc"
      }
    },
    {
      "cell_type": "markdown",
      "source": [
        "**📊 Plot de Distribución:** Cuando queremos visualizar la gráfica para regresión múltiple, esta herramienta es la adecuada, ya que nos muestra la distribución de los valores ajustados que resultan del modelo y nos permite compararlos con la distribución de los valores actuales."
      ],
      "metadata": {
        "id": "aGqhGof4eJNe"
      }
    },
    {
      "cell_type": "code",
      "source": [
        "Ypred=LR.predict(Xmr)\n",
        "\n",
        "plt.figure(figsize=(width, height))\n",
        "\n",
        "\n",
        "ax1 = sns.distplot(df['Visits'], hist=False, color=\"r\", label=\"Actual Value\")\n",
        "sns.distplot(Ypred, hist=False, color=\"b\", label=\"Fitted Values\" , ax=ax1)\n",
        "\n",
        "\n",
        "plt.title('Actual vs Valores Ajustados Visitas')\n",
        "plt.xlabel('Visitas (tráfico)')\n",
        "plt.ylabel('Días Meses')\n",
        "\n",
        "plt.show()\n",
        "plt.close()"
      ],
      "metadata": {
        "id": "PJFTqdtvUI9i",
        "colab": {
          "base_uri": "https://localhost:8080/",
          "height": 713
        },
        "outputId": "3e2951bc-87ec-4606-816d-a54ca82d7881"
      },
      "execution_count": 18,
      "outputs": [
        {
          "output_type": "stream",
          "name": "stderr",
          "text": [
            "/usr/local/lib/python3.7/dist-packages/seaborn/distributions.py:2619: FutureWarning: `distplot` is a deprecated function and will be removed in a future version. Please adapt your code to use either `displot` (a figure-level function with similar flexibility) or `kdeplot` (an axes-level function for kernel density plots).\n",
            "  warnings.warn(msg, FutureWarning)\n",
            "/usr/local/lib/python3.7/dist-packages/seaborn/distributions.py:2619: FutureWarning: `distplot` is a deprecated function and will be removed in a future version. Please adapt your code to use either `displot` (a figure-level function with similar flexibility) or `kdeplot` (an axes-level function for kernel density plots).\n",
            "  warnings.warn(msg, FutureWarning)\n"
          ]
        },
        {
          "output_type": "display_data",
          "data": {
            "text/plain": [
              "<Figure size 864x720 with 1 Axes>"
            ],
            "image/png": "[encoded data removed]"
          },
          "metadata": {
            "needs_background": "light"
          }
        }
      ]
    },
    {
      "cell_type": "markdown",
      "source": [
        "---\n",
        "\n",
        "👣 **REGRESIÓN POLINOMIAL:** Este es un caso particular de los modelos de regresión lineal simple o múltiple, en el cual obtenemos relaciones no lineales con el cuadrado o con el ajuste en términos de alto valor de las variables predictoras.\n",
        "\n",
        "\n",
        "\n",
        "\n",
        "---"
      ],
      "metadata": {
        "id": "-l3_VmsGCPRY"
      }
    },
    {
      "cell_type": "code",
      "source": [
        "def PlotPolly(model, independent_variable, dependent_variabble, Name):\n",
        "    x_new = np.linspace(15, 55, 100)\n",
        "    y_new = model(x_new)\n",
        "\n",
        "    plt.plot(independent_variable, dependent_variabble, '.', x_new, y_new, '-')\n",
        "    plt.title('Ajuste Polinomial con Matplotlib para Visitas ~ Días')\n",
        "    ax = plt.gca()\n",
        "    ax.set_facecolor((0.898, 0.898, 0.898))\n",
        "    fig = plt.gcf()\n",
        "    plt.xlabel(Name)\n",
        "    plt.ylabel('Visitas (tráfico)')\n",
        "\n",
        "    plt.show()\n",
        "    plt.close()"
      ],
      "metadata": {
        "id": "8vflW0eqP3TG"
      },
      "execution_count": 19,
      "outputs": []
    },
    {
      "cell_type": "code",
      "source": [
        "x = df['DayOfWeek']\n",
        "y = df['Visits']\n",
        "\n",
        "f = np.polyfit(x, y, 3)\n",
        "p = np.poly1d(f)\n",
        "print(p)\n",
        "\n",
        "PlotPolly(p, x, y, 'DayOfWeek')"
      ],
      "metadata": {
        "colab": {
          "base_uri": "https://localhost:8080/",
          "height": 331
        },
        "id": "7MDSdmwTD0US",
        "outputId": "ffa53404-f1d1-497b-b387-7241821f8609"
      },
      "execution_count": 26,
      "outputs": [
        {
          "output_type": "stream",
          "name": "stdout",
          "text": [
            "          3         2\n",
            "-0.07954 x + 1.308 x - 4.182 x + 22.76\n"
          ]
        },
        {
          "output_type": "display_data",
          "data": {
            "text/plain": [
              "<Figure size 432x288 with 1 Axes>"
            ],
            "image/png": "[encoded data removed]"
          },
          "metadata": {
            "needs_background": "light"
          }
        }
      ]
    },
    {
      "cell_type": "markdown",
      "source": [
        "---\n",
        "\n",
        "👣 **PIPELINE:** Es una herramienta que nos permite simplificar los pasos que ejecutaremos para el procesamiento de los datos.\n",
        "\n",
        "\n",
        "\n",
        "\n",
        "---"
      ],
      "metadata": {
        "id": "9tblzWKQWgoo"
      }
    },
    {
      "cell_type": "code",
      "source": [
        "#Importamos las librerías\n",
        "from sklearn.pipeline import Pipeline\n",
        "from sklearn.preprocessing import StandardScaler\n",
        "from sklearn.preprocessing import PolynomialFeatures"
      ],
      "metadata": {
        "id": "8MhN3wZXWAW0"
      },
      "execution_count": 28,
      "outputs": []
    },
    {
      "cell_type": "code",
      "source": [
        "#El pipeline se declara utilizando Tuples que incluyen el nombre del modelo o estimador y su función constructora.\n",
        "Entrada =[('scale',StandardScaler()), ('polynomial', PolynomialFeatures(include_bias=False)), ('model',LinearRegression())]\n",
        "\n",
        "Mi_Pipe=Pipeline(Entrada)\n",
        "print(\"Así se ve nuestro pipeline:\", Mi_Pipe)"
      ],
      "metadata": {
        "id": "ven5dSoMWxZ8",
        "outputId": "1d625d6e-7991-4d94-fcd6-2d22ede18058",
        "colab": {
          "base_uri": "https://localhost:8080/"
        }
      },
      "execution_count": 29,
      "outputs": [
        {
          "output_type": "stream",
          "name": "stdout",
          "text": [
            "Así se ve nuestro pipeline: Pipeline(steps=[('scale', StandardScaler()),\n",
            "                ('polynomial', PolynomialFeatures(include_bias=False)),\n",
            "                ('model', LinearRegression())])\n"
          ]
        }
      ]
    },
    {
      "cell_type": "code",
      "source": [
        "#Aplicamos el pipeline\n",
        "Xmr = Xmr.astype(float)\n",
        "Mi_Pipe.fit(Xmr,Y)"
      ],
      "metadata": {
        "id": "WHK6bSjSXO6d",
        "outputId": "27cb97c2-dd8e-4481-989b-5edb7be1bfa7",
        "colab": {
          "base_uri": "https://localhost:8080/"
        }
      },
      "execution_count": 31,
      "outputs": [
        {
          "output_type": "execute_result",
          "data": {
            "text/plain": [
              "Pipeline(steps=[('scale', StandardScaler()),\n",
              "                ('polynomial', PolynomialFeatures(include_bias=False)),\n",
              "                ('model', LinearRegression())])"
            ]
          },
          "metadata": {},
          "execution_count": 31
        }
      ]
    },
    {
      "cell_type": "code",
      "source": [
        "#Ahora vamos a normalizar los datos, ejecutar la transformación y realizar la predicción.\n",
        "yPipe=Mi_Pipe.predict(Xmr)\n",
        "yPipe[0:4]"
      ],
      "metadata": {
        "id": "VQVrYEQlXex9",
        "outputId": "ab2a87e4-4a94-4618-a9f7-e1656c4d614e",
        "colab": {
          "base_uri": "https://localhost:8080/"
        }
      },
      "execution_count": 33,
      "outputs": [
        {
          "output_type": "execute_result",
          "data": {
            "text/plain": [
              "array([18.17776965, 22.62151018, 26.80144885, 20.45079146])"
            ]
          },
          "metadata": {},
          "execution_count": 33
        }
      ]
    },
    {
      "cell_type": "markdown",
      "source": [
        "---\n",
        "\n",
        "👣 **MEDIDAS PARA EVALUACIÓN IN-SAMPLE:** Estas herramientas nos permiten analizar los resultados en términos cuantitativos para evaluar el desempeño del modelo. Las medidas más importantes son:\n",
        "\n",
        "*   **R^2 / R-squared**: Indica cuan cerca está la data de la línea de regresión ajustada.\n",
        "*   **Mean Squared Error (MSE)**: Mide el promedio de los cuadrados de los errores.\n",
        "\n",
        "\n",
        "\n",
        "---"
      ],
      "metadata": {
        "id": "lkpUifouX6Km"
      }
    },
    {
      "cell_type": "markdown",
      "source": [
        "---\n",
        "\n",
        "\n",
        "✍ **Medidas para Regresión Lineal Simple**\n",
        "\n",
        "\n",
        "---"
      ],
      "metadata": {
        "id": "O8zwiIqOZgy1"
      }
    },
    {
      "cell_type": "code",
      "source": [
        "#Fit de DayOfWeek\n",
        "LR.fit(X, Y)\n",
        "#Encontramos R^2\n",
        "print('El R-square es: ', LR.score(X, Y))\n",
        "\n",
        "Yhat=LR.predict(X)\n",
        "print('El resultado de los primeros cuatro valores de predicción son: ', Yhat[0:4])"
      ],
      "metadata": {
        "id": "utdMUOpXXpDm",
        "outputId": "69a325fd-9037-4756-e89d-8275d65b32c5",
        "colab": {
          "base_uri": "https://localhost:8080/"
        }
      },
      "execution_count": 36,
      "outputs": [
        {
          "output_type": "stream",
          "name": "stdout",
          "text": [
            "El R-square es:  0.05483915519583393\n",
            "El resultado de los primeros cuatro valores de predicción son:  [20.27109523 24.15985098 25.13203991 23.18766204]\n"
          ]
        }
      ]
    },
    {
      "cell_type": "code",
      "source": [
        "#Calculamos mean squared error\n",
        "from sklearn.metrics import mean_squared_error\n",
        "\n",
        "mse = mean_squared_error(df['Visits'], Yhat)\n",
        "print('El mean square error de las visitas y el valor de predicción es: ', mse)"
      ],
      "metadata": {
        "id": "ng9YXIrrYpWY",
        "outputId": "9f40ea20-8f08-4748-a572-e4fedac0edb0",
        "colab": {
          "base_uri": "https://localhost:8080/"
        }
      },
      "execution_count": 37,
      "outputs": [
        {
          "output_type": "stream",
          "name": "stdout",
          "text": [
            "El mean square error de las visitas y el valor de predicción es:  65.30583449886821\n"
          ]
        }
      ]
    },
    {
      "cell_type": "markdown",
      "source": [
        "---\n",
        "\n",
        "\n",
        "✍ **Medidas para Regresión Lineal Múltiple**\n",
        "\n",
        "\n",
        "---"
      ],
      "metadata": {
        "id": "uqliUrinZowg"
      }
    },
    {
      "cell_type": "code",
      "source": [
        "#Fit de DayOfWeek y DayOfMonth\n",
        "LR.fit(Xmr, Y)\n",
        "#Encontramos R^2\n",
        "print('El R-square es: ', LR.score(Xmr, Y))\n",
        "\n",
        "Yhat=LR.predict(Xmr)\n",
        "print('El resultado de los primeros cuatro valores de predicción son: ', Yhat[0:4])"
      ],
      "metadata": {
        "id": "sbTtJivhZYYK",
        "outputId": "05d4f9c0-fa8f-49b4-b686-ac2096d85622",
        "colab": {
          "base_uri": "https://localhost:8080/"
        }
      },
      "execution_count": 38,
      "outputs": [
        {
          "output_type": "stream",
          "name": "stdout",
          "text": [
            "El R-square es:  0.16284117088165273\n",
            "El resultado de los primeros cuatro valores de predicción son:  [19.67994806 24.04358135 25.49930709 23.64914265]\n"
          ]
        }
      ]
    },
    {
      "cell_type": "markdown",
      "source": [
        "---\n",
        "\n",
        "\n",
        "✍ **Medidas para Ajuste Polinomial**\n",
        "\n",
        "\n",
        "---"
      ],
      "metadata": {
        "id": "NyiOcNsLZ8KU"
      }
    },
    {
      "cell_type": "code",
      "source": [
        "#Calculamos r_squared, aplicando la función r2_score para obtener R^2 de los datos y posteriomente el MSE\n",
        "from sklearn.metrics import r2_score\n",
        "r_squared = r2_score(Y, p(X))\n",
        "print('El valor R-square es: ', r_squared)\n",
        "print('El MSE es: ', mean_squared_error(df['Visits'], p(X)))"
      ],
      "metadata": {
        "id": "gLsRpxYgZ1z5",
        "outputId": "194ca6ed-4aac-47e8-96e1-7e57faf13a7b",
        "colab": {
          "base_uri": "https://localhost:8080/"
        }
      },
      "execution_count": 43,
      "outputs": [
        {
          "output_type": "stream",
          "name": "stdout",
          "text": [
            "El valor R-square es:  0.11796682903456812\n",
            "El MSE es:  60.94403148653003\n"
          ]
        }
      ]
    },
    {
      "cell_type": "markdown",
      "source": [
        "---\n",
        "\n",
        "🔚 **PREDICCIÓN Y TOMA DE DECISIONES:** Una vez ajustado el modelo, podemos realizar predicciones y evaluarlas a través de los plots previamente explicados, asimismo, con el apoyo de las métricas o medidas del desempeño podemos tomar la mejor decisión acerca del modelo óptimo para la predicción deseada.\n",
        "\n",
        "\n",
        "\n",
        "---"
      ],
      "metadata": {
        "id": "Vx02GwRBasY9"
      }
    }
  ]
}