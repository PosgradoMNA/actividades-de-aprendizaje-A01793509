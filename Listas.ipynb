{
  "nbformat": 4,
  "nbformat_minor": 0,
  "metadata": {
    "colab": {
      "name": "assignment01.ipynb",
      "provenance": [],
      "include_colab_link": true
    },
    "kernelspec": {
      "name": "python3",
      "display_name": "Python 3"
    },
    "language_info": {
      "name": "python"
    }
  },
  "cells": [
    {
      "cell_type": "markdown",
      "metadata": {
        "id": "view-in-github",
        "colab_type": "text"
      },
      "source": [
        "<a href=\"https://colab.research.google.com/github/PosgradoMNA/actividades-de-aprendizaje-A01793509/blob/main/Listas.ipynb\" target=\"_parent\"><img src=\"https://colab.research.google.com/assets/colab-badge.svg\" alt=\"Open In Colab\"/></a>"
      ]
    },
    {
      "cell_type": "code",
      "execution_count": 3,
      "metadata": {
        "id": "LzUSMM79NR9P",
        "outputId": "15f02917-a71b-4239-df79-301ecdcdbbd3",
        "colab": {
          "base_uri": "https://localhost:8080/"
        }
      },
      "outputs": [
        {
          "output_type": "execute_result",
          "data": {
            "text/plain": [
              "['Ciencias Sociales', 4.5, 32]"
            ]
          },
          "metadata": {},
          "execution_count": 3
        }
      ],
      "source": [
        "#Crear una lista\n",
        "Lista=[\"Ciencias Sociales\", 4.5, 32]\n",
        "Lista"
      ]
    },
    {
      "cell_type": "code",
      "source": [
        "#Accediendo a sus elementos mediante el indice\n",
        "print(\"Elemento 1 de la lista: \", Lista[0])\n",
        "print(\"Elemento 2 de la lista: \", Lista[1])\n",
        "print(\"Elemento 3 de la lista: \", Lista[2])"
      ],
      "metadata": {
        "id": "mxM_WppZPMFx",
        "colab": {
          "base_uri": "https://localhost:8080/"
        },
        "outputId": "120a6dd1-b6b5-4eda-a839-66d4d738d7fe"
      },
      "execution_count": 4,
      "outputs": [
        {
          "output_type": "stream",
          "name": "stdout",
          "text": [
            "Elemento 1 de la lista:  Ciencias Sociales\n",
            "Elemento 2 de la lista:  4.5\n",
            "Elemento 3 de la lista:  32\n"
          ]
        }
      ]
    },
    {
      "cell_type": "code",
      "source": [
        "#Accediendo a sus elementos mediante el indice negativo\n",
        "print(\"Elemento 1 de la lista: \", Lista[-3])\n",
        "print(\"Elemento 2 de la lista: \", Lista[-2])\n",
        "print(\"Elemento 3 de la lista: \", Lista[-1])"
      ],
      "metadata": {
        "colab": {
          "base_uri": "https://localhost:8080/"
        },
        "id": "KQ42D953z8mT",
        "outputId": "cf207581-10f3-432f-8ba9-9370090c254c"
      },
      "execution_count": 5,
      "outputs": [
        {
          "output_type": "stream",
          "name": "stdout",
          "text": [
            "Elemento 1 de la lista:  Ciencias Sociales\n",
            "Elemento 2 de la lista:  4.5\n",
            "Elemento 3 de la lista:  32\n"
          ]
        }
      ]
    },
    {
      "cell_type": "code",
      "source": [
        "#Slicing en listas\n",
        "Lista[1:3]"
      ],
      "metadata": {
        "colab": {
          "base_uri": "https://localhost:8080/"
        },
        "id": "br_zcbDd0F7l",
        "outputId": "d9553c28-dd8e-428b-f59f-e955ecaefa7d"
      },
      "execution_count": 8,
      "outputs": [
        {
          "output_type": "execute_result",
          "data": {
            "text/plain": [
              "[4.5, 32]"
            ]
          },
          "metadata": {},
          "execution_count": 8
        }
      ]
    },
    {
      "cell_type": "code",
      "source": [
        "#Extender elementos en la lista\n",
        "Lista.extend([\"Barranquilla\",900000])\n",
        "Lista"
      ],
      "metadata": {
        "colab": {
          "base_uri": "https://localhost:8080/"
        },
        "id": "cYuzXBPC0boz",
        "outputId": "0401a3d1-fc90-40f9-c137-1a7e5c680063"
      },
      "execution_count": 9,
      "outputs": [
        {
          "output_type": "execute_result",
          "data": {
            "text/plain": [
              "['Ciencias Sociales', 4.5, 32, 'Barranquilla', 900000]"
            ]
          },
          "metadata": {},
          "execution_count": 9
        }
      ]
    },
    {
      "cell_type": "code",
      "source": [
        "#Adicionar elementos a través del append\n",
        "Lista.append([\"prueba@correo.com\", 3009890987])\n",
        "Lista"
      ],
      "metadata": {
        "colab": {
          "base_uri": "https://localhost:8080/"
        },
        "id": "CZUWjS-G0mDB",
        "outputId": "a0f3181c-8e4b-4403-ade7-ffcf91944bda"
      },
      "execution_count": 10,
      "outputs": [
        {
          "output_type": "execute_result",
          "data": {
            "text/plain": [
              "['Ciencias Sociales',\n",
              " 4.5,\n",
              " 32,\n",
              " 'Barranquilla',\n",
              " 900000,\n",
              " ['prueba@correo.com', 3009890987]]"
            ]
          },
          "metadata": {},
          "execution_count": 10
        }
      ]
    },
    {
      "cell_type": "code",
      "source": [
        "#Cambiar elementos de una lista (modificamos el correo)\n",
        "Lista[5]=\"prueba@tec.mx\"\n",
        "Lista"
      ],
      "metadata": {
        "colab": {
          "base_uri": "https://localhost:8080/"
        },
        "id": "i8Fwi3t604GP",
        "outputId": "1f617c56-f344-4493-bf12-40e0ce8e729a"
      },
      "execution_count": 11,
      "outputs": [
        {
          "output_type": "execute_result",
          "data": {
            "text/plain": [
              "['Ciencias Sociales', 4.5, 32, 'Barranquilla', 900000, 'prueba@tec.mx']"
            ]
          },
          "metadata": {},
          "execution_count": 11
        }
      ]
    },
    {
      "cell_type": "code",
      "source": [
        "#Eliminar elementos de una lista (eliminamos el número de habitantes indice 4)\n",
        "del(Lista[4])\n",
        "Lista"
      ],
      "metadata": {
        "colab": {
          "base_uri": "https://localhost:8080/"
        },
        "id": "C12lAHSD1XSn",
        "outputId": "ed594228-d6a6-4623-eabb-bb196b43c089"
      },
      "execution_count": 12,
      "outputs": [
        {
          "output_type": "execute_result",
          "data": {
            "text/plain": [
              "['Ciencias Sociales', 4.5, 32, 'Barranquilla', 'prueba@tec.mx']"
            ]
          },
          "metadata": {},
          "execution_count": 12
        }
      ]
    },
    {
      "cell_type": "code",
      "source": [
        "#Creando una lista mediante el split tomando como separador el espacio\n",
        "'Python Data Science'.split()"
      ],
      "metadata": {
        "colab": {
          "base_uri": "https://localhost:8080/"
        },
        "id": "HkrUhBrN14Z5",
        "outputId": "c383eeac-6335-49b5-9eed-1631b5f79f21"
      },
      "execution_count": 14,
      "outputs": [
        {
          "output_type": "execute_result",
          "data": {
            "text/plain": [
              "['Python', 'Data', 'Science']"
            ]
          },
          "metadata": {},
          "execution_count": 14
        }
      ]
    },
    {
      "cell_type": "code",
      "source": [
        "#Creando una lista mediante el split tomando como separador el ;\n",
        "'Barranquilla;Bogotá;Medellín;Cali;Cartagena;Bucaramanga'.split(';')"
      ],
      "metadata": {
        "colab": {
          "base_uri": "https://localhost:8080/"
        },
        "id": "3OFkuhvD2E5M",
        "outputId": "22c3c8c7-d1d2-4c29-fbeb-71168c1dc2f6"
      },
      "execution_count": 15,
      "outputs": [
        {
          "output_type": "execute_result",
          "data": {
            "text/plain": [
              "['Barranquilla', 'Bogotá', 'Medellín', 'Cali', 'Cartagena', 'Bucaramanga']"
            ]
          },
          "metadata": {},
          "execution_count": 15
        }
      ]
    },
    {
      "cell_type": "code",
      "source": [
        "#Copiar listas\n",
        "ListaCopiada = Lista\n",
        "print(\"Lista original: \", Lista)\n",
        "print(\"Lista copia: \", ListaCopiada)"
      ],
      "metadata": {
        "colab": {
          "base_uri": "https://localhost:8080/"
        },
        "id": "zOZ9l8522rze",
        "outputId": "cd938d78-48f8-4f8b-cad3-8670e5e4b075"
      },
      "execution_count": 17,
      "outputs": [
        {
          "output_type": "stream",
          "name": "stdout",
          "text": [
            "Lista original:  ['Ciencias Sociales', 4.5, 32, 'Barranquilla', 'prueba@tec.mx']\n",
            "Lista copia:  ['Ciencias Sociales', 4.5, 32, 'Barranquilla', 'prueba@tec.mx']\n"
          ]
        }
      ]
    },
    {
      "cell_type": "code",
      "source": [
        "#Entendiendo las listas referenciadas, como Lista copiada está referenciada hacia lista, si cambiamos algo en lista se afecta lista copiada\n",
        "Lista[0]=\"Matemáticas\"\n",
        "print(\"Lista copia: \", ListaCopiada)"
      ],
      "metadata": {
        "colab": {
          "base_uri": "https://localhost:8080/"
        },
        "id": "iW_4fnd93N3N",
        "outputId": "b1b960eb-dde0-4702-e6df-f8b8614fd417"
      },
      "execution_count": 18,
      "outputs": [
        {
          "output_type": "stream",
          "name": "stdout",
          "text": [
            "Lista copia:  ['Matemáticas', 4.5, 32, 'Barranquilla', 'prueba@tec.mx']\n"
          ]
        }
      ]
    },
    {
      "cell_type": "code",
      "source": [
        "#Clonar listas\n",
        "ListaClonada=Lista[:]\n",
        "ListaClonada"
      ],
      "metadata": {
        "colab": {
          "base_uri": "https://localhost:8080/"
        },
        "id": "YvYdF63W3an-",
        "outputId": "26a1fb0f-9c26-4687-a0b6-5f880f583e91"
      },
      "execution_count": 19,
      "outputs": [
        {
          "output_type": "execute_result",
          "data": {
            "text/plain": [
              "['Matemáticas', 4.5, 32, 'Barranquilla', 'prueba@tec.mx']"
            ]
          },
          "metadata": {},
          "execution_count": 19
        }
      ]
    },
    {
      "cell_type": "code",
      "source": [
        "#A diferencia de la referencia en las copias, al clonar la lista no existe alteración cuando cambio la lista original\n",
        "Lista[0]=\"Algebra Lineal\"\n",
        "ListaClonada"
      ],
      "metadata": {
        "colab": {
          "base_uri": "https://localhost:8080/"
        },
        "id": "LAl82uKp3-iL",
        "outputId": "c5f3b0c2-5062-4d04-dc75-b8122c4927c8"
      },
      "execution_count": 20,
      "outputs": [
        {
          "output_type": "execute_result",
          "data": {
            "text/plain": [
              "['Matemáticas', 4.5, 32, 'Barranquilla', 'prueba@tec.mx']"
            ]
          },
          "metadata": {},
          "execution_count": 20
        }
      ]
    }
  ]
}