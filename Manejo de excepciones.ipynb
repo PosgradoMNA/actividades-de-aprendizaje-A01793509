{
  "nbformat": 4,
  "nbformat_minor": 0,
  "metadata": {
    "colab": {
      "name": "assignment01.ipynb",
      "provenance": [],
      "include_colab_link": true
    },
    "kernelspec": {
      "name": "python3",
      "display_name": "Python 3"
    },
    "language_info": {
      "name": "python"
    }
  },
  "cells": [
    {
      "cell_type": "markdown",
      "metadata": {
        "id": "view-in-github",
        "colab_type": "text"
      },
      "source": [
        "<a href=\"https://colab.research.google.com/github/PosgradoMNA/actividades-de-aprendizaje-A01793509/blob/main/Manejo%20de%20excepciones.ipynb\" target=\"_parent\"><img src=\"https://colab.research.google.com/assets/colab-badge.svg\" alt=\"Open In Colab\"/></a>"
      ]
    },
    {
      "cell_type": "code",
      "execution_count": 42,
      "metadata": {
        "id": "LzUSMM79NR9P",
        "colab": {
          "base_uri": "https://localhost:8080/"
        },
        "outputId": "8cfc71d9-1739-4fc1-c492-cdfdd4c53499"
      },
      "outputs": [
        {
          "output_type": "stream",
          "name": "stdout",
          "text": [
            "Introduzca su contraseña numérica:1810\n",
            "Acceso concedido!\n"
          ]
        }
      ],
      "source": [
        "#Aprendiendo a utilizar try y exception\n",
        "try:\n",
        "\tPass = int(input(\"Introduzca su contraseña numérica:\"))\n",
        "\tprint(\"Acceso concedido!\")\n",
        "except:\n",
        "\tprint(\"La Contraseña debe ser numérica, intente nuevamente.\")\n"
      ]
    },
    {
      "cell_type": "code",
      "source": [
        "try:\n",
        " Valor = int(input(\"Indique el valor a repartir:\"))\n",
        " Personas = int(input(\"Indique el número de personas:\"))\n",
        " Cuota = Valor / Personas\n",
        "except ZeroDivisionError:\n",
        "\tprint(\"El número de personas debe ser mayor que cero!\")\n",
        "except ValueError:\n",
        "  print(\"El valor y el número de personas debe ser un entero mayor que cero!\")\n",
        "except:\n",
        "  print(\"Error no controlado! Comuniquese con el administrador del sistema.\")\n",
        "else:\n",
        "  print(\"Repartición ejecutada correctamente!\", Cuota)"
      ],
      "metadata": {
        "id": "yxsxJbXKmG6K",
        "outputId": "013d852c-679b-486d-ec32-b582b681b879",
        "colab": {
          "base_uri": "https://localhost:8080/"
        }
      },
      "execution_count": 68,
      "outputs": [
        {
          "output_type": "stream",
          "name": "stdout",
          "text": [
            "Indique el valor a repartir:900000.34\n",
            "El valor y el número de personas debe ser un entero mayor que cero!\n"
          ]
        }
      ]
    },
    {
      "cell_type": "code",
      "source": [
        "x = 20.56\n",
        "type(x)"
      ],
      "metadata": {
        "id": "LzVKzokXm0rF",
        "outputId": "efe46853-32c6-44a9-85b8-1a570ce95b73",
        "colab": {
          "base_uri": "https://localhost:8080/"
        }
      },
      "execution_count": 43,
      "outputs": [
        {
          "output_type": "execute_result",
          "data": {
            "text/plain": [
              "float"
            ]
          },
          "metadata": {},
          "execution_count": 43
        }
      ]
    },
    {
      "cell_type": "code",
      "source": [],
      "metadata": {
        "id": "GCfRdeM7m2nq"
      },
      "execution_count": null,
      "outputs": []
    }
  ]
}