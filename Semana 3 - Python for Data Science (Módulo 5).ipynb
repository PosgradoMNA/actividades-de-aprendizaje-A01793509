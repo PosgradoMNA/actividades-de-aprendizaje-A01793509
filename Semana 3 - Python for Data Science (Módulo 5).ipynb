{
  "nbformat": 4,
  "nbformat_minor": 0,
  "metadata": {
    "colab": {
      "name": "assignment01.ipynb",
      "provenance": [],
      "include_colab_link": true
    },
    "kernelspec": {
      "name": "python3",
      "display_name": "Python 3"
    },
    "language_info": {
      "name": "python"
    }
  },
  "cells": [
    {
      "cell_type": "markdown",
      "metadata": {
        "id": "view-in-github",
        "colab_type": "text"
      },
      "source": [
        "<a href=\"https://colab.research.google.com/github/PosgradoMNA/actividades-de-aprendizaje-A01793509/blob/main/Semana%203%20-%20Python%20for%20Data%20Science%20(M%C3%B3dulo%205).ipynb\" target=\"_parent\"><img src=\"https://colab.research.google.com/assets/colab-badge.svg\" alt=\"Open In Colab\"/></a>"
      ]
    },
    {
      "cell_type": "markdown",
      "source": [
        "🚀 Semana 3: Python for Data Science (IBM)\n",
        "\n",
        "Alberto José García Porras (**A01793509**)\n",
        "\n",
        "\n",
        "---"
      ],
      "metadata": {
        "id": "vG7DoVUg8CFK"
      }
    },
    {
      "cell_type": "code",
      "source": [
        "#Importamos la librería numpy para iniciar con el aprendizaje\n",
        "import numpy as np"
      ],
      "metadata": {
        "id": "nqZ-JYcTA9HZ"
      },
      "execution_count": 4,
      "outputs": []
    },
    {
      "cell_type": "code",
      "source": [
        "#Creamos un arreglo con numpy\n",
        "arreglo_asignaturas = np.array([\"Matemáticas\",\"Ciencias sociales\", \"Informática\", \"Geografía\"])\n",
        "arreglo_asignaturas"
      ],
      "metadata": {
        "id": "8vyYFYAf-lN-",
        "colab": {
          "base_uri": "https://localhost:8080/"
        },
        "outputId": "122b8b1a-3b1e-4801-ff14-de6f21d3cda1"
      },
      "execution_count": 5,
      "outputs": [
        {
          "output_type": "execute_result",
          "data": {
            "text/plain": [
              "array(['Matemáticas', 'Ciencias sociales', 'Informática', 'Geografía'],\n",
              "      dtype='<U17')"
            ]
          },
          "metadata": {},
          "execution_count": 5
        }
      ]
    },
    {
      "cell_type": "code",
      "source": [
        "#Visualizamos las posiciones del array a través del indice\n",
        "print(\"arreglo_asignaturas[0]:\", arreglo_asignaturas[0])\n",
        "print(\"arreglo_asignaturas[1]:\", arreglo_asignaturas[1])\n",
        "print(\"arreglo_asignaturas[2]:\", arreglo_asignaturas[2])\n",
        "print(\"arreglo_asignaturas[3]:\", arreglo_asignaturas[3])"
      ],
      "metadata": {
        "id": "Yd3TCkcv-1AU",
        "outputId": "d62cc6fb-4053-479a-aebb-ac9b5a89e216",
        "colab": {
          "base_uri": "https://localhost:8080/"
        }
      },
      "execution_count": 7,
      "outputs": [
        {
          "output_type": "stream",
          "name": "stdout",
          "text": [
            "arreglo_asignaturas[0]: Matemáticas\n",
            "arreglo_asignaturas[1]: Ciencias sociales\n",
            "arreglo_asignaturas[2]: Informática\n",
            "arreglo_asignaturas[3]: Geografía\n"
          ]
        }
      ]
    },
    {
      "cell_type": "code",
      "source": [
        "##Validamos la versión del numpy\n",
        "print(np.__version__)"
      ],
      "metadata": {
        "id": "YHOmHA1Tu3sv",
        "outputId": "c3795831-b200-459f-9f16-c0964b3f7d0b",
        "colab": {
          "base_uri": "https://localhost:8080/"
        }
      },
      "execution_count": 8,
      "outputs": [
        {
          "output_type": "stream",
          "name": "stdout",
          "text": [
            "1.21.6\n"
          ]
        }
      ]
    },
    {
      "cell_type": "code",
      "source": [
        "##Verificamos el tipo de dato del arreglo\n",
        "type(arreglo_asignaturas)"
      ],
      "metadata": {
        "id": "LqKkijRCu9bo",
        "outputId": "73f32de9-9118-49ec-e541-3a45f4fe9989",
        "colab": {
          "base_uri": "https://localhost:8080/"
        }
      },
      "execution_count": 12,
      "outputs": [
        {
          "output_type": "execute_result",
          "data": {
            "text/plain": [
              "numpy.ndarray"
            ]
          },
          "metadata": {},
          "execution_count": 12
        }
      ]
    },
    {
      "cell_type": "code",
      "source": [
        "##Validamos el tipo de dato almacenado en las celdas del array\n",
        "arreglo_asignaturas.dtype"
      ],
      "metadata": {
        "id": "h8BB8Dl0vHDt",
        "outputId": "679e76f7-65af-419e-835d-073c6612a014",
        "colab": {
          "base_uri": "https://localhost:8080/"
        }
      },
      "execution_count": 13,
      "outputs": [
        {
          "output_type": "execute_result",
          "data": {
            "text/plain": [
              "dtype('<U17')"
            ]
          },
          "metadata": {},
          "execution_count": 13
        }
      ]
    },
    {
      "cell_type": "code",
      "source": [
        "##Cambiando el valor a una de las celdas en el arreglo\n",
        "arreglo_nuevo=arreglo_asignaturas\n",
        "arreglo_nuevo\n"
      ],
      "metadata": {
        "id": "MXgHZHdvvO2m",
        "outputId": "ac722b3c-8501-48ac-f879-850aa6a7610a",
        "colab": {
          "base_uri": "https://localhost:8080/"
        }
      },
      "execution_count": 14,
      "outputs": [
        {
          "output_type": "execute_result",
          "data": {
            "text/plain": [
              "array(['Matemáticas', 'Ciencias sociales', 'Informática', 'Geografía'],\n",
              "      dtype='<U17')"
            ]
          },
          "metadata": {},
          "execution_count": 14
        }
      ]
    },
    {
      "cell_type": "code",
      "source": [
        "arreglo_nuevo[1]=\"Ciencias naturales\"\n",
        "arreglo_nuevo"
      ],
      "metadata": {
        "id": "sk2ntbCRva7_",
        "colab": {
          "base_uri": "https://localhost:8080/"
        },
        "outputId": "af0c206a-a2ee-4fc1-f7a2-36449b088020"
      },
      "execution_count": 15,
      "outputs": [
        {
          "output_type": "execute_result",
          "data": {
            "text/plain": [
              "array(['Matemáticas', 'Ciencias naturale', 'Informática', 'Geografía'],\n",
              "      dtype='<U17')"
            ]
          },
          "metadata": {},
          "execution_count": 15
        }
      ]
    },
    {
      "cell_type": "code",
      "source": [
        "##Practicando el slicing con el segundo y hasta el tercer valor del arreglo\n",
        "array_slice = arreglo_nuevo[1:3]\n",
        "array_slice"
      ],
      "metadata": {
        "id": "UhnD2dA8vfhm",
        "outputId": "34de0c1e-efdf-4fbd-f79e-107c62047e03",
        "colab": {
          "base_uri": "https://localhost:8080/"
        }
      },
      "execution_count": 17,
      "outputs": [
        {
          "output_type": "execute_result",
          "data": {
            "text/plain": [
              "array(['Ciencias naturale', 'Informática'], dtype='<U17')"
            ]
          },
          "metadata": {},
          "execution_count": 17
        }
      ]
    },
    {
      "cell_type": "code",
      "source": [
        "##Definir el slicing pero a través de pasos\n",
        "print(arreglo_nuevo[1:3:3])\n",
        "#Si no pasamos el inicio lo considera desde cero\n",
        "print(arreglo_nuevo[:4])\n",
        "#Si no pasamos el fin tomará hasta la longitud completa del arreglo\n",
        "print(arreglo_nuevo[2:])"
      ],
      "metadata": {
        "id": "9TjhuqwfvmWk",
        "outputId": "dc6aa125-5172-40f8-d2c2-1707fb752281",
        "colab": {
          "base_uri": "https://localhost:8080/"
        }
      },
      "execution_count": 29,
      "outputs": [
        {
          "output_type": "stream",
          "name": "stdout",
          "text": [
            "['Ciencias naturale']\n",
            "['Matemáticas' 'Ciencias naturale' 'Informática' 'Geografía']\n",
            "['Informática' 'Geografía']\n"
          ]
        }
      ]
    },
    {
      "cell_type": "code",
      "source": [
        "##Probar otras propiedades del array.\n",
        "print(\"Tamaño: \", arreglo_nuevo.size)\n",
        "print(\"Dimensión: \", arreglo_nuevo.ndim)\n",
        "print(\"Tamaño de arreglo en cada dimensión: \", arreglo_nuevo.shape)"
      ],
      "metadata": {
        "id": "kYzf-Wxwv8AD",
        "outputId": "4f5f5f1a-8064-49e3-b07e-325ad43d5f4e",
        "colab": {
          "base_uri": "https://localhost:8080/"
        }
      },
      "execution_count": 31,
      "outputs": [
        {
          "output_type": "stream",
          "name": "stdout",
          "text": [
            "Tamaño:  4\n",
            "Dimensión:  1\n",
            "Tamaño de arreglo en cada dimensión:  (4,)\n"
          ]
        }
      ]
    },
    {
      "cell_type": "code",
      "source": [
        "##Funciones matemáticas en el arreglo numpy\n",
        "#Creamos un arreglo con valores numéricos para hacer las pruebas\n",
        "arreglo_notas=np.array([3.4, 4.2, 5, 3.8])\n",
        "arreglo_notas"
      ],
      "metadata": {
        "id": "5rofW3KQwDPC",
        "outputId": "79d9d3cc-2cde-4120-ccaa-e390f5f4ee94",
        "colab": {
          "base_uri": "https://localhost:8080/"
        }
      },
      "execution_count": 38,
      "outputs": [
        {
          "output_type": "execute_result",
          "data": {
            "text/plain": [
              "array([3.4, 4.2, 5. , 3.8])"
            ]
          },
          "metadata": {},
          "execution_count": 38
        }
      ]
    },
    {
      "cell_type": "code",
      "source": [
        "print(\"El promedio es: \",arreglo_notas.mean())\n",
        "print(\"El máximo es: \",arreglo_notas.max())\n",
        "print(\"El minimo es: \",arreglo_notas.min())\n",
        "print(\"La desviación estandar es: \",arreglo_notas.std())"
      ],
      "metadata": {
        "colab": {
          "base_uri": "https://localhost:8080/"
        },
        "id": "6ZsRYxtL2s5F",
        "outputId": "e03837dc-e211-4304-de45-ab7b879569aa"
      },
      "execution_count": 42,
      "outputs": [
        {
          "output_type": "stream",
          "name": "stdout",
          "text": [
            "El promedio es:  4.1\n",
            "El máximo es:  5.0\n",
            "El minimo es:  3.4\n",
            "La desviación estandar es:  0.5916079783099616\n"
          ]
        }
      ]
    },
    {
      "cell_type": "code",
      "source": [
        "##Sumar arreglos\n",
        "arreglo_notas2=np.array([3.2, 1.4, 2.6, 3.2])\n",
        "print(arreglo_notas2)\n",
        "print(arreglo_notas)"
      ],
      "metadata": {
        "id": "dvoYlndLw-2w",
        "outputId": "e6985a0f-4702-43ef-e8cc-aa0845fade95",
        "colab": {
          "base_uri": "https://localhost:8080/"
        }
      },
      "execution_count": 46,
      "outputs": [
        {
          "output_type": "stream",
          "name": "stdout",
          "text": [
            "[3.2 1.4 2.6 3.2]\n",
            "[3.4 4.2 5.  3.8]\n"
          ]
        }
      ]
    },
    {
      "cell_type": "code",
      "source": [
        "notas_sumadas=np.add(arreglo_notas,arreglo_notas2)\n",
        "notas_sumadas"
      ],
      "metadata": {
        "id": "laW9YrJlxQTd",
        "outputId": "1a0dedae-dfd4-455e-ccb8-60112ddcddf7",
        "colab": {
          "base_uri": "https://localhost:8080/"
        }
      },
      "execution_count": 47,
      "outputs": [
        {
          "output_type": "execute_result",
          "data": {
            "text/plain": [
              "array([6.6, 5.6, 7.6, 7. ])"
            ]
          },
          "metadata": {},
          "execution_count": 47
        }
      ]
    },
    {
      "cell_type": "code",
      "source": [
        "##Restar arreglos para obtener los valores originales de arreglo_notas\n",
        "print(np.subtract(notas_sumadas, arreglo_notas2))"
      ],
      "metadata": {
        "id": "Way83iqTx7zl",
        "outputId": "58a3f3cf-cb47-4a13-953f-02476646b480",
        "colab": {
          "base_uri": "https://localhost:8080/"
        }
      },
      "execution_count": 49,
      "outputs": [
        {
          "output_type": "stream",
          "name": "stdout",
          "text": [
            "[3.4 4.2 5.  3.8]\n"
          ]
        }
      ]
    },
    {
      "cell_type": "code",
      "source": [
        "##Multiplicar arreglos\n",
        "print(np.multiply(arreglo_notas, arreglo_notas2))"
      ],
      "metadata": {
        "id": "X4EY1K3504Pt",
        "outputId": "d0f978e2-d7b9-42b8-d9a0-6f1e5d06a47a",
        "colab": {
          "base_uri": "https://localhost:8080/"
        }
      },
      "execution_count": 51,
      "outputs": [
        {
          "output_type": "stream",
          "name": "stdout",
          "text": [
            "[10.88  5.88 13.   12.16]\n"
          ]
        }
      ]
    },
    {
      "cell_type": "code",
      "source": [
        "#Dividir arreglos\n",
        "print(np.divide(arreglo_notas, arreglo_notas2))"
      ],
      "metadata": {
        "id": "namr6V7z3J9l",
        "outputId": "fef48af6-3c69-470d-efba-73b39d7aaf00",
        "colab": {
          "base_uri": "https://localhost:8080/"
        }
      },
      "execution_count": 53,
      "outputs": [
        {
          "output_type": "stream",
          "name": "stdout",
          "text": [
            "[1.0625     3.         1.92307692 1.1875    ]\n"
          ]
        }
      ]
    },
    {
      "cell_type": "code",
      "source": [
        "#Probando el dot\n",
        "print(np.dot(arreglo_notas, arreglo_notas2))"
      ],
      "metadata": {
        "id": "GgVQ1PCeatLM",
        "outputId": "9e770abe-446f-43dd-ebfe-702e55bf67c3",
        "colab": {
          "base_uri": "https://localhost:8080/"
        }
      },
      "execution_count": 54,
      "outputs": [
        {
          "output_type": "stream",
          "name": "stdout",
          "text": [
            "41.92\n"
          ]
        }
      ]
    },
    {
      "cell_type": "code",
      "source": [
        "#Vamos a utilizar la función adicionar constante para sumar una decima a cada nota del segundo corte\n",
        "print(\"Notas iniciales: \", arreglo_notas2)\n",
        "print(\"Notas ajustadas: \", arreglo_notas2 + 0.1)"
      ],
      "metadata": {
        "id": "5lvmlnbtbLjz",
        "outputId": "4722c6a7-5ce8-453a-a40c-8b4473062346",
        "colab": {
          "base_uri": "https://localhost:8080/"
        }
      },
      "execution_count": 57,
      "outputs": [
        {
          "output_type": "stream",
          "name": "stdout",
          "text": [
            "Notas iniciales:  [3.2 1.4 2.6 3.2]\n",
            "Notas ajustadas:  [3.3 1.5 2.7 3.3]\n"
          ]
        }
      ]
    },
    {
      "cell_type": "code",
      "source": [
        "#Obtener el valor de PI\n",
        "np.pi"
      ],
      "metadata": {
        "id": "-trXndqTdEKU",
        "outputId": "0c8dea34-8e0d-49e9-acf9-a82158ecac81",
        "colab": {
          "base_uri": "https://localhost:8080/"
        }
      },
      "execution_count": 58,
      "outputs": [
        {
          "output_type": "execute_result",
          "data": {
            "text/plain": [
              "3.141592653589793"
            ]
          },
          "metadata": {},
          "execution_count": 58
        }
      ]
    },
    {
      "cell_type": "code",
      "source": [
        "#Creamos un arreglo con base en PI\n",
        "arreglo_pi = ([1, np.pi*2, np.pi*3])\n",
        "arreglo_pi"
      ],
      "metadata": {
        "id": "ZF7qxLEocJQs",
        "outputId": "31db3992-759a-40c3-f3e0-12d41798dc7a",
        "colab": {
          "base_uri": "https://localhost:8080/"
        }
      },
      "execution_count": 61,
      "outputs": [
        {
          "output_type": "execute_result",
          "data": {
            "text/plain": [
              "[1, 6.283185307179586, 9.42477796076938]"
            ]
          },
          "metadata": {},
          "execution_count": 61
        }
      ]
    },
    {
      "cell_type": "code",
      "source": [
        "#Calcular seno de cada elemento en el arreglo\n",
        "print(np.sin(arreglo_pi))"
      ],
      "metadata": {
        "id": "K418RveOdbjo",
        "outputId": "ed924918-7063-46f7-e588-936ebcbab54c",
        "colab": {
          "base_uri": "https://localhost:8080/"
        }
      },
      "execution_count": 62,
      "outputs": [
        {
          "output_type": "stream",
          "name": "stdout",
          "text": [
            "[ 8.41470985e-01 -2.44929360e-16  3.67394040e-16]\n"
          ]
        }
      ]
    },
    {
      "cell_type": "code",
      "source": [
        "#Probemos los histogramas\n",
        "import time \n",
        "import sys\n",
        "import numpy as np \n",
        "\n",
        "import matplotlib.pyplot as plt\n",
        "%matplotlib inline "
      ],
      "metadata": {
        "id": "ytv14_Np8ijs"
      },
      "execution_count": 64,
      "outputs": []
    },
    {
      "cell_type": "code",
      "source": [
        "plt.plot(arreglo_pi, np.sin(arreglo_pi))"
      ],
      "metadata": {
        "colab": {
          "base_uri": "https://localhost:8080/",
          "height": 283
        },
        "id": "bC-xCb8O8qMS",
        "outputId": "fd04c225-bcc6-4986-c954-82d726dc8166"
      },
      "execution_count": 65,
      "outputs": [
        {
          "output_type": "execute_result",
          "data": {
            "text/plain": [
              "[<matplotlib.lines.Line2D at 0x7f46db276350>]"
            ]
          },
          "metadata": {},
          "execution_count": 65
        },
        {
          "output_type": "display_data",
          "data": {
            "text/plain": [
              "<Figure size 432x288 with 1 Axes>"
            ],
            "image/png": "[encoded data removed]"
          },
          "metadata": {
            "needs_background": "light"
          }
        }
      ]
    },
    {
      "cell_type": "code",
      "source": [
        "#Vamos a probar el linspace para crear un arreglo con base en los parámetros informados\n",
        "#Inicia en cero, llega hasta 10 y devuelve 4 elementos\n",
        "arreglo_linspace = np.linspace(0,10, num=4)\n",
        "arreglo_linspace"
      ],
      "metadata": {
        "colab": {
          "base_uri": "https://localhost:8080/"
        },
        "id": "fzstHQLH76n5",
        "outputId": "4b652ac6-cb80-4e77-da4c-9dbfce672d23"
      },
      "execution_count": 63,
      "outputs": [
        {
          "output_type": "execute_result",
          "data": {
            "text/plain": [
              "array([ 0.        ,  3.33333333,  6.66666667, 10.        ])"
            ]
          },
          "metadata": {},
          "execution_count": 63
        }
      ]
    },
    {
      "cell_type": "code",
      "source": [
        "#Iterando en arreglos de una dimensión\n",
        "A = np.array([[1,2],[3,4],[5,6],[7,8]])\n",
        "print(A)"
      ],
      "metadata": {
        "colab": {
          "base_uri": "https://localhost:8080/"
        },
        "id": "qFnQzHgC8HAx",
        "outputId": "ddb5773d-dd76-475b-d329-5743d136816b"
      },
      "execution_count": 68,
      "outputs": [
        {
          "output_type": "stream",
          "name": "stdout",
          "text": [
            "[[1 2]\n",
            " [3 4]\n",
            " [5 6]\n",
            " [7 8]]\n"
          ]
        }
      ]
    },
    {
      "cell_type": "markdown",
      "source": [
        "\n",
        "\n",
        "---\n",
        "📑**ARREGLOS EN 2 DIMENSIONES**\n",
        "\n",
        "\n",
        "---\n",
        "\n",
        "\n"
      ],
      "metadata": {
        "id": "FO0ZiDpoA8jW"
      }
    },
    {
      "cell_type": "code",
      "source": [
        "#Creamos dos listas para generar el array 2D\n",
        "Lista1 = [[100, 80, 60, 40]]\n",
        "Lista2 = [[20, 40 ,60, 80]]\n",
        "Lista3 = Lista1 + Lista2\n",
        "Lista3"
      ],
      "metadata": {
        "id": "wZG_QuEJATRs",
        "outputId": "6ebc08af-76f0-446f-d515-bc88012d3f9b",
        "colab": {
          "base_uri": "https://localhost:8080/"
        }
      },
      "execution_count": 71,
      "outputs": [
        {
          "output_type": "execute_result",
          "data": {
            "text/plain": [
              "[[100, 80, 60, 40], [20, 40, 60, 80]]"
            ]
          },
          "metadata": {},
          "execution_count": 71
        }
      ]
    },
    {
      "cell_type": "code",
      "source": [
        "#Creamos el arreglo\n",
        "Lista2d = np.array(Lista3)\n",
        "Lista2d"
      ],
      "metadata": {
        "id": "gXJ9EfSPAXd3",
        "outputId": "d4b57d39-8ee4-4e39-9116-bcf02b17aa36",
        "colab": {
          "base_uri": "https://localhost:8080/"
        }
      },
      "execution_count": 73,
      "outputs": [
        {
          "output_type": "execute_result",
          "data": {
            "text/plain": [
              "array([[100,  80,  60,  40],\n",
              "       [ 20,  40,  60,  80]])"
            ]
          },
          "metadata": {},
          "execution_count": 73
        }
      ]
    },
    {
      "cell_type": "code",
      "source": [
        "print(\"La dimensión es:\", Lista2d.ndim)\n",
        "print(\"El tamaño es:\", Lista2d.size)\n",
        "print(\"El shape es:\", Lista2d.shape)"
      ],
      "metadata": {
        "id": "ShxHVhaZB0Ja",
        "outputId": "2de2eb6a-0a65-44f0-9cae-4ffd2fa80a06",
        "colab": {
          "base_uri": "https://localhost:8080/"
        }
      },
      "execution_count": 75,
      "outputs": [
        {
          "output_type": "stream",
          "name": "stdout",
          "text": [
            "La dimensión es: 2\n",
            "El tamaño es: 8\n",
            "El shape es: (2, 4)\n"
          ]
        }
      ]
    },
    {
      "cell_type": "code",
      "source": [
        "#¿Cómo accedemos a los elementos de la matriz?\n",
        "#Debemos indicar como primer parámetro la fila y segundo la columna\n",
        "print(\"El segundo elemento de la primera fila es:\",Lista2d[0,1])\n",
        "print(\"El cuarto elemento de la segunda fila es:\",Lista2d[1,3])\n",
        "print(\"Los elementos 3 y 4 de la primera fila son:\",Lista2d[0][2:4])"
      ],
      "metadata": {
        "id": "FAYESJ_SCA_n",
        "outputId": "976ae689-eddc-4b66-c074-aff6de0aa1d8",
        "colab": {
          "base_uri": "https://localhost:8080/"
        }
      },
      "execution_count": 79,
      "outputs": [
        {
          "output_type": "stream",
          "name": "stdout",
          "text": [
            "El segundo elemento de la primera fila es: 80\n",
            "El cuarto elemento de la segunda fila es: 80\n",
            "Los elementos 3 y 4 de la primera fila son: [60 40]\n"
          ]
        }
      ]
    },
    {
      "cell_type": "code",
      "source": [
        "#Probemos las operaciones aritméticas con las matrices 2D\n",
        "#Suma\n",
        "Mat2D1=np.array([[1,4],[3,5]])\n",
        "Mat2D2=np.array([[8,7],[6,2]])\n",
        "MatSum = Mat2D1 + Mat2D2\n",
        "MatSum"
      ],
      "metadata": {
        "id": "6PjfFIulCVrc",
        "outputId": "e182efe6-c556-41b7-ae0a-13cf769ceefe",
        "colab": {
          "base_uri": "https://localhost:8080/"
        }
      },
      "execution_count": 81,
      "outputs": [
        {
          "output_type": "execute_result",
          "data": {
            "text/plain": [
              "array([[ 9, 11],\n",
              "       [ 9,  7]])"
            ]
          },
          "metadata": {},
          "execution_count": 81
        }
      ]
    },
    {
      "cell_type": "code",
      "source": [
        "#Multiplicación por una constante\n",
        "Mat2D1=np.array([[1,4],[3,5]])\n",
        "MatMul = Mat2D1 * 2\n",
        "MatMul"
      ],
      "metadata": {
        "id": "EAGjY7TxD-8E",
        "outputId": "71fe06cd-ec31-47f8-dd9d-c38492ce3d24",
        "colab": {
          "base_uri": "https://localhost:8080/"
        }
      },
      "execution_count": 82,
      "outputs": [
        {
          "output_type": "execute_result",
          "data": {
            "text/plain": [
              "array([[ 2,  8],\n",
              "       [ 6, 10]])"
            ]
          },
          "metadata": {},
          "execution_count": 82
        }
      ]
    },
    {
      "cell_type": "code",
      "source": [
        "#Multiplicación de dos arreglos\n",
        "Mat2D1=np.array([[1,4],[3,5]])\n",
        "Mat2D2=np.array([[8,7],[6,2]])\n",
        "MatMul = Mat2D1 * Mat2D2\n",
        "MatMul"
      ],
      "metadata": {
        "id": "5JZwPdV8ESg5",
        "outputId": "e413c51d-4b62-441a-c9aa-b0ba61f78fd4",
        "colab": {
          "base_uri": "https://localhost:8080/"
        }
      },
      "execution_count": 83,
      "outputs": [
        {
          "output_type": "execute_result",
          "data": {
            "text/plain": [
              "array([[ 8, 28],\n",
              "       [18, 10]])"
            ]
          },
          "metadata": {},
          "execution_count": 83
        }
      ]
    },
    {
      "cell_type": "code",
      "source": [
        "#Producto de dos arreglos\n",
        "Mat2D1=np.array([[1,4],[3,5]])\n",
        "Mat2D2=np.array([[8,7],[6,2]])\n",
        "MatDot = np.dot(Mat2D1, Mat2D2)\n",
        "MatDot"
      ],
      "metadata": {
        "id": "YIUfjH0rEePV",
        "outputId": "788b35f2-47c6-4d0b-9686-b6d0cb5a4173",
        "colab": {
          "base_uri": "https://localhost:8080/"
        }
      },
      "execution_count": 84,
      "outputs": [
        {
          "output_type": "execute_result",
          "data": {
            "text/plain": [
              "array([[32, 15],\n",
              "       [54, 31]])"
            ]
          },
          "metadata": {},
          "execution_count": 84
        }
      ]
    },
    {
      "cell_type": "code",
      "source": [
        "#Calcular el seno del dot\n",
        "np.sin(MatDot)"
      ],
      "metadata": {
        "id": "fO096mpIEqZX",
        "outputId": "5bfc16ff-1a92-4d8d-c9ed-4c44afd8fba2",
        "colab": {
          "base_uri": "https://localhost:8080/"
        }
      },
      "execution_count": 85,
      "outputs": [
        {
          "output_type": "execute_result",
          "data": {
            "text/plain": [
              "array([[ 0.55142668,  0.65028784],\n",
              "       [-0.55878905, -0.40403765]])"
            ]
          },
          "metadata": {},
          "execution_count": 85
        }
      ]
    },
    {
      "cell_type": "code",
      "source": [
        "#Transponer la matriz\n",
        "MatDot.T"
      ],
      "metadata": {
        "id": "kKDyb2WNE5DL",
        "outputId": "d44a7a1f-b93e-411c-eeef-56d19cc1779a",
        "colab": {
          "base_uri": "https://localhost:8080/"
        }
      },
      "execution_count": 86,
      "outputs": [
        {
          "output_type": "execute_result",
          "data": {
            "text/plain": [
              "array([[32, 54],\n",
              "       [15, 31]])"
            ]
          },
          "metadata": {},
          "execution_count": 86
        }
      ]
    },
    {
      "cell_type": "markdown",
      "source": [
        "\n",
        "\n",
        "---\n",
        "📑**API**\n",
        "\n",
        "\n",
        "---\n"
      ],
      "metadata": {
        "id": "0gdZdU9VFipX"
      }
    },
    {
      "cell_type": "code",
      "source": [],
      "metadata": {
        "id": "Fk5AqOTBE_68"
      },
      "execution_count": null,
      "outputs": []
    }
  ]
}