{
  "nbformat": 4,
  "nbformat_minor": 0,
  "metadata": {
    "colab": {
      "name": "assignment01.ipynb",
      "provenance": [],
      "include_colab_link": true
    },
    "kernelspec": {
      "name": "python3",
      "display_name": "Python 3"
    },
    "language_info": {
      "name": "python"
    }
  },
  "cells": [
    {
      "cell_type": "markdown",
      "metadata": {
        "id": "view-in-github",
        "colab_type": "text"
      },
      "source": [
        "<a href=\"https://colab.research.google.com/github/PosgradoMNA/actividades-de-aprendizaje-A01793509/blob/main/Sets.ipynb\" target=\"_parent\"><img src=\"https://colab.research.google.com/assets/colab-badge.svg\" alt=\"Open In Colab\"/></a>"
      ]
    },
    {
      "cell_type": "code",
      "execution_count": 2,
      "metadata": {
        "id": "LzUSMM79NR9P",
        "outputId": "369544cb-515c-4657-9c78-c94f18e27e76",
        "colab": {
          "base_uri": "https://localhost:8080/"
        }
      },
      "outputs": [
        {
          "output_type": "execute_result",
          "data": {
            "text/plain": [
              "{'Chris Cornell', 'Kurt Cobain', 'Lenny Kravitz', 'Mick Jagger'}"
            ]
          },
          "metadata": {},
          "execution_count": 2
        }
      ],
      "source": [
        "#Crear un set a partir de una lista\n",
        "SetArtistasRock=set([\"Kurt Cobain\",\"Chris Cornell\",\"Lenny Kravitz\",\"Mick Jagger\"])\n",
        "SetArtistasRock"
      ]
    },
    {
      "cell_type": "code",
      "source": [
        "#Añadir un elemento al set\n",
        "SetArtistasRock.add(\"Anthony Kiedis\")\n",
        "SetArtistasRock"
      ],
      "metadata": {
        "id": "mxM_WppZPMFx",
        "colab": {
          "base_uri": "https://localhost:8080/"
        },
        "outputId": "4b93602a-6b92-4fb0-c399-8656190f7129"
      },
      "execution_count": 3,
      "outputs": [
        {
          "output_type": "execute_result",
          "data": {
            "text/plain": [
              "{'Anthony Kiedis',\n",
              " 'Chris Cornell',\n",
              " 'Kurt Cobain',\n",
              " 'Lenny Kravitz',\n",
              " 'Mick Jagger'}"
            ]
          },
          "metadata": {},
          "execution_count": 3
        }
      ]
    },
    {
      "cell_type": "code",
      "source": [
        "#Encontrar la intersección de dos listas\n",
        "SetArtistasFallecidos=set(['Kurt Cobain',' Jim Morrison', 'Jimi Hendrix', 'Chris Cornell', 'Amy Winehouse'])\n",
        "SetArtistasRock & SetArtistasFallecidos"
      ],
      "metadata": {
        "colab": {
          "base_uri": "https://localhost:8080/"
        },
        "id": "KQ42D953z8mT",
        "outputId": "980b3b5f-fc56-4a85-b415-b76a1ecf1d55"
      },
      "execution_count": 4,
      "outputs": [
        {
          "output_type": "execute_result",
          "data": {
            "text/plain": [
              "{'Chris Cornell', 'Kurt Cobain'}"
            ]
          },
          "metadata": {},
          "execution_count": 4
        }
      ]
    }
  ]
}