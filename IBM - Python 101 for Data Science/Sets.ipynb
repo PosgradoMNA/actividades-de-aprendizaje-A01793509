{
  "nbformat": 4,
  "nbformat_minor": 0,
  "metadata": {
    "colab": {
      "name": "assignment01.ipynb",
      "provenance": [],
      "include_colab_link": true
    },
    "kernelspec": {
      "name": "python3",
      "display_name": "Python 3"
    },
    "language_info": {
      "name": "python"
    }
  },
  "cells": [
    {
      "cell_type": "markdown",
      "metadata": {
        "id": "view-in-github",
        "colab_type": "text"
      },
      "source": [
        "<a href=\"https://colab.research.google.com/github/PosgradoMNA/actividades-de-aprendizaje-A01793509/blob/main/Sets.ipynb\" target=\"_parent\"><img src=\"https://colab.research.google.com/assets/colab-badge.svg\" alt=\"Open In Colab\"/></a>"
      ]
    },
    {
      "cell_type": "code",
      "execution_count": 1,
      "metadata": {
        "id": "LzUSMM79NR9P",
        "outputId": "5869de44-16ae-4421-dc1c-07e9e3c4b197",
        "colab": {
          "base_uri": "https://localhost:8080/"
        }
      },
      "outputs": [
        {
          "output_type": "execute_result",
          "data": {
            "text/plain": [
              "{'Chris Cornell', 'Kurt Cobain', 'Lenny Kravitz', 'Mick Jagger'}"
            ]
          },
          "metadata": {},
          "execution_count": 1
        }
      ],
      "source": [
        "#Crear un set a partir de una lista\n",
        "SetArtistasRock=set([\"Kurt Cobain\",\"Chris Cornell\",\"Lenny Kravitz\",\"Mick Jagger\"])\n",
        "SetArtistasRock"
      ]
    },
    {
      "cell_type": "code",
      "source": [
        "#Añadir un elemento al set\n",
        "SetArtistasRock.add(\"Anthony Kiedis\")\n",
        "SetArtistasRock"
      ],
      "metadata": {
        "id": "mxM_WppZPMFx",
        "colab": {
          "base_uri": "https://localhost:8080/"
        },
        "outputId": "86812e38-1905-409e-a721-b5fbd2653a81"
      },
      "execution_count": 2,
      "outputs": [
        {
          "output_type": "execute_result",
          "data": {
            "text/plain": [
              "{'Anthony Kiedis',\n",
              " 'Chris Cornell',\n",
              " 'Kurt Cobain',\n",
              " 'Lenny Kravitz',\n",
              " 'Mick Jagger'}"
            ]
          },
          "metadata": {},
          "execution_count": 2
        }
      ]
    },
    {
      "cell_type": "code",
      "source": [
        "#Encontrar la intersección de dos listas\n",
        "SetArtistasFallecidos=set(['Kurt Cobain',' Jim Morrison', 'Jimi Hendrix', 'Chris Cornell', 'Amy Winehouse'])\n",
        "SetArtistasRock & SetArtistasFallecidos "
      ],
      "metadata": {
        "colab": {
          "base_uri": "https://localhost:8080/"
        },
        "id": "KQ42D953z8mT",
        "outputId": "410c3c51-3db7-4921-d61b-4e03f435b03c"
      },
      "execution_count": 3,
      "outputs": [
        {
          "output_type": "execute_result",
          "data": {
            "text/plain": [
              "{'Chris Cornell', 'Kurt Cobain'}"
            ]
          },
          "metadata": {},
          "execution_count": 3
        }
      ]
    },
    {
      "cell_type": "code",
      "source": [
        "#Validar que el set no acepte elementos repetidos\n",
        "SetArtistasRock.add('Kurt Cobain')\n",
        "SetArtistasRock"
      ],
      "metadata": {
        "id": "iogsPzb0NR_b",
        "outputId": "48cf53b4-3aa1-4315-81c0-9c309c9f6516",
        "colab": {
          "base_uri": "https://localhost:8080/"
        }
      },
      "execution_count": 4,
      "outputs": [
        {
          "output_type": "execute_result",
          "data": {
            "text/plain": [
              "{'Anthony Kiedis',\n",
              " 'Chris Cornell',\n",
              " 'Kurt Cobain',\n",
              " 'Lenny Kravitz',\n",
              " 'Mick Jagger'}"
            ]
          },
          "metadata": {},
          "execution_count": 4
        }
      ]
    },
    {
      "cell_type": "code",
      "source": [
        "#Remover un elemento de la lista\n",
        "SetArtistasRock.remove(\"Anthony Kiedis\")\n",
        "SetArtistasRock"
      ],
      "metadata": {
        "id": "y26IruNYNdYb",
        "outputId": "06dd4964-2ec2-4b9a-a98f-2dfc5e6d6f3a",
        "colab": {
          "base_uri": "https://localhost:8080/"
        }
      },
      "execution_count": 5,
      "outputs": [
        {
          "output_type": "execute_result",
          "data": {
            "text/plain": [
              "{'Chris Cornell', 'Kurt Cobain', 'Lenny Kravitz', 'Mick Jagger'}"
            ]
          },
          "metadata": {},
          "execution_count": 5
        }
      ]
    },
    {
      "cell_type": "code",
      "source": [
        "#Verificar si Anthony Kiedis está en el set\n",
        "\"Anthony Kiedis\" in SetArtistasRock"
      ],
      "metadata": {
        "id": "h4Qu6fJlNwou",
        "outputId": "345ba722-20b6-4aca-d5cf-72bd75a7807d",
        "colab": {
          "base_uri": "https://localhost:8080/"
        }
      },
      "execution_count": 6,
      "outputs": [
        {
          "output_type": "execute_result",
          "data": {
            "text/plain": [
              "False"
            ]
          },
          "metadata": {},
          "execution_count": 6
        }
      ]
    },
    {
      "cell_type": "code",
      "source": [
        "#Verificar si Kurt Cobain está en el set\n",
        "\"Kurt Cobain\" in SetArtistasRock"
      ],
      "metadata": {
        "id": "5QpIRpqIP6EN",
        "outputId": "51840ce3-ad63-4e69-f578-f4e9e8f04153",
        "colab": {
          "base_uri": "https://localhost:8080/"
        }
      },
      "execution_count": 7,
      "outputs": [
        {
          "output_type": "execute_result",
          "data": {
            "text/plain": [
              "True"
            ]
          },
          "metadata": {},
          "execution_count": 7
        }
      ]
    },
    {
      "cell_type": "code",
      "source": [
        "#Encontrar los elementos no comunes entre dos sets (buscamos los artistas de rock que no han fallecido)\n",
        "SetArtistasRock.difference(SetArtistasFallecidos)"
      ],
      "metadata": {
        "id": "VvBt6T0TQAg1",
        "outputId": "7f651b27-1e6d-45a0-fe6b-28b270446a28",
        "colab": {
          "base_uri": "https://localhost:8080/"
        }
      },
      "execution_count": 8,
      "outputs": [
        {
          "output_type": "execute_result",
          "data": {
            "text/plain": [
              "{'Lenny Kravitz', 'Mick Jagger'}"
            ]
          },
          "metadata": {},
          "execution_count": 8
        }
      ]
    },
    {
      "cell_type": "code",
      "source": [
        "#Realizar la unión de los dos sets\n",
        "SetArtistasRock.union(SetArtistasFallecidos)"
      ],
      "metadata": {
        "id": "DSEnT94vQXDx",
        "outputId": "3174cc8d-62a3-4e2f-c86a-50cd7477ac2e",
        "colab": {
          "base_uri": "https://localhost:8080/"
        }
      },
      "execution_count": 9,
      "outputs": [
        {
          "output_type": "execute_result",
          "data": {
            "text/plain": [
              "{' Jim Morrison',\n",
              " 'Amy Winehouse',\n",
              " 'Chris Cornell',\n",
              " 'Jimi Hendrix',\n",
              " 'Kurt Cobain',\n",
              " 'Lenny Kravitz',\n",
              " 'Mick Jagger'}"
            ]
          },
          "metadata": {},
          "execution_count": 9
        }
      ]
    },
    {
      "cell_type": "code",
      "source": [
        "#Verificar si el set de artistas fallecidos es un subset del set de artistas de rock\n",
        "set(SetArtistasFallecidos).issubset(SetArtistasRock)"
      ],
      "metadata": {
        "id": "STZla1f6Qumw",
        "outputId": "fbcd79a2-9edd-4038-9764-aef8bc877994",
        "colab": {
          "base_uri": "https://localhost:8080/"
        }
      },
      "execution_count": 13,
      "outputs": [
        {
          "output_type": "execute_result",
          "data": {
            "text/plain": [
              "False"
            ]
          },
          "metadata": {},
          "execution_count": 13
        }
      ]
    },
    {
      "cell_type": "code",
      "source": [
        "#Verificar si el set de artistas de rock es un subset del set de artistas fallecidos\n",
        "set(SetArtistasRock).issubset(SetArtistasFallecidos)"
      ],
      "metadata": {
        "id": "9aGvtAEYRC54",
        "outputId": "b3baf1ee-bf6c-42bb-9275-df20390809fd",
        "colab": {
          "base_uri": "https://localhost:8080/"
        }
      },
      "execution_count": 14,
      "outputs": [
        {
          "output_type": "execute_result",
          "data": {
            "text/plain": [
              "False"
            ]
          },
          "metadata": {},
          "execution_count": 14
        }
      ]
    },
    {
      "cell_type": "code",
      "source": [
        "#Verificar si ciertos artistas de rock son un subset del set de artistas fallecidos\n",
        "set({\"Kurt Cobain\",\"Chris Cornell\"}).issubset(SetArtistasFallecidos)"
      ],
      "metadata": {
        "id": "H82sCmCIQ_mO",
        "outputId": "55025888-8fe4-4771-d924-11b6a7eb706c",
        "colab": {
          "base_uri": "https://localhost:8080/"
        }
      },
      "execution_count": 18,
      "outputs": [
        {
          "output_type": "execute_result",
          "data": {
            "text/plain": [
              "True"
            ]
          },
          "metadata": {},
          "execution_count": 18
        }
      ]
    },
    {
      "cell_type": "code",
      "source": [
        "#Verificar si del set de artistas fallecidos tenemos ciertos artistas de rock \n",
        "set(SetArtistasFallecidos).issuperset({\"Kurt Cobain\",\"Chris Cornell\"})"
      ],
      "metadata": {
        "id": "4MjuVgnyReWA",
        "outputId": "941ac4ee-517b-423d-d907-b62285a3e907",
        "colab": {
          "base_uri": "https://localhost:8080/"
        }
      },
      "execution_count": 19,
      "outputs": [
        {
          "output_type": "execute_result",
          "data": {
            "text/plain": [
              "True"
            ]
          },
          "metadata": {},
          "execution_count": 19
        }
      ]
    },
    {
      "cell_type": "code",
      "source": [],
      "metadata": {
        "id": "QJEANIBoR_uo"
      },
      "execution_count": null,
      "outputs": []
    }
  ]
}
