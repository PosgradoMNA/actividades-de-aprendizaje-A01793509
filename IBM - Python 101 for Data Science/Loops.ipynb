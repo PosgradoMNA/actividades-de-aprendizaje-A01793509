{
  "nbformat": 4,
  "nbformat_minor": 0,
  "metadata": {
    "colab": {
      "name": "assignment01.ipynb",
      "provenance": [],
      "include_colab_link": true
    },
    "kernelspec": {
      "name": "python3",
      "display_name": "Python 3"
    },
    "language_info": {
      "name": "python"
    }
  },
  "cells": [
    {
      "cell_type": "markdown",
      "metadata": {
        "id": "view-in-github",
        "colab_type": "text"
      },
      "source": [
        "<a href=\"https://colab.research.google.com/github/PosgradoMNA/actividades-de-aprendizaje-A01793509/blob/main/Loops.ipynb\" target=\"_parent\"><img src=\"https://colab.research.google.com/assets/colab-badge.svg\" alt=\"Open In Colab\"/></a>"
      ]
    },
    {
      "cell_type": "code",
      "execution_count": 13,
      "metadata": {
        "id": "LzUSMM79NR9P",
        "colab": {
          "base_uri": "https://localhost:8080/"
        },
        "outputId": "d850e2f7-9ed5-4f07-ca8c-db4d755e9f40"
      },
      "outputs": [
        {
          "output_type": "stream",
          "name": "stdout",
          "text": [
            "Brasilia\n",
            "Bogotá\n",
            "Paris\n",
            "Lima\n",
            "Quito\n",
            "Santo Domingo\n"
          ]
        }
      ],
      "source": [
        "#Utilizando el loop FOR\n",
        "Capitales=[\"Brasilia\", \"Bogotá\", \"Paris\", \"Lima\", \"Quito\", \"Santo Domingo\"]\n",
        "for i in Capitales:\n",
        "  print(i)"
      ]
    },
    {
      "cell_type": "code",
      "source": [
        "#Utilizando el loop FOR (otra forma utilizando range)\n",
        "Capitales=[\"Brasilia\", \"Bogotá\", \"Paris\", \"Lima\", \"Quito\", \"Santo Domingo\"]\n",
        "\n",
        "Conteo=0\n",
        "\n",
        "for i in range(len(Capitales)):\n",
        "  print(Capitales[i])\n",
        "  Conteo=Conteo+1\n",
        "\n",
        "print(\"Se encontraron\", Conteo, \"capitales.\")"
      ],
      "metadata": {
        "id": "we0bED5km9bB",
        "outputId": "0cf698cf-e6e5-4cdb-b0c7-ff332ebf0198",
        "colab": {
          "base_uri": "https://localhost:8080/"
        }
      },
      "execution_count": 21,
      "outputs": [
        {
          "output_type": "stream",
          "name": "stdout",
          "text": [
            "Brasilia\n",
            "Bogotá\n",
            "Paris\n",
            "Lima\n",
            "Quito\n",
            "Santo Domingo\n",
            "Se encontraron 6 capitales.\n"
          ]
        }
      ]
    },
    {
      "cell_type": "code",
      "source": [
        "#Utilizando el loop FOR (otra forma utilizando enumerate)\n",
        "Capitales=[\"Brasilia\", \"Bogotá\", \"Paris\", \"Lima\", \"Quito\", \"Santo Domingo\"]\n",
        "\n",
        "Conteo=0\n",
        "\n",
        "for i, capital in enumerate(Capitales):\n",
        "  print(i+1, capital)\n",
        "  Conteo=Conteo+1\n",
        "\n",
        "print(\"Se encontraron\", Conteo, \"capitales.\")"
      ],
      "metadata": {
        "id": "ZxkgWfDjm344",
        "outputId": "61c278cd-31c2-45ec-fc8d-7d2fbceb1b75",
        "colab": {
          "base_uri": "https://localhost:8080/"
        }
      },
      "execution_count": 23,
      "outputs": [
        {
          "output_type": "stream",
          "name": "stdout",
          "text": [
            "1 Brasilia\n",
            "2 Bogotá\n",
            "3 Paris\n",
            "4 Lima\n",
            "5 Quito\n",
            "6 Santo Domingo\n",
            "Se encontraron 6 capitales.\n"
          ]
        }
      ]
    },
    {
      "cell_type": "code",
      "source": [
        "#Utilizando el loop WHILE\n",
        "Capitales=[\"Brasilia\", \"Bogotá\", \"Paris\", \"Lima\", \"Quito\", \"Santo Domingo\"]\n",
        "\n",
        "Conteo=0\n",
        "Capital=Capitales[Conteo]\n",
        "\n",
        "while (Capital!=\"Lima\"):\n",
        "  print(Capital)\n",
        "  Conteo=Conteo+1\n",
        "  Capital=Capitales[Conteo]\n",
        "\n",
        "print(\"Se contaron\", Conteo, \"capitales.\")"
      ],
      "metadata": {
        "id": "ZdZYOxSkoI3u",
        "outputId": "ca758dd8-ea6e-4377-8a9e-d890cc498b10",
        "colab": {
          "base_uri": "https://localhost:8080/"
        }
      },
      "execution_count": 25,
      "outputs": [
        {
          "output_type": "stream",
          "name": "stdout",
          "text": [
            "Brasilia\n",
            "Bogotá\n",
            "Paris\n",
            "Se contaron 3 capitales.\n"
          ]
        }
      ]
    },
    {
      "cell_type": "code",
      "source": [],
      "metadata": {
        "id": "qigbcdgQoj4l"
      },
      "execution_count": null,
      "outputs": []
    }
  ]
}
