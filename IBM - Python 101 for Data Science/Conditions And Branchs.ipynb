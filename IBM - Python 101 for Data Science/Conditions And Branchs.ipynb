{
  "nbformat": 4,
  "nbformat_minor": 0,
  "metadata": {
    "colab": {
      "name": "assignment01.ipynb",
      "provenance": [],
      "include_colab_link": true
    },
    "kernelspec": {
      "name": "python3",
      "display_name": "Python 3"
    },
    "language_info": {
      "name": "python"
    }
  },
  "cells": [
    {
      "cell_type": "markdown",
      "metadata": {
        "id": "view-in-github",
        "colab_type": "text"
      },
      "source": [
        "<a href=\"https://colab.research.google.com/github/PosgradoMNA/actividades-de-aprendizaje-A01793509/blob/main/Conditions%20And%20Branchs.ipynb\" target=\"_parent\"><img src=\"https://colab.research.google.com/assets/colab-badge.svg\" alt=\"Open In Colab\"/></a>"
      ]
    },
    {
      "cell_type": "code",
      "execution_count": 1,
      "metadata": {
        "id": "LzUSMM79NR9P",
        "outputId": "1690f50e-21cb-479f-d969-fbd5db37cb7c",
        "colab": {
          "base_uri": "https://localhost:8080/"
        }
      },
      "outputs": [
        {
          "output_type": "execute_result",
          "data": {
            "text/plain": [
              "False"
            ]
          },
          "metadata": {},
          "execution_count": 1
        }
      ],
      "source": [
        "#Validando condiciones con cadena\n",
        "CiudadOrigen='Barranquilla'\n",
        "'Bogotá'==CiudadOrigen"
      ]
    },
    {
      "cell_type": "code",
      "source": [
        "#Validando condiciones con números\n",
        "Edad=12\n",
        "Edad>14"
      ],
      "metadata": {
        "id": "HWX_5raYfEyo",
        "outputId": "afbe2295-f2d1-420b-9602-a59384586629",
        "colab": {
          "base_uri": "https://localhost:8080/"
        }
      },
      "execution_count": 3,
      "outputs": [
        {
          "output_type": "execute_result",
          "data": {
            "text/plain": [
              "False"
            ]
          },
          "metadata": {},
          "execution_count": 3
        }
      ]
    },
    {
      "cell_type": "code",
      "source": [
        "#Validando condiciones con números\n",
        "Edad=12\n",
        "Edad!=15"
      ],
      "metadata": {
        "id": "WJhXHtnUfJKP",
        "outputId": "176c89b8-dc39-43cb-f3ed-8cdba18911ca",
        "colab": {
          "base_uri": "https://localhost:8080/"
        }
      },
      "execution_count": 4,
      "outputs": [
        {
          "output_type": "execute_result",
          "data": {
            "text/plain": [
              "True"
            ]
          },
          "metadata": {},
          "execution_count": 4
        }
      ]
    },
    {
      "cell_type": "code",
      "source": [
        "#Probando condicionales\n",
        "if CiudadOrigen=='Bogotá':\n",
        "  if Edad<18:\n",
        "    print(\"Menor de edad de Bogotá\")\n",
        "  else:\n",
        "    print(\"Mayor de edad de Bogotá\")\n",
        "elif CiudadOrigen=='Barranquilla':\n",
        "  if Edad<18:\n",
        "      print(\"Menor de edad de Barranquilla\")\n",
        "  else:\n",
        "      print(\"Mayor de edad de Barranquilla\")\n"
      ],
      "metadata": {
        "id": "jj_cSkfrfxJg",
        "outputId": "1f0e9192-8726-4c71-8830-351372a5d03f",
        "colab": {
          "base_uri": "https://localhost:8080/"
        }
      },
      "execution_count": 10,
      "outputs": [
        {
          "output_type": "stream",
          "name": "stdout",
          "text": [
            "Menor de edad de Barranquilla\n"
          ]
        }
      ]
    },
    {
      "cell_type": "code",
      "source": [
        "#Operadores lógicos\n",
        "if (CiudadOrigen==\"Barranquilla\") or (Edad >18):\n",
        "  print('Admitido')\n",
        "else:\n",
        "  print('No admitido')\n"
      ],
      "metadata": {
        "id": "2IAVon3bhRDA",
        "outputId": "220d8b7c-e7de-4413-917d-b229615c9522",
        "colab": {
          "base_uri": "https://localhost:8080/"
        }
      },
      "execution_count": 12,
      "outputs": [
        {
          "output_type": "stream",
          "name": "stdout",
          "text": [
            "Admitido\n"
          ]
        }
      ]
    },
    {
      "cell_type": "code",
      "source": [],
      "metadata": {
        "id": "LUx9SX-ziAzX"
      },
      "execution_count": null,
      "outputs": []
    }
  ]
}
