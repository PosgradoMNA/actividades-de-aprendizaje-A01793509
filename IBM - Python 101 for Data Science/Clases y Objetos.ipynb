{
  "nbformat": 4,
  "nbformat_minor": 0,
  "metadata": {
    "colab": {
      "name": "assignment01.ipynb",
      "provenance": [],
      "include_colab_link": true
    },
    "kernelspec": {
      "name": "python3",
      "display_name": "Python 3"
    },
    "language_info": {
      "name": "python"
    }
  },
  "cells": [
    {
      "cell_type": "markdown",
      "metadata": {
        "id": "view-in-github",
        "colab_type": "text"
      },
      "source": [
        "<a href=\"https://colab.research.google.com/github/PosgradoMNA/actividades-de-aprendizaje-A01793509/blob/main/Clases%20y%20Objetos.ipynb\" target=\"_parent\"><img src=\"https://colab.research.google.com/assets/colab-badge.svg\" alt=\"Open In Colab\"/></a>"
      ]
    },
    {
      "cell_type": "code",
      "execution_count": null,
      "metadata": {
        "id": "LzUSMM79NR9P"
      },
      "outputs": [],
      "source": [
        "#Probando clases y métodos\n",
        "class CuentaBancaria(object):\n",
        "\t#Constructor\n",
        "\tdef __init__(self, numero=0, monto=0, titular=\"x\", banco=\"x\"):\n",
        "\t\tself.numero = numero\n",
        "\t\tself.monto = monto\n",
        "\t\tself.titular = titular\n",
        "\t\tself.banco = banco\n",
        "\t\n",
        "\t#Method\n",
        "\tdef ingresardinero(self, valor):\n",
        "\t\tself.monto = self.monto + valor\n",
        "\t\n",
        "\tdef retirardinero(self, valor):\n",
        "\t\tself.monto = self.monto + valor\n"
      ]
    },
    {
      "cell_type": "code",
      "source": [
        "dir(CuentaBancaria)"
      ],
      "metadata": {
        "colab": {
          "base_uri": "https://localhost:8080/"
        },
        "id": "rbiDniWxz9-M",
        "outputId": "e0993582-59ac-4482-fc62-1a53b6c9048a"
      },
      "execution_count": null,
      "outputs": [
        {
          "output_type": "execute_result",
          "data": {
            "text/plain": [
              "['__class__',\n",
              " '__delattr__',\n",
              " '__dict__',\n",
              " '__dir__',\n",
              " '__doc__',\n",
              " '__eq__',\n",
              " '__format__',\n",
              " '__ge__',\n",
              " '__getattribute__',\n",
              " '__gt__',\n",
              " '__hash__',\n",
              " '__init__',\n",
              " '__init_subclass__',\n",
              " '__le__',\n",
              " '__lt__',\n",
              " '__module__',\n",
              " '__ne__',\n",
              " '__new__',\n",
              " '__reduce__',\n",
              " '__reduce_ex__',\n",
              " '__repr__',\n",
              " '__setattr__',\n",
              " '__sizeof__',\n",
              " '__str__',\n",
              " '__subclasshook__',\n",
              " '__weakref__',\n",
              " 'ingresardinero',\n",
              " 'retirardinero']"
            ]
          },
          "metadata": {},
          "execution_count": 39
        }
      ]
    },
    {
      "cell_type": "code",
      "source": [
        "micuenta = CuentaBancaria(\"0270700465787\", 23000000, \"Alberto García\", \"Colpatria\")"
      ],
      "metadata": {
        "id": "jciYQNnx64O0"
      },
      "execution_count": null,
      "outputs": []
    },
    {
      "cell_type": "code",
      "source": [
        "micuenta.monto"
      ],
      "metadata": {
        "id": "viCB0KBM7Kr9",
        "outputId": "a5a98529-dfcc-4fa2-c8b0-7b8ecfab0a1d",
        "colab": {
          "base_uri": "https://localhost:8080/"
        }
      },
      "execution_count": null,
      "outputs": [
        {
          "output_type": "execute_result",
          "data": {
            "text/plain": [
              "23000000"
            ]
          },
          "metadata": {},
          "execution_count": 42
        }
      ]
    },
    {
      "cell_type": "code",
      "source": [
        "micuenta.ingresardinero(2000000)"
      ],
      "metadata": {
        "id": "K5oG-6K07M7H"
      },
      "execution_count": null,
      "outputs": []
    },
    {
      "cell_type": "code",
      "source": [
        "micuenta.monto"
      ],
      "metadata": {
        "id": "AaaKMW_A7Um8",
        "outputId": "80e95a30-73a8-47dc-e4b5-946bd0fb3db9",
        "colab": {
          "base_uri": "https://localhost:8080/"
        }
      },
      "execution_count": null,
      "outputs": [
        {
          "output_type": "execute_result",
          "data": {
            "text/plain": [
              "25000000"
            ]
          },
          "metadata": {},
          "execution_count": 44
        }
      ]
    },
    {
      "cell_type": "code",
      "source": [
        "micuenta.retirardinero(500000)"
      ],
      "metadata": {
        "id": "rUVPoI5A7WAh"
      },
      "execution_count": null,
      "outputs": []
    },
    {
      "cell_type": "code",
      "source": [
        "micuenta.monto"
      ],
      "metadata": {
        "id": "hgM3PrRS7ZfD",
        "outputId": "3d4cb470-a503-4baa-acc5-fdb151729520",
        "colab": {
          "base_uri": "https://localhost:8080/"
        }
      },
      "execution_count": null,
      "outputs": [
        {
          "output_type": "execute_result",
          "data": {
            "text/plain": [
              "25500000"
            ]
          },
          "metadata": {},
          "execution_count": 46
        }
      ]
    },
    {
      "cell_type": "code",
      "source": [
        "#Formateamos el texto quitando todos los signos y expresándolo en minúsculas\n",
        "texto = \"ESTAMOS PROBANDO EL REPLACE ANIDADO!, Veamos. El ejercicio Funcionará?\"\n",
        "textoformateado = texto.lower()\n",
        "textoformateado = textoformateado.replace(\".\",\"\").replace(\",\",\"\").replace(\"!\",\"\").replace(\"?\",\"\")\n",
        "print(\"Texto formateado:\", textoformateado)\n",
        "\n",
        "#Creamos una lista con las palabras del texto formateado\n",
        "listapalabras=textoformateado.split(\" \")\n",
        "print(\"Lista de palabras con el texto formateado: \", listapalabras)\n",
        "\n",
        "#Creamos un diccionario a partir de la lista, mostrando por cada palabra la repetición en el texto\n",
        "dictpalabras={}\n",
        "for palabra in set(listapalabras):\n",
        "  dictpalabras[palabra] = listapalabras.count(palabra)\n",
        "\n",
        "print(\"Diccionario de letras generado con número de aparición de cada palabra en el texto:\", dictpalabras)\n",
        "\n",
        "#¿Cuantas veces aparece la palabra 'el'?\n",
        "palabra =\"el\"\n",
        "\n",
        "if palabra in dictpalabras:\n",
        "  print (\"¿Cuantas veces aparece la palabra 'el'?\",dictpalabras[palabra])"
      ],
      "metadata": {
        "id": "0HdCiogC7a4j",
        "outputId": "038a5a97-e957-4983-db26-0667c2617f33",
        "colab": {
          "base_uri": "https://localhost:8080/"
        }
      },
      "execution_count": 23,
      "outputs": [
        {
          "output_type": "stream",
          "name": "stdout",
          "text": [
            "Texto formateado: estamos probando el replace anidado veamos el ejercicio funcionará\n",
            "Lista de palabras con el texto formateado:  ['estamos', 'probando', 'el', 'replace', 'anidado', 'veamos', 'el', 'ejercicio', 'funcionará']\n",
            "Diccionario de letras generado con número de aparición de cada palabra en el texto: {'replace': 1, 'veamos': 1, 'probando': 1, 'estamos': 1, 'el': 2, 'anidado': 1, 'funcionará': 1, 'ejercicio': 1}\n",
            "¿Cuantas veces aparece la palabra 'el'? 2\n"
          ]
        }
      ]
    },
    {
      "cell_type": "code",
      "source": [],
      "metadata": {
        "id": "wR4qOy2qOSGR"
      },
      "execution_count": null,
      "outputs": []
    }
  ]
}
