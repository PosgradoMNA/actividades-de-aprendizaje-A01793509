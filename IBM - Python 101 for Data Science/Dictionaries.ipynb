{
  "nbformat": 4,
  "nbformat_minor": 0,
  "metadata": {
    "colab": {
      "name": "assignment01.ipynb",
      "provenance": [],
      "include_colab_link": true
    },
    "kernelspec": {
      "name": "python3",
      "display_name": "Python 3"
    },
    "language_info": {
      "name": "python"
    }
  },
  "cells": [
    {
      "cell_type": "markdown",
      "metadata": {
        "id": "view-in-github",
        "colab_type": "text"
      },
      "source": [
        "<a href=\"https://colab.research.google.com/github/PosgradoMNA/actividades-de-aprendizaje-A01793509/blob/main/Dictionaries.ipynb\" target=\"_parent\"><img src=\"https://colab.research.google.com/assets/colab-badge.svg\" alt=\"Open In Colab\"/></a>"
      ]
    },
    {
      "cell_type": "code",
      "execution_count": 20,
      "metadata": {
        "id": "LzUSMM79NR9P"
      },
      "outputs": [],
      "source": [
        "#Crear un diccionario\n",
        "DicTemp={'Barranquilla':'40°C','Bogotá':'15°C','Medellín':'25°C', 'Cali': '38°C'}"
      ]
    },
    {
      "cell_type": "code",
      "source": [
        "#Acceder al valor de una llave en el diccionario\n",
        "DicTemp['Barranquilla']"
      ],
      "metadata": {
        "id": "mxM_WppZPMFx",
        "colab": {
          "base_uri": "https://localhost:8080/",
          "height": 35
        },
        "outputId": "817e7ac1-ae68-4fec-c812-4c2ecc6c54e2"
      },
      "execution_count": 22,
      "outputs": [
        {
          "output_type": "execute_result",
          "data": {
            "text/plain": [
              "'40°C'"
            ],
            "application/vnd.google.colaboratory.intrinsic+json": {
              "type": "string"
            }
          },
          "metadata": {},
          "execution_count": 22
        }
      ]
    },
    {
      "cell_type": "code",
      "source": [
        "#Obtener todos los valores del diccionario\n",
        "DicTemp.values()"
      ],
      "metadata": {
        "colab": {
          "base_uri": "https://localhost:8080/"
        },
        "id": "KQ42D953z8mT",
        "outputId": "890fad73-e8b3-4e5d-f659-3a1c05a995e5"
      },
      "execution_count": 25,
      "outputs": [
        {
          "output_type": "execute_result",
          "data": {
            "text/plain": [
              "dict_values(['40°C', '15°C', '25°C', '38°C'])"
            ]
          },
          "metadata": {},
          "execution_count": 25
        }
      ]
    },
    {
      "cell_type": "code",
      "source": [
        "#Obtener todas las llaves del diccionario\n",
        "DicTemp.keys()"
      ],
      "metadata": {
        "id": "iogsPzb0NR_b",
        "outputId": "2bc09b6a-90d8-4ef2-a98a-634668ed8742",
        "colab": {
          "base_uri": "https://localhost:8080/"
        }
      },
      "execution_count": 26,
      "outputs": [
        {
          "output_type": "execute_result",
          "data": {
            "text/plain": [
              "dict_keys(['Barranquilla', 'Bogotá', 'Medellín', 'Cali'])"
            ]
          },
          "metadata": {},
          "execution_count": 26
        }
      ]
    },
    {
      "cell_type": "code",
      "source": [
        "#Agregar un nuevo elemento al dicciónario\n",
        "DicTemp['Cartagena']='39°C'\n",
        "DicTemp"
      ],
      "metadata": {
        "id": "y26IruNYNdYb",
        "outputId": "45237ed2-cb1c-45b6-e942-446c3d06cca6",
        "colab": {
          "base_uri": "https://localhost:8080/"
        }
      },
      "execution_count": 28,
      "outputs": [
        {
          "output_type": "execute_result",
          "data": {
            "text/plain": [
              "{'Barranquilla': '40°C',\n",
              " 'Bogotá': '15°C',\n",
              " 'Medellín': '25°C',\n",
              " 'Cali': '38°C',\n",
              " 'Cartagena': '39°C'}"
            ]
          },
          "metadata": {},
          "execution_count": 28
        }
      ]
    },
    {
      "cell_type": "code",
      "source": [
        "#Borrar elementos del diccionario\n",
        "del(DicTemp['Cartagena'])\n",
        "DicTemp"
      ],
      "metadata": {
        "id": "h4Qu6fJlNwou",
        "outputId": "cea55f0d-cd57-4010-fa54-fc9549593b29",
        "colab": {
          "base_uri": "https://localhost:8080/"
        }
      },
      "execution_count": 29,
      "outputs": [
        {
          "output_type": "execute_result",
          "data": {
            "text/plain": [
              "{'Barranquilla': '40°C', 'Bogotá': '15°C', 'Medellín': '25°C', 'Cali': '38°C'}"
            ]
          },
          "metadata": {},
          "execution_count": 29
        }
      ]
    },
    {
      "cell_type": "code",
      "source": [
        "#Verificar si existe Cartagena en el diccionario\n",
        "\"Cartagena\" in DicTemp"
      ],
      "metadata": {
        "id": "5QpIRpqIP6EN",
        "outputId": "0bac50c8-51cd-42ee-a4d4-8b35c30c84cd",
        "colab": {
          "base_uri": "https://localhost:8080/"
        }
      },
      "execution_count": 30,
      "outputs": [
        {
          "output_type": "execute_result",
          "data": {
            "text/plain": [
              "False"
            ]
          },
          "metadata": {},
          "execution_count": 30
        }
      ]
    },
    {
      "cell_type": "code",
      "source": [
        "#Verificar si existe Barranquilla en el diccionario\n",
        "\"Barranquilla\" in DicTemp"
      ],
      "metadata": {
        "id": "VvBt6T0TQAg1",
        "outputId": "c3b401df-b3fd-46d9-b5b6-015bf0385c90",
        "colab": {
          "base_uri": "https://localhost:8080/"
        }
      },
      "execution_count": 31,
      "outputs": [
        {
          "output_type": "execute_result",
          "data": {
            "text/plain": [
              "True"
            ]
          },
          "metadata": {},
          "execution_count": 31
        }
      ]
    }
  ]
}
