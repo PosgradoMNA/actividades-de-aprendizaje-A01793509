{
  "nbformat": 4,
  "nbformat_minor": 0,
  "metadata": {
    "colab": {
      "name": "assignment01.ipynb",
      "provenance": [],
      "include_colab_link": true
    },
    "kernelspec": {
      "name": "python3",
      "display_name": "Python 3"
    },
    "language_info": {
      "name": "python"
    }
  },
  "cells": [
    {
      "cell_type": "markdown",
      "metadata": {
        "id": "view-in-github",
        "colab_type": "text"
      },
      "source": [
        "<a href=\"https://colab.research.google.com/github/PosgradoMNA/actividades-de-aprendizaje-A01793509/blob/main/Tuples.ipynb\" target=\"_parent\"><img src=\"https://colab.research.google.com/assets/colab-badge.svg\" alt=\"Open In Colab\"/></a>"
      ]
    },
    {
      "cell_type": "code",
      "execution_count": 1,
      "metadata": {
        "id": "LzUSMM79NR9P",
        "outputId": "c5a2a884-07eb-4b58-b6d8-62eb7d5936fd",
        "colab": {
          "base_uri": "https://localhost:8080/"
        }
      },
      "outputs": [
        {
          "output_type": "execute_result",
          "data": {
            "text/plain": [
              "('Valor 1', 2500, 25.43)"
            ]
          },
          "metadata": {},
          "execution_count": 1
        }
      ],
      "source": [
        "Tuple1=(\"Valor 1\", 2500, 25.43)\n",
        "Tuple1"
      ]
    },
    {
      "cell_type": "code",
      "source": [
        "type(Tuple1)"
      ],
      "metadata": {
        "id": "mxM_WppZPMFx",
        "colab": {
          "base_uri": "https://localhost:8080/"
        },
        "outputId": "4922278e-00f2-44ac-bd05-25756e7dd173"
      },
      "execution_count": 3,
      "outputs": [
        {
          "output_type": "execute_result",
          "data": {
            "text/plain": [
              "tuple"
            ]
          },
          "metadata": {},
          "execution_count": 3
        }
      ]
    },
    {
      "cell_type": "code",
      "source": [
        "print(\"Valor celda 1: \", Tuple1[0])\n",
        "print(\"Valor celda 2: \", Tuple1[1])\n",
        "print(\"Valor celda 3: \", Tuple1[2])"
      ],
      "metadata": {
        "colab": {
          "base_uri": "https://localhost:8080/"
        },
        "id": "KQ42D953z8mT",
        "outputId": "31ea1bc0-886f-4094-c02e-e91a855af2d5"
      },
      "execution_count": 5,
      "outputs": [
        {
          "output_type": "stream",
          "name": "stdout",
          "text": [
            "Valor celda 1:  Valor 1\n",
            "Valor celda 2:  2500\n",
            "Valor celda 3:  25.43\n"
          ]
        }
      ]
    },
    {
      "cell_type": "code",
      "source": [
        "print(\"Tipo dato celda 1: \", type(Tuple1[0]))\n",
        "print(\"Tipo dato celda 2: \", type(Tuple1[1]))\n",
        "print(\"Tipo dato celda 3: \", type(Tuple1[2]))"
      ],
      "metadata": {
        "colab": {
          "base_uri": "https://localhost:8080/"
        },
        "id": "br_zcbDd0F7l",
        "outputId": "9b927c40-32f9-40de-dce5-ab261102ff8b"
      },
      "execution_count": 6,
      "outputs": [
        {
          "output_type": "stream",
          "name": "stdout",
          "text": [
            "Tipo dato celda 1:  <class 'str'>\n",
            "Tipo dato celda 2:  <class 'int'>\n",
            "Tipo dato celda 3:  <class 'float'>\n"
          ]
        }
      ]
    },
    {
      "cell_type": "code",
      "source": [
        "Tuple1[-3]\n",
        "Tuple1[-2]\n",
        "Tuple1[-1]"
      ],
      "metadata": {
        "colab": {
          "base_uri": "https://localhost:8080/"
        },
        "id": "cYuzXBPC0boz",
        "outputId": "d34d719a-8334-42b3-fd6c-f4a364c4f274"
      },
      "execution_count": 8,
      "outputs": [
        {
          "output_type": "execute_result",
          "data": {
            "text/plain": [
              "25.43"
            ]
          },
          "metadata": {},
          "execution_count": 8
        }
      ]
    },
    {
      "cell_type": "markdown",
      "source": [
        "Ahora vamos a aumentar las celdas del tuple a través de la concatenación"
      ],
      "metadata": {
        "id": "9oKTnGC61ErM"
      }
    },
    {
      "cell_type": "code",
      "source": [
        "Tuple2 = Tuple1 + (\"Valor adicional\", 45)\n",
        "Tuple2"
      ],
      "metadata": {
        "colab": {
          "base_uri": "https://localhost:8080/"
        },
        "id": "CZUWjS-G0mDB",
        "outputId": "93fb211b-8bb5-4de1-e62f-218aeca07a38"
      },
      "execution_count": 9,
      "outputs": [
        {
          "output_type": "execute_result",
          "data": {
            "text/plain": [
              "('Valor 1', 2500, 25.43, 'Valor adicional', 45)"
            ]
          },
          "metadata": {},
          "execution_count": 9
        }
      ]
    },
    {
      "cell_type": "code",
      "source": [
        "#Slicing desde la posición 0 hasta la 4\n",
        "Tuple2[0:4]"
      ],
      "metadata": {
        "colab": {
          "base_uri": "https://localhost:8080/"
        },
        "id": "i8Fwi3t604GP",
        "outputId": "6ef156d9-109b-4901-a887-a8030f8fb118"
      },
      "execution_count": 15,
      "outputs": [
        {
          "output_type": "execute_result",
          "data": {
            "text/plain": [
              "('Valor 1', 2500, 25.43, 'Valor adicional')"
            ]
          },
          "metadata": {},
          "execution_count": 15
        }
      ]
    },
    {
      "cell_type": "code",
      "source": [
        "#Slicing desde la posición 3 hasta la 5\n",
        "Tuple2[3:5]"
      ],
      "metadata": {
        "colab": {
          "base_uri": "https://localhost:8080/"
        },
        "id": "C12lAHSD1XSn",
        "outputId": "811eb79c-3eb1-4faa-84b5-40d1ce9ba225"
      },
      "execution_count": 18,
      "outputs": [
        {
          "output_type": "execute_result",
          "data": {
            "text/plain": [
              "('Valor adicional', 45)"
            ]
          },
          "metadata": {},
          "execution_count": 18
        }
      ]
    },
    {
      "cell_type": "code",
      "source": [
        "#Longitud del tuple\n",
        "print(\"Longitud tuple1: \", len(Tuple1))\n",
        "print(\"Longitud tuple2: \", len(Tuple2))"
      ],
      "metadata": {
        "colab": {
          "base_uri": "https://localhost:8080/"
        },
        "id": "HkrUhBrN14Z5",
        "outputId": "d37a1f90-d2cd-4c48-ba05-35fbfeb23ab1"
      },
      "execution_count": 20,
      "outputs": [
        {
          "output_type": "stream",
          "name": "stdout",
          "text": [
            "Longitud tuple1:  3\n",
            "Longitud tuple2:  5\n"
          ]
        }
      ]
    },
    {
      "cell_type": "code",
      "source": [
        "#Probando ordenamiento de tuple\n",
        "Calificaciones = (4.5,3.8,2.2,5.0,3.7)\n",
        "CalificacionesOrdenadas = sorted(Calificaciones)\n",
        "CalificacionesOrdenadas"
      ],
      "metadata": {
        "colab": {
          "base_uri": "https://localhost:8080/"
        },
        "id": "3OFkuhvD2E5M",
        "outputId": "d60eb237-5b11-468f-ccba-9ded623fe01e"
      },
      "execution_count": 21,
      "outputs": [
        {
          "output_type": "execute_result",
          "data": {
            "text/plain": [
              "[2.2, 3.7, 3.8, 4.5, 5.0]"
            ]
          },
          "metadata": {},
          "execution_count": 21
        }
      ]
    },
    {
      "cell_type": "code",
      "source": [
        "#Tuples anidados\n",
        "TupleAnidado =((3.5, 4.8), (\"Math\", \"Geometry\") ,(2,8),(\"Valor anidado\",(4,9)))\n",
        "TupleAnidado"
      ],
      "metadata": {
        "colab": {
          "base_uri": "https://localhost:8080/"
        },
        "id": "zOZ9l8522rze",
        "outputId": "9828e45b-1873-467d-b0a7-17d5e3a43a38"
      },
      "execution_count": 22,
      "outputs": [
        {
          "output_type": "execute_result",
          "data": {
            "text/plain": [
              "((3.5, 4.8), ('Math', 'Geometry'), (2, 8), ('Valor anidado', (4, 9)))"
            ]
          },
          "metadata": {},
          "execution_count": 22
        }
      ]
    },
    {
      "cell_type": "code",
      "source": [
        "#Acceder a los valores de los tuples anidados\n",
        "print(\"Valor del tuple1\", TupleAnidado[0])\n",
        "print(\"Valor del tuple2\", TupleAnidado[1])\n",
        "print(\"Valor del tuple3\", TupleAnidado[2])\n",
        "print(\"Valor del tuple4\", TupleAnidado[3])"
      ],
      "metadata": {
        "colab": {
          "base_uri": "https://localhost:8080/"
        },
        "id": "iW_4fnd93N3N",
        "outputId": "ab54a11a-9f9a-46f8-bdda-7eacddc52cbc"
      },
      "execution_count": 37,
      "outputs": [
        {
          "output_type": "stream",
          "name": "stdout",
          "text": [
            "Valor del tuple1 (3.5, 4.8)\n",
            "Valor del tuple2 ('Math', 'Geometry')\n",
            "Valor del tuple3 (2, 8)\n",
            "Valor del tuple4 ('Valor anidado', (4, 9))\n"
          ]
        }
      ]
    },
    {
      "cell_type": "code",
      "source": [
        "#Acceder a un elemento específico de uno de los tuples anidados\n",
        "print(\"Elemento 0 de tuple1\", TupleAnidado[0][0])\n",
        "print(\"Elemento 1 de tuple2\", TupleAnidado[1][1])\n",
        "print(\"Elemento 0 de tuple3\", TupleAnidado[2][0])\n",
        "print(\"Elemento 1 de tuple4\", TupleAnidado[3][1])"
      ],
      "metadata": {
        "colab": {
          "base_uri": "https://localhost:8080/"
        },
        "id": "YvYdF63W3an-",
        "outputId": "15118add-89e4-4c0a-e6ec-3a86bcaf2556"
      },
      "execution_count": 36,
      "outputs": [
        {
          "output_type": "stream",
          "name": "stdout",
          "text": [
            "Elemento 0 de tuple1 3.5\n",
            "Elemento 1 de tuple2 Geometry\n",
            "Elemento 0 de tuple3 2\n",
            "Elemento 1 de tuple4 (4, 9)\n"
          ]
        }
      ]
    },
    {
      "cell_type": "code",
      "source": [
        "#Acceder a una letra del valor str de uno de los tuples\n",
        "print(\"La última letra del elemento 1 del tuple2 es: \",TupleAnidado[1][1][7])\n",
        "print(\"La primera letra del elemento 1 del tuple2 es: \",TupleAnidado[1][1][0])"
      ],
      "metadata": {
        "colab": {
          "base_uri": "https://localhost:8080/"
        },
        "id": "LAl82uKp3-iL",
        "outputId": "cfa3803e-ed56-4605-d637-c443d9feb082"
      },
      "execution_count": 40,
      "outputs": [
        {
          "output_type": "stream",
          "name": "stdout",
          "text": [
            "La última letra del elemento 1 del tuple2 es:  y\n",
            "La primera letra del elemento 1 del tuple2 es:  G\n"
          ]
        }
      ]
    },
    {
      "cell_type": "code",
      "source": [
        "#Longitud de cada tuple anidado\n",
        "print(\"La longitud del tuple anidado 1 es: \",len(TupleAnidado[0]))\n",
        "print(\"La longitud del tuple anidado 2 es: \",len(TupleAnidado[1]))\n",
        "print(\"La longitud del tuple anidado 3 es: \",len(TupleAnidado[2]))\n",
        "print(\"La longitud del tuple anidado 4 es: \",len(TupleAnidado[3]))"
      ],
      "metadata": {
        "colab": {
          "base_uri": "https://localhost:8080/"
        },
        "id": "XkccoKkn5ITs",
        "outputId": "741daa0b-ff49-4f66-a2b2-f79501b461c4"
      },
      "execution_count": 44,
      "outputs": [
        {
          "output_type": "stream",
          "name": "stdout",
          "text": [
            "La longitud del tuple anidado 1 es:  2\n",
            "La longitud del tuple anidado 2 es:  2\n",
            "La longitud del tuple anidado 3 es:  2\n",
            "La longitud del tuple anidado 4 es:  2\n"
          ]
        }
      ]
    },
    {
      "cell_type": "code",
      "source": [
        "#Encontrar el indice de la primera coincidencia de Geometry en el tuple anidado\n",
        "TupleAnidado[1].index(\"Geometry\")"
      ],
      "metadata": {
        "colab": {
          "base_uri": "https://localhost:8080/"
        },
        "id": "S9USS9fv6LlB",
        "outputId": "8530bc91-134b-46e5-f20b-f304f9b473c1"
      },
      "execution_count": 46,
      "outputs": [
        {
          "output_type": "execute_result",
          "data": {
            "text/plain": [
              "1"
            ]
          },
          "metadata": {},
          "execution_count": 46
        }
      ]
    },
    {
      "cell_type": "code",
      "source": [],
      "metadata": {
        "id": "ZUno9NZm78aH"
      },
      "execution_count": null,
      "outputs": []
    }
  ]
}
